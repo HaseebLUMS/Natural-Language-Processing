{
 "cells": [
  {
   "cell_type": "markdown",
   "metadata": {},
   "source": [
    "# Assignment 3 CS 5316 Natural Language Processing\n",
    "For this assignment we will use the following packages\n",
    "<ul>\n",
    "    <li><a href=\"https://radimrehurek.com/gensim/\">Gensim</a>.</li>\n",
    "    <li><a href=\"https://keras.io/\">Keras</a>.</li>\n",
    "    <li><a href=\"https://www.tensorflow.org/\">Tensorflow</a>.</li>\n",
    "</ul>\n",
    "You can install these packages via anaconda navigator or use the conda install / pip install commands e.g<br>\n",
    "<blockquote>pip install gensim<br>\n",
    "pip install tensorflow<br>\n",
    "pip install keras</blockquote>"
   ]
  },
  {
   "cell_type": "code",
   "execution_count": 8,
   "metadata": {},
   "outputs": [],
   "source": [
    "import numpy as np\n",
    "from IPython.display import Image\n",
    "# Get the interactive Tools for Matplotlib\n",
    "%matplotlib notebook\n",
    "import matplotlib.pyplot as plt\n",
    "plt.style.use('ggplot')\n",
    "from sklearn.decomposition import PCA\n",
    "from gensim.test.utils import datapath, get_tmpfile\n",
    "from gensim.models import KeyedVectors\n",
    "from gensim.scripts.glove2word2vec import glove2word2vec\n",
    "from sklearn.decomposition import TruncatedSVD\n",
    "from sklearn.utils.extmath import randomized_svd\n",
    "from nltk import ngrams\n",
    "import pandas as pd\n",
    "import re, string\n",
    "from nltk.tokenize import sent_tokenize, word_tokenize\n",
    "from nltk.util import ngrams\n",
    "import nltk\n",
    "from sklearn.model_selection import train_test_split\n",
    "from nltk.util import ngrams"
   ]
  },
  {
   "cell_type": "markdown",
   "metadata": {},
   "source": [
    "# Word Embeddings\n",
    "\n",
    "Word Vectors nowadays are often used as a fundamental component for downstream NLP tasks, e.g. question answering, text generation, language translation, sentiment analysis, etc. The goal of word embedding methods is to derive a low-dimensional continuous vector representation for words so that words that are syntactically or semantically related are close together in that vector space and thus, share a similar representation.\n",
    "\n",
    "In this assingment we are going to explore different word embedddings inorder to build some intuitions about their strengths and weaknesses. Although there are many types of word embeddings they can be broadly classified into two categories:\n",
    "<ul>\n",
    "    <li>Frequency based Embedding</li>\n",
    "    <li>Prediction based Embedding</li>\n",
    "</ul>\n",
    "For frequenct based embedding we will explore embeddings based on <b>word co-occurance</b> counts with <a href=\"https://en.wikipedia.org/wiki/Pointwise_mutual_information\">Point Wise Mutial Information(PPMI)</a> and <a href=\"https://en.wikipedia.org/wiki/Singular_value_decomposition\">Singular Value Decomposition(SVD)</a>.\n",
    "<a href=\"https://www.youtube.com/watch?v=P5mlg91as1c\">SVD video explaination</a><br>\n",
    "For prediction based embeddings we will explore <a href=\"https://en.wikipedia.org/wiki/Pointwise_mutual_information\">Word2Vec</a> based embeddings.\n",
    "\n",
    "For evaluating these embeddings we will work with the following two datasets: \n",
    "<ul>\n",
    "    <li>Twitter dataset created by Sanders Analytics which we explored in the previous assignment<b>(file provided)</b></li>\n",
    "    <li>Movie reviews dataset from the popular website <a href=\"https://www.imdb.com/\">IMDB</a>.\n",
    "        Head over the to <a href=\"https://www.kaggle.com/c/word2vec-nlp-tutorial/data\">kaggle</a> and download the dataset from there. The dataset consists of three files:<br><b>labelledTrainData,unlabelledTrainData,testData</b></li>   \n",
    "</ul>\n",
    "Read the \"Data\" section on kaggle for details on the dataset.\n",
    "\n",
    "Let's get started.......<br>\n",
    "remove this link later [Assignment solution](https://www.youtube.com/watch?v=dQw4w9WgXcQ&t=40s) "
   ]
  },
  {
   "cell_type": "markdown",
   "metadata": {},
   "source": [
    "## Frequency base Embeddings\n",
    "For this part we will use the Sanders Analytics dataset to create embeddings. Since the other dataset is large we might run into memory problems.<br><br><br>\n",
    "Although we can directly use word representation based on word co-occurance matrix directly it is generally not a good idea to do so for the following reasons:\n",
    "<ul>\n",
    "    <li>The word co-occurance matrix scales with vocabulary size, considering memory constraints this would be problematic for large datasets, as in the IMDB data set that has vocabulary size after remove stop words of 225109, which requres rougly around 189 GiB of storage capacity(roughly 203 GB)</li><img src=\"memoryerror.png\">\n",
    "    <li> The word co-occurance matrix will be quite sparse, meaning many entries in the matrix will be zeros. This is problematic due the fact that for many nlp tasks the multyplication operation is used quite frequently, e.g. for word similarity task, cosine similarity is used:<img src=\"cosine-equation.png\"> Here we can see the dot product is computed between two word vectors, multyplication with zeros wastes precious computation power and your time.</li>\n",
    "    <li> High co-occurance counts for stop words and conjunctions offset true representation of words, meaning thier could become a dominant factor when these embeddings are used in computations. These also dont provide a lot of information as thier counts with other words would also be high.</li>\n",
    "</ul>\n",
    "In summary, you want to avoid sparse represenation's just like the corona virus.<br>\n",
    "To mitigate the above problems we will use PPMI and SVD. PPMI is use to control high co-occurance counts and SVD is used to reduce dimensionality.\n",
    "\n",
    "    "
   ]
  },
  {
   "cell_type": "markdown",
   "metadata": {},
   "source": [
    "### Preprocessing\n",
    "Since we have already discussed preprocessing trade off's in previous assingments. We expect you to analyse the data and preform the preprocessing that is required.<br> "
   ]
  },
  {
   "cell_type": "code",
   "execution_count": 9,
   "metadata": {},
   "outputs": [],
   "source": [
    "#load the dataset\n",
    "def load_data(filename):\n",
    "    \"\"\"\n",
    "    Load data from file\n",
    "\n",
    "    Args:\n",
    "        filename : Name of the file from which the data is to be loaded\n",
    "    \n",
    "    Returns: tweet_X, sentiment_Y\n",
    "    tweet_X: list of tweets\n",
    "    sentiment_Y: list of sentiment lables correponding to each tweet\n",
    "    \"\"\"\n",
    "    data = pd.read_csv(filename)\n",
    "    tweets = data['text']\n",
    "    labels = data['class']\n",
    "#     print(labels)\n",
    "    return list(tweets), list(labels)"
   ]
  },
  {
   "cell_type": "code",
   "execution_count": 10,
   "metadata": {},
   "outputs": [
    {
     "name": "stdout",
     "output_type": "stream",
     "text": [
      "[['now', 'all', 'has', 'to', 'do', 'is', 'get', 'swype', 'on', 'the', 'iphone', 'and', 'it', 'will', 'be', 'crack', 'iphone', 'that', 'is'], ['will', 'be', 'adding', 'more', 'carrier', 'support', 'to', 'the', 'iphone', '4s', 'just', 'announced'], ['hilarious', 'video', 'guy', 'does', 'a', 'duet', 'with', 's', 'siri', 'pretty', 'much', 'sums', 'up', 'the', 'love', 'affair', 'httptco8exbnqjy'], ['you', 'made', 'it', 'too', 'easy', 'for', 'me', 'to', 'switch', 'to', 'iphone', 'see', 'ya'], ['i', 'just', 'realized', 'that', 'the', 'reason', 'i', 'got', 'into', 'twitter', 'was', 'ios5', 'thanks'], ['im', 'a', 'current', 'user', 'little', 'bit', 'disappointed', 'with', 'it', 'should', 'i', 'move', 'to', 'or'], ['the', '16', 'strangest', 'things', 'siri', 'has', 'said', 'so', 'far', 'i', 'am', 'sooo', 'glad', 'that', 'gave', 'siri', 'a', 'sense', 'of', 'humor', 'httptcotwaeudbp', 'via'], ['great', 'up', 'close', 'personal', 'event', 'tonight', 'in', 'regent', 'st', 'store'], ['from', 'which', 'companies', 'do', 'you', 'experience', 'the', 'best', 'customer', 'service', 'aside', 'from', 'and'], ['just', 'apply', 'for', 'a', 'job', 'at', 'hope', 'they', 'call', 'me', 'lol']]\n"
     ]
    }
   ],
   "source": [
    "def striphtml(data):\n",
    "    p = re.compile(r'<.*?>')\n",
    "    return p.sub('', data)\n",
    "\n",
    "def replaceAtTag(data):\n",
    "    return re.sub(r'@\\w+', r'', data)\n",
    "\n",
    "def removeHashTag(data):\n",
    "    return re.sub(r'#', r'', data)\n",
    "    \n",
    "def removePunc(data):\n",
    "    return data.translate(str.maketrans('', '', string.punctuation))\n",
    "\n",
    "def preprocessing(data_X):\n",
    "    \"\"\"\n",
    "    Perform preprocessing of the tweets\n",
    "\n",
    "    Args:\n",
    "        data : list of tweets\n",
    "    \n",
    "    Returns: data: preprocessed list of tweets\n",
    "    \"\"\"\n",
    "    processedList = []\n",
    "    \n",
    "    for tweet in data_X:\n",
    "#         print(tweet)\n",
    "        p1 = striphtml(tweet) #HTML Removed\n",
    "        p2 = replaceAtTag(p1) #@ replaced with AT_TOKEN\n",
    "        p3 = removeHashTag(p2) # #tag Removed\n",
    "        p4 = p3.lower() #lowercase\n",
    "        p5 = re.sub(r'attoken','AT_TOKEN',removePunc(p4)) #restore AT_TOKEN\n",
    "        p6 = word_tokenize(p5) #tokenization\n",
    "        processedList.append(p6)\n",
    "#         print(p6, \"\\n\")\n",
    "    return processedList\n",
    "\n",
    "# tweet_X_task2=preprocessing(tweet_X_task2)\n",
    "\n",
    "# def preprocessing(data_X):\n",
    "#     \"\"\"\n",
    "#     Return preprocessed data\n",
    "\n",
    "#     Args:\n",
    "#         data : reviews\n",
    "    \n",
    "#     Returns: preprocessed_data\n",
    "#     preprocessed_data : preprocessed dataset \n",
    "#     \"\"\"\n",
    "# #     preprocessed_data=\n",
    "#     print(data_X.shape)\n",
    "\n",
    "tweet_X, sentiment_label_Y=load_data(\"twitter-sanders-apple3.csv\")\n",
    "tweet_X_Backup = tweet_X[:]\n",
    "\n",
    "# tweet_X = ['hello whatsup bro how are you bro', 'haha I am good bro whatsup', 'are you happy bro']\n",
    "# sentiment_label_Y = ['Pos', 'Neg', 'Pos']\n",
    "\n",
    "tweet_X=preprocessing(tweet_X)\n",
    "print(tweet_X[:10])"
   ]
  },
  {
   "cell_type": "markdown",
   "metadata": {},
   "source": [
    "### Test train split\n",
    "Use test train split from sklearn.\n"
   ]
  },
  {
   "cell_type": "code",
   "execution_count": 11,
   "metadata": {},
   "outputs": [
    {
     "data": {
      "text/plain": [
       "790"
      ]
     },
     "execution_count": 11,
     "metadata": {},
     "output_type": "execute_result"
    }
   ],
   "source": [
    "def testTrainSplit(data_X,data_Y):\n",
    "    \"\"\"\n",
    "    Returns test train split data\n",
    "\n",
    "    Args:\n",
    "        featurevectors : list of feature vectors\n",
    "    \n",
    "    Returns: feature_vector_train, feature_vector_test, label_train, label_test\n",
    "    \"\"\"\n",
    "#     print(sentiment_label_Y_task1[0])\n",
    "#     print(featurevectors[0])\n",
    "    \n",
    "    train_features, test_features, train_labels, test_labels = train_test_split(data_X, data_Y, test_size=0.2, random_state = 0)\n",
    "    return train_features, test_features, train_labels, test_labels\n",
    "\n",
    "# def testTrainSplit(data_X,data_Y):\n",
    "#     \"\"\"\n",
    "#     Return test train data\n",
    "\n",
    "#     Args:\n",
    "#         data_X : reviews\n",
    "#         data_Y: labels\n",
    "#     Returns: test train split data \n",
    "#     \"\"\"\n",
    "#     pass\n",
    "\n",
    "train_X, test_X, train_Y, test_Y=testTrainSplit(tweet_X, sentiment_label_Y)\n",
    "# train_X = tweet_X\n",
    "len(train_X)"
   ]
  },
  {
   "cell_type": "markdown",
   "metadata": {},
   "source": [
    "Extract the vocabulary, to find te dimensions of co-occurance matrix"
   ]
  },
  {
   "cell_type": "code",
   "execution_count": 12,
   "metadata": {},
   "outputs": [
    {
     "data": {
      "text/plain": [
       "2771"
      ]
     },
     "execution_count": 12,
     "metadata": {},
     "output_type": "execute_result"
    }
   ],
   "source": [
    "def getVocabulary(train_X):\n",
    "    \"\"\"\n",
    "    Return dataset vocabulart\n",
    "\n",
    "    Args:\n",
    "        train_X : reviews in train dataset\n",
    "    \n",
    "    Returns: vocabulary\n",
    "    vocabulary: list of unique words in dataset\n",
    "    \"\"\"\n",
    "    flattened_data = [y for x in train_X for y in x]\n",
    "    listOfUnigrams = []\n",
    "    \n",
    "#     for t in flattened_data:\n",
    "#         print(list(ngrams(t,1)))\n",
    "    v_list = list(set(ngrams(flattened_data,1)))\n",
    "    simple_Flat = []\n",
    "    for ele in v_list:\n",
    "        simple_Flat.append(ele[0])\n",
    "#     print(len(simple_Flat))\n",
    "    return simple_Flat\n",
    "\n",
    "vocabulary = getVocabulary(train_X)\n",
    "len(vocabulary)"
   ]
  },
  {
   "cell_type": "markdown",
   "metadata": {},
   "source": [
    "### Point Wise Mutial Information\n",
    "Pointwise mutual information, or PMI, is the (unweighted) term that occurs inside of the summation of mutual information and measures the correlation between two specific events. Specifically, PMI is defined as<br>\n",
    "$$PMI(a, b) = \\log \\frac{p(a,b)}{p(a)p(b)}$$\n",
    "\n",
    "and measures the (log) ratio of the joint probability of the two events as compared to the joint probability of the two events assuming they were independent. Thus, PMI is high when the two events a and b co-occur with higher probability than would be expected if they were independent.\n",
    "\n",
    "If we suppose that a and b are words, we can measure how likely we see a and b together compared to what we would expect of they were unrelated by computing their PMI under some model for the joint probability $$p(a,b)$$\n",
    "\n",
    "Let D represent a collection of observed word-context pairs (with contexts being other words). We can construct D by considering the full context of a specific word occurrence as the collection of all word occurrences that appear within a fixed-size window of length L before and after it.\n",
    "\n",
    "For a specific word $w_i$ in position i in a large, ordered collection of words $w_1, w_2$, we would have the context as ,$w_{i-1},w_{i+1},\\ldots$, and could thus collect counts (a total of 2L) of each of those words as appearing in the context of word $w_i$. We will refer to $w_i$ as the “target word” and the words appearing in the L-sized window around $w_i$ as “context words”.\n",
    "\n",
    "Consider a sample corpus containing only one sentence:<br>\n",
    "    <center><blockquote>Encumbered forever by desire and ambition</blockquote></center>\n",
    "\n",
    "We can construct D by considering each word position i and extracting the pairs $(w_i, w_{i+k})$ for $−L≤k≤L;k≠0$. In such a pair, we would call $w_i$ the “target word” and $w_{i+k}$ the “context word”.\n",
    "\n",
    "For example, we would extract the following pairs for $i=4i$ if we let our window size $L=2$<br>\n",
    "    <center><blockquote>(desire,forever),(desire,by),(desire,and),(desire,ambition)</blockquote></center>\n",
    "\n",
    "Similarly, for $i=5i$, we would extract the following pairs:\n",
    "    <center><blockquote>(and,by),(and,desire),(and,ambition)</blockquote></center>\n",
    "Let’s let $n_{w,c}$ represent the number of times we observe word type c in the context of word type w. We can then define ,$n_w = \\sum_{c'} n_{w,c'}$ as the number of times we see a “target” word w in the collection of pairs D and $n_c = \\sum_{w'} n_{w',c}$ as the number of times we see the context word c in the collection of pairs D.\n",
    "\n",
    "We can then define the joint probability of a word and a context word as\n",
    "    $$p(w, c) = \\frac{n_{w,c}}{|D|}$$\n",
    "\n",
    "where $∣D∣$ is simply the total number of word-context occurrences we see. Similarly, we can define\n",
    "    $$p(w) = \\frac{n_w}{|D|}$$\n",
    "\n",
    "and $$p(c) = \\frac{n_c}{|D|}$$\n",
    "\n",
    "and thus the PMI between a word w and context word c is\n",
    "$$PMI(w, c) = \\log \\frac{p(w,c)}{p(w)p(c)} = \\log \\frac{n_{w,c} \\cdot |D|}{n_w \\cdot n_c}.$$\n",
    "\n",
    "If we compute the PMI between all pairs of words in our vocabulary V, we will arrive at a large, real-valued matrix. However, some of the values of this matrix will be $\\log 0$, if the word-context pair $(w,c)$ is unobserved, this will result in inf bieng computed. To remedy this, we could simply define a modified PMI that is equal to 0 when $n_{w,c} = 0$, which is the positive pointwise mutual information (PPMI) which:\n",
    "    P$$PPMI(w,c) = \\max(0, PMI(w,c))$$\n",
    "<br>\n",
    "This wonderfull explaination is made by <a href=\"http://czhai.cs.illinois.edu/\">Dr.ChengXiang (\"Cheng\") Zhai</a><br><br>\n",
    "\n",
    "<center><b>HINT: Consult your slides and see the example, how the formulas are used. You can calculate $|D|$ by the formula given in the slides(its the same thing).</b></center>\n",
    "\n",
    "If youre having troubles implementing this here is some [motivation](https://www.youtube.com/watch?v=TsyM5jP7RQk)"
   ]
  },
  {
   "cell_type": "markdown",
   "metadata": {},
   "source": [
    "### Create a co-occurance matrix with +,- k window size\n",
    "Hint: Use the ngrams package from [nltk](https://www.nltk.org/) to make life easier. Matrix size is vocab X vocab.\n",
    "Please keep track of the order of words in the matrix this will be usefull later."
   ]
  },
  {
   "cell_type": "code",
   "execution_count": 13,
   "metadata": {},
   "outputs": [
    {
     "data": {
      "text/plain": [
       "array([[0., 0., 0., ..., 0., 0., 0.],\n",
       "       [0., 0., 0., ..., 0., 0., 0.],\n",
       "       [0., 0., 0., ..., 0., 0., 0.],\n",
       "       ...,\n",
       "       [0., 0., 0., ..., 0., 0., 0.],\n",
       "       [0., 0., 0., ..., 0., 0., 0.],\n",
       "       [0., 0., 0., ..., 0., 0., 0.]])"
      ]
     },
     "execution_count": 13,
     "metadata": {},
     "output_type": "execute_result"
    }
   ],
   "source": [
    "def getCount(target, context, gramed_tweets):\n",
    "    count = 0\n",
    "    for tweet in gramed_tweets:\n",
    "        for window in tweet:\n",
    "#             print(window , \"T= \", target, \" C=\", context)\n",
    "            if(target == context):\n",
    "                if window.count(target) == 2:\n",
    "                    count += 1\n",
    "            else:\n",
    "                if (target in window) and (context in window):\n",
    "                    count += 1\n",
    "    return count\n",
    "\n",
    "def coOccuranceMatrix(train_X,vocab,k=2):\n",
    "    \"\"\"\n",
    "    Return co-occurance matrix with ppmi counts\n",
    "\n",
    "    Args:\n",
    "        data : dataset\n",
    "        vocab : vocabulary\n",
    "    Returns: co_matrix\n",
    "    co_matrix: co-occurance matrix\n",
    "    \"\"\"\n",
    "    gramed_tweets = [list(ngrams(tweet,k+1)) for tweet in train_X]\n",
    "    paired_gramed_tweets = []\n",
    "    \n",
    "    for tweet in gramed_tweets:\n",
    "        tweet_pairs = []\n",
    "        for ngram in tweet:\n",
    "            for word in ngram:\n",
    "                for word2 in ngram:\n",
    "                    if word != word2:\n",
    "                        if (word2, word) not in tweet_pairs:\n",
    "                            tweet_pairs.append((word, word2))\n",
    "        tweet_pairs = list(set(tweet_pairs))\n",
    "        paired_gramed_tweets.append(tweet_pairs)\n",
    "#     print(paired_gramed_tweets)\n",
    "    lenV = len(vocabulary)\n",
    "#     print(vocabulary)\n",
    "    matrix = np.zeros(shape=(lenV,lenV))\n",
    "    \n",
    "    for (i, ColEle) in enumerate(vocabulary):\n",
    "        for (j, RowEle) in enumerate(vocabulary):\n",
    "            matrix[i,j] = getCount(ColEle, RowEle, paired_gramed_tweets)\n",
    "    return matrix\n",
    "#     print(matrix)\n",
    "\n",
    "co_matrix = coOccuranceMatrix(train_X, vocabulary, 2)\n",
    "co_matrix"
   ]
  },
  {
   "cell_type": "code",
   "execution_count": 186,
   "metadata": {},
   "outputs": [
    {
     "data": {
      "text/plain": [
       "(2771, 2771)"
      ]
     },
     "execution_count": 186,
     "metadata": {},
     "output_type": "execute_result"
    }
   ],
   "source": [
    "# import dill\n",
    "\n",
    "# # dill.dump_session('notebook_env.db')\n",
    "# dill.load_session('notebook_env2.db')"
   ]
  },
  {
   "cell_type": "markdown",
   "metadata": {},
   "source": [
    "import dill\n",
    "# dill.dump_session('notebook_env.db')\n",
    "dill.load_session('notebook_env.db')"
   ]
  },
  {
   "cell_type": "code",
   "execution_count": null,
   "metadata": {},
   "outputs": [
    {
     "name": "stdout",
     "output_type": "stream",
     "text": [
      "(2771,)\n",
      "Doing ppmi now\n"
     ]
    },
    {
     "name": "stderr",
     "output_type": "stream",
     "text": [
      "/usr/local/lib/python3.6/dist-packages/ipykernel_launcher.py:31: RuntimeWarning: divide by zero encountered in log2\n"
     ]
    }
   ],
   "source": [
    "\n",
    "def ppmiMatrix(co_matrix):\n",
    "    \"\"\"\n",
    "    Return co-occurance matrix with ppmi counts\n",
    "\n",
    "    Args:\n",
    "        co_matrix : co-occurance matrix\n",
    "    Returns: ppmi_matrix\n",
    "    ppmi_co_matrix: co-occurance matrix with ppmi counts\n",
    "    \"\"\"\n",
    "    vocabSize = co_matrix.shape[0]\n",
    "    temp_matrix = np.zeros(shape=(vocabSize,vocabSize))\n",
    "    vocabCounts = np.zeros(shape=(vocabSize))\n",
    "    ppmiM = np.zeros(shape=(vocabSize,vocabSize))\n",
    "    vocabCounts = np.sum(co_matrix, axis = 0) #counts of every word p(w) and p(c)\n",
    "    print(vocabCounts.shape)\n",
    "    for i, ele in enumerate(vocabCounts):\n",
    "#         if ele == 0:\n",
    "#             print(\"Error\")\n",
    "        vocabCounts[i] = float(ele)/vocabSize\n",
    "\n",
    "    #making p(w, c)\n",
    "    for ((i, j), x) in np.ndenumerate(co_matrix):\n",
    "        temp_matrix[i,j] = float(co_matrix[i,j])/vocabSize\n",
    "    print(\"Doing ppmi now\")\n",
    "    #making ppmi matrix\n",
    "    for ((i, j), x) in np.ndenumerate(temp_matrix):\n",
    "        if (vocabCounts[i] * vocabCounts[j]) == 0:\n",
    "            ppmiM[i,j] = 0.\n",
    "        else:\n",
    "            ppmiM[i,j] = max(0, np.log2( float(temp_matrix[i,j])/( vocabCounts[i] * vocabCounts[j] ) ))\n",
    "    return ppmiM\n",
    "\n",
    "ppmi_co_matrix = ppmiMatrix(co_matrix)"
   ]
  },
  {
   "cell_type": "code",
   "execution_count": 7,
   "metadata": {},
   "outputs": [
    {
     "ename": "TypeError",
     "evalue": "code() takes at most 15 arguments (16 given)",
     "output_type": "error",
     "traceback": [
      "\u001b[0;31m---------------------------------------------------------------------------\u001b[0m",
      "\u001b[0;31mTypeError\u001b[0m                                 Traceback (most recent call last)",
      "\u001b[0;32m<ipython-input-7-b3e2ff8b06ba>\u001b[0m in \u001b[0;36m<module>\u001b[0;34m\u001b[0m\n\u001b[1;32m      2\u001b[0m \u001b[0;34m\u001b[0m\u001b[0m\n\u001b[1;32m      3\u001b[0m \u001b[0;31m# dill.dump_session('notebook_env.db')\u001b[0m\u001b[0;34m\u001b[0m\u001b[0;34m\u001b[0m\u001b[0;34m\u001b[0m\u001b[0m\n\u001b[0;32m----> 4\u001b[0;31m \u001b[0mdill\u001b[0m\u001b[0;34m.\u001b[0m\u001b[0mload_session\u001b[0m\u001b[0;34m(\u001b[0m\u001b[0;34m'notebook_env2.db'\u001b[0m\u001b[0;34m)\u001b[0m\u001b[0;34m\u001b[0m\u001b[0;34m\u001b[0m\u001b[0m\n\u001b[0m",
      "\u001b[0;32m/usr/local/lib/python3.6/dist-packages/dill/_dill.py\u001b[0m in \u001b[0;36mload_session\u001b[0;34m(filename, main, **kwds)\u001b[0m\n\u001b[1;32m    366\u001b[0m         \u001b[0munpickler\u001b[0m\u001b[0;34m.\u001b[0m\u001b[0m_main\u001b[0m \u001b[0;34m=\u001b[0m \u001b[0mmain\u001b[0m\u001b[0;34m\u001b[0m\u001b[0;34m\u001b[0m\u001b[0m\n\u001b[1;32m    367\u001b[0m         \u001b[0munpickler\u001b[0m\u001b[0;34m.\u001b[0m\u001b[0m_session\u001b[0m \u001b[0;34m=\u001b[0m \u001b[0;32mTrue\u001b[0m\u001b[0;34m\u001b[0m\u001b[0;34m\u001b[0m\u001b[0m\n\u001b[0;32m--> 368\u001b[0;31m         \u001b[0mmodule\u001b[0m \u001b[0;34m=\u001b[0m \u001b[0munpickler\u001b[0m\u001b[0;34m.\u001b[0m\u001b[0mload\u001b[0m\u001b[0;34m(\u001b[0m\u001b[0;34m)\u001b[0m\u001b[0;34m\u001b[0m\u001b[0;34m\u001b[0m\u001b[0m\n\u001b[0m\u001b[1;32m    369\u001b[0m         \u001b[0munpickler\u001b[0m\u001b[0;34m.\u001b[0m\u001b[0m_session\u001b[0m \u001b[0;34m=\u001b[0m \u001b[0;32mFalse\u001b[0m\u001b[0;34m\u001b[0m\u001b[0;34m\u001b[0m\u001b[0m\n\u001b[1;32m    370\u001b[0m         \u001b[0mmain\u001b[0m\u001b[0;34m.\u001b[0m\u001b[0m__dict__\u001b[0m\u001b[0;34m.\u001b[0m\u001b[0mupdate\u001b[0m\u001b[0;34m(\u001b[0m\u001b[0mmodule\u001b[0m\u001b[0;34m.\u001b[0m\u001b[0m__dict__\u001b[0m\u001b[0;34m)\u001b[0m\u001b[0;34m\u001b[0m\u001b[0;34m\u001b[0m\u001b[0m\n",
      "\u001b[0;32m/usr/local/lib/python3.6/dist-packages/dill/_dill.py\u001b[0m in \u001b[0;36mload\u001b[0;34m(self)\u001b[0m\n\u001b[1;32m    470\u001b[0m \u001b[0;34m\u001b[0m\u001b[0m\n\u001b[1;32m    471\u001b[0m     \u001b[0;32mdef\u001b[0m \u001b[0mload\u001b[0m\u001b[0;34m(\u001b[0m\u001b[0mself\u001b[0m\u001b[0;34m)\u001b[0m\u001b[0;34m:\u001b[0m \u001b[0;31m#NOTE: if settings change, need to update attributes\u001b[0m\u001b[0;34m\u001b[0m\u001b[0;34m\u001b[0m\u001b[0m\n\u001b[0;32m--> 472\u001b[0;31m         \u001b[0mobj\u001b[0m \u001b[0;34m=\u001b[0m \u001b[0mStockUnpickler\u001b[0m\u001b[0;34m.\u001b[0m\u001b[0mload\u001b[0m\u001b[0;34m(\u001b[0m\u001b[0mself\u001b[0m\u001b[0;34m)\u001b[0m\u001b[0;34m\u001b[0m\u001b[0;34m\u001b[0m\u001b[0m\n\u001b[0m\u001b[1;32m    473\u001b[0m         \u001b[0;32mif\u001b[0m \u001b[0mtype\u001b[0m\u001b[0;34m(\u001b[0m\u001b[0mobj\u001b[0m\u001b[0;34m)\u001b[0m\u001b[0;34m.\u001b[0m\u001b[0m__module__\u001b[0m \u001b[0;34m==\u001b[0m \u001b[0mgetattr\u001b[0m\u001b[0;34m(\u001b[0m\u001b[0m_main_module\u001b[0m\u001b[0;34m,\u001b[0m \u001b[0;34m'__name__'\u001b[0m\u001b[0;34m,\u001b[0m \u001b[0;34m'__main__'\u001b[0m\u001b[0;34m)\u001b[0m\u001b[0;34m:\u001b[0m\u001b[0;34m\u001b[0m\u001b[0;34m\u001b[0m\u001b[0m\n\u001b[1;32m    474\u001b[0m             \u001b[0;32mif\u001b[0m \u001b[0;32mnot\u001b[0m \u001b[0mself\u001b[0m\u001b[0;34m.\u001b[0m\u001b[0m_ignore\u001b[0m\u001b[0;34m:\u001b[0m\u001b[0;34m\u001b[0m\u001b[0;34m\u001b[0m\u001b[0m\n",
      "\u001b[0;31mTypeError\u001b[0m: code() takes at most 15 arguments (16 given)"
     ]
    }
   ],
   "source": [
    "import dill\n",
    "\n",
    "# dill.dump_session('notebook_env.db')\n",
    "dill.load_session('notebook_env2.db')"
   ]
  },
  {
   "cell_type": "markdown",
   "metadata": {},
   "source": [
    "Code for SVD has been provided for you, all you have to do is specify the number of top eigenvalues or how many top <b>n</b> dimensions you want to keep. Check the dimensions of the returned matrix by using <blockquote>.shape</blockquote> command to figure out if the embedding for each word is in row or column. By our calculation the vocab count should be less than five thousand, reduce the dimensionality to less than one thousand."
   ]
  },
  {
   "cell_type": "code",
   "execution_count": 212,
   "metadata": {},
   "outputs": [],
   "source": [
    "#code provided \n",
    "def denseMatrixViaSVD(ppmi_co_matrix,n):\n",
    "    \"\"\"\n",
    "    Return reduced dimensionality co-occurance matrix by applying svd\n",
    "\n",
    "    Args:\n",
    "        ppmi_matrix : co-occurance matrix with ppmi counts\n",
    "        \n",
    "    Returns: svd_co_matrix\n",
    "    svd_co_matrix: reduced dimensionality co-occurance matrix\n",
    "    \"\"\"\n",
    "#     top_n_eigenvalues=\n",
    "    U, Sigma, VT = randomized_svd(ppmi_co_matrix, \n",
    "                              n_components=n,\n",
    "                              n_iter=5,\n",
    "                              random_state=None)\n",
    "    svd_co_matrix=U\n",
    "    return svd_co_matrix\n",
    "svd_co_matrix = denseMatrixViaSVD(ppmi_co_matrix, 500)"
   ]
  },
  {
   "cell_type": "code",
   "execution_count": 279,
   "metadata": {},
   "outputs": [
    {
     "data": {
      "text/plain": [
       "(2771, 500)"
      ]
     },
     "execution_count": 279,
     "metadata": {},
     "output_type": "execute_result"
    }
   ],
   "source": [
    "svd_co_matrix.shape"
   ]
  },
  {
   "cell_type": "markdown",
   "metadata": {},
   "source": [
    "dill.dump_session('notebook_env2.db')"
   ]
  },
  {
   "cell_type": "markdown",
   "metadata": {},
   "source": [
    "### Modelling\n",
    "Now that we have our embeddings, lets use these to train a Feed Forward Neural network for our semantic classification task. Since a feed forward network's input layer is of a fixed size we will need to create a fixed size representation for each review. For this purpose we will use the following:\n",
    "<ul>\n",
    "    <li>Average pooling.</li>\n",
    "    <li>Averaging pooling algorithm by FastText(provided)</li>\n",
    "    <li>Max pooling. </li>\n",
    "</ul>\n",
    "For those of you who are familiar with Convolution Neural Networks this pooling will be a 1d pooling operation. See illustrated example below:<img src=\"pooling.png\">\n",
    "\n",
    "Since we cant have a tutorial due to corona virus for keras, a simple feed forward network has beed provided for you. You need to create train_X, test_X , train_Y and test_Y these should numpy arrays inorder for keras to use them.\n",
    "<ul>\n",
    "    <li>train_X= contains embedding representains of all the reviews in the train set</li>\n",
    "    <li>test_X= contains embedding representains of all the reviews in the test set</li>\n",
    "    <li>train_Y= contains <b>one hot</b> representations of train labels</li>\n",
    "    <li>test_Y= contains <b>one hot</b> representations of test labels</li>   \n",
    "</ul>\n",
    "To construct one hot representation you can use the sklearn's preprocessing package or the preprocessing package from keras. Read online."
   ]
  },
  {
   "cell_type": "code",
   "execution_count": 228,
   "metadata": {},
   "outputs": [
    {
     "data": {
      "text/plain": [
       "array([0., 0., 0.])"
      ]
     },
     "execution_count": 228,
     "metadata": {},
     "output_type": "execute_result"
    }
   ],
   "source": [
    "arr = np.zeros(shape=(2,3))\n",
    "arr[1,:]"
   ]
  },
  {
   "cell_type": "code",
   "execution_count": 269,
   "metadata": {},
   "outputs": [
    {
     "data": {
      "text/plain": [
       "[0, 0, 1]"
      ]
     },
     "execution_count": 269,
     "metadata": {},
     "output_type": "execute_result"
    }
   ],
   "source": [
    "# print(len(train_X[1]))\n",
    "train_Y_hot = []\n",
    "for label in train_Y:\n",
    "    if label == 'Pos':\n",
    "        train_Y_hot.append([1,0,0])\n",
    "    elif label == 'Neutral':\n",
    "        train_Y_hot.append([0,1,0])\n",
    "    elif label == 'Neg':\n",
    "        train_Y_hot.append([0,0,1])\n",
    "# train_Y[3]\n",
    "test_Y_hot = []\n",
    "for label in test_Y:\n",
    "    if label == 'Pos':\n",
    "        test_Y_hot.append([1,0,0])\n",
    "    elif label == 'Neutral':\n",
    "        test_Y_hot.append([0,1,0])\n",
    "    elif label == 'Neg':\n",
    "        test_Y_hot.append([0,0,1])\n",
    "# test_Y_hot[0]"
   ]
  },
  {
   "cell_type": "code",
   "execution_count": 247,
   "metadata": {},
   "outputs": [
    {
     "data": {
      "text/plain": [
       "16"
      ]
     },
     "execution_count": 247,
     "metadata": {},
     "output_type": "execute_result"
    }
   ],
   "source": [
    "#making embeddings for each tweet\n",
    "embedding_list = []\n",
    "def getvec(word):\n",
    "    for i, w in enumerate(vocabulary):\n",
    "        if w == word:\n",
    "            return svd_co_matrix[i,:]\n",
    "\n",
    "for tweet in train_X:\n",
    "    tweet_embedding = []\n",
    "    for word in tweet:\n",
    "        tweet_embedding.append(getvec(word))\n",
    "    embedding_list.append(tweet_embedding)\n",
    "embedding_list = np.array(embedding_list)\n",
    "# len(embedding_list[1])\n",
    "# embedding_size = 500"
   ]
  },
  {
   "cell_type": "code",
   "execution_count": null,
   "metadata": {},
   "outputs": [],
   "source": [
    "# CONSTRUCT ONE HOT REPRESENTATION\n",
    "#done above"
   ]
  },
  {
   "cell_type": "code",
   "execution_count": 255,
   "metadata": {},
   "outputs": [
    {
     "data": {
      "text/plain": [
       "500"
      ]
     },
     "execution_count": 255,
     "metadata": {},
     "output_type": "execute_result"
    }
   ],
   "source": [
    "#Fast text averaging, pass a list of word embeddings and embedding size to fasttextAveraging function\n",
    "def l2_norm(x):\n",
    "   return np.sqrt(np.sum(x**2))\n",
    "\n",
    "def div_norm(x):\n",
    "   norm_value = l2_norm(x)\n",
    "   if norm_value > 0:\n",
    "       return x * ( 1.0 / norm_value)\n",
    "   else:\n",
    "       return x\n",
    "def fasttextAveraging(embedding_list,embedding_size):\n",
    "    norm=np.zeros(embedding_size)\n",
    "    for emb in embedding_list:\n",
    "        norm=norm+div_norm(emb) \n",
    "    return norm/len(embedding_list)\n",
    "fasttext_embeddings = []\n",
    "for embedding in embedding_list:\n",
    "    fasttext_embeddings.append( fasttextAveraging(embedding, 500))\n",
    "# len(fasttext_embeddings[0])"
   ]
  },
  {
   "cell_type": "code",
   "execution_count": null,
   "metadata": {},
   "outputs": [],
   "source": [
    "def averagePooling(embedding_list,embedding_size):\n",
    "    \"\"\"\n",
    "    Return average embedding vector from list of embedding\n",
    "    Args:\n",
    "        embedding_list : embedding list\n",
    "        embedding_size: size of embedding vector\n",
    "    Returns: average_embedding\n",
    "    average_embedding: average embedding vector\n",
    "    \"\"\"\n",
    "    pass"
   ]
  },
  {
   "cell_type": "code",
   "execution_count": null,
   "metadata": {},
   "outputs": [],
   "source": [
    "def maxPooling(embedding_list,embedding_size):\n",
    "    \"\"\"\n",
    "    Return maxpooling embedding vector from list of embedding\n",
    "    Args:\n",
    "        embedding_list : embedding list\n",
    "        embedding_size: size of embedding vector\n",
    "    Returns: max_embedding\n",
    "    max_embedding: maxpooled embedding vector\n",
    "    \"\"\"\n",
    "    pass"
   ]
  },
  {
   "cell_type": "markdown",
   "metadata": {},
   "source": [
    "Try using all three representaions to train the model and check which one works best. You can play around with embedding size by controlling <b>n</b> in SVD function and for the model you can add or remove layers or change the number of neurons in the hidden layers. Keep in mind that the layers should be decreasing in size as we go deeper into the network, theoritically this means that we are constructing complex features in a lower dimensional space from less complex features and larger dimensional space.<br><br>\n",
    "Issues related to overfiting will be proper addressed in the next assignment for now you are free to choose the number of epoch, try to find one that trains the model sufficiently enough but does not overfit it."
   ]
  },
  {
   "cell_type": "markdown",
   "metadata": {},
   "source": [
    "# import dill\n",
    "# dill.dump_session('notebook_env3.db')\n",
    "# dill.load_session('notebook_env.db')"
   ]
  },
  {
   "cell_type": "code",
   "execution_count": 273,
   "metadata": {},
   "outputs": [
    {
     "ename": "ModuleNotFoundError",
     "evalue": "No module named 'tensorflow'",
     "output_type": "error",
     "traceback": [
      "\u001b[0;31m---------------------------------------------------------------------------\u001b[0m",
      "\u001b[0;31mModuleNotFoundError\u001b[0m                       Traceback (most recent call last)",
      "\u001b[0;32m<ipython-input-273-40c6a018bbb7>\u001b[0m in \u001b[0;36m<module>\u001b[0;34m\u001b[0m\n\u001b[0;32m----> 1\u001b[0;31m \u001b[0;32mimport\u001b[0m \u001b[0mtensorflow\u001b[0m \u001b[0;32mas\u001b[0m \u001b[0mtf\u001b[0m\u001b[0;34m\u001b[0m\u001b[0;34m\u001b[0m\u001b[0m\n\u001b[0m\u001b[1;32m      2\u001b[0m \u001b[0;32mfrom\u001b[0m \u001b[0mtensorflow\u001b[0m \u001b[0;32mimport\u001b[0m \u001b[0mkeras\u001b[0m\u001b[0;34m\u001b[0m\u001b[0;34m\u001b[0m\u001b[0m\n\u001b[1;32m      3\u001b[0m \u001b[0membedding_size\u001b[0m\u001b[0;34m=\u001b[0m\u001b[0;36m500\u001b[0m\u001b[0;34m\u001b[0m\u001b[0;34m\u001b[0m\u001b[0m\n\u001b[1;32m      4\u001b[0m model = keras.Sequential([\n\u001b[1;32m      5\u001b[0m     \u001b[0mkeras\u001b[0m\u001b[0;34m.\u001b[0m\u001b[0mlayers\u001b[0m\u001b[0;34m.\u001b[0m\u001b[0mFlatten\u001b[0m\u001b[0;34m(\u001b[0m\u001b[0minput_shape\u001b[0m\u001b[0;34m=\u001b[0m\u001b[0;34m(\u001b[0m\u001b[0membedding_size\u001b[0m\u001b[0;34m,\u001b[0m\u001b[0;34m)\u001b[0m\u001b[0;34m)\u001b[0m\u001b[0;34m,\u001b[0m\u001b[0;31m#donot change(input layer)\u001b[0m\u001b[0;34m\u001b[0m\u001b[0;34m\u001b[0m\u001b[0m\n",
      "\u001b[0;31mModuleNotFoundError\u001b[0m: No module named 'tensorflow'"
     ]
    }
   ],
   "source": [
    "import tensorflow as tf\n",
    "from tensorflow import keras\n",
    "embedding_size=500\n",
    "model = keras.Sequential([\n",
    "    keras.layers.Flatten(input_shape=(embedding_size,)),#donot change(input layer)\n",
    "    keras.layers.Dense(300, activation='relu'),#(hidden layer)\n",
    "    keras.layers.Dense(50, activation='relu'),#(hidden layer)\n",
    "    keras.layers.Dense(3)#donot change\n",
    "])\n",
    "model.compile(optimizer='adam',\n",
    "              loss=[\"categorical_crossentropy\"],\n",
    "              metrics=['accuracy'])\n",
    "\n",
    "model.summary()"
   ]
  },
  {
   "cell_type": "code",
   "execution_count": null,
   "metadata": {},
   "outputs": [],
   "source": [
    "model.fit(train_X,train_Y, epochs=15, batch_size=32,\n",
    "               verbose=1,shuffle=True)"
   ]
  },
  {
   "cell_type": "markdown",
   "metadata": {},
   "source": [
    "Use the <b>model.predict</b> method to get predictions. There predictions will be a probability distribution over the lables, to get the desired class take the max value in a prediction vector as the predicted class.<br> To run the code below you need to construct a list of unique labels, the list should be ordered on the basis of the id assigned to each class when you were constructing the one hot representation."
   ]
  },
  {
   "cell_type": "code",
   "execution_count": null,
   "metadata": {},
   "outputs": [],
   "source": [
    "#predictions = code here\n",
    "\n",
    "from sklearn.metrics import confusion_matrix\n",
    "\n",
    "test_Y_max=np.argmax(test_Y, axis=-1)\n",
    "cm=confusion_matrix(test_Y_max,predictions)\n",
    "cm = cm.astype('float') / cm.sum(axis=1)[:, np.newaxis]\n",
    "cm = pd.DataFrame(cm, labelList,labelList )# matrix,names row,names col,\n",
    "# plt.figure(figsize=(10,7))\n",
    "sn.set(font_scale=1.4) # for label size\n",
    "sn.heatmap(cm1, annot=True, annot_kws={\"size\": 11}, fmt=\".2f\") # font size\n",
    "plt.show()\n"
   ]
  },
  {
   "cell_type": "code",
   "execution_count": null,
   "metadata": {},
   "outputs": [],
   "source": [
    "print(\"Classification Report\\n\",classification_report(test_Y_max, predictions, labels=[0,1,2], target_names = labelList))"
   ]
  },
  {
   "cell_type": "markdown",
   "metadata": {},
   "source": [
    "## Prediction base Embeddings\n",
    "For prediction based embeddings we will use the IMDB dataset. We will create create our embeddings by using the unlabeledTrainData.tsv file.\n",
    "We will use the Word2Vec model that we have already covered in class. "
   ]
  },
  {
   "cell_type": "markdown",
   "metadata": {},
   "source": [
    "### Preprocessing\n",
    "Since we have already discussed preprocessing trade off's in previous assingments. We expect you to analyse the data and preform the preprocessing that is required.<br> \n",
    "<b> Hint: Each review is in string format so they have used slahes to escape characters and br tags to identify line breaks</b>"
   ]
  },
  {
   "cell_type": "code",
   "execution_count": null,
   "metadata": {},
   "outputs": [],
   "source": [
    "#load the data"
   ]
  },
  {
   "cell_type": "code",
   "execution_count": null,
   "metadata": {},
   "outputs": [],
   "source": [
    "def preprocessing(data):\n",
    "    \"\"\"\n",
    "    Return preprocessed data\n",
    "\n",
    "    Args:\n",
    "        data : reviews\n",
    "    \n",
    "    Returns: preprocessed_data\n",
    "    preprocessed_data : preprocessed dataset \n",
    "    \"\"\"\n",
    "#     preprocessed_data=\n",
    "    pass"
   ]
  },
  {
   "cell_type": "markdown",
   "metadata": {},
   "source": [
    "Use the [gensim](https://radimrehurek.com/gensim/models/word2vec.html) to train a Word2Vec model. Keep the dimensionality at 300 and window size at 2. After trianing use the model and previously coded methods create vectorial represenations for movie reviews.<i>(create train_X, test_X, train_Y and test_Y)</i>"
   ]
  },
  {
   "cell_type": "code",
   "execution_count": null,
   "metadata": {},
   "outputs": [],
   "source": [
    "def trainWord2Vec(data):\n",
    "    \"\"\"\n",
    "    Return preprocessed data\n",
    "\n",
    "    Args:\n",
    "        data : movie reviews\n",
    "    \n",
    "    Returns: model\n",
    "    model : Word2Vec model \n",
    "    \"\"\"\n",
    "#     preprocessed_data=\n",
    "    pass"
   ]
  },
  {
   "cell_type": "code",
   "execution_count": null,
   "metadata": {},
   "outputs": [],
   "source": [
    "#load the train and test files and create the vectorial representations"
   ]
  },
  {
   "cell_type": "markdown",
   "metadata": {},
   "source": [
    "Since this is dense representaion we wont be faced with the challenges posed by sparse representations. We can move onto modelling."
   ]
  },
  {
   "cell_type": "markdown",
   "metadata": {},
   "source": [
    "### Modelling\n"
   ]
  },
  {
   "cell_type": "code",
   "execution_count": null,
   "metadata": {},
   "outputs": [],
   "source": [
    "import tensorflow as tf\n",
    "from tensorflow import keras\n",
    "embedding_size=100\n",
    "model_word2vec = keras.Sequential([\n",
    "    keras.layers.Flatten(input_shape=(embedding_size,)),#donot change(input layer)\n",
    "    keras.layers.Dense(150, activation='relu'),#(hidden layer)\n",
    "    keras.layers.Dense(50, activation='relu'),#(hidden layer)\n",
    "    keras.layers.Dense(2)#donot change\n",
    "])\n",
    "model_word2vec.compile(optimizer='adam',\n",
    "              loss=[\"categorical_crossentropy\"],\n",
    "              metrics=['accuracy'])\n",
    "\n",
    "model_word2vec.summary()"
   ]
  },
  {
   "cell_type": "code",
   "execution_count": null,
   "metadata": {},
   "outputs": [],
   "source": [
    "model_word2vec.fit(train_X,train_Y, epochs=15, batch_size=32,\n",
    "               verbose=1,shuffle=True)"
   ]
  },
  {
   "cell_type": "code",
   "execution_count": null,
   "metadata": {},
   "outputs": [],
   "source": [
    "#predictions = \n",
    "\n",
    "from sklearn.metrics import confusion_matrix\n",
    "\n",
    "test_Y_max=np.argmax(test_Y, axis=-1)\n",
    "cm=confusion_matrix(test_Y_max,predictions)\n",
    "cm1 = cm1.astype('float') / cm1.sum(axis=1)[:, np.newaxis]\n",
    "cm1 = pd.DataFrame(cm, labelList,labelList )# matrix,names row,names col,\n",
    "# plt.figure(figsize=(10,7))\n",
    "sn.set(font_scale=1.4) # for label size\n",
    "sn.heatmap(cm1, annot=True, annot_kws={\"size\": 11}, fmt=\".2f\") # font size\n",
    "plt.show()\n"
   ]
  },
  {
   "cell_type": "code",
   "execution_count": null,
   "metadata": {},
   "outputs": [],
   "source": [
    "print(\"Classification Report\\n\",classification_report(test_Y_max, predictions, labels=[0,1], target_names = labelList))"
   ]
  },
  {
   "cell_type": "markdown",
   "metadata": {},
   "source": [
    "# Theory\n",
    "The two are two major reaserch papers [Word2Vec](https://papers.nips.cc/paper/5021-distributed-representations-of-words-and-phrases-and-their-compositionality.pdf) for prediction based embeddings and [GloVe](https://nlp.stanford.edu/pubs/glove.pdf) for frequency based embeddings. Research online and write a short note on the trade offs associated with the two types of embeddings. "
   ]
  },
  {
   "cell_type": "markdown",
   "metadata": {},
   "source": [
    "###_______________Anwer________________###\n"
   ]
  },
  {
   "cell_type": "markdown",
   "metadata": {},
   "source": [
    "#### Ending Note:\n",
    "Feed forward networks are not suitable for natural language task because of thier fixed input sizes, the size of natural language text in each example for a dataset can vary considerably, also feed forward networks ignore the temporal nature of natural language text, which result's in them not bieng able to caputre context's or interdepencies between words for semantic information. To fix this researcher's have invented recurrent neural networks that help to aleviate these limitations.\n",
    "The next assignment will be related to recurrent neural networks."
   ]
  },
  {
   "cell_type": "markdown",
   "metadata": {},
   "source": [
    "# We hope all of you are working on your projects!"
   ]
  },
  {
   "cell_type": "code",
   "execution_count": null,
   "metadata": {},
   "outputs": [],
   "source": []
  }
 ],
 "metadata": {
  "kernelspec": {
   "display_name": "Python 3",
   "language": "python",
   "name": "python3"
  },
  "language_info": {
   "codemirror_mode": {
    "name": "ipython",
    "version": 3
   },
   "file_extension": ".py",
   "mimetype": "text/x-python",
   "name": "python",
   "nbconvert_exporter": "python",
   "pygments_lexer": "ipython3",
   "version": "3.6.9"
  }
 },
 "nbformat": 4,
 "nbformat_minor": 4
}
