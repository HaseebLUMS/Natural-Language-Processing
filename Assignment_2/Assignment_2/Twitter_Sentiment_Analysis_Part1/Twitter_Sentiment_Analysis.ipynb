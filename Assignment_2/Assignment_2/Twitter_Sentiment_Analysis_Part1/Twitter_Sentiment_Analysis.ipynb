{
 "cells": [
  {
   "cell_type": "markdown",
   "metadata": {},
   "source": [
    "# Sentiment Analysis from Tweets\n",
    "[Twitter](https://twitter.com/) is a popular microblog service where people can post information and opinions on any topic. For this assignment, you will use tweets about Apple corporation that were extracted from a Twitter dataset created by Sanders Analytics. You can also use the [Twitter api](https://developer.twitter.com/en/docs) for extracting tweets\n",
    "to create your own dataset.\n",
    "\n",
    "We will divide this task into the following two sub tasks:\n",
    "<ul>\n",
    "<li>The first sub task is binary sentiment classification, for this you will use the  twitter-sanders-apple2.csv file that contains 479 tweets. It has two categories: \n",
    "    <ul>\n",
    "        <li>Pos: Tweets that express a positive or favorable sentiment (Count=163)</li>\n",
    "        <li>Neg: Tweets that express a negative or unfavorable sentiment (Count=316)</li>\n",
    "    </ul>\n",
    "</li>\n",
    "<br><br>    \n",
    "<li>The second sub task is binary sentiment classification, for this you will use the  file twitter-sanders-apple3.csv contains 988 tweets. It has three categories: \n",
    "    <ul>\n",
    "        <li>Pos: Tweets that express a positive or favorable sentiment (Count=163)</li>\n",
    "        <li>Neg: Tweets that express a negative or unfavorable sentiment (Count=316)</li>\n",
    "        <li>Neutral: tweets that do not express a sentiment (Count=509)</li>\n",
    "    </ul>\n",
    "</li>\n",
    "</ul>\n"
   ]
  },
  {
   "cell_type": "code",
   "execution_count": 192,
   "metadata": {},
   "outputs": [],
   "source": [
    "from sklearn.metrics import confusion_matrix\n",
    "from sklearn.metrics import classification_report\n",
    "from sklearn.model_selection import train_test_split\n",
    "import matplotlib.pyplot as plt\n",
    "import matplotlib.mlab as mlab\n",
    "import seaborn as sn\n",
    "import pandas as pd"
   ]
  },
  {
   "cell_type": "markdown",
   "metadata": {},
   "source": [
    "### Step 1: Load the data\n",
    "For this you can use python built in file reader to load the data, you will have to split each row to create list of Tweets(X) and list of sentiment Labels(Y). An alternate option is to use [Pandas](https://pandas.pydata.org/pandas-docs/stable/index.html) to load the csv file, then return the two cols in pandas dataframe as arrays."
   ]
  },
  {
   "cell_type": "code",
   "execution_count": 194,
   "metadata": {},
   "outputs": [],
   "source": [
    "def load_data(filename):\n",
    "    \"\"\"\n",
    "    Load data from file\n",
    "\n",
    "    Args:\n",
    "        filename : Name of the file from which the data is to be loaded\n",
    "    \n",
    "    Returns: tweet_X, sentiment_Y\n",
    "    tweet_X: list of tweets\n",
    "    sentiment_Y: list of sentiment lables correponding to each tweet\n",
    "    \"\"\"\n",
    "    data = pd.read_csv(filename)\n",
    "    X = data[\"text\"]\n",
    "    Y = data[\"class\"]\n",
    "    return X, Y\n",
    "tweet_X_task1, sentiment_label_Y_task1=load_data(\"twitter-sanders-apple2.csv\")\n",
    "tweet_X_task2, sentiment_label_Y_task2=load_data(\"twitter-sanders-apple3.csv\")\n",
    "model_2_X = tweet_X_task2[:]"
   ]
  },
  {
   "cell_type": "markdown",
   "metadata": {},
   "source": [
    "### Step 2: Preprocessing\n",
    "Before we move on to the actual classification section, there is some data cleaning up to be done. As a matter of fact, this step is critical, as it ultimately effects the learning process of your model. So basically [this](https://ibb.co/G9zcx2K) can happen to your model.\n",
    "\n",
    "We will keep to simple preprocessing to make out task easier. Some of you might disagree with the preprocessing steps stated below, hence we wish to mention that choosing different preprocessing steps depend on the nature of task at hand and alos that there are always trade offs associated augmenting the orignal dataset.<br>\n",
    "\n",
    "You are required to perform the following preprocessing steps:<br>\n",
    "<i>(note that you must figure out the order of steps for ease of preprocessing yourself)</i><br>\n",
    "<ul>\n",
    "    <li><b>Remove all punctuations.</b><br> Although this makes things simple it is not always a good idea to remove punctuation for example in sentiment classification the use of exclaimation marks, can be used to intensify the sentiment of a given word or sentence hence might be useful, nevertheless it increases the vocabulary size hence we will not use it here. e.g. <blockquote>The opening ceremony was extreamly disappointing!!! #PSL5</blockquote>\n",
    "        Removing pucntutations also removes emojis which might also be helpful.\n",
    "    </li><br>\n",
    "    <li><b>Remove all html tags.</b><br> Mostly done for all tasks </li><br>\n",
    "    <li><b>Replace all @sometext with AT_TOKEN.</b><br>Since there will be lots of different usernames or words that can follow @ we will choose to ignore them as they dont have much sentiment information. Might be usefull for Named Entity Recognition </li>e.g. \n",
    "    <blockquote>@apple will be converted to AT_TOKEN</blockquote>\n",
    "    <li><b>Remove all # symbols.</b> We want to remove the # in #applesucks so that it is not treated differently that any other word in the sentence, this migh also help us to reduce our vocabulary size.</li><br>\n",
    "    <li><b>Convert the tweets to lower case text</b><br> Although all CAPS convey meaningful information for sentiment analysis we mostly convert text to lower case to reduce vocabulary size by reducing the number of variations. For example Car, cAr ,CAR, caR and car will now be treated as a single token car.</li><br>\n",
    "    <li><b>Tokenize the text</b><br></li><br>\n",
    "</ul>    \n",
    "    "
   ]
  },
  {
   "cell_type": "code",
   "execution_count": 195,
   "metadata": {
    "scrolled": true
   },
   "outputs": [],
   "source": [
    "import re\n",
    "def preprocess(tweet):\n",
    "    processed_data = tweet.lower()\n",
    "    processed_data = re.sub(\"@[\\S]+\", \"AT_TOKEN\", processed_data)\n",
    "    processed_data = re.sub(\"#\", \"\", processed_data)\n",
    "    processed_data = re.sub(\"<.*>\", \"\", processed_data)\n",
    "    processed_data = re.sub(\"[^a-zA-Z0-9\\s_]\", \" \", processed_data)\n",
    "    processed_data = re.sub(\"[\\s]+\", \" \", processed_data)\n",
    "    processed_data = re.sub(\"[_]{2,10}\", \"\", processed_data)\n",
    "    processed_data = processed_data.split(\" \")\n",
    "    return [x for x in processed_data if len(x)]\n",
    "def preprocessing(data):\n",
    "    \"\"\"\n",
    "    Perform preprocessing of the tweets\n",
    "\n",
    "    Args:\n",
    "        data : list of tweets\n",
    "    \n",
    "    Returns: data: preprocessed list of tweets\n",
    "    \"\"\"\n",
    "    return [preprocess(x) for x in data]\n",
    "tweet_X_task1=preprocessing(tweet_X_task1)\n",
    "tweet_X_task2=preprocessing(tweet_X_task2)"
   ]
  },
  {
   "cell_type": "markdown",
   "metadata": {},
   "source": [
    "## Step 3: Feature Extraction\n",
    "For feature extraction you  will  need  a  way  of  mapping  from  sentences  (lists  of  strings)  to  featurevectors, a process called feature extraction or featurization.<br>\n",
    "For feature vectors we will explore four techniques:\n",
    "<ul>\n",
    "    <li><b>Unigram feature vector</b>\n",
    "        <br> This will be a sparse vector with length equal to the vocabulary size.   It is sparse because a sentence generally contains only 20-40 unique words, so only this many positions in the vector will be nonzero.\n",
    "</li><br>\n",
    "    <li><b>Bigram feature vector</b><br>\n",
    "    The number of unique bigrams will be significantly lower that unigrams, but this will also be sparse.</li><br>\n",
    "    <li><b>POS features</b>\n",
    "    Instead of using the words we will use POS tags, this will be generally not as sparse as unigram and bigram, you can use nltk to get POS tags for a sentence, here the featurevectors length will be equal to the total number of unique POS tags.</li><br>\n",
    "    <li><b>Complex features</b>\n",
    "    These can be a combination of unigrams and bigrams or any other complex feature that you can think of, we will explore these in later part of the assignment.</li><br>\n",
    "</ul>\n",
    "\n",
    "Firstly we need the extract the vocabulary for each of these different feature vectors.<br> \n",
    "For this task use [nltk](https://www.nltk.org/)\n"
   ]
  },
  {
   "cell_type": "code",
   "execution_count": 196,
   "metadata": {},
   "outputs": [],
   "source": [
    "def vocabulary_unigram(data):\n",
    "    \"\"\"\n",
    "    Returns list of unique unigrams\n",
    "\n",
    "    Args:\n",
    "        data : list of tweets\n",
    "    \n",
    "    Returns: vocab_unigram: list of unique unigrams\n",
    "    \"\"\"\n",
    "    res = list(set(sum(data, [])))\n",
    "    return res\n",
    "import nltk\n",
    "from nltk.util import ngrams\n",
    "def vocabulary_bigram(data):\n",
    "    \"\"\"\n",
    "    Returns list of unique bigrams\n",
    "\n",
    "    Args:\n",
    "        data : list of tweets\n",
    "    \n",
    "    Returns: vocab_unigram: list of unique bigrams\n",
    "    \"\"\"\n",
    "    res = []\n",
    "    for tweet in data:\n",
    "        res += list(ngrams(tweet, 2))\n",
    "    return list(set(res))\n",
    "def vocabulary_POS(data):\n",
    "    \"\"\"\n",
    "    Returns list of unique POS tags\n",
    "\n",
    "    Args:\n",
    "        data : list of tweets\n",
    "    \n",
    "    Returns: vocab_unigram: list of unique POS tags\n",
    "    \"\"\"\n",
    "    res = nltk.pos_tag(vocabulary_unigram(data))\n",
    "    return res\n",
    "vocab_unigram_task1=vocabulary_unigram(tweet_X_task1)\n",
    "vocab_bigram_task1=vocabulary_bigram(tweet_X_task1)\n",
    "vocab_pos_tag_task1=vocabulary_POS(tweet_X_task1)\n",
    "\n",
    "vocab_unigram_task2=vocabulary_unigram(tweet_X_task2)\n",
    "vocab_bigram_task2=vocabulary_bigram(tweet_X_task2)\n",
    "vocab_pos_tag_task2=vocabulary_POS(tweet_X_task2)"
   ]
  },
  {
   "cell_type": "markdown",
   "metadata": {},
   "source": [
    "### Creating the feature vector\n",
    "The feature vector that is to be created is in the following format:e.g.\n",
    "<blockquote>{'simplistic': False, 'silly': True, 'and': True, 'tedious': False, 'its': False, 'so': True, 'laddish': False, 'juvenile': False, 'only': False, 'teenage': False, 'boys': False, 'could': False, 'possibly': False, 'find': False, 'it': False, 'funny': False, 'exploitative': False, 'largely': False, 'devoid': False}</blockquote><br>\n",
    "Instructions on how to make the feature vectors:\n",
    "<ul>\n",
    "    <li><b>For each tweet</b> the feature vector to be constructed will be equal to the <b>size of the vocabulary</b>.</li>\n",
    "    <li>The feature vector is a dictionary with <b>word and boolean pairs</b>, here the boolean will be <b>true</b> if the specific word exists in the tweet otherwise it will be <b>false</b>.</li>\n",
    "    \n",
    "</ul>\n"
   ]
  },
  {
   "cell_type": "code",
   "execution_count": 197,
   "metadata": {},
   "outputs": [],
   "source": [
    "def make_feature_vectors(data, vocab, tokenize):\n",
    "    res = []\n",
    "    for tweet in data:\n",
    "        tmp = []\n",
    "        tokens = tokenize(tweet)\n",
    "        for v in vocab:\n",
    "            if v in tokens:\n",
    "#                 tmp += [(v, True)]\n",
    "                tmp += [True]\n",
    "            else:\n",
    "#                 tmp += [(v, False)]\n",
    "                tmp += [False]\n",
    "        \n",
    "        res += [tmp]\n",
    "    return res\n",
    "\n",
    "def features_unigram(data,vocab):\n",
    "    \"\"\"\n",
    "    Returns list of feature vectors\n",
    "\n",
    "    Args:\n",
    "        data : list of tweets\n",
    "    \n",
    "    Returns: vocab_unigram: list of unique unigrams\n",
    "    \"\"\"\n",
    "    def tokenize(x):return list(set(x))\n",
    "    res = make_feature_vectors(data, vocab, tokenize)\n",
    "    return res\n",
    "\n",
    "def features_bigram(data,vocab):\n",
    "    \"\"\"\n",
    "    Returns list of unique bigrams\n",
    "\n",
    "    Args:\n",
    "        data : list of tweets\n",
    "    \n",
    "    Returns: vocab_unigram: list of unique bigrams\n",
    "    \"\"\"\n",
    "    def tokenize(x): return list(ngrams(x, 2))\n",
    "    res = make_feature_vectors(data, vocab, tokenize)\n",
    "    return res\n",
    "\n",
    "def features_POS(data,vocab):\n",
    "    \"\"\"\n",
    "    Returns list of unique POS tags\n",
    "\n",
    "    Args:\n",
    "        data : list of tweets\n",
    "    \n",
    "    Returns: vocab_unigram: list of unique POS tags\n",
    "    \"\"\"\n",
    "    def tokenize(x): return nltk.pos_tag(list(set(x)))\n",
    "    res = make_feature_vectors(data, vocab, tokenize)\n",
    "    return res\n",
    "\n",
    "task1_unigram_features=features_unigram(tweet_X_task1,vocab_unigram_task1)\n",
    "task1_bigram_features=features_bigram(tweet_X_task1,vocab_bigram_task1)\n",
    "task1_POS_features=features_POS(tweet_X_task1,vocab_pos_tag_task1)\n",
    "\n",
    "task2_unigram_features=features_unigram(tweet_X_task2,vocab_unigram_task2)\n",
    "task2_bigram_features=features_bigram(tweet_X_task2,vocab_bigram_task2)\n",
    "task2_POS_features=features_POS(tweet_X_task2,vocab_pos_tag_task2)"
   ]
  },
  {
   "cell_type": "markdown",
   "metadata": {},
   "source": [
    "### Step 4: Test Train Split\n",
    "Test train split, use [sklearns test train split](https://scikit-learn.org/stable/modules/generated/sklearn.model_selection.train_test_split.html) to split the data into 80-20 ratio for training and testing. Here we are not using validation set as our dataset is too small.\n",
    "<blockquote>Note: The lists for labels are overwritten beacause each split should return the same labels</blockquote>"
   ]
  },
  {
   "cell_type": "code",
   "execution_count": 198,
   "metadata": {},
   "outputs": [],
   "source": [
    "def test_train_split(featurevectors, labels):\n",
    "    \"\"\"\n",
    "    Returns test train split data\n",
    "\n",
    "    Args:\n",
    "        featurevectors : list of feature vectors\n",
    "    \n",
    "    Returns: feature_vector_train, feature_vector_test, label_train, label_test\n",
    "    \"\"\"\n",
    "    #sentiment_label_Y_task1\n",
    "    X_train, X_test, y_train, y_test = train_test_split(featurevectors, labels, test_size=0.2)\n",
    "    return X_train, X_test, y_train, y_test\n",
    "task1_unigram_features_train, task1_unigram_features_test, task1_label_train, task1_label_test=test_train_split(task1_unigram_features, sentiment_label_Y_task1)\n",
    "\n",
    "task1_bigram_features_train, task1_bigram_features_test, task1_label_train, task1_label_test=test_train_split(task1_bigram_features, sentiment_label_Y_task1)\n",
    "\n",
    "task1_POS_features_train, task1_POS_features_test, task1_label_train, task1_label_test=test_train_split(task1_POS_features, sentiment_label_Y_task1)\n",
    "\n",
    "\n",
    "task2_unigram_features_train, task2_unigram_features_test, task2_label_train, task2_label_test=test_train_split(task2_unigram_features, sentiment_label_Y_task2)\n",
    "\n",
    "task2_bigram_features_train, task2_bigram_features_test, task2_label_train, task2_label_test=test_train_split(task2_bigram_features, sentiment_label_Y_task2)\n",
    "\n",
    "task2_POS_features_train, task2_POS_features_test, task2_label_train, task2_label_test=test_train_split(task2_POS_features, sentiment_label_Y_task2)"
   ]
  },
  {
   "cell_type": "markdown",
   "metadata": {},
   "source": [
    "### Step 5: Modelling and Predictions "
   ]
  },
  {
   "cell_type": "markdown",
   "metadata": {},
   "source": [
    "#### Model 1: Niave Bayes\n",
    "For the purpose of classification we will use [Niave Bayes](https://scikit-learn.org/stable/modules/generated/sklearn.naive_bayes.MultinomialNB.html) from sklearn. Train the Niave Bayes algorithm on all featurevector variants of task 1 and task 2.<br>\n",
    "In order to compare and quantify the goodness of our model we will compute a [classification report](https://scikit-learn.org/stable/modules/generated/sklearn.metrics.classification_report.html). We will also create a [confusion matrix](https://scikit-learn.org/stable/modules/generated/sklearn.metrics.confusion_matrix.html) to see what mistakes the model might be making.\n",
    "\n",
    "First program the train_model and predictions function which are general functions that will be used later on."
   ]
  },
  {
   "cell_type": "code",
   "execution_count": 199,
   "metadata": {},
   "outputs": [],
   "source": [
    "import numpy as np\n",
    "# def make_list(dict_like_vec): return [x for x in dict_like_vec if dict_like_vec[x]]\n",
    "def train_model(model,features,labels):\n",
    "    \"\"\"\n",
    "    Trains a Naive Bayes model \n",
    "\n",
    "    Args:\n",
    "        features : list of feature vectors or X\n",
    "        labels: targets or Y\n",
    "        model: Niave Bayes model that is to be trained\n",
    "    \n",
    "    Returns: trained model\n",
    "    \"\"\"\n",
    "#     tmp = list(map(make_list, features))\n",
    "    model.fit(features, labels)"
   ]
  },
  {
   "cell_type": "code",
   "execution_count": 200,
   "metadata": {},
   "outputs": [],
   "source": [
    "def predictions(model,features):\n",
    "    \"\"\"\n",
    "    Returns predictions from a trained model\n",
    "\n",
    "    Args:\n",
    "        features : list of feature vectors or X\n",
    "        model: Niave Bayes model that is to be trained\n",
    "    \n",
    "    Returns: prediction list\n",
    "    \"\"\"\n",
    "    return model.predict(features)"
   ]
  },
  {
   "cell_type": "markdown",
   "metadata": {},
   "source": [
    "##### Using the above functions train different models for different feature vectors and  obtain the models predictions for test set."
   ]
  },
  {
   "cell_type": "code",
   "execution_count": 201,
   "metadata": {},
   "outputs": [],
   "source": [
    "#train model on task1_unigram_features_train\n",
    "###__________Code_Here________________###\n",
    "from sklearn.naive_bayes import MultinomialNB\n",
    "clf = MultinomialNB()\n",
    "train_model(clf, task1_unigram_features_train, task1_label_train)\n",
    "###___________________________________###"
   ]
  },
  {
   "cell_type": "code",
   "execution_count": 202,
   "metadata": {},
   "outputs": [
    {
     "name": "stdout",
     "output_type": "stream",
     "text": [
      "              precision    recall  f1-score   support\n",
      "\n",
      "         Pos       0.27      0.23      0.25        30\n",
      "         Neg       0.67      0.71      0.69        66\n",
      "\n",
      "   micro avg       0.56      0.56      0.56        96\n",
      "   macro avg       0.47      0.47      0.47        96\n",
      "weighted avg       0.55      0.56      0.55        96\n",
      "\n"
     ]
    },
    {
     "data": {
      "image/png": "[encoded data removed]",
      "text/plain": [
       "<Figure size 432x288 with 2 Axes>"
      ]
     },
     "metadata": {},
     "output_type": "display_data"
    }
   ],
   "source": [
    "#Classification report for task1_unigram_features_train\n",
    "###__________Code_Here________________###\n",
    "pred=predictions(clf, task1_unigram_features_test)\n",
    "###___________________________________###\n",
    "\n",
    "print(classification_report(task1_label_test, pred, labels=[\"Pos\", \"Neg\"]))\n",
    "cm=confusion_matrix(task1_label_test,pred)\n",
    "cm = pd.DataFrame(cm, ['Pos','Neg'], ['Pos','Neg'])# matrix,names row,names col,\n",
    "# plt.figure(figsize=(10,7))\n",
    "sn.set(font_scale=1.5) # for label size\n",
    "sn.heatmap(cm, annot=True, annot_kws={\"size\": 11}, fmt=\"d\") # font size\n",
    "plt.show()"
   ]
  },
  {
   "cell_type": "code",
   "execution_count": 203,
   "metadata": {},
   "outputs": [],
   "source": [
    "#train model on task1_bigram_features_train\n",
    "###__________Code_Here________________###\n",
    "clf = MultinomialNB()\n",
    "train_model(clf, task1_bigram_features_train, task1_label_train)\n",
    "\n",
    "###___________________________________###"
   ]
  },
  {
   "cell_type": "code",
   "execution_count": 204,
   "metadata": {},
   "outputs": [
    {
     "name": "stdout",
     "output_type": "stream",
     "text": [
      "              precision    recall  f1-score   support\n",
      "\n",
      "         Pos       0.32      0.67      0.43        30\n",
      "         Neg       0.70      0.35      0.46        66\n",
      "\n",
      "   micro avg       0.45      0.45      0.45        96\n",
      "   macro avg       0.51      0.51      0.45        96\n",
      "weighted avg       0.58      0.45      0.45        96\n",
      "\n"
     ]
    },
    {
     "data": {
      "image/png": "[encoded data removed]",
      "text/plain": [
       "<Figure size 432x288 with 2 Axes>"
      ]
     },
     "metadata": {},
     "output_type": "display_data"
    }
   ],
   "source": [
    "#Classification report and confusion matrix for task1_bigram_features_train\n",
    "###__________Code_Here________________###\n",
    "pred=predictions(clf, task1_bigram_features_test)\n",
    "###___________________________________###\n",
    "\n",
    "print(classification_report(task1_label_test, pred, labels=[\"Pos\", \"Neg\"]))\n",
    "cm=confusion_matrix(task1_label_test,pred)\n",
    "cm = pd.DataFrame(cm, ['Pos','Neg'], ['Pos','Neg'])# matrix,names row,names col,\n",
    "# plt.figure(figsize=(10,7))\n",
    "sn.set(font_scale=1.5) # for label size\n",
    "sn.heatmap(cm, annot=True, annot_kws={\"size\": 11}, fmt=\"d\") # font size\n",
    "plt.show()"
   ]
  },
  {
   "cell_type": "code",
   "execution_count": 205,
   "metadata": {},
   "outputs": [],
   "source": [
    "#train model on task1_POS_features_train\n",
    "###__________Code_Here________________###\n",
    "clf = MultinomialNB()\n",
    "train_model(clf, task1_POS_features_train, task1_label_train)\n",
    "\n",
    "\n",
    "###___________________________________###"
   ]
  },
  {
   "cell_type": "code",
   "execution_count": 206,
   "metadata": {},
   "outputs": [
    {
     "name": "stdout",
     "output_type": "stream",
     "text": [
      "              precision    recall  f1-score   support\n",
      "\n",
      "         Pos       0.79      0.37      0.50        30\n",
      "         Neg       0.77      0.95      0.85        66\n",
      "\n",
      "   micro avg       0.77      0.77      0.77        96\n",
      "   macro avg       0.78      0.66      0.68        96\n",
      "weighted avg       0.77      0.77      0.74        96\n",
      "\n"
     ]
    },
    {
     "data": {
      "image/png": "[encoded data removed]",
      "text/plain": [
       "<Figure size 432x288 with 2 Axes>"
      ]
     },
     "metadata": {},
     "output_type": "display_data"
    }
   ],
   "source": [
    "#Classification report for task1_POS_features\n",
    "###__________Code_Here________________###\n",
    "pred=predictions(clf, task1_POS_features_test)\n",
    "###___________________________________###\n",
    "\n",
    "print(classification_report(task1_label_test, pred, labels=[\"Pos\", \"Neg\"]))\n",
    "cm=confusion_matrix(task1_label_test,pred)\n",
    "cm = pd.DataFrame(cm, ['Pos','Neg'], ['Pos','Neg'])# matrix,names row,names col,\n",
    "# plt.figure(figsize=(10,7))\n",
    "sn.set(font_scale=1.5) # for label size\n",
    "sn.heatmap(cm, annot=True, annot_kws={\"size\": 11}, fmt=\"d\") # font size\n",
    "plt.show()"
   ]
  },
  {
   "cell_type": "markdown",
   "metadata": {},
   "source": [
    "#### Compare how performance changes for different feature vectors for task1? "
   ]
  },
  {
   "cell_type": "code",
   "execution_count": 207,
   "metadata": {
    "scrolled": true
   },
   "outputs": [
    {
     "data": {
      "image/png": "[encoded data removed]",
      "text/plain": [
       "<Figure size 432x288 with 1 Axes>"
      ]
     },
     "metadata": {},
     "output_type": "display_data"
    }
   ],
   "source": [
    "# %%capture\n",
    "###______________Answer_Start_________###\n",
    "\n",
    "techniques = [\"Unigram\", \"Bigram\", \"POS\"]\n",
    "micro_averaged_precision = [0.68, 0.39, 0.81]\n",
    "macro_averaged_precision = [0.53, 0.49, 0.79]\n",
    "\n",
    "micro_averaged_recall = [0.68, 0.39, 0.81]\n",
    "macro_averaged_recall = [0.52, 0.39, 0.71]\n",
    "\n",
    "micro_averaged_f1 = [0.68, 0.39, 0.81]\n",
    "macro_averaged_f1 = [0.50, 0.37, 0.73]\n",
    "\n",
    "X = np.arange(3)\n",
    "plt.bar(X + 0.00, macro_averaged_precision, color = 'b', width = 0.25, label=\"macro precision\")\n",
    "plt.bar(X + 0.25, macro_averaged_recall, color = 'g', width = 0.25, label=\"macro recall\")\n",
    "plt.bar(X + 0.50, macro_averaged_f1, color = 'r', width = 0.25, label=\"macro f1-score\")\n",
    "plt.xticks(X, ('Unigram', 'Bigram', 'POS'))\n",
    "plt.legend(loc='best')\n",
    "plt.show()\n",
    "###______________Answer_End_________###"
   ]
  },
  {
   "cell_type": "code",
   "execution_count": 208,
   "metadata": {},
   "outputs": [
    {
     "data": {
      "image/png": "[encoded data removed]",
      "text/plain": [
       "<Figure size 432x288 with 1 Axes>"
      ]
     },
     "metadata": {},
     "output_type": "display_data"
    }
   ],
   "source": [
    "plt.bar(X + 0.00, micro_averaged_precision, color = 'b', width = 0.25, label=\"micro precision\")\n",
    "plt.bar(X + 0.25, micro_averaged_recall, color = 'g', width = 0.25, label=\"micro recall\")\n",
    "plt.bar(X + 0.50, micro_averaged_f1, color = 'r', width = 0.25, label=\"micro f1-score\")\n",
    "plt.xticks(X, ('Unigram', 'Bigram', 'POS'))\n",
    "plt.legend(loc='best')\n",
    "plt.show()"
   ]
  },
  {
   "cell_type": "markdown",
   "metadata": {},
   "source": [
    "##### Repeat the above steps for task2"
   ]
  },
  {
   "cell_type": "code",
   "execution_count": 209,
   "metadata": {},
   "outputs": [],
   "source": [
    "#train model on task2_unigram_features_train\n",
    "###__________Code_Here________________###\n",
    "clf = MultinomialNB()\n",
    "train_model(clf, task2_unigram_features_train, task2_label_train)\n",
    "\n",
    "###___________________________________###"
   ]
  },
  {
   "cell_type": "code",
   "execution_count": 210,
   "metadata": {},
   "outputs": [
    {
     "name": "stdout",
     "output_type": "stream",
     "text": [
      "              precision    recall  f1-score   support\n",
      "\n",
      "         Pos       0.20      0.03      0.06        29\n",
      "         Neg       0.28      0.24      0.26        62\n",
      "     Neutral       0.53      0.68      0.59       107\n",
      "\n",
      "   micro avg       0.45      0.45      0.45       198\n",
      "   macro avg       0.33      0.32      0.30       198\n",
      "weighted avg       0.40      0.45      0.41       198\n",
      "\n"
     ]
    },
    {
     "data": {
      "image/png": "[encoded data removed]",
      "text/plain": [
       "<Figure size 432x288 with 2 Axes>"
      ]
     },
     "metadata": {},
     "output_type": "display_data"
    }
   ],
   "source": [
    "#Classification report for task2_unigram_features\n",
    "###__________Code_Here________________###\n",
    "pred=predictions(clf, task2_unigram_features_test)\n",
    "###___________________________________###\n",
    "print(classification_report(task2_label_test, pred, labels=[\"Pos\", \"Neg\",\"Neutral\"]))\n",
    "cm=confusion_matrix(task2_label_test,pred)\n",
    "cm = pd.DataFrame(cm, [\"Pos\",\"Neg\",\"Neutral\"], [\"Pos\",\"Neg\",\"Neutral\"])# matrix,names row,names col,\n",
    "# plt.figure(figsize=(10,7))\n",
    "sn.set(font_scale=1.5) # for label size\n",
    "sn.heatmap(cm, annot=True, annot_kws={\"size\": 11}, fmt=\"d\") # font size\n",
    "plt.show()"
   ]
  },
  {
   "cell_type": "code",
   "execution_count": 211,
   "metadata": {},
   "outputs": [],
   "source": [
    "#train model on task2_bigram_features_train\n",
    "###__________Code_Here________________###\n",
    "clf = MultinomialNB()\n",
    "train_model(clf, task2_bigram_features_train, task2_label_train)\n",
    "\n",
    "###___________________________________###"
   ]
  },
  {
   "cell_type": "code",
   "execution_count": 212,
   "metadata": {},
   "outputs": [
    {
     "name": "stdout",
     "output_type": "stream",
     "text": [
      "              precision    recall  f1-score   support\n",
      "\n",
      "         Pos       0.18      0.34      0.24        29\n",
      "         Neg       0.35      0.35      0.35        62\n",
      "     Neutral       0.59      0.44      0.51       107\n",
      "\n",
      "   micro avg       0.40      0.40      0.40       198\n",
      "   macro avg       0.37      0.38      0.36       198\n",
      "weighted avg       0.46      0.40      0.42       198\n",
      "\n"
     ]
    },
    {
     "data": {
      "image/png": "[encoded data removed]",
      "text/plain": [
       "<Figure size 432x288 with 2 Axes>"
      ]
     },
     "metadata": {},
     "output_type": "display_data"
    }
   ],
   "source": [
    "#Classification report for task2_bigram_features\n",
    "###__________Code_Here________________###\n",
    "pred=predictions(clf, task2_bigram_features_test)\n",
    "###___________________________________###\n",
    "\n",
    "print(classification_report(task2_label_test, pred, labels=[\"Pos\", \"Neg\",\"Neutral\"]))\n",
    "cm=confusion_matrix(task2_label_test,pred)\n",
    "cm = pd.DataFrame(cm, [\"Pos\",\"Neg\",\"Neutral\"], [\"Pos\",\"Neg\",\"Neutral\"])# matrix,names row,names col,\n",
    "# plt.figure(figsize=(10,7))\n",
    "sn.set(font_scale=1.5) # for label size\n",
    "sn.heatmap(cm, annot=True, annot_kws={\"size\": 11}, fmt=\"d\") # font size\n",
    "plt.show()"
   ]
  },
  {
   "cell_type": "code",
   "execution_count": 213,
   "metadata": {},
   "outputs": [],
   "source": [
    "#train model on task2_POS_features_train\n",
    "###__________Code_Here________________###\n",
    "clf = MultinomialNB()\n",
    "train_model(clf, task2_POS_features_train, task2_label_train)\n",
    "\n",
    "###___________________________________###"
   ]
  },
  {
   "cell_type": "code",
   "execution_count": 214,
   "metadata": {},
   "outputs": [
    {
     "name": "stdout",
     "output_type": "stream",
     "text": [
      "              precision    recall  f1-score   support\n",
      "\n",
      "         Pos       0.75      0.21      0.32        29\n",
      "         Neg       0.60      0.74      0.66        62\n",
      "     Neutral       0.71      0.75      0.73       107\n",
      "\n",
      "   micro avg       0.67      0.67      0.67       198\n",
      "   macro avg       0.69      0.57      0.57       198\n",
      "weighted avg       0.68      0.67      0.65       198\n",
      "\n"
     ]
    },
    {
     "data": {
      "image/png": "[encoded data removed]",
      "text/plain": [
       "<Figure size 432x288 with 2 Axes>"
      ]
     },
     "metadata": {},
     "output_type": "display_data"
    }
   ],
   "source": [
    "\n",
    "#Classification report for task2_POS_features\n",
    "###__________Code_Here________________###\n",
    "pred=predictions(clf, task2_POS_features_test)\n",
    "###___________________________________###\n",
    "\n",
    "print(classification_report(task2_label_test, pred, labels=[\"Pos\", \"Neg\",\"Neutral\"]))\n",
    "cm=confusion_matrix(task2_label_test,pred)\n",
    "cm = pd.DataFrame(cm, [\"Pos\",\"Neg\",\"Neutral\"], [\"Pos\",\"Neg\",\"Neutral\"])# matrix,names row,names col,\n",
    "# plt.figure(figsize=(10,7))\n",
    "sn.set(font_scale=1.5) # for label size\n",
    "sn.heatmap(cm, annot=True, annot_kws={\"size\": 11}, fmt=\"d\") # font size\n",
    "plt.show()"
   ]
  },
  {
   "cell_type": "markdown",
   "metadata": {},
   "source": [
    "#####  How does the addition of an extra class affect the learning of our algorithm? Which pairs of classes are most often confused? Why might that be? "
   ]
  },
  {
   "cell_type": "code",
   "execution_count": 215,
   "metadata": {},
   "outputs": [
    {
     "data": {
      "image/png": "[encoded data removed]",
      "text/plain": [
       "<Figure size 432x288 with 1 Axes>"
      ]
     },
     "metadata": {},
     "output_type": "display_data"
    },
    {
     "data": {
      "text/plain": [
       "'\\nThe addition of an extra class has lead to deteriorating performance. However the trend of \\nrelative performances of vectorization techniques has preserved (POS still better than others).\\n\\nGiven the sizes of total Neutrals and big majority of them always getting into negative class, \\nsupports that the most confused pair is (Neutral, Negative).\\n\\nOne reason can be that the way a review becomes negative or neutral. A negative review is most of the \\ntimes in the form of <having no positive words> or <\".. not good/worthy..\"> while a neutral will \\nalso be in such a form <having no positives> or <\"... not so great or bad..\">. This makes it very \\nconfusing for a classifier.\\n\\n'"
      ]
     },
     "execution_count": 215,
     "metadata": {},
     "output_type": "execute_result"
    }
   ],
   "source": [
    "# %%capture\n",
    "###______________Answer_Start_________###\n",
    "techniques = [\"Unigram\", \"Bigram\", \"POS\"]\n",
    "micro_averaged_precision = [0.46, 0.31, 0.64]\n",
    "macro_averaged_precision = [0.35, 0.30, 0.44]\n",
    "\n",
    "micro_averaged_recall = [0.46, 0.31, 0.64]\n",
    "macro_averaged_recall = [0.34, 0.30, 0.48]\n",
    "\n",
    "micro_averaged_f1 = [0.46, 0.31, 0.64]\n",
    "macro_averaged_f1 = [0.31, 0.28, 0.45]\n",
    "\n",
    "X = np.arange(3)\n",
    "plt.bar(X + 0.00, macro_averaged_precision, color = 'b', width = 0.25, label=\"macro precision\")\n",
    "plt.bar(X + 0.25, macro_averaged_recall, color = 'g', width = 0.25, label=\"macro recall\")\n",
    "plt.bar(X + 0.50, macro_averaged_f1, color = 'r', width = 0.25, label=\"macro f1-score\")\n",
    "plt.xticks(X, ('Unigram', 'Bigram', 'POS'))\n",
    "plt.legend(loc='best')\n",
    "plt.show()\n",
    "\n",
    "'''\n",
    "The addition of an extra class has lead to deteriorating performance. However the trend of \n",
    "relative performances of vectorization techniques has preserved (POS still better than others).\n",
    "\n",
    "Given the sizes of total Neutrals and big majority of them always getting into negative class, \n",
    "supports that the most confused pair is (Neutral, Negative).\n",
    "\n",
    "One reason can be that the way a review becomes negative or neutral. A negative review is most of the \n",
    "times in the form of <having no positive words> or <\".. not good/worthy..\"> while a neutral will \n",
    "also be in such a form <having no positives> or <\"... not so great or bad..\">. This makes it very \n",
    "confusing for a classifier.\n",
    "\n",
    "'''\n",
    "\n",
    "\n",
    "###______________Answer_End_________###"
   ]
  },
  {
   "cell_type": "code",
   "execution_count": 216,
   "metadata": {},
   "outputs": [
    {
     "data": {
      "image/png": "[encoded data removed]",
      "text/plain": [
       "<Figure size 432x288 with 1 Axes>"
      ]
     },
     "metadata": {},
     "output_type": "display_data"
    }
   ],
   "source": [
    "plt.bar(X + 0.00, micro_averaged_precision, color = 'b', width = 0.25, label=\"micro precision\")\n",
    "plt.bar(X + 0.25, micro_averaged_recall, color = 'g', width = 0.25, label=\"micro recall\")\n",
    "plt.bar(X + 0.50, micro_averaged_f1, color = 'r', width = 0.25, label=\"micro f1-score\")\n",
    "plt.xticks(X, ('Unigram', 'Bigram', 'POS'))\n",
    "plt.legend(loc='best')\n",
    "plt.show()"
   ]
  },
  {
   "cell_type": "markdown",
   "metadata": {},
   "source": [
    "### We can further create more complex features by combining different ngram features to  improve performance. We can also remove words that occur rarely in our dataset to reduce the size of our feature vectors. "
   ]
  },
  {
   "cell_type": "markdown",
   "metadata": {},
   "source": [
    "#### Model2: Logistic Regression\n",
    "We will now use [logistic regression](https://scikit-learn.org/stable/modules/generated/sklearn.linear_model.LogisticRegression.html) to explore the improvements stated above. To create complex feature vectors we will use [CountVectorizer](https://scikit-learn.org/stable/modules/generated/sklearn.feature_extraction.text.CountVectorizer.html) from sklearn.<br>\n",
    "We will play around with two parameters of CountVectorizer:\n",
    "<ul>\n",
    "    <li>min_df ( = 5): defines the minimum frequency of a word for it to be counted as a feature, in this case the word should have a frequency count of atleast 5.</li>\n",
    "    <li>ngram_range (= (2,2)): The ngram_range parameter is a tuple. It defines the minimum and maximum length of sequence of tokens considered. In this case, this length is 2. So, this will find sequence of 2 tokens like — ‘but the’, ‘wise man’ etc.</li>\n",
    "</ul>\n",
    "Use the ngram_range=(1,2) and min_df=5.\n",
    "\n",
    "Hint: See the fit and transform functions<br>\n",
    "<i>If you get stuck, you can look at our solution</i> [here](https://ibb.co/p4BFdvs)\n",
    "    \n",
    "\n",
    "    "
   ]
  },
  {
   "cell_type": "code",
   "execution_count": 217,
   "metadata": {},
   "outputs": [],
   "source": [
    "from sklearn.feature_extraction.text import CountVectorizer"
   ]
  },
  {
   "cell_type": "code",
   "execution_count": 224,
   "metadata": {},
   "outputs": [],
   "source": [
    "#create complex features\n",
    "###__________Code_Here________________###\n",
    "\n",
    "vectorizer = CountVectorizer(min_df=5, ngram_range=(2,2))\n",
    "X = vectorizer.fit_transform(model_2_X)\n",
    "X_train, X_test, y_train, y_test = train_test_split(X, sentiment_label_Y_task2, test_size=0.2)\n",
    "###___________________________________###"
   ]
  },
  {
   "cell_type": "code",
   "execution_count": 225,
   "metadata": {},
   "outputs": [
    {
     "name": "stderr",
     "output_type": "stream",
     "text": [
      "/home/haseeb/.local/lib/python3.6/site-packages/sklearn/linear_model/logistic.py:433: FutureWarning: Default solver will be changed to 'lbfgs' in 0.22. Specify a solver to silence this warning.\n",
      "  FutureWarning)\n",
      "/home/haseeb/.local/lib/python3.6/site-packages/sklearn/linear_model/logistic.py:460: FutureWarning: Default multi_class will be changed to 'auto' in 0.22. Specify the multi_class option to silence this warning.\n",
      "  \"this warning.\", FutureWarning)\n"
     ]
    },
    {
     "data": {
      "text/plain": [
       "LogisticRegression(C=1.0, class_weight=None, dual=False, fit_intercept=True,\n",
       "          intercept_scaling=1, max_iter=100, multi_class='warn',\n",
       "          n_jobs=None, penalty='l2', random_state=None, solver='warn',\n",
       "          tol=0.0001, verbose=0, warm_start=False)"
      ]
     },
     "execution_count": 225,
     "metadata": {},
     "output_type": "execute_result"
    }
   ],
   "source": [
    "#train logistic regression model\n",
    "###__________Code_Here________________###\n",
    "\n",
    "from sklearn.linear_model import LogisticRegression\n",
    "clf = LogisticRegression()\n",
    "clf.fit(X_train, y_train)\n",
    "###___________________________________###"
   ]
  },
  {
   "cell_type": "code",
   "execution_count": 227,
   "metadata": {},
   "outputs": [
    {
     "name": "stdout",
     "output_type": "stream",
     "text": [
      "              precision    recall  f1-score   support\n",
      "\n",
      "         Pos       0.31      0.14      0.19        29\n",
      "         Neg       0.35      0.31      0.33        62\n",
      "     Neutral       0.56      0.68      0.61       107\n",
      "\n",
      "   micro avg       0.48      0.48      0.48       198\n",
      "   macro avg       0.41      0.38      0.38       198\n",
      "weighted avg       0.46      0.48      0.46       198\n",
      "\n"
     ]
    },
    {
     "data": {
      "image/png": "[encoded data removed]",
      "text/plain": [
       "<Figure size 432x288 with 2 Axes>"
      ]
     },
     "metadata": {},
     "output_type": "display_data"
    }
   ],
   "source": [
    "#train model on complex_feature\n",
    "###__________Code_Here________________###\n",
    "pred=clf.predict(X_test)\n",
    "###___________________________________###\n",
    "\n",
    "print(classification_report(task2_label_test, pred, labels=[\"Pos\", \"Neg\",\"Neutral\"]))\n",
    "cm=confusion_matrix(task2_label_test,pred)\n",
    "cm = pd.DataFrame(cm, [\"Pos\",\"Neg\",\"Neutral\"], [\"Pos\",\"Neg\",\"Neutral\"])# matrix,names row,names col,\n",
    "# plt.figure(figsize=(10,7))\n",
    "sn.set(font_scale=1.5) # for label size\n",
    "sn.heatmap(cm, annot=True, annot_kws={\"size\": 11}, fmt=\"d\") # font size\n",
    "plt.show()"
   ]
  },
  {
   "cell_type": "markdown",
   "metadata": {},
   "source": [
    "#### You can play around with ngram_range and min_df to further improve performance. \n"
   ]
  },
  {
   "cell_type": "markdown",
   "metadata": {},
   "source": [
    "Great you have completed the first task now move onto [Part 2](https://ibb.co/MfpxHZh)."
   ]
  },
  {
   "cell_type": "code",
   "execution_count": null,
   "metadata": {},
   "outputs": [],
   "source": []
  }
 ],
 "metadata": {
  "kernelspec": {
   "display_name": "Python 3",
   "language": "python",
   "name": "python3"
  },
  "language_info": {
   "codemirror_mode": {
    "name": "ipython",
    "version": 3
   },
   "file_extension": ".py",
   "mimetype": "text/x-python",
   "name": "python",
   "nbconvert_exporter": "python",
   "pygments_lexer": "ipython3",
   "version": "3.6.8"
  }
 },
 "nbformat": 4,
 "nbformat_minor": 2
}
