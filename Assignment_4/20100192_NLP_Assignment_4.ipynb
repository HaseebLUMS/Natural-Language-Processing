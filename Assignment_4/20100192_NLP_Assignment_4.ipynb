{
  "nbformat": 4,
  "nbformat_minor": 0,
  "metadata": {
    "kernelspec": {
      "display_name": "Python 3",
      "language": "python",
      "name": "python3"
    },
    "language_info": {
      "codemirror_mode": {
        "name": "ipython",
        "version": 3
      },
      "file_extension": ".py",
      "mimetype": "text/x-python",
      "name": "python",
      "nbconvert_exporter": "python",
      "pygments_lexer": "ipython3",
      "version": "3.6.9"
    },
    "colab": {
      "name": "20100192_NLP_Assignment_4.ipynb",
      "provenance": [],
      "collapsed_sections": [],
      "toc_visible": true
    }
  },
  "cells": [
    {
      "cell_type": "markdown",
      "metadata": {
        "id": "2lnOXnOxHzFd",
        "colab_type": "text"
      },
      "source": [
        "# Assignment 4 CS 5316 Natural Language Processing"
      ]
    },
    {
      "cell_type": "code",
      "metadata": {
        "id": "5BcDWByA2EHX",
        "colab_type": "code",
        "outputId": "eb8081d7-7b70-4976-db4c-21819d2c0fb0",
        "colab": {
          "base_uri": "https://localhost:8080/",
          "height": 122
        }
      },
      "source": [
        "# from google.colab import drive\n",
        "# drive.mount('/content/drive')"
      ],
      "execution_count": 0,
      "outputs": [
        {
          "output_type": "stream",
          "text": [
            "Go to this URL in a browser: https://accounts.google.com/o/oauth2/auth?client_id=947318989803-6bn6qk8qdgf4n4g3pfee6491hc0brc4i.apps.googleusercontent.com&redirect_uri=urn%3aietf%3awg%3aoauth%3a2.0%3aoob&response_type=code&scope=email%20https%3a%2f%2fwww.googleapis.com%2fauth%2fdocs.test%20https%3a%2f%2fwww.googleapis.com%2fauth%2fdrive%20https%3a%2f%2fwww.googleapis.com%2fauth%2fdrive.photos.readonly%20https%3a%2f%2fwww.googleapis.com%2fauth%2fpeopleapi.readonly\n",
            "\n",
            "Enter your authorization code:\n",
            "··········\n",
            "Mounted at /content/drive\n"
          ],
          "name": "stdout"
        }
      ]
    },
    {
      "cell_type": "code",
      "metadata": {
        "id": "PAXc81hgIHUI",
        "colab_type": "code",
        "outputId": "13e9fce6-6fdb-4a58-8318-76b078d79c63",
        "colab": {
          "base_uri": "https://localhost:8080/",
          "height": 68
        }
      },
      "source": [
        "# !unzip \"/content/drive/My Drive/Colab Notebooks/msr_paraphrase.zip\""
      ],
      "execution_count": 0,
      "outputs": [
        {
          "output_type": "stream",
          "text": [
            "Archive:  /content/drive/My Drive/Colab Notebooks/msr_paraphrase.zip\n",
            "  inflating: msr_paraphrase_test.txt  \n",
            "  inflating: msr_paraphrase_train.txt  \n"
          ],
          "name": "stdout"
        }
      ]
    },
    {
      "cell_type": "code",
      "metadata": {
        "id": "C3ry-Cr4yFPz",
        "colab_type": "code",
        "colab": {}
      },
      "source": [
        "# d = \"50\"\n",
        "# !cp \"/content/drive/My Drive/Colab Notebooks/glove_6B/glove.6B.50d.txt\" \"glove.6B.50d.txt\""
      ],
      "execution_count": 0,
      "outputs": []
    },
    {
      "cell_type": "code",
      "metadata": {
        "id": "XSAelkozHzFg",
        "colab_type": "code",
        "colab": {}
      },
      "source": [
        "import numpy as np\n",
        "from IPython.display import Image\n",
        "# Get the interactive Tools for Matplotlib\n",
        "%matplotlib inline\n",
        "import matplotlib.pyplot as plt\n",
        "# plt.style.use('ggplot')\n",
        "from sklearn.decomposition import PCA\n",
        "from gensim.test.utils import datapath, get_tmpfile\n",
        "from gensim.models import KeyedVectors\n",
        "from gensim.scripts.glove2word2vec import glove2word2vec\n",
        "from sklearn.decomposition import TruncatedSVD\n",
        "from sklearn.utils.extmath import randomized_svd\n",
        "from nltk import ngrams\n",
        "import pandas as pd\n",
        "import seaborn as sn\n",
        "import tensorflow as tf\n",
        "from tensorflow.keras.layers import Dense, Activation, RepeatVector,Flatten, TimeDistributed, Input,Bidirectional,LocallyConnected1D,Conv1D,GlobalAveragePooling1D,GlobalMaxPooling1D,Concatenate,BatchNormalization\n",
        "from tensorflow.keras.layers import Embedding, LSTM ,Dropout, SimpleRNN, GRU\n",
        "from tensorflow.keras.models import Model\n",
        "from tensorflow.keras.preprocessing.text import Tokenizer\n",
        "from tensorflow.keras.preprocessing.sequence import pad_sequences\n",
        "from tensorflow.keras import optimizers\n",
        "from keras.utils import plot_model\n",
        "from tensorflow.keras.utils import to_categorical\n",
        "# import tensorflow.keras.utils.to_categorical as to_categorical\n",
        "from sklearn.preprocessing import LabelEncoder\n",
        "from sklearn.preprocessing import OneHotEncoder\n",
        "import matplotlib.pyplot as plt\n",
        "import matplotlib.mlab as mlab\n",
        "from sklearn.model_selection import train_test_split\n",
        "from tensorflow.keras.callbacks import ModelCheckpoint, EarlyStopping, CSVLogger, ReduceLROnPlateau\n",
        "from sklearn.metrics import f1_score, precision_score, recall_score, confusion_matrix\n",
        "import math\n",
        "from sklearn.metrics import confusion_matrix\n",
        "import seaborn as sn\n",
        "from sklearn.metrics import classification_report"
      ],
      "execution_count": 0,
      "outputs": []
    },
    {
      "cell_type": "markdown",
      "metadata": {
        "id": "ai2BH1arHzFr",
        "colab_type": "text"
      },
      "source": [
        "# Final Assingmnet\n",
        "This is going to be the final assignment for deep learning. Here is a very good visual for what you will be doing with\n",
        "<a href=\"https://ibb.co/mh9Ks0j\">deep learning.</a> Lets get started......."
      ]
    },
    {
      "cell_type": "markdown",
      "metadata": {
        "id": "a4a4UbaHHzFt",
        "colab_type": "text"
      },
      "source": [
        "# TASK 1 Paraphrase Detection\n",
        "For this task we will be using the [ Microsoft Research Paraphrase Corpus ](https://www.microsoft.com/en-us/download/details.aspx?id=52398). The corpus consist of sentence pairs with 1 or 0 labels which identify if the sentences are paraphrase or not respectively.\n",
        "<br>\n",
        "To perform this task we will be using recurrenct neural network for this task specifically the [LSTM](https://colah.github.io/posts/2015-08-Understanding-LSTMs/). RNN can be architected in multiple ways. Some of the possible ways are as follows:\n",
        "<img src=\"archetecturernn.PNG\">\n",
        "The box in the bottom is the input, followed by the hidden layer (as the middle box), and the box on top is the output layer. The one-to-one architecture is the typical neural network (<i>vanila/Feed Forward</i>) with a hidden layer between the input and the output layer. Example uses of the above archetecture are as follows:\n",
        "<ul>\n",
        "    <li>One-to-many: input is an image and outputs are image captions</li>\n",
        "    <li>Many-to-one: input is a movie's review <i>multiple words in input</i> and output is sentiment associated with the review <i>(we will be using a similar archetecture for our purpose)</i></li>\n",
        "    <li>Many-to-many: machine translation of a sentence in one language to a sentence in another language, POS tagging etc</li>\n",
        "</ul>\n",
        "<br>\n",
        "For this task we will also be using pre-trained word embeddings specificallly <a href=\"https://nlp.stanford.edu/projects/glove/\">(GloVe Embeddings)</a>. Please download the paraphrase <a href=\"https://www.microsoft.com/en-us/download/details.aspx?id=52398\">dataset</a> and glove.6B.zip from <a href=\"https://nlp.stanford.edu/projects/glove/\">here</a>."
      ]
    },
    {
      "cell_type": "markdown",
      "metadata": {
        "id": "t9q3zcMUHzFu",
        "colab_type": "text"
      },
      "source": [
        "For this task you are required to implement the following archetecture, please use [keras functional API](https://www.tensorflow.org/guide/keras/functional) :\n",
        "<img src=\"paraphrase.png\">\n",
        "If <a href=\"https://ibb.co/RSSjRM0\">this</a> is you reaction after seeing the model archetecture dont worry we'll explain.\n",
        "The model works as follows, there will be two inputs layers, one for each sentence followed by <b>shared</b> embedding layer which feed thier outputs to the shared LSTM, <b>take the final hidden state output</b> of both LSTM's and concatenate them. Finally feed the concatenated vector to a softmax output layer for classification.\n",
        "<br>\n",
        "<i>(The reason for using one shared embedding and LSTM layer so that the model learns sentence representation for all sentence pairs(x,x') in the dataset. If we were using two seperate LSTMS for x and x' we would need to double the dataset by having both (x,x') and (x',x) pairs so that both LSTM's see the entire train data distribution)</i>\n",
        "The purpose for each layer in the model is as follows:\n",
        "<ul>\n",
        "    <li>Input takes the input sequences and feeds it to the next(you will need to specify the maximum size of a sentence as a parameter of this layer)</li>\n",
        "    <li>Embedding layer, this layer takes the sequence input then for each word in the sequence generates a fixed size vector <i>(word embedding)</i>, this layer can be trained from scratch or can be configured to use pretrained embeddings with or without fine tuning. </li>\n",
        "    <li>LSTM process the embedding vector sequences and at each step generates a hidden state vector(h)and cell memory vector(C)(<i>see diagram</i>), the keras LSTM layer returns three outputs (1) All the hidden states,(2) The final hidden state and (3) The final cell memory state<img src=\"lstm.png\"></li>\n",
        "    <li>The concatenation layer combines multple vectors into a single vector</li>\n",
        "    <li>Finally the output layer predicts if sentence pairs were paraphrase or not</li>\n",
        "</ul>\n",
        "<b>Please refer to the TF-keras documentation for all the layers <a href=\"https://www.tensorflow.org/api_docs/python/tf/keras/layers\">here</a></b>\n",
        "<br><br><br>\n",
        "Now that you understand the theoritical foundation for our approach lets move onto practical implementation.<br>\n",
        "<h3>Data Preperation</h3>\n",
        "\n",
        "<ul>\n",
        "    <li> First we need to preprocess the data, convert the data to lower casing. Any other preprocessing procedures are optional but keep in mind that this will affect the performance of your model.</li>\n",
        "    <li> To make training faster we will fix the maximum sequence length to 20 truncate the longer sequences.</li>\n",
        "    <li> Split the data into test, train and validation in the ratio 20,70,10. Use <a href=\"https://scikit-learn.org/stable/modules/generated/sklearn.model_selection.train_test_split.html\">scikit_test_train_split</a> <br><i><b>Hint:</b> use the splitter twice to get desired data splits.</i></li>\n",
        "    <li> Next we need the vocabulary, vocabulary size and to convert sentences to numeric sequences by representing each word with a numeric value which will make our implementation easier later on, use <a href=\"https://www.tensorflow.org/api_docs/python/tf/keras/preprocessing/text/Tokenizer\">Tokenizer</a> from keras. <br><i>(Fit the tokenizer on train data and use the same tokenizer to convert train,test and validation data to numeric sequences)</i> </li>\n",
        "    <li>  Use <a href=\"https://www.tensorflow.org/api_docs/python/tf/keras/preprocessing/sequence/pad_sequences\"> pad sequences</a> to add post padding to all sentences that are shorter than maximum sequence length\n",
        "        <i>(<b>extra info</b>: fit_on_text reserves value/index 0 for padding and assigns numeric value to words starting from index 1)</i></li>\n",
        "</ul>\n",
        "<h3>Loading embeddings</h3>\n",
        "<ul>\n",
        "    <li> To use pretrained embeddings in tf keras embedding layer requires a dictionary, we need to create a dictionary whose keys will be numeric word representations and values will be the embedding vectors.</li>\n",
        "    <li> First step is to load the word embedding pairs from the glove file into a dictionary.</li>\n",
        "    <li> Next we will create a dictionary for our dataset's vocabulary. Copy all the word embeddings for words that are in our vocabulary and in the glove dictionary, if a word exists in our vocabulary but does not exist in glove dictionary create a zero vector of embedding dimension size and add it to the dictionary.</li>\n",
        "</ul>\n",
        "<h3>Create Model</h3>\n",
        "<ul>\n",
        "    <li> Create the model using <a href\"https://www.tensorflow.org/guide/keras/functional\">functional API</a></li>\n",
        "    <li> Hints: The emebedding layer has a parameter that allows you to use pretrained embeddings, for shared layers read the section of shared layer weights in function API docs</li>"
      ]
    },
    {
      "cell_type": "code",
      "metadata": {
        "id": "Em79S8xMHzFw",
        "colab_type": "code",
        "colab": {}
      },
      "source": [
        "def loadData(fn):\n",
        "    \"\"\"\n",
        "    Return preprocessed data\n",
        "    \n",
        "    Returns: X and Y where X is pair of sentence (x,x') and y is the label 0 or 1\n",
        "    \"\"\"\n",
        "    data = open(fn)\n",
        "    data = np.array([example.split(\"\\t\") for example in data.readlines()])[1:]\n",
        "    data_X = []\n",
        "    data_Y = []\n",
        "    for d in data:\n",
        "      data_X += [(d[3], d[4])]\n",
        "      data_Y += [d[0]]\n",
        "    return data_X, data_Y\n"
      ],
      "execution_count": 0,
      "outputs": []
    },
    {
      "cell_type": "code",
      "metadata": {
        "id": "TC1oDxwrHzF2",
        "colab_type": "code",
        "colab": {}
      },
      "source": [
        "def process(sentence):\n",
        "  sentence = sentence.lower().split(\" \")\n",
        "  try:\n",
        "    sentence = sentence[:20]\n",
        "  except: \n",
        "    pass\n",
        "  return \" \".join(sentence)\n",
        "\n",
        "def preprocessing(data):\n",
        "    \"\"\"\n",
        "    Return preprocessed data\n",
        "\n",
        "    Args:\n",
        "        data : sentence pairs\n",
        "    \n",
        "    Returns: preprocessed_data\n",
        "    preprocessed_data : preprocessed dataset \n",
        "    \"\"\"\n",
        "    preprocessed_data = []\n",
        "    for p in data:\n",
        "      preprocessed_data += [(process(p[0]), process(p[1]))]\n",
        "    return preprocessed_data"
      ],
      "execution_count": 0,
      "outputs": []
    },
    {
      "cell_type": "markdown",
      "metadata": {
        "id": "ShwDNscCHzF-",
        "colab_type": "text"
      },
      "source": [
        "### Test train split\n",
        "Use test train split from sklearn.\n"
      ]
    },
    {
      "cell_type": "code",
      "metadata": {
        "id": "RhvIYwKaHzF_",
        "colab_type": "code",
        "colab": {}
      },
      "source": [
        "def testTrainSplit(data_X,data_Y):\n",
        "    \"\"\"\n",
        "    Return test train data\n",
        "\n",
        "    Args:\n",
        "        data_X : sentence pairs\n",
        "        data_Y: labels\n",
        "        \n",
        "    Returns: test train and validation split data \n",
        "    \"\"\"\n",
        "    x_train, x_valid, y_train, y_valid = train_test_split(data_X, data_Y, test_size=0.1, random_state=0)\n",
        "    return x_train, x_valid, y_train, y_valid"
      ],
      "execution_count": 0,
      "outputs": []
    },
    {
      "cell_type": "code",
      "metadata": {
        "id": "_aHLVbI0c7QX",
        "colab_type": "code",
        "colab": {}
      },
      "source": [
        "x_train, y_train = loadData('msr_paraphrase_train.txt')\n",
        "x_test, y_test = loadData('msr_paraphrase_test.txt')\n",
        "x_train = preprocessing(x_train)\n",
        "x_test = preprocessing(x_test)\n",
        "x_train, x_valid, y_train, y_valid = testTrainSplit(x_train, y_train)"
      ],
      "execution_count": 0,
      "outputs": []
    },
    {
      "cell_type": "code",
      "metadata": {
        "id": "TGxxRZNC9CFc",
        "colab_type": "code",
        "colab": {}
      },
      "source": [
        "encod = {\n",
        "    \"1\": [0, 1],\n",
        "    \"0\": [1, 0]\n",
        "}\n",
        "y_train_enc = np.array([encod[x] for x in y_train], dtype=np.uint8)\n",
        "y_valid_enc = np.array([encod[x] for x in y_valid], dtype=np.uint8)\n",
        "y_test_enc = np.array([encod[x] for x in y_test], dtype=np.uint8)"
      ],
      "execution_count": 0,
      "outputs": []
    },
    {
      "cell_type": "markdown",
      "metadata": {
        "id": "mhpNUab1HzGG",
        "colab_type": "text"
      },
      "source": [
        "Implement the step regarding keras Tokenizer in the cell below.<br>\n",
        "<i> Keep in mind that each example is a pair/tupple of sentence(x,x'), combine them into a single sentence so that your data is a list of sentences before calling fit on text(Tokenizer). There is out of vocabulary option in tokenizer check that out aswell.</i>"
      ]
    },
    {
      "cell_type": "code",
      "metadata": {
        "id": "NqbD4p9mHzGG",
        "colab_type": "code",
        "colab": {}
      },
      "source": [
        "# Get vocabular, vocabulary size and numeric word seqeunces for train,test and validation data\n",
        "tokenizer = Tokenizer(oov_token=\"<unk>\", filters='!\"#$%&()*+.,-/:;=?@[\\]^_`{|}~ ')\n",
        "# tokenizer.word_index['<pad>'] = 0\n",
        "# tokenizer.index_word[0] = '<pad>'\n",
        "tmp = [\" \".join(x) for x in x_train]\n",
        "tokenizer.fit_on_texts(tmp)"
      ],
      "execution_count": 0,
      "outputs": []
    },
    {
      "cell_type": "code",
      "metadata": {
        "id": "cBqx39IqigsM",
        "colab_type": "code",
        "outputId": "9e7e5f4c-37d1-417a-b8e1-a489d28a238e",
        "colab": {
          "base_uri": "https://localhost:8080/",
          "height": 88
        }
      },
      "source": [
        "# def get_vocab(tmp):\n",
        "#   tmp = [\" \".join(x) for x in tmp]\n",
        "#   tmp = \" \".join(tmp).split()\n",
        "#   vocab = list(set(tmp))\n",
        "#   return vocab, len(vocab)\n",
        "# x_train_vocab, x_train_vocab_len = get_vocab(x_train)\n",
        "# x_valid_vocab, x_valid_vocab_len = get_vocab(x_valid)\n",
        "# x_test_vocab, x_test_vocab_len = get_vocab(x_test)\n",
        "vocabulary=list(tokenizer.word_index.keys())#get the vocabular\n",
        "vocabulary=len(vocabulary)+1#vocabsize\n",
        "print(\"Numeric assignments, as you can see zero is reserved for padding\\n\",tokenizer.word_index,\"\\n\")\n",
        "word_index = tokenizer.word_index"
      ],
      "execution_count": 133,
      "outputs": [
        {
          "output_type": "stream",
          "text": [
            "Numeric assignments, as you can see zero is reserved for padding\n",
            " {'<unk>': 1, 'the': 2, 'to': 3, 'of': 4, 'a': 5, 'in': 6, 'and': 7, '\\n': 8, 'said': 9, 'on': 10, 'for': 11, 'that': 12, 'was': 13, 'is': 14, 'at': 15, 'with': 16, 'percent': 17, 'he': 18, 'by': 19, 'it': 20, 'from': 21, 'were': 22, 'as': 23, 'be': 24, '1': 25, 'has': 26, 'will': 27, 'or': 28, 'have': 29, 'his': 30, 'an': 31, 'had': 32, 'not': 33, 'are': 34, 'but': 35, 'who': 36, 'year': 37, 'its': 38, 'also': 39, 'they': 40, 'after': 41, 'two': 42, 'new': 43, 'million': 44, 'would': 45, 'this': 46, 'up': 47, '2': 48, 'been': 49, 'u': 50, 'about': 51, 's': 52, 'more': 53, '4': 54, 'one': 55, 'first': 56, 'last': 57, 'we': 58, 'than': 59, 'which': 60, 'their': 61, 'i': 62, 'mr': 63, '0': 64, 'people': 65, 'no': 66, 'shares': 67, 'points': 68, '3': 69, 'cents': 70, 'other': 71, 'company': 72, 'index': 73, 'state': 74, 'police': 75, 'she': 76, '6': 77, 'president': 78, '000': 79, 'her': 80, 'years': 81, '5': 82, 'when': 83, 'down': 84, 'stock': 85, 'three': 86, 'some': 87, 'court': 88, 'only': 89, 'over': 90, '10': 91, 'monday': 92, '7': 93, 'there': 94, 'all': 95, 'officials': 96, 'nasdaq': 97, 'since': 98, 'york': 99, 'week': 100, 'if': 101, 'could': 102, '9': 103, 'billion': 104, 'share': 105, '8': 106, 'against': 107, 'into': 108, 'time': 109, 'rose': 110, 'told': 111, 'friday': 112, 'per': 113, 'out': 114, 'us': 115, 'can': 116, 'federal': 117, 'wednesday': 118, 'may': 119, 'trading': 120, 'before': 121, 'most': 122, 'united': 123, 'tuesday': 124, 'yesterday': 125, 'sales': 126, 'expected': 127, 'while': 128, 'bush': 129, 'american': 130, 'quarter': 131, 'found': 132, 'fell': 133, 'chief': 134, 'during': 135, '30': 136, 'exchange': 137, 'those': 138, 'day': 139, 'month': 140, 'being': 141, 'now': 142, 'high': 143, 'government': 144, 'states': 145, 'five': 146, 'based': 147, 'because': 148, 'many': 149, 'second': 150, '500': 151, 'composite': 152, 'where': 153, 'under': 154, '15': 155, 'four': 156, 'killed': 157, 'old': 158, 'reported': 159, 'average': 160, 'today': 161, 'news': 162, 'report': 163, 'made': 164, 'thursday': 165, '11': 166, 'companies': 167, '18': 168, 'between': 169, 'market': 170, 'spokesman': 171, 'did': 172, 'national': 173, 'him': 174, 'statement': 175, 'take': 176, 'technology': 177, 'say': 178, 'case': 179, '100': 180, 'our': 181, 'standard': 182, 'both': 183, 'group': 184, 'just': 185, 'earlier': 186, 'office': 187, 'health': 188, 'including': 189, 'them': 190, 'several': 191, 'through': 192, 'such': 193, 'so': 194, '12': 195, '20': 196, 'june': 197, 'declined': 198, \"it's\": 199, '25': 200, 'law': 201, 'board': 202, 'another': 203, 'any': 204, 'close': 205, 'iraq': 206, 'early': 207, 'third': 208, '50': 209, 'added': 210, 'charges': 211, 'home': 212, 'inc': 213, 'jones': 214, 'according': 215, 'arrested': 216, 'm': 217, 'city': 218, 'charged': 219, 'house': 220, 'do': 221, 'business': 222, 'what': 223, 'county': 224, 'dow': 225, 'later': 226, 'next': 227, 'comment': 228, 'minister': 229, 'plans': 230, 'called': 231, 'like': 232, 'off': 233, '17': 234, 'decision': 235, 'security': 236, 'death': 237, 'get': 238, 'p': 239, 'then': 240, 'public': 241, 'judge': 242, 'war': 243, 'center': 244, 'attacks': 245, 'cases': 246, 'long': 247, 'attack': 248, 'you': 249, \"poor's\": 250, 'still': 251, 'end': 252, 'former': 253, 'months': 254, 'attorney': 255, 'authorities': 256, 'microsoft': 257, 'support': 258, 'six': 259, 'died': 260, 'hospital': 261, 'july': 262, 'cent': 263, 'issue': 264, 'al': 265, 'department': 266, 'without': 267, 'says': 268, 'world': 269, 'near': 270, 'saying': 271, 'should': 272, 'international': 273, 'ago': 274, 'days': 275, 'announced': 276, 'until': 277, '16': 278, 'used': 279, 'north': 280, '14': 281, 'think': 282, 'general': 283, 'filed': 284, 'industrial': 285, 'lost': 286, '32': 287, '21': 288, '19': 289, 'least': 290, '40': 291, 'call': 292, 'chairman': 293, 'n': 294, 'sunday': 295, 'around': 296, 'back': 297, 'dollar': 298, 'well': 299, 'administration': 300, 'laced': 301, '13': 302, 'among': 303, 'cancer': 304, 'released': 305, 'washington': 306, 'whether': 307, 'program': 308, 'closed': 309, 'justice': 310, 'evidence': 311, 'revenue': 312, 'executive': 313, 'same': 314, 'system': 315, 'prison': 316, 'came': 317, 'products': 318, 'analysts': 319, 'asked': 320, 'members': 321, 'march': 322, 'committee': 323, 'rate': 324, 'men': 325, 'top': 326, '27': 327, 'windows': 328, 'times': 329, 'secretary': 330, '2003': 331, 'investigation': 332, '28': 333, 'senate': 334, 'john': 335, 'director': 336, 'women': 337, 'plan': 338, '2001': 339, 'these': 340, 'work': 341, 'condition': 342, 'deal': 343, 'way': 344, 'information': 345, 'bill': 346, '26': 347, 'medical': 348, 'member': 349, 'man': 350, 'morning': 351, 'late': 352, 'part': 353, '2002': 354, 'number': 355, 'available': 356, 'april': 357, 'taking': 358, 'troops': 359, 'services': 360, 'make': 361, 'each': 362, 'afternoon': 363, 'dr': 364, 'going': 365, 'legal': 366, 'drug': 367, 'major': 368, 'meeting': 369, 'left': 370, 'corp': 371, 'conference': 372, 'officer': 373, 'family': 374, 'very': 375, 'nearly': 376, 'past': 377, 'earnings': 378, 'service': 379, 'free': 380, 'fire': 381, 'south': 382, 'e': 383, 'name': 384, 'taken': 385, 'august': 386, 'bank': 387, '22': 388, 'my': 389, 'know': 390, 'area': 391, 'council': 392, 'co': 393, 'software': 394, 'energy': 395, 'compared': 396, 'power': 397, '2000': 398, 'total': 399, 'less': 400, 'however': 401, 'open': 402, 'never': 403, 'seven': 404, 'risk': 405, 'church': 406, 'financial': 407, 'already': 408, '45': 409, 'much': 410, 'use': 411, 'trial': 412, '33': 413, 'intelligence': 414, '60': 415, 'hours': 416, 'hearing': 417, 'how': 418, 'received': 419, 'september': 420, 'largest': 421, 'children': 422, 'cut': 423, 'workers': 424, 'pay': 425, 'results': 426, 'far': 427, 'saturday': 428, 'canada': 429, 'weapons': 430, 'weeks': 431, 'known': 432, 'official': 433, 'estimated': 434, 'foreign': 435, 'yield': 436, 'face': 437, 'sent': 438, 'military': 439, 'fbi': 440, 'school': 441, 'help': 442, 'district': 443, 'held': 444, 'interest': 445, 'west': 446, 'run': 447, 'prime': 448, 'loss': 449, 'c': 450, 'even': 451, 'night': 452, 'took': 453, '34': 454, 'agreed': 455, 'life': 456, 'accused': 457, 'come': 458, 'growth': 459, 'terrorist': 460, 'want': 461, 'force': 462, 'son': 463, '24': 464, 'space': 465, 'increase': 466, 'increased': 467, 'nine': 468, 'must': 469, 'likely': 470, 'money': 471, 'behind': 472, 'making': 473, 'british': 474, 'every': 475, 'within': 476, 'see': 477, 'web': 478, 'air': 479, 'murder': 480, 'right': 481, '29': 482, 'commission': 483, '23': 484, 'yen': 485, 'broader': 486, 'gained': 487, 'half': 488, 'securities': 489, 'believe': 490, 'union': 491, 'bond': 492, 'having': 493, 'passed': 494, 'identified': 495, '42': 496, 'george': 497, 'congress': 498, 'phone': 499, 'woman': 500, 'management': 501, 'music': 502, 'sars': 503, 'd': 504, 'hit': 505, 'record': 506, 'data': 507, '31': 508, 'officers': 509, 'period': 510, 'network': 511, 'named': 512, 'won': 513, 'stores': 514, 'disease': 515, 'party': 516, 'place': 517, 'dropped': 518, '75': 519, 'others': 520, 'victims': 521, \"don't\": 522, 'began': 523, 'further': 524, 'operating': 525, 'tax': 526, 'peoplesoft': 527, 'defense': 528, 'global': 529, 'policy': 530, 'keep': 531, 'soldiers': 532, 'eight': 533, 'wife': 534, 'move': 535, 'study': 536, 'ibm': 537, 'given': 538, 'went': 539, 'leader': 540, '35': 541, 'profit': 542, 'systems': 543, '90': 544, 'set': 545, 'changes': 546, '<': 547, 'lawyer': 548, 'deaths': 549, 'away': 550, 'prosecutors': 551, 'r': 552, 'university': 553, 'lawyers': 554, '64': 555, 'latest': 556, 'white': 557, 'investigators': 558, 'trade': 559, 'ended': 560, 'too': 561, 'offer': 562, 'food': 563, 'agency': 564, 'tried': 565, 'along': 566, 'cost': 567, 'include': 568, 'ixic': 569, 'go': 570, 'give': 571, 'turned': 572, 'research': 573, 'spx': 574, 'san': 575, 'action': 576, 'helped': 577, 'water': 578, 'journal': 579, 'instead': 580, 'critical': 581, 'lower': 582, 'william': 583, 'team': 584, 'euro': 585, 'across': 586, 'bad': 587, \"we're\": 588, 'iraqi': 589, 'percentage': 590, 'gave': 591, 'democrats': 592, 'robert': 593, '65': 594, 'nuclear': 595, 'head': 596, 'become': 597, 'miles': 598, 'gov': 599, 'media': 600, 'industry': 601, 'although': 602, 'stocks': 603, 'need': 604, 'ordered': 605, 'change': 606, 'americans': 607, 'building': 608, 'employees': 609, 'faces': 610, 'street': 611, 'j': 612, 'budget': 613, 'lee': 614, 'computer': 615, 'vote': 616, 'using': 617, 'shot': 618, 'legislation': 619, 'possible': 620, 'remains': 621, 'investigating': 622, 'published': 623, 'intel': 624, 'big': 625, 'peterson': 626, 'senior': 627, 'mail': 628, 'following': 629, 'damage': 630, 'best': 631, 'again': 632, 'process': 633, '2004': 634, 'criminal': 635, 'china': 636, 'net': 637, 'passengers': 638, 'recent': 639, 'person': 640, 'chip': 641, 'does': 642, 'store': 643, 'michael': 644, 'patients': 645, 'appeals': 646, 'ruling': 647, 'trying': 648, 'wanted': 649, 'immediately': 650, 'issued': 651, 'press': 652, 'confirmed': 653, 'seen': 654, 'key': 655, 'injured': 656, '200': 657, 'supreme': 658, '39': 659, 'october': 660, 'efforts': 661, 'final': 662, 'experts': 663, 'development': 664, 'customers': 665, 'proposed': 666, 'showed': 667, 'doctors': 668, 'reached': 669, 'approved': 670, 'light': 671, 'vice': 672, 'role': 673, 'treatment': 674, '70': 675, 'full': 676, 'similar': 677, 'server': 678, 'point': 679, 'suspect': 680, 'heart': 681, 'slipped': 682, 'wall': 683, 'european': 684, 'local': 685, '38': 686, 'due': 687, 'own': 688, 'list': 689, 'started': 690, 'democratic': 691, 'oil': 692, 'child': 693, 'palm': 694, 'linux': 695, 'republicans': 696, 'biggest': 697, 'california': 698, 'economic': 699, 'leave': 700, 'operation': 701, 'internet': 702, 'oct': 703, 'appeared': 704, 'almost': 705, 'forced': 706, 'provide': 707, 'young': 708, 'single': 709, 'here': 710, 'good': 711, 'groups': 712, 'central': 713, 'raised': 714, 'visit': 715, 'nations': 716, 'act': 717, 'put': 718, '300': 719, 'students': 720, 'outside': 721, 'denied': 722, 'fighting': 723, '46': 724, 'guilty': 725, 'spokeswoman': 726, 'james': 727, 'staff': 728, 'large': 729, 'drugs': 730, 'fund': 731, 'stop': 732, 'recently': 733, \"doesn't\": 734, 'january': 735, 'baghdad': 736, '36': 737, 'level': 738, '54': 739, 'protect': 740, 'november': 741, 'me': 742, 'saddam': 743, 'suspects': 744, '95': 745, 'blue': 746, 'angeles': 747, 'rights': 748, 'highest': 749, 'care': 750, 'recall': 751, 'texas': 752, '62': 753, '41': 754, 'associated': 755, 'southern': 756, 'led': 757, 'car': 758, 'leaders': 759, 'agreement': 760, 'political': 761, 'expects': 762, 'powell': 763, 'paul': 764, 'release': 765, '53': 766, \"company's\": 767, 'declared': 768, 'above': 769, 'remain': 770, \"iraq's\": 771, 'town': 772, 'order': 773, 'low': 774, \"i'm\": 775, '47': 776, 'december': 777, 'described': 778, 'determine': 779, 'higher': 780, 'show': 781, 'mark': 782, 'appear': 783, 'republican': 784, 'association': 785, 'pounds': 786, 'price': 787, 'included': 788, 'competition': 789, 'signed': 790, 'wants': 791, 'strong': 792, 'contract': 793, \"nation's\": 794, 'credit': 795, 'launched': 796, 'rates': 797, '44': 798, 'view': 799, 'sept': 800, 'leading': 801, 'edition': 802, 'dead': 803, 'looking': 804, 'consumers': 805, 'corporate': 806, '49': 807, 'sign': 808, 'question': 809, 'related': 810, 'testing': 811, 'virginia': 812, 'manufacturing': 813, 'better': 814, 'documents': 815, '55': 816, 'living': 817, 'site': 818, 'thousands': 819, 'authority': 820, 'investment': 821, 'los': 822, 'continue': 823, 'kill': 824, 'though': 825, \"world's\": 826, 'current': 827, 'supply': 828, 'pleaded': 829, 'involved': 830, '—': 831, 'got': 832, 'candidate': 833, 'operations': 834, 'britain': 835, 'working': 836, 'schools': 837, 'considered': 838, 'refused': 839, 'suspected': 840, 'black': 841, 'access': 842, 'lawsuit': 843, 'little': 844, 'lot': 845, 'small': 846, '400': 847, 'letter': 848, 'decided': 849, '51': 850, 'whose': 851, 'afghanistan': 852, 'clear': 853, 'significant': 854, 'potential': 855, 'himself': 856, 'calls': 857, 'maker': 858, 'followed': 859, 'few': 860, 'longer': 861, 'levels': 862, 'yet': 863, 'shuttle': 864, 'measure': 865, 'america': 866, 'davis': 867, 'effort': 868, 'region': 869, 'double': 870, 'oracle': 871, 'mayor': 872, 'developed': 873, 'sites': 874, 'economy': 875, 'campaign': 876, 'lead': 877, 'killing': 878, 'source': 879, 'witness': 880, '1998': 881, 'jumped': 882, 'aircraft': 883, 'might': 884, 'terrorism': 885, \"year's\": 886, '1999': 887, 'gas': 888, 'tech': 889, 'private': 890, 'residents': 891, 'flight': 892, 'reach': 893, '68': 894, 'request': 895, 'appeal': 896, 'history': 897, 'sentenced': 898, 'infected': 899, 'settlement': 900, 'tom': 901, 'certain': 902, 'posted': 903, 'homes': 904, 'season': 905, 'excluding': 906, 'twice': 907, 'demand': 908, 'done': 909, 'wrong': 910, 'play': 911, 'continued': 912, 'needed': 913, 'country': 914, 'present': 915, 'democrat': 916, 'sale': 917, 'great': 918, 'story': 919, 'heard': 920, 'progress': 921, 'numbers': 922, 'often': 923, 'prices': 924, 'ms': 925, 'rr': 926, '77': 927, 'slightly': 928, 'additional': 929, 'road': 930, 'brain': 931, 'ruled': 932, 'spent': 933, 'common': 934, 'east': 935, 'david': 936, '48': 937, 'target': 938, 'users': 939, 'researchers': 940, 'rep': 941, 'reporters': 942, 'create': 943, 'jobs': 944, 'session': 945, 'nothing': 946, 'scheduled': 947, 'special': 948, 'really': 949, 'beginning': 950, 'real': 951, 'win': 952, 'huge': 953, 'inside': 954, 'smith': 955, 'emergency': 956, 'means': 957, '600': 958, 'television': 959, 'lines': 960, 'failure': 961, 'short': 962, 'fraud': 963, 'earned': 964, 'paid': 965, 'college': 966, 'bob': 967, 'agents': 968, 'japan': 969, 'fifth': 970, 'wounded': 971, 'sen': 972, 'planned': 973, 'singapore': 974, 'mother': 975, 'fully': 976, 'probably': 977, 'star': 978, 'provided': 979, 'enforcement': 980, 'suit': 981, 'row': 982, 'affected': 983, '94': 984, 'pressure': 985, 'election': 986, 'arrest': 987, 'features': 988, 'launch': 989, 'father': 990, 'grant': 991, 'sell': 992, 'ban': 993, 'institute': 994, 'assault': 995, 'charge': 996, 'terrorists': 997, 'body': 998, 'investors': 999, 'kept': 1000, 'community': 1001, 'serious': 1002, 'airport': 1003, 'start': 1004, 'russian': 1005, 'term': 1006, 'convicted': 1007, 'saudi': 1008, 'courts': 1009, 'airline': 1010, 'manager': 1011, 'spanish': 1012, 'blair': 1013, 'island': 1014, 'taiwan': 1015, 'client': 1016, 'costs': 1017, 'speech': 1018, 'tests': 1019, 'saw': 1020, 'illegal': 1021, 'income': 1022, 'series': 1023, 'forces': 1024, 'expectations': 1025, 'note': 1026, 'europe': 1027, 'course': 1028, 'french': 1029, 'married': 1030, 'husband': 1031, 'find': 1032, 'custody': 1033, 'believed': 1034, 'coming': 1035, 'shows': 1036, 'abortion': 1037, 'bomb': 1038, 'field': 1039, '89': 1040, \"state's\": 1041, '09': 1042, 'markets': 1043, 'findings': 1044, 'sun': 1045, 'army': 1046, 'served': 1047, 'conducted': 1048, 'ceo': 1049, 'happened': 1050, 'version': 1051, '250': 1052, 'blood': 1053, 'nelson': 1054, 'able': 1055, 'fight': 1056, 'park': 1057, 'deputy': 1058, 'florida': 1059, 'weekend': 1060, 'control': 1061, 'safety': 1062, 'let': 1063, 'anti': 1064, 'important': 1065, 'thomson': 1066, 'majority': 1067, 'bombings': 1068, 'computers': 1069, '76': 1070, 'hands': 1071, 'below': 1072, 'frank': 1073, 'approval': 1074, 'suicide': 1075, 'gains': 1076, 'future': 1077, 'february': 1078, 'fort': 1079, 'commerce': 1080, 'survey': 1081, 'countries': 1082, 'contributed': 1083, 'governor': 1084, 'anything': 1085, \"''\": 1086, 'am': 1087, 'revenues': 1088, 'station': 1089, 'makes': 1090, 'coast': 1091, 'line': 1092, \"didn't\": 1093, 'kennedy': 1094, 'stand': 1095, 'claims': 1096, 'basis': 1097, 'non': 1098, 'pass': 1099, 'internal': 1100, 'beach': 1101, 'stewart': 1102, 'separate': 1103, 'reuters': 1104, 'met': 1105, 'popular': 1106, 'active': 1107, 'customer': 1108, '92': 1109, 'dji': 1110, 'overnight': 1111, 'chemical': 1112, '67': 1113, 'qaeda': 1114, 'annual': 1115, 'biological': 1116, 'running': 1117, 'muslim': 1118, 'opened': 1119, 'worth': 1120, 'previous': 1121, 'equipment': 1122, '57': 1123, 'h': 1124, '56': 1125, 'amendment': 1126, 'broad': 1127, '52': 1128, 'clinton': 1129, 'hundreds': 1130, 'options': 1131, 'atlanta': 1132, 'returned': 1133, 'job': 1134, 'reports': 1135, '37': 1136, 'pending': 1137, 'prior': 1138, 'thomas': 1139, 'pentagon': 1140, 'de': 1141, 'devices': 1142, 'send': 1143, 'human': 1144, 'iraqis': 1145, 'sexual': 1146, 'boston': 1147, 'ship': 1148, 'losing': 1149, '63': 1150, 'severe': 1151, 'ground': 1152, 'scientists': 1153, 'buy': 1154, 'bloomberg': 1155, 'rise': 1156, 'treated': 1157, 'needs': 1158, 'japanese': 1159, 'justices': 1160, 'things': 1161, 'northern': 1162, 'worldwide': 1163, 'forecast': 1164, 'russia': 1165, '61': 1166, 'eu': 1167, 'allegedly': 1168, 'radio': 1169, 'position': 1170, 'seeking': 1171, '02': 1172, 'personal': 1173, 'protection': 1174, 'difficult': 1175, 'accident': 1176, 'shareholders': 1177, 'boy': 1178, 'post': 1179, 'existing': 1180, 'peter': 1181, 'jackson': 1182, 'germany': 1183, 'moved': 1184, 'programs': 1185, 'sought': 1186, 'prepared': 1187, 'bay': 1188, 'nor': 1189, 'spending': 1190, 'friends': 1191, 'arrived': 1192, 'adding': 1193, 'comes': 1194, '99': 1195, 'agencies': 1196, 'quattrone': 1197, 'elections': 1198, 'ixic>': 1199, '78': 1200, 'london': 1201, 'online': 1202, '72': 1203, 'paper': 1204, '58': 1205, 'search': 1206, 'book': 1207, 'activity': 1208, 'look': 1209, 'headed': 1210, 'cell': 1211, 'bid': 1212, 'review': 1213, 'defence': 1214, 'remained': 1215, 'apartment': 1216, 'korea': 1217, 'tv': 1218, 'opposition': 1219, 'assets': 1220, 'owned': 1221, 'richard': 1222, 'sex': 1223, 'bus': 1224, 'plane': 1225, 'france': 1226, 'once': 1227, 'unemployment': 1228, 'became': 1229, 'smoking': 1230, '43': 1231, 'medicine': 1232, 'truck': 1233, 'ministry': 1234, 'disaster': 1235, 'test': 1236, 'download': 1237, 'currently': 1238, 'problem': 1239, 'dotson': 1240, 'lives': 1241, 'intended': 1242, 'block': 1243, '80': 1244, 'unit': 1245, 'age': 1246, 'parts': 1247, 'despite': 1248, 'example': 1249, 'parents': 1250, 'civil': 1251, 'pc': 1252, 'disclosed': 1253, 'address': 1254, 'actions': 1255, 'pennsylvania': 1256, 'commercial': 1257, 'selling': 1258, 'areas': 1259, 'talks': 1260, 'dismissed': 1261, 'ftc': 1262, 'nbc': 1263, 'salary': 1264, 'trust': 1265, 'initial': 1266, 'details': 1267, 'surveyed': 1268, 'meanwhile': 1269, 'centers': 1270, 'aug': 1271, 'columbia': 1272, 'us30yt': 1273, 'southwest': 1274, 'effect': 1275, 'wal': 1276, 'mart': 1277, 'victim': 1278, 'attended': 1279, 'cable': 1280, 'arrests': 1281, 'society': 1282, 'threat': 1283, 'main': 1284, 'nation': 1285, 'division': 1286, '01': 1287, 'knew': 1288, 'finding': 1289, 'retail': 1290, 'climbed': 1291, 'wrote': 1292, 'daughter': 1293, '98': 1294, 'finished': 1295, 'screen': 1296, 'allegations': 1297, 'command': 1298, 'brian': 1299, 'records': 1300, 'marketing': 1301, 'struck': 1302, 'rebels': 1303, 'recovery': 1304, 'box': 1305, 'increases': 1306, 'connection': 1307, 'associates': 1308, 'funds': 1309, 'worked': 1310, 'fourth': 1311, '83': 1312, 'fears': 1313, 'com': 1314, 'argued': 1315, 'bureau': 1316, 'problems': 1317, 'hospitalized': 1318, 'lived': 1319, 'technologies': 1320, 'bail': 1321, 'planet': 1322, 'combat': 1323, 'interview': 1324, 'discuss': 1325, 'cities': 1326, 'cross': 1327, 'reading': 1328, 'whom': 1329, 'rising': 1330, 'date': 1331, 'rushed': 1332, 'ex': 1333, 'patent': 1334, 'attempt': 1335, 'consumer': 1336, 'battle': 1337, 'dozen': 1338, \"o'connor\": 1339, 'girl': 1340, 'sold': 1341, 'improve': 1342, 'sir': 1343, 'performance': 1344, 'always': 1345, 'decline': 1346, 'shown': 1347, 'crime': 1348, 'plus': 1349, \"he's\": 1350, 'student': 1351, 'limbaugh': 1352, '91': 1353, 'hour': 1354, 'colorado': 1355, 'matter': 1356, 'hitting': 1357, 'grew': 1358, 'river': 1359, 'population': 1360, 'humans': 1361, 'presidential': 1362, 'claimed': 1363, 'especially': 1364, 'howard': 1365, 'considering': 1366, 'fcc': 1367, 'previously': 1368, 'reduce': 1369, 'alleged': 1370, 'firm': 1371, 'coach': 1372, 'families': 1373, 'none': 1374, 'red': 1375, 'addition': 1376, 'directors': 1377, 'form': 1378, 'sec': 1379, 'fact': 1380, 'capital': 1381, 'themselves': 1382, 'exposed': 1383, 'representatives': 1384, 'sentence': 1385, 'feature': 1386, 'accounting': 1387, 'neither': 1388, 'film': 1389, 'greater': 1390, 'revised': 1391, 'canadian': 1392, 'inquiry': 1393, 'issues': 1394, 'mass': 1395, 'sessions': 1396, 'breast': 1397, 'processor': 1398, 'applications': 1399, 'opinion': 1400, 'joint': 1401, 'bit': 1402, 'nasa': 1403, 'possibility': 1404, 'bound': 1405, 'conditions': 1406, 'rev': 1407, 'ministers': 1408, 'vivendi': 1409, 'loan': 1410, 'subject': 1411, 'fear': 1412, 'restaurants': 1413, 'western': 1414, 'telemarketing': 1415, '73': 1416, 'midday': 1417, 'word': 1418, 'value': 1419, 'cleared': 1420, 'caused': 1421, 'memory': 1422, 'soon': 1423, 'border': 1424, 'event': 1425, 'experience': 1426, 'giving': 1427, 'stage': 1428, 'includes': 1429, 'vehicle': 1430, 'scott': 1431, 'spoke': 1432, 'amount': 1433, 'cuts': 1434, 'edward': 1435, 'fast': 1436, 'thing': 1437, 'africa': 1438, 'serving': 1439, 'largely': 1440, 'sandra': 1441, 'assistant': 1442, 'material': 1443, 'jim': 1444, 'finance': 1445, 'civilian': 1446, 'gain': 1447, 'indictment': 1448, 'amid': 1449, 'targets': 1450, 'together': 1451, 'supporters': 1452, 'rejected': 1453, 'complaint': 1454, 'begin': 1455, 'fewer': 1456, 'votes': 1457, 'brings': 1458, '88': 1459, 'surgery': 1460, 'proposal': 1461, 'cargo': 1462, 'procedure': 1463, 'sending': 1464, 'volume': 1465, 'ever': 1466, 'profile': 1467, 'gmt': 1468, 'swiss': 1469, 'franc': 1470, 'organizations': 1471, 'safe': 1472, 'designed': 1473, 'getting': 1474, 'cited': 1475, 'jury': 1476, 'green': 1477, 'penalty': 1478, 'seek': 1479, 'guidelines': 1480, 'elsewhere': 1481, 'application': 1482, 'meet': 1483, '74': 1484, 'mid': 1485, 'result': 1486, 'margin': 1487, 'uk': 1488, '85': 1489, 'warned': 1490, 'airlines': 1491, 'port': 1492, 'predicted': 1493, 'return': 1494, 'acting': 1495, 'proposals': 1496, 'w': 1497, 'waiting': 1498, 'kelly': 1499, 'peace': 1500, '71': 1501, 'bombing': 1502, 'alabama': 1503, 'servers': 1504, 'stable': 1505, 'warrant': 1506, '800': 1507, 'hussein': 1508, 'illinois': 1509, 'improvement': 1510, 'ran': 1511, 'threatening': 1512, 'st': 1513, 'vaccine': 1514, 'manhattan': 1515, 'constitution': 1516, 'substantial': 1517, 'intends': 1518, 'leadership': 1519, 'shut': 1520, 'interim': 1521, '1996': 1522, \"microsoft's\": 1523, 'virus': 1524, 'joe': 1525, 'catholic': 1526, 'admitted': 1527, 'probable': 1528, 'continuing': 1529, 'guard': 1530, 'appointed': 1531, 'crash': 1532, 'storm': 1533, 'sea': 1534, 'carrying': 1535, 'bodies': 1536, 'allowed': 1537, 'toll': 1538, 'criticism': 1539, 'regiment': 1540, 'transaction': 1541, '81': 1542, 'growing': 1543, 'cash': 1544, \"bush's\": 1545, 'cannot': 1546, 'conspiracy': 1547, 'live': 1548, 'losses': 1549, 'spx>': 1550, 'representing': 1551, 'mary': 1552, 'allow': 1553, 'document': 1554, 'lowest': 1555, \"france's\": 1556, 'advanced': 1557, 'pick': 1558, 'soldier': 1559, 'threatened': 1560, 'looked': 1561, 'medicare': 1562, 'poll': 1563, 'clearly': 1564, 'fired': 1565, 'attorneys': 1566, 'figures': 1567, 'palestinian': 1568, 'sources': 1569, 'born': 1570, 'carry': 1571, '66': 1572, 'impact': 1573, 'stayed': 1574, 'hold': 1575, 'expect': 1576, 'construction': 1577, 'dna': 1578, 'confirm': 1579, 'voters': 1580, 'charles': 1581, 'academy': 1582, 'shed': 1583, 'speed': 1584, 'necessary': 1585, 'helping': 1586, 'rumsfeld': 1587, 'toronto': 1588, 'confident': 1589, 'houston': 1590, 'advised': 1591, 'noted': 1592, 'andrew': 1593, 'primary': 1594, 'claim': 1595, 'removed': 1596, 'francisco': 1597, \"that's\": 1598, 'bryant': 1599, 'training': 1600, 're': 1601, 'seriously': 1602, 'senator': 1603, 'testified': 1604, 'establish': 1605, 'toward': 1606, 'coverage': 1607, 'attempting': 1608, 'province': 1609, 'user': 1610, 'goes': 1611, 'graham': 1612, 'massachusetts': 1613, 'occurred': 1614, 'heavy': 1615, 'estimate': 1616, 'ali': 1617, '–': 1618, 'nato': 1619, 'sco': 1620, 'hacker': 1621, 'fed': 1622, 'selected': 1623, 'semiconductor': 1624, 'moore': 1625, 'abraham': 1626, 'michigan': 1627, 'degree': 1628, 'develop': 1629, 'joined': 1630, \"won't\": 1631, \"wouldn't\": 1632, 'enough': 1633, 'wireless': 1634, 'homeland': 1635, 'extremely': 1636, 'requires': 1637, 'dec': 1638, 'smoke': 1639, 'pages': 1640, 'feel': 1641, 'airways': 1642, 'card': 1643, 'concluded': 1644, \"attorney's\": 1645, 'emc': 1646, 'focus': 1647, 'pursuing': 1648, 'fellow': 1649, 'project': 1650, 'phoenix': 1651, 'alone': 1652, 'depot': 1653, 'episcopal': 1654, 'reporting': 1655, 'mars': 1656, 'agent': 1657, 'express': 1658, 'symptoms': 1659, 'smaller': 1660, 'managing': 1661, 'crew': 1662, 'statements': 1663, 'aids': 1664, 'archdiocese': 1665, 'drive': 1666, 'analyst': 1667, '700': 1668, 'electronic': 1669, 'teacher': 1670, 'destroyed': 1671, 'positive': 1672, 'except': 1673, 'amd': 1674, 'agreements': 1675, 'resignation': 1676, 'protesters': 1677, 'fleet': 1678, 'fly': 1679, 'talked': 1680, 'assigned': 1681, 'taxpayers': 1682, 'presence': 1683, 'accounts': 1684, 'daily': 1685, 'annually': 1686, 'mike': 1687, 'matrix': 1688, 'complete': 1689, 'individuals': 1690, 'game': 1691, 'stephen': 1692, 'affairs': 1693, 'representative': 1694, 'immediate': 1695, 'samudra': 1696, 'las': 1697, 'vegas': 1698, 'makers': 1699, 'kong': 1700, 'ftse': 1701, 'kansas': 1702, 'chose': 1703, 'pickup': 1704, 'exercise': 1705, 'limited': 1706, 'compound': 1707, 'allowing': 1708, 'answer': 1709, 'raising': 1710, 'thank': 1711, 'benefit': 1712, 'delegation': 1713, 'winning': 1714, 'writer': 1715, 'editor': 1716, 'attackers': 1717, 'warner': 1718, 'approximately': 1719, 'banned': 1720, 'weight': 1721, 'treasury': 1722, 'spreads': 1723, 'middle': 1724, 'items': 1725, 'restaurant': 1726, 'diego': 1727, \"government's\": 1728, 'announce': 1729, 'responsibility': 1730, 'hospitals': 1731, 'product': 1732, 'front': 1733, 'currency': 1734, '06': 1735, 'backed': 1736, 'talk': 1737, 'bremer': 1738, '84': 1739, 'failed': 1740, 'beat': 1741, 'campus': 1742, 'strike': 1743, 'turkey': 1744, 'expansion': 1745, 'bring': 1746, 'penalties': 1747, 'missing': 1748, 'round': 1749, 'calif': 1750, 'distribution': 1751, 'powers': 1752, '130': 1753, 'jan': 1754, 'broke': 1755, 'colleagues': 1756, 'cisco': 1757, 'inspectors': 1758, 'o': 1759, 'democracy': 1760, 'copies': 1761, 'rather': 1762, 'personnel': 1763, 'identify': 1764, 'scandal': 1765, 'organization': 1766, 'barrels': 1767, 'side': 1768, 'cia': 1769, 'ohio': 1770, 'raise': 1771, 'hard': 1772, 'granted': 1773, 'marriage': 1774, 'courtroom': 1775, '96': 1776, 'machines': 1777, 'shooting': 1778, 'iran': 1779, 'eased': 1780, 'sense': 1781, 'confidence': 1782, 'nyse': 1783, 'lt': 1784, 'believes': 1785, 'songs': 1786, 'ensure': 1787, 'loaded': 1788, 'incident': 1789, 'scene': 1790, 'picture': 1791, 'error': 1792, '86': 1793, 'blackout': 1794, 'barely': 1795, 'suggested': 1796, 'mission': 1797, 'rescue': 1798, 'nationally': 1799, 'vehicles': 1800, 'laws': 1801, 'file': 1802, 'northeast': 1803, 'panel': 1804, 'forward': 1805, 'jack': 1806, 'announcement': 1807, 'drove': 1808, 'estimates': 1809, 'placed': 1810, 'spam': 1811, 'compensation': 1812, 'blamed': 1813, 'constitutional': 1814, 'killer': 1815, 'arthur': 1816, 'royal': 1817, 'reasons': 1818, 'highly': 1819, 'dennehy': 1820, '114': 1821, 'fine': 1822, 'communications': 1823, 'ninth': 1824, 'analysis': 1825, 'settle': 1826, 'amrozi': 1827, 'roman': 1828, 'overall': 1829, 'citizens': 1830, 'italian': 1831, 'base': 1832, '59': 1833, 'involvement': 1834, 'aimed': 1835, 'banks': 1836, '04': 1837, 'selenski': 1838, 'bonds': 1839, 'names': 1840, 'versions': 1841, 'african': 1842, 'uganda': 1843, 'oxford': 1844, 'miami': 1845, 'everything': 1846, 'shift': 1847, 'lendingtree': 1848, 'alcohol': 1849, 'warnings': 1850, 'stronger': 1851, 'holding': 1852, 'status': 1853, 'edged': 1854, 'carried': 1855, 'la': 1856, '3rd': 1857, 'concerns': 1858, 'centre': 1859, 'subscribers': 1860, 'ability': 1861, 'spitzer': 1862, 'cavalry': 1863, 'jail': 1864, 'utility': 1865, 'suffering': 1866, 'completely': 1867, 'g': 1868, '93': 1869, 'decade': 1870, 'hurricane': 1871, '05': 1872, 'versus': 1873, 'schwarzenegger': 1874, 'expanded': 1875, 'carolina': 1876, 'newspaper': 1877, 'seized': 1878, 'prosecutor': 1879, 'chicago': 1880, 'notice': 1881, 'flu': 1882, 'connecticut': 1883, \"britain's\": 1884, \"germany's\": 1885, 'class': 1886, 'receive': 1887, 'controlled': 1888, 'doing': 1889, 'your': 1890, 'edwards': 1891, 'ken': 1892, 'opponents': 1893, 'transferred': 1894, 'changed': 1895, 'gun': 1896, 'track': 1897, 'demanding': 1898, 'savings': 1899, \"court's\": 1900, 'simon': 1901, \"there's\": 1902, 'entire': 1903, 'sgt': 1904, \"tuesday's\": 1905, 'burned': 1906, 'attend': 1907, 'relatives': 1908, 'environment': 1909, 'thought': 1910, 'ask': 1911, '03': 1912, 'causing': 1913, 'revealed': 1914, 'mount': 1915, 'diplomatic': 1916, 'rules': 1917, 'maine': 1918, 'ji': 1919, '69': 1920, 'mosque': 1921, 'jr': 1922, 'someone': 1923, 'dean': 1924, 'possibly': 1925, 'fish': 1926, 'type': 1927, 'die': 1928, 'purchase': 1929, 'conventional': 1930, 'works': 1931, 'duty': 1932, 'kerry': 1933, '>': 1934, 'muhammad': 1935, 'daniel': 1936, \"we've\": 1937, 'implement': 1938, '87': 1939, 'bankruptcy': 1940, 'replace': 1941, 'wing': 1942, 'vulnerability': 1943, 'affects': 1944, 'crucial': 1945, 'commander': 1946, 'verdict': 1947, 'voting': 1948, 'delivery': 1949, 'output': 1950, 'placebo': 1951, 'ford': 1952, 'enterprise': 1953, 'adviser': 1954, 'brought': 1955, 'williams': 1956, 'malvo': 1957, 'transfer': 1958, 'delivered': 1959, 'falling': 1960, 'acres': 1961, 'concern': 1962, 'dipped': 1963, 'apple': 1964, 'domestic': 1965, 'abuse': 1966, '82': 1967, 'listed': 1968, 'circuit': 1969, 'spencer': 1970, 'understand': 1971, 'aid': 1972, 'places': 1973, 'defend': 1974, 'accounted': 1975, 'regulatory': 1976, 'represented': 1977, 'exploit': 1978, 'reform': 1979, 'response': 1980, 'leaving': 1981, 'wire': 1982, 'retailers': 1983, 'tampa': 1984, 'douglas': 1985, 'roughly': 1986, 'agriculture': 1987, 'independent': 1988, 'cbs': 1989, 'require': 1990, 'closing': 1991, 'traffic': 1992, 'bin': 1993, 'resolution': 1994, 'brother': 1995, 'different': 1996, 'choice': 1997, 'jets': 1998, '2006': 1999, 'linked': 2000, 'quoted': 2001, 'advice': 2002, 'blast': 2003, 'pregnant': 2004, 'threats': 2005, 'citing': 2006, 'hopes': 2007, 'robbery': 2008, 'employee': 2009, 'storage': 2010, 'room': 2011, 'words': 2012, 'anglican': 2013, 'manufacturers': 2014, 'connected': 2015, 'broadband': 2016, 'female': 2017, 'clark': 2018, 'combination': 2019, 'fiscal': 2020, 'priests': 2021, 'parking': 2022, 'tool': 2023, 'video': 2024, \"ain't\": 2025, 'sixth': 2026, 'philippines': 2027, 'goldman': 2028, 'suspended': 2029, 'books': 2030, 'millions': 2031, 'joseph': 2032, 'measures': 2033, 'ferry': 2034, '1994': 2035, 'risen': 2036, 'probe': 2037, 'gathered': 2038, 'equivalent': 2039, 'performed': 2040, 'fla': 2041, 'offered': 2042, 'german': 2043, 'mean': 2044, 'debt': 2045, 'planes': 2046, 'created': 2047, 'continues': 2048, 'sony': 2049, 'figure': 2050, '125': 2051, 'accepted': 2052, 'tape': 2053, 'speaking': 2054, 'license': 2055, 'watch': 2056, \"harrison's\": 2057, 'escaped': 2058, 'don': 2059, 'originally': 2060, 'hunter': 2061, 'stopped': 2062, 'reportedly': 2063, 'policies': 2064, 'worst': 2065, 'expand': 2066, '1992': 2067, 'fresh': 2068, 'asian': 2069, 'formally': 2070, 'producer': 2071, 'revolutions': 2072, 'moving': 2073, 'asia': 2074, 'latin': 2075, '1995': 2076, 'nationwide': 2077, 'takes': 2078, 'anderson': 2079, 'either': 2080, 'crossing': 2081, \"mother's\": 2082, 'flags': 2083, 'entered': 2084, 'stormed': 2085, 'remaining': 2086, 'targeted': 2087, 'angry': 2088, 'harold': 2089, 'threatens': 2090, 'aware': 2091, 'cac': 2092, 'dax': 2093, 'guys': 2094, 'confederate': 2095, 'challenge': 2096, 'provision': 2097, 'built': 2098, \"nasa's\": 2099, 'un': 2100, 'vaccination': 2101, 'option': 2102, 'rallied': 2103, 'traditional': 2104, 'christian': 2105, 'lynch': 2106, 'written': 2107, 'jordan': 2108, 'weekly': 2109, 'conservatives': 2110, 'aol': 2111, 'calling': 2112, 'respond': 2113, 'militants': 2114, 'owns': 2115, 'specific': 2116, 'gaza': 2117, 'avoid': 2118, 'stolen': 2119, 'puts': 2120, 'try': 2121, 'takeover': 2122, 'hope': 2123, 'multi': 2124, 'account': 2125, 'combined': 2126, 'simply': 2127, 'stations': 2128, 'sat': 2129, 'buildings': 2130, 'conduct': 2131, 'registered': 2132, 'overweight': 2133, \"hussein's\": 2134, 'resigned': 2135, 'destruction': 2136, 'hailed': 2137, 'signatures': 2138, 'committed': 2139, 'glass': 2140, 'secret': 2141, 'opposed': 2142, 'rebel': 2143, 'production': 2144, 'package': 2145, 'spain': 2146, 'platform': 2147, 'picked': 2148, 'funding': 2149, 'quickly': 2150, 'phil': 2151, 'apply': 2152, \"judge's\": 2153, \"couldn't\": 2154, 'malaysia': 2155, 'environmental': 2156, 'labor': 2157, 'abandoned': 2158, 'wildfires': 2159, 'talking': 2160, 'decisions': 2161, 'solutions': 2162, 'referring': 2163, 'mta': 2164, 'upheld': 2165, 'reason': 2166, 'abbas': 2167, 'armed': 2168, 'hot': 2169, 'reconstruction': 2170, 'maryland': 2171, '900': 2172, 'self': 2173, 'land': 2174, 'difference': 2175, 'mrs': 2176, 'speak': 2177, 'georgia': 2178, 'successful': 2179, 'acknowledged': 2180, 'files': 2181, \"they're\": 2182, 'assembly': 2183, 'couple': 2184, 'rice': 2185, 'bringing': 2186, 'resources': 2187, 'massive': 2188, 'style': 2189, 'akbar': 2190, 'original': 2191, 'assistance': 2192, 'halla': 2193, 'fallen': 2194, 'chance': 2195, 'battling': 2196, 'chain': 2197, 'becoming': 2198, 'warning': 2199, 'highs': 2200, 'transfers': 2201, 'turn': 2202, 'shortly': 2203, 'tonight': 2204, 'individual': 2205, 'parent': 2206, \"oracle's\": 2207, 'counts': 2208, 'terms': 2209, 'managers': 2210, 'chains': 2211, 'contributions': 2212, 'injunction': 2213, 'hoped': 2214, 'tuition': 2215, 'russell': 2216, 'rehnquist': 2217, 'investigated': 2218, 'ending': 2219, '150': 2220, 'widely': 2221, 'damages': 2222, \"mcdonald's\": 2223, 'hear': 2224, 'standards': 2225, 'anonymity': 2226, 'pro': 2227, 'appears': 2228, 'discovered': 2229, 'located': 2230, 'forum': 2231, 'operators': 2232, 'cause': 2233, 'camp': 2234, 'false': 2235, 'flew': 2236, 'loser': 2237, \"nyse's\": 2238, 'remove': 2239, 'searched': 2240, 'hp': 2241, 'christmas': 2242, 'spread': 2243, \"can't\": 2244, 'consecutive': 2245, 'vast': 2246, 'involving': 2247, 'detained': 2248, '08': 2249, 'task': 2250, 'hewlett': 2251, 'packard': 2252, 'blame': 2253, 'deliver': 2254, 'canyon': 2255, 'foot': 2256, 'regulators': 2257, 'components': 2258, 'goals': 2259, 'nov': 2260, 'hubbard': 2261, 'governments': 2262, 'immigrants': 2263, 'spot': 2264, 'worm': 2265, 'strangled': 2266, 'acted': 2267, 'f': 2268, 't': 2269, 'proceedings': 2270, 'tested': 2271, 'why': 2272, 'imminent': 2273, 'founded': 2274, 'halt': 2275, 'coca': 2276, 'cola': 2277, 'enjoyed': 2278, 'legato': 2279, 'advertising': 2280, 'driven': 2281, 'profits': 2282, 'generally': 2283, 'beating': 2284, 'axelrod': 2285, 'violated': 2286, 'animals': 2287, 'science': 2288, 'berlusconi': 2289, 'games': 2290, 'israel': 2291, 'lots': 2292, 'hicks': 2293, 'rural': 2294, 'mortgage': 2295, 'acute': 2296, 'respiratory': 2297, 'dan': 2298, \"'s\": 2299, 'letters': 2300, 'somalia': 2301, 'travel': 2302, 'innocent': 2303, 'indonesia': 2304, 'thailand': 2305, 'farmers': 2306, 'apache': 2307, 'foundation': 2308, 'remarks': 2309, 'movie': 2310, 'legitimate': 2311, 'counsel': 2312, 'apologies': 2313, 'smokers': 2314, 'inappropriate': 2315, 'focused': 2316, 'harry': 2317, 'maria': 2318, 'tobacco': 2319, 'championship': 2320, 'obesity': 2321, 'physical': 2322, 'drinking': 2323, 'tampering': 2324, 'wave': 2325, 'technical': 2326, 'ultimately': 2327, '1993': 2328, 'hall': 2329, 'master': 2330, 'nearby': 2331, 'procedures': 2332, 'returning': 2333, 'sanctions': 2334, '11th': 2335, 'priced': 2336, 'flying': 2337, 'armored': 2338, 'carson': 2339, 'rambus': 2340, 'rock': 2341, 'convenience': 2342, 'standing': 2343, 'sacramento': 2344, 'complicated': 2345, 'significantly': 2346, 'nascar': 2347, 'pictures': 2348, 'advance': 2349, 'database': 2350, 'certify': 2351, 'opening': 2352, 'dissented': 2353, 'dragged': 2354, 'ranked': 2355, 'hong': 2356, 'trucks': 2357, 'occur': 2358, 'becomes': 2359, 'wilson': 2360, 'philippine': 2361, 'writes': 2362, 'engage': 2363, '120': 2364, 'played': 2365, 'requests': 2366, \"city's\": 2367, \"hasn't\": 2368, 'operate': 2369, 'commit': 2370, 'mostly': 2371, 'foods': 2372, \"president's\": 2373, 'setting': 2374, 'telephone': 2375, 'garner': 2376, 'deployed': 2377, 'feet': 2378, 'tim': 2379, 'birth': 2380, \"department's\": 2381, 'charitable': 2382, 'unless': 2383, 'spring': 2384, 'expecting': 2385, \"i've\": 2386, 'doctor': 2387, 'behaviour': 2388, 'privately': 2389, 'ltd': 2390, 'import': 2391, 'israeli': 2392, 'debate': 2393, 'violations': 2394, 'taylor': 2395, 'fines': 2396, 'hotel': 2397, 'congressional': 2398, 'completed': 2399, 'rule': 2400, 'eric': 2401, \"haven't\": 2402, 'expressed': 2403, 'indicates': 2404, 'identity': 2405, 'firefighters': 2406, 'advantage': 2407, 'gay': 2408, 'organized': 2409, 'morgan': 2410, 'companion': 2411, 'campbell': 2412, 'crisis': 2413, 'operatives': 2414, 'practice': 2415, 'aged': 2416, 'pushed': 2417, '118': 2418, 'tribal': 2419, 'poland': 2420, 'grade': 2421, 'supported': 2422, 'initiative': 2423, 'bought': 2424, 'developing': 2425, 'disagree': 2426, 'engine': 2427, 'acquisition': 2428, 'specifically': 2429, 'benchmark': 2430, 'practices': 2431, 'yes': 2432, 'soared': 2433, 'display': 2434, 'failing': 2435, \"i'd\": 2436, 'cuomo': 2437, 'feeling': 2438, 'antivirus': 2439, 'andy': 2440, \"intel's\": 2441, 'teen': 2442, 'teens': 2443, 'rest': 2444, 'updated': 2445, 'natural': 2446, 'plant': 2447, 'usual': 2448, 'protocol': 2449, 'league': 2450, 'ben': 2451, 'testimony': 2452, 'poor': 2453, 'flat': 2454, 'affect': 2455, 'religion': 2456, 'smile': 2457, 'presented': 2458, 'inspector': 2459, 'owners': 2460, 'indicated': 2461, 'lady': 2462, 'fires': 2463, 'boeing': 2464, 'ill': 2465, 'desperate': 2466, 'floor': 2467, 'questioned': 2468, 'worker': 2469, 'ie': 2470, 'prostate': 2471, 'legislature': 2472, 'read': 2473, 'seventh': 2474, 'jordanian': 2475, 'counties': 2476, 'contest': 2477, 'facilities': 2478, 'cap': 2479, 'invited': 2480, 'ii': 2481, 'electronics': 2482, 'unaware': 2483, 'merchandising': 2484, 'maximum': 2485, 'mph': 2486, 'produced': 2487, 'voluntarily': 2488, 'message': 2489, 'jurors': 2490, 'memorial': 2491, 'minus': 2492, 'entertainment': 2493, 'ge': 2494, 'stockholders': 2495, 'imposed': 2496, 'explosives': 2497, 'tomorrow': 2498, 'monument': 2499, 'king': 2500, 'complex': 2501, 'faith': 2502, 'split': 2503, 'steel': 2504, \"o'neill\": 2505, \"wasn't\": 2506, 'slow': 2507, 'scalia': 2508, 'momentum': 2509, 'build': 2510, 'pointed': 2511, 'repeatedly': 2512, 'accusations': 2513, 'discussed': 2514, 'clinic': 2515, 'pakistan': 2516, 'generation': 2517, 'hill': 2518, 'fit': 2519, 'strategy': 2520, 'decades': 2521, 'perry': 2522, 'brands': 2523, 'branch': 2524, 'clarence': 2525, 'providing': 2526, 'obese': 2527, 'crashed': 2528, 'infrastructure': 2529, 'arabia': 2530, 'improved': 2531, 'heights': 2532, 'officially': 2533, 'correct': 2534, 'bonus': 2535, 'anyone': 2536, 'laden': 2537, 'train': 2538, 'walked': 2539, 'pretty': 2540, 'scope': 2541, 'cruz': 2542, 'starting': 2543, 'centered': 2544, 'flow': 2545, 'crossed': 2546, 'rain': 2547, 'external': 2548, 'dementia': 2549, 'therapy': 2550, 'electric': 2551, \"peoplesoft's\": 2552, 'cuban': 2553, 'expensive': 2554, 'fix': 2555, 'futures': 2556, 'situation': 2557, 'slashed': 2558, 'straight': 2559, 'buyers': 2560, 'anticipated': 2561, 'content': 2562, 'gathering': 2563, 'gather': 2564, 'olds': 2565, \"o'brien\": 2566, 'hostile': 2567, 'consider': 2568, 'sia': 2569, 'defeated': 2570, 'sleep': 2571, 'tokyo': 2572, 'claiming': 2573, 'empire': 2574, 'decides': 2575, 'crown': 2576, 'section': 2577, 'giant': 2578, 'bids': 2579, 'follows': 2580, 'flights': 2581, 'evans': 2582, \"kohl's\": 2583, 'posting': 2584, 'passage': 2585, 'resulted': 2586, 'governing': 2587, 'covered': 2588, 'lying': 2589, 'god': 2590, 'www': 2591, 'patient': 2592, 'syndrome': 2593, 'virtually': 2594, 'julie': 2595, 'manage': 2596, 'negotiations': 2597, 'lupas': 2598, 'dealers': 2599, 'familiar': 2600, 'update': 2601, 'surprise': 2602, 'mohammed': 2603, \"agency's\": 2604, 'pleased': 2605, 'detected': 2606, 'harris': 2607, 'injuries': 2608, '79': 2609, 'barometer': 2610, 'players': 2611, 'speaker': 2612, 'transportation': 2613, 'studies': 2614, \"sheriff's\": 2615, 'allows': 2616, 'australian': 2617, 'passports': 2618, 'prevention': 2619, 'peacekeepers': 2620, 'ethnic': 2621, 'catch': 2622, 'caught': 2623, 'discussions': 2624, 'estrogen': 2625, 'atrociously': 2626, 'mile': 2627, 'encourage': 2628, 'exploded': 2629, 'labour': 2630, 'chips': 2631, 'tropical': 2632, 'republic': 2633, 'ceremony': 2634, 'argue': 2635, 'cholesterol': 2636, 'apparently': 2637, 'murphy': 2638, 'semen': 2639, 'chechen': 2640, 'outbreak': 2641, 'join': 2642, 'televised': 2643, '1997': 2644, 'iaea': 2645, 'atomic': 2646, 'drew': 2647, 'visitors': 2648, 'girlfriend': 2649, 'urged': 2650, 'infineon': 2651, 'sued': 2652, 'breach': 2653, 'statistics': 2654, 'questions': 2655, 'success': 2656, 'midnight': 2657, 'rating': 2658, 'rival': 2659, 'summer': 2660, 'persons': 2661, 'slide': 2662, 'serve': 2663, 'housing': 2664, 'anthony': 2665, 'bedroom': 2666, 'briefly': 2667, 'mosul': 2668, 'planning': 2669, 'atop': 2670, 'outfielder': 2671, 'convoy': 2672, 'dividend': 2673, 'scale': 2674, 'engaged': 2675, 'martin': 2676, 'export': 2677, 'reagan': 2678, 'singer': 2679, 'infuriated': 2680, 'dispute': 2681, 'ten': 2682, 'northwest': 2683, 'chapter': 2684, 'signs': 2685, 'hugged': 2686, 'everyone': 2687, 'healing': 2688, 'roberts': 2689, 'balance': 2690, 'rally': 2691, 'courage': 2692, 'turner': 2693, 'initially': 2694, 'repeated': 2695, 'gm': 2696, 'retirees': 2697, 'illegally': 2698, 'helicopters': 2699, 'heads': 2700, 'irs': 2701, 'refunds': 2702, 'friend': 2703, 'begun': 2704, 'handling': 2705, 'miss': 2706, 'firing': 2707, 'lows': 2708, 'perform': 2709, 'italy': 2710, 'represent': 2711, 'statewide': 2712, 'holders': 2713, 'venture': 2714, 'deals': 2715, 'janet': 2716, 'arms': 2717, 'prove': 2718, 'theft': 2719, 'pricing': 2720, 'funeral': 2721, 'inflation': 2722, 'mind': 2723, 'arrive': 2724, 'chart': 2725, 'closer': 2726, 'edt': 2727, \"administration's\": 2728, 'career': 2729, 'relationship': 2730, 'pension': 2731, 'cards': 2732, 'reed': 2733, 'searching': 2734, 'papers': 2735, \"father's\": 2736, 'coalition': 2737, 'grand': 2738, 'passenger': 2739, 'shoulder': 2740, 'driver': 2741, 'push': 2742, 'investigations': 2743, 'boost': 2744, 'tennessee': 2745, 'safer': 2746, 'enron': 2747, 'employment': 2748, 'networks': 2749, 'sharply': 2750, 'facing': 2751, 'kidney': 2752, 'sweep': 2753, 'simplify': 2754, 'samples': 2755, 'developer': 2756, 'cohen': 2757, 'donald': 2758, 'reversed': 2759, 'identical': 2760, 'israelis': 2761, 'sprayregen': 2762, 'hartsfield': 2763, 'fingerprints': 2764, 'page': 2765, 'tehran': 2766, 'mitchell': 2767, 'suu': 2768, 'decide': 2769, 'nt': 2770, 'xp': 2771, 'thompson': 2772, \"yesterday's\": 2773, 'offering': 2774, 'estate': 2775, 'mills': 2776, 'messaging': 2777, 'gold': 2778, 'sniper': 2779, 'motives': 2780, 'ceiling': 2781, 'responsible': 2782, 'actually': 2783, 'finasteride': 2784, 'mutual': 2785, 'subpoena': 2786, 'atlantic': 2787, 'surrounding': 2788, 'taxes': 2789, 'commissioner': 2790, 'welcomes': 2791, 'stabilization': 2792, 'chirac': 2793, 'minutes': 2794, 'blocking': 2795, 'wrongdoing': 2796, 'vigilante': 2797, 'extend': 2798, 'v': 2799, 'organisation': 2800, 'coke': 2801, \"week's\": 2802, 'nordstrom': 2803, 'prevent': 2804, 'unions': 2805, 'positions': 2806, \"ibm's\": 2807, 'flagship': 2808, 'metal': 2809, 'deadline': 2810, 'lowering': 2811, 'suspend': 2812, 'unsolicited': 2813, 'rush': 2814, 'spoken': 2815, 'chamber': 2816, 'ocean': 2817, 'seemed': 2818, 'faced': 2819, 'census': 2820, 'expert': 2821, 'manila': 2822, 'roy': 2823, 'messages': 2824, 'unborn': 2825, 'witnesses': 2826, 'satellite': 2827, 'stemming': 2828, 'viacom': 2829, 'spike': 2830, 'antonin': 2831, 'penny': 2832, 'marc': 2833, 'sexually': 2834, 'devries': 2835, 'turkish': 2836, 'moves': 2837, 'citizen': 2838, 'weaker': 2839, 'conviction': 2840, 'phones': 2841, 'hampton': 2842, 'township': 2843, 'koizumi': 2844, 'buying': 2845, 'publicly': 2846, 'fees': 2847, 'jewish': 2848, 'easiest': 2849, 'australia': 2850, 'southeast': 2851, 'count': 2852, 'economists': 2853, 'true': 2854, 'reveal': 2855, 'ann': 2856, 'candidates': 2857, 'allied': 2858, 'canceled': 2859, 'altria': 2860, 'racial': 2861, 'cleveland': 2862, 'throughout': 2863, 'elected': 2864, 'veteran': 2865, 'danger': 2866, 'demonstrators': 2867, 'scoring': 2868, 'miller': 2869, 'offices': 2870, 'reductions': 2871, 'osama': 2872, 'consensus': 2873, 'gates': 2874, 'bluetooth': 2875, 'map': 2876, 'silver': 2877, 'tony': 2878, 'marine': 2879, 'nature': 2880, 'parsons': 2881, \"doctor's\": 2882, 'piece': 2883, 'lab': 2884, 'jean': 2885, 'transition': 2886, 'driving': 2887, 'represents': 2888, 'attacked': 2889, 'embraer': 2890, 'hand': 2891, 'worried': 2892, 'van': 2893, 'albeit': 2894, 'ounce': 2895, 'plea': 2896, 'damaged': 2897, 'raids': 2898, 'commitments': 2899, 'prism': 2900, 'chinese': 2901, 'grabbed': 2902, 'protest': 2903, 'goh': 2904, 'amazon': 2905, 'multiple': 2906, 'idea': 2907, 'genes': 2908, 'professor': 2909, 'suggests': 2910, 'sean': 2911, 'insurance': 2912, 'plaintiffs': 2913, 'deadly': 2914, 'crimes': 2915, 'qualcomm': 2916, 'pipeline': 2917, 'martha': 2918, 'holdings': 2919, 'voted': 2920, 'thrown': 2921, 'bali': 2922, 'worse': 2923, 'dell': 2924, 'compromise': 2925, 'contact': 2926, 'schiavo': 2927, 'pulled': 2928, 'loyalists': 2929, 'ambassador': 2930, 'gallon': 2931, 'delta': 2932, 'seats': 2933, 'capsule': 2934, 'bone': 2935, 'manufactured': 2936, 'communication': 2937, 'trouble': 2938, 'ecb': 2939, 'kurds': 2940, '2005': 2941, 'appointment': 2942, 'communion': 2943, 'franklin': 2944, 'skull': 2945, 'granting': 2946, 'linda': 2947, 'navy': 2948, 'activities': 2949, 'handspring': 2950, 'returns': 2951, 'bathtub': 2952, 'empty': 2953, 'explorer': 2954, 'locations': 2955, 'annan': 2956, 'brent': 2957, 'zimbabwe': 2958, 'libraries': 2959, 'basic': 2960, 'harm': 2961, \"canada's\": 2962, 'unusual': 2963, '770': 2964, 'gerberding': 2965, 'patrick': 2966, 'tumors': 2967, 'chosen': 2968, 'ice': 2969, 'priest': 2970, 'interactive': 2971, 'payments': 2972, 'prescription': 2973, 'seattle': 2974, 'traders': 2975, 'eye': 2976, 'sulzberger': 2977, 'easily': 2978, 'survive': 2979, 'fujitsu': 2980, 'regional': 2981, 'telemarketers': 2982, 'advancing': 2983, 'reflect': 2984, '121': 2985, 'diana': 2986, 'citigroup': 2987, 'sector': 2988, 'distributed': 2989, 'required': 2990, 'wayne': 2991, 'unable': 2992, 'vessels': 2993, 'advisory': 2994, 'medicaid': 2995, 'outnumbered': 2996, 'traded': 2997, 'artists': 2998, 'speculation': 2999, 'something': 3000, 'lay': 3001, \"group's\": 3002, 'dvd': 3003, 'astronauts': 3004, 'nigeria': 3005, 'evening': 3006, '1991': 3007, 'straw': 3008, 'tenet': 3009, 'santa': 3010, 'offensive': 3011, 'visual': 3012, 'amoudi': 3013, 'christopher': 3014, 'advocate': 3015, 'comments': 3016, 'resides': 3017, 'hardware': 3018, 'fare': 3019, 'detention': 3020, 'opportunities': 3021, 'alongside': 3022, 'dvds': 3023, 'myers': 3024, 'subway': 3025, 'registry': 3026, 'praised': 3027, 'mental': 3028, 'requested': 3029, 'remorse': 3030, 'executives': 3031, \"today's\": 3032, 'exactly': 3033, 'save': 3034, 'captured': 3035, 'sterile': 3036, 'epidemic': 3037, 'amounts': 3038, 'peacekeeping': 3039, 'certified': 3040, 'jane': 3041, 'bar': 3042, 'seconds': 3043, 'explosion': 3044, 'parliament': 3045, 'kroc': 3046, 'korean': 3047, 'trailer': 3048, 'victory': 3049, 'links': 3050, 'patience': 3051, 'unwanted': 3052, 'tainted': 3053, 'lucrative': 3054, 'design': 3055, 'relatively': 3056, 'recovered': 3057, \"australia's\": 3058, 'transport': 3059, 'rail': 3060, 'channel': 3061, 'wim': 3062, 'voice': 3063, 'borders': 3064, 'hurt': 3065, 'bidders': 3066, 'assume': 3067, 'gives': 3068, 'images': 3069, 'ring': 3070, \"spitzer's\": 3071, 'x': 3072, 'felt': 3073, 'microphone': 3074, 'closely': 3075, 'aaron': 3076, 'carlton': 3077, 'trapped': 3078, 'downtown': 3079, 'sports': 3080, 'partner': 3081, 'gene': 3082, \"o'donnell\": 3083, 'dividends': 3084, 'fat': 3085, 'sam': 3086, 'fever': 3087, 'suite': 3088, 'db2': 3089, '117': 3090, 'hefty': 3091, 'plays': 3092, 'juan': 3093, 'bottom': 3094, 'pat': 3095, 'filing': 3096, 'kurdish': 3097, 'enterprises': 3098, \"japan's\": 3099, 'reaching': 3100, 'nobody': 3101, 'anybody': 3102, 'lieberman': 3103, 'missouri': 3104, 'dick': 3105, 'evacuation': 3106, 'temporarily': 3107, 'dog': 3108, 'layoffs': 3109, 'headquarters': 3110, 'mobile': 3111, 'numerous': 3112, 'handset': 3113, 'insisted': 3114, 'sponsored': 3115, 'oversight': 3116, 'disclosure': 3117, 'equal': 3118, 'gen': 3119, 'terrible': 3120, 'mistake': 3121, 'frist': 3122, 'sirius': 3123, 'narrow': 3124, 'virtual': 3125, 'jessica': 3126, 'difficulty': 3127, 'writers': 3128, 'yearly': 3129, 'bonuses': 3130, 'stance': 3131, 'disappointed': 3132, 'participate': 3133, 'detonated': 3134, '115': 3135, 'uaw': 3136, 'boys': 3137, 'directly': 3138, 'weighed': 3139, 'hills': 3140, 'shopping': 3141, 'mall': 3142, 'ships': 3143, 'minnesota': 3144, 'learned': 3145, 'introduced': 3146, \"market's\": 3147, '140': 3148, 'motion': 3149, 'elementary': 3150, 'negotiators': 3151, 'surrounded': 3152, 'bragdon': 3153, 'inspections': 3154, 'stated': 3155, 'sitting': 3156, 'gunman': 3157, 'connections': 3158, 'resign': 3159, 'ministerial': 3160, 'elizabeth': 3161, 'species': 3162, 'underground': 3163, 'y': 3164, 'xoma': 3165, 'lord': 3166, 'awards': 3167, 'pg': 3168, 'revival': 3169, '07': 3170, 'evaluated': 3171, 'lack': 3172, 'path': 3173, 'justification': 3174, 'prince': 3175, 'replacing': 3176, 'euros': 3177, 'debts': 3178, 'ready': 3179, 'equity': 3180, 'increasingly': 3181, 'extradite': 3182, 'century': 3183, 'diabetes': 3184, 'beijing': 3185, 'grow': 3186, 'us10yt': 3187, 'hired': 3188, 'biotech': 3189, 'hartford': 3190, 'fox': 3191, 'superior': 3192, 'gehring': 3193, 'somebody': 3194, 'wild': 3195, 'patrol': 3196, 'spurs': 3197, 'property': 3198, 'foodservice': 3199, 'capt': 3200, 'appropriated': 3201, 'obstruction': 3202, 'draft': 3203, 'cuba': 3204, 'unchanged': 3205, 'immigration': 3206, 'pollution': 3207, 'adds': 3208, '1990': 3209, 'fate': 3210, 'nebraska': 3211, '4p': 3212, 'welcome': 3213, 'senators': 3214, 'berkeley': 3215, 'instinet': 3216, 'gross': 3217, 'swept': 3218, 'towards': 3219, 'awarded': 3220, 'guidance': 3221, 'exercised': 3222, 'assumes': 3223, 'petroleum': 3224, 'widespread': 3225, 'engineers': 3226, 'seizure': 3227, 'supports': 3228, 'certainly': 3229, 'lately': 3230, 'sound': 3231, 'pence': 3232, 'regular': 3233, \"country's\": 3234, 'baker': 3235, 'legally': 3236, 'prosecution': 3237, 'judiciary': 3238, 'hurdle': 3239, 'unix': 3240, 'improper': 3241, 'touch': 3242, 'via': 3243, 'recommendations': 3244, 'colin': 3245, 'crowd': 3246, 'concert': 3247, '97': 3248, 'physician': 3249, 'relative': 3250, 'l': 3251, 'charred': 3252, 'hewitt': 3253, 'clinical': 3254, 'liberation': 3255, 'totally': 3256, 'henri': 3257, 'winds': 3258, 'check': 3259, 'seem': 3260, 'throw': 3261, 'surrender': 3262, 'tribunal': 3263, 'countryside': 3264, 'blacks': 3265, 'closest': 3266, 'indian': 3267, 'contribute': 3268, 'landing': 3269, 'random': 3270, 'pound': 3271, 'break': 3272, 'installed': 3273, 'va': 3274, 'conscious': 3275, 'preventable': 3276, 'recipients': 3277, 'bashir': 3278, \"management's\": 3279, 'purchasing': 3280, 'looks': 3281, 'hyundai': 3282, 'colleges': 3283, 'basically': 3284, 'forecasters': 3285, 'strength': 3286, 'movement': 3287, 'bases': 3288, 'lie': 3289, 'freddie': 3290, 'appropriate': 3291, 'opportunity': 3292, 'hijackers': 3293, 'mexico': 3294, 'eyes': 3295, 'quick': 3296, 'spokesperson': 3297, 'putin': 3298, 'ahead': 3299, 'agenda': 3300, 'unveiled': 3301, 'finder': 3302, 'mac': 3303, 'offers': 3304, 'businesses': 3305, 'jose': 3306, 'device': 3307, 'electrical': 3308, 'undergraduate': 3309, 'hike': 3310, 'aboard': 3311, 'determined': 3312, 'teams': 3313, 'verisign': 3314, 'drawn': 3315, 'eventually': 3316, 'moose': 3317, 'parson': 3318, 'dji>': 3319, 'sacred': 3320, 'wash': 3321, 'veneman': 3322, 'nobel': 3323, 'prize': 3324, 'powerful': 3325, 'liberal': 3326, 'alliance': 3327, 'frequently': 3328, 'england': 3329, 'k': 3330, 'kyi': 3331, \"moore's\": 3332, 'ed': 3333, 'sub': 3334, 'nominee': 3335, 'forms': 3336, 'india': 3337, 'deputies': 3338, 'execute': 3339, 'visits': 3340, 'antitrust': 3341, 'terror': 3342, 'successor': 3343, \"o'keefe\": 3344, 'onto': 3345, 'worldcom': 3346, 'limit': 3347, 'introduce': 3348, 'bear': 3349, 'vitally': 3350, 'minimal': 3351, 'identifying': 3352, 'prospects': 3353, 'retirement': 3354, 'bombardier': 3355, 'knox': 3356, 'indicted': 3357, 'showing': 3358, 'baer': 3359, 'entry': 3360, 'extended': 3361, 'olympics': 3362, 'benefits': 3363, 'proud': 3364, 'furthermore': 3365, 'implemented': 3366, 'recorded': 3367, 'seat': 3368, 'polls': 3369, 'begins': 3370, 'aunt': 3371, 'diagnosed': 3372, 'sovereign': 3373, 'romania': 3374, 'marijuana': 3375, 'payrolls': 3376, 'established': 3377, 'posed': 3378, 'desktop': 3379, 'ron': 3380, 'jonathan': 3381, 'merrill': 3382, 'kenneth': 3383, 'boss': 3384, 'bishop': 3385, 'communities': 3386, 'favor': 3387, 'bishops': 3388, 'racing': 3389, 'producers': 3390, 'secure': 3391, 'streets': 3392, 'factor': 3393, 'casino': 3394, 'parade': 3395, 'jeremy': 3396, 'article': 3397, 'alternate': 3398, 'magistrates': 3399, 'soft': 3400, 'wearing': 3401, 'brand': 3402, 'pioneer': 3403, \"london's\": 3404, 'yankees': 3405, 'financing': 3406, 'bomber': 3407, 'nightclub': 3408, 'recommended': 3409, 'shoot': 3410, \"family's\": 3411, 'steps': 3412, 'flash': 3413, 'imagine': 3414, 'capitol': 3415, 'membership': 3416, 'celf': 3417, 'submitted': 3418, 'girls': 3419, 'attempts': 3420, 'transit': 3421, 'robust': 3422, 'rob': 3423, 'formed': 3424, 'quarantined': 3425, 'sickened': 3426, 'cooperative': 3427, 'patch': 3428, 'indeed': 3429, '1975': 3430, 'widow': 3431, 'firms': 3432, 'audience': 3433, 'accompanied': 3434, 'java': 3435, 'competitor': 3436, 'intervention': 3437, 'vendor': 3438, 'publisher': 3439, 'malawi': 3440, 'comply': 3441, 'greatest': 3442, 'austin': 3443, 'subsidiary': 3444, 'lawmakers': 3445, 'sky': 3446, 'cars': 3447, 'pep': 3448, 'experienced': 3449, 'thorough': 3450, 'link': 3451, 'greenspan': 3452, 'os': 3453, 'behalf': 3454, 'minority': 3455, 'broken': 3456, 'contributing': 3457, 'tracks': 3458, 'tied': 3459, 'contained': 3460, 'trend': 3461, '646': 3462, 'costing': 3463, 'language': 3464, 'plot': 3465, 'elements': 3466, 'notified': 3467, 'handed': 3468, 'yards': 3469, 'itself': 3470, 'broadcast': 3471, 'sister': 3472, 'earth': 3473, 'booked': 3474, 'nasd': 3475, 'winner': 3476, 'disrupt': 3477, 'feb': 3478, 'reviewing': 3479, 'cubs': 3480, 'trip': 3481, 'cabinet': 3482, 'allen': 3483, 'bondholders': 3484, 'outrageous': 3485, 'resolve': 3486, 'californians': 3487, 'discovery': 3488, 'acquired': 3489, 'paying': 3490, 'prefer': 3491, 'consolidated': 3492, 'stability': 3493, 'chrysler': 3494, 'vanished': 3495, '1989': 3496, 'interested': 3497, 'potter': 3498, 'violence': 3499, 'el': 3500, 'moscow': 3501, 'upgrade': 3502, 'protecting': 3503, 'tremendous': 3504, 'pharmacy': 3505, 'guards': 3506, 'administrative': 3507, 'appealed': 3508, 'stunt': 3509, 'mccall': 3510, 'tradition': 3511, 'temporary': 3512, 'expenses': 3513, 'publicity': 3514, 'pataki': 3515, 'evil': 3516, 'thrust': 3517, 'subpoenaed': 3518, 'direction': 3519, 'degrees': 3520, 'marines': 3521, 'fireworks': 3522, 'warehouse': 3523, 'collision': 3524, 'captain': 3525, 'terminal': 3526, \"women's\": 3527, 'lease': 3528, 'understandably': 3529, 'host': 3530, 'briefing': 3531, 'preventing': 3532, 'ax>': 3533, 'coffee': 3534, 'shape': 3535, 'lexmark': 3536, 'credibility': 3537, 'surface': 3538, 'bp': 3539, 'bloodsworth': 3540, 'stain': 3541, \"victim's\": 3542, 'tnt': 3543, 'taipei': 3544, 'philharmonic': 3545, 'wait': 3546, 'islam': 3547, '645': 3548, 'columbus': 3549, 'duisenberg': 3550, 'essential': 3551, 'foster': 3552, 'waiver': 3553, 'core': 3554, 'matching': 3555, 'nursing': 3556, 'social': 3557, 'elbaradei': 3558, 'invitation': 3559, 'hitchcock': 3560, 'squadron': 3561, 'sections': 3562, \"years'\": 3563, 'spoil': 3564, 'broadway': 3565, \"selenski's\": 3566, 'fischi': 3567, \"callebaut's\": 3568, 'stress': 3569, 'sides': 3570, 'taxed': 3571, 'trans': 3572, 'detect': 3573, 'gulf': 3574, 'malcolm': 3575, 'defining': 3576, 'allege': 3577, 'wariness': 3578, '924': 3579, 'stanford': 3580, 'randy': 3581, 'inning': 3582, 'breyer': 3583, 'winkenwerder': 3584, 'toys': 3585, 'pornographic': 3586, 'owner': 3587, 'flown': 3588, \"peterson's\": 3589, 'defended': 3590, 'stuff': 3591, 'powerpoint': 3592, 'policeman': 3593, 'allan': 3594, 'sudden': 3595, '2008': 3596, 'diluted': 3597, 'resort': 3598, 'moment': 3599, 'drafted': 3600, 'register': 3601, \"weren't\": 3602, 'hunt': 3603, 'oklahoma': 3604, 'happy': 3605, 'battlewagon': 3606, 'proper': 3607, 'schering': 3608, 'sampling': 3609, 'brolin': 3610, 'bitter': 3611, 'choose': 3612, 'differences': 3613, 'finish': 3614, 'animal': 3615, 'alaska': 3616, \"fda's\": 3617, 'quality': 3618, 'dubai': 3619, 'richardson': 3620, 'staged': 3621, 'genetically': 3622, 'modified': 3623, 'assistants': 3624, 'moments': 3625, 'finally': 3626, 'perhaps': 3627, 'sunni': 3628, 'overcome': 3629, 'judicial': 3630, 'xm': 3631, 'tie': 3632, 'prisoner': 3633, 'leaves': 3634, 'timothy': 3635, 'matt': 3636, '220': 3637, 'ludicrous': 3638, 'rich': 3639, 'cold': 3640, 'falluja': 3641, 'spouses': 3642, 'apprehended': 3643, 'syrian': 3644, '723': 3645, 'colo': 3646, 'neighborhood': 3647, 'contend': 3648, 'supplier': 3649, 'helicopter': 3650, 'rained': 3651, '628': 3652, \"children's\": 3653, 'twin': 3654, 'salazar': 3655, 'bloomfield': 3656, 'invested': 3657, 'indexes': 3658, 'step': 3659, 'physicians': 3660, 'evaluation': 3661, 'sunnis': 3662, 'outage': 3663, 'proficient': 3664, 'swat': 3665, '385': 3666, 'filling': 3667, 'levine': 3668, 'thanked': 3669, 'boyfriend': 3670, 'ruben': 3671, 'contreras': 3672, 'developers': 3673, 'lakeside': 3674, 'encountered': 3675, 'rocket': 3676, 'grenades': 3677, 'explosive': 3678, 'stanley': 3679, 'gets': 3680, 'ernest': 3681, 'bucklew': 3682, 'bury': 3683, 'perkins': 3684, 'chancellor': 3685, 'genentech': 3686, 'larger': 3687, 'daughters': 3688, 'walsh': 3689, 'opponent': 3690, 'francs': 3691, 'hormones': 3692, 'cutting': 3693, 'religious': 3694, 'gdp': 3695, 'grown': 3696, 'jeffrey': 3697, 'charity': 3698, 'jemaah': 3699, 'annals': 3700, 'shop': 3701, 'triple': 3702, 'executions': 3703, 'dateline': 3704, 'racicot': 3705, 'thud': 3706, 'kitchen': 3707, 'watchdog': 3708, 'weill': 3709, 'gunmen': 3710, 'clean': 3711, 'batting': 3712, 'homicide': 3713, 'impose': 3714, 'roll': 3715, \"nvidia's\": 3716, 'indication': 3717, 'renewed': 3718, 'conclusions': 3719, 'recalled': 3720, 'purchased': 3721, 'fraley': 3722, 'thode': 3723, 'describe': 3724, 'firewall': 3725, 'drop': 3726, 'siebel': 3727, 'range': 3728, 'networking': 3729, 'mountain': 3730, 'disciplinary': 3731, 'suffered': 3732, 'gregg': 3733, \"florida's\": 3734, \"isn't\": 3735, \"states'\": 3736, 'directed': 3737, 'palo': 3738, 'alto': 3739, 'structure': 3740, 'cast': 3741, 'meyers': 3742, 'casualties': 3743, 'skin': 3744, 'stabbed': 3745, 'apparent': 3746, 'brendsel': 3747, 'robotic': 3748, 'pledged': 3749, 'oregon': 3750, 'temperature': 3751, 'survived': 3752, 'ual': 3753, 'distributing': 3754, 'pornography': 3755, 'match': 3756, 'microsystems': 3757, 'quarterly': 3758, 'coal': 3759, 'controls': 3760, 'habits': 3761, 'rethink': 3762, 'pines': 3763, 'jolla': 3764, 'defender': 3765, 'baton': 3766, 'rouge': 3767, 'default': 3768, '627': 3769, 'innocence': 3770, 'imam': 3771, 'playing': 3772, 'execution': 3773, 'gray': 3774, 'americas': 3775, 'drowned': 3776, 'foreigners': 3777, 'smithfield': 3778, 'mediterranean': 3779, 'instant': 3780, 'portugal': 3781, 'accepting': 3782, 'lawrence': 3783, 'garb': 3784, 'extent': 3785, 'laboratory': 3786, 'happen': 3787, 'format': 3788, 'slower': 3789, 'expenditures': 3790, 'twenty': 3791, 'howell': 3792, \"thursday's\": 3793, 'sse': 3794, 'welcomed': 3795, 'investments': 3796, 'eliot': 3797, 'seed': 3798, \"handspring's\": 3799, 'rated': 3800, 'reduced': 3801, 'aspects': 3802, 'whitney': 3803, 'jacques': 3804, 'oh': 3805, 'dealing': 3806, 'lakhani': 3807, 'deep': 3808, 'competing': 3809, 'convertible': 3810, 'ernst': 3811, 'eleonora67': 3812, 'organizer': 3813, 'retailer': 3814, 'seeks': 3815, 'tears': 3816, 'purpose': 3817, 'roe': 3818, 'proof': 3819, 'pack': 3820, 'lemmon': 3821, 'tucson': 3822, 'genuine': 3823, 'entries': 3824, 'predominant': 3825, 'foreseeable': 3826, 'yang': 3827, 'wells': 3828, 'rendezvous': 3829, 'tibco': 3830, 'gainer': 3831, '110': 3832, 'loose': 3833, 'employed': 3834, 'autistic': 3835, 'organize': 3836, 'signing': 3837, 'honor': 3838, 'videotapes': 3839, 'events': 3840, 'tendencies': 3841, 'offender': 3842, 'isolated': 3843, 'brigadier': 3844, 'claudia': 3845, 'thinking': 3846, 'whites': 3847, 'plaque': 3848, 'gerald': 3849, 'brookdale': 3850, 'slipping': 3851, 'legislative': 3852, 'orbit': 3853, 'compiler': 3854, 'craig': 3855, 'conway': 3856, 'hispanic': 3857, 'dynamic': 3858, 'drams': 3859, 'hynix': 3860, 'ghozi': 3861, 'eddington': 3862, 'transcript': 3863, 'assure': 3864, 'harmed': 3865, 'hamidi': 3866, 'neck': 3867, 'jersey': 3868, 'wisconsin': 3869, 'slayings': 3870, 'medicines': 3871, 'capacity': 3872, 'mahmoud': 3873, 'sealed': 3874, 'manageable': 3875, 'obviously': 3876, 'hurting': 3877, 'sluggish': 3878, 'gaining': 3879, 'permanent': 3880, 'mahmud': 3881, 'tikrit': 3882, 'kilometres': 3883, 'advertisement': 3884, 'retired': 3885, \"exchange's\": 3886, 'negative': 3887, 'saud': 3888, 'acosta': 3889, 'rosenthal': 3890, \"russia's\": 3891, 'spy': 3892, 'pot': 3893, 'opposes': 3894, 'mdc': 3895, 'treating': 3896, 'threw': 3897, '142': 3898, '129': 3899, 'leases': 3900, 'specifying': 3901, 'structural': 3902, 'solidarity': 3903, 'goold': 3904, 'complain': 3905, 'disappeared': 3906, 'labels': 3907, 'sure': 3908, 'ride': 3909, 'consultant': 3910, 'junichiro': 3911, 'bidding': 3912, 'vue': 3913, '1977': 3914, 'hormonal': 3915, '165': 3916, 'seasons': 3917, 'interviews': 3918, 'rim': 3919, 'prevented': 3920, 'panels': 3921, 'politicians': 3922, 'prempro': 3923, 'pills': 3924, 'ruth': 3925, 'bader': 3926, 'ginsburg': 3927, 'joining': 3928, 'latitude': 3929, 'longitude': 3930, 'suits': 3931, 'rape': 3932, 'sodomy': 3933, 'indecent': 3934, 'healthy': 3935, 'protected': 3936, 'muenster': 3937, 'luster': 3938, 'liscouski': 3939, 'considerably': 3940, 'lyon': 3941, 'afterward': 3942, 'crossover': 3943, \"'\": 3944, 'miodrag': 3945, 'zivkovic': 3946, \"dow's\": 3947, 'ranking': 3948, 'parker': 3949, 'audit': 3950, 'couples': 3951, \"day's\": 3952, 'caretaker': 3953, 'creek': 3954, 'morris': 3955, 'bergonzi': 3956, 'cooperate': 3957, 'quarantine': 3958, 'motorola': 3959, 'elia': 3960, 'kazan': 3961, 'blacklist': 3962, 'masters': 3963, 'love': 3964, 'authorizing': 3965, 'harvey': 3966, 'village': 3967, \"analysts'\": 3968, 'matthew': 3969, 'daimlerchrysler': 3970, 'manipulated': 3971, 'minds': 3972, 'maintain': 3973, 'photos': 3974, 'cracks': 3975, 'upset': 3976, 'steady': 3977, 'optimistic': 3978, 'arguing': 3979, 'lessen': 3980, 'restore': 3981, 'veritas': 3982, 'stennis': 3983, 'conte': 3984, 'smooth': 3985, 'monkey': 3986, 'wrench': 3987, \"fcc's\": 3988, 'choices': 3989, 'gecad': 3990, 'preconditions': 3991, 'dangerous': 3992, 'subsequently': 3993, 'integration': 3994, 'direct': 3995, 'shipments': 3996, 'displayed': 3997, 'jon': 3998, 'player': 3999, 'cubans': 4000, 'executed': 4001, 'marched': 4002, 'swedish': 4003, 'tamil': 4004, 'briskly': 4005, 'scalise': 4006, 'defendants': 4007, 'nikia': 4008, 'shanell': 4009, 'kilpatrick': 4010, '977': 4011, 'easings': 4012, 'fomc': 4013, 'contrary': 4014, 'meaning': 4015, 'bike': 4016, 'adopt': 4017, 'spotlight': 4018, 'reiterated': 4019, 'goodrem': 4020, 'seal': 4021, '647': 4022, 'complaints': 4023, 'cooperating': 4024, '659': 4025, 'weak': 4026, '9th': 4027, 'crying': 4028, 'providers': 4029, 'patches': 4030, 'guitar': 4031, 'enquirer': 4032, 'releases': 4033, 'myanmar': 4034, 'circulation': 4035, 'seniors': 4036, 'kodak': 4037, 'absolutely': 4038, 'regret': 4039, 'abortions': 4040, 'downplayed': 4041, 'happens': 4042, 'fatal': 4043, 'hubach': 4044, 'resistance': 4045, 'kozlowski': 4046, 'colombia': 4047, 'writing': 4048, 'magazine': 4049, 'iowa': 4050, 'bruce': 4051, 'programme': 4052, 'sensitive': 4053, 'referred': 4054, 'boykin': 4055, 'screamed': 4056, \"viacom's\": 4057, 'nina': 4058, 'farmland': 4059, 'midwestern': 4060, 'dallas': 4061, 'jp': 4062, 'mitsubishi': 4063, \"hp's\": 4064, 'grounds': 4065, 'violate': 4066, 'jumping': 4067, 'airplane': 4068, 'grass': 4069, 'terri': 4070, 'hospice': 4071, 'exceeded': 4072, 'bmi': 4073, 'baldacci': 4074, 'eastern': 4075, 'brooklyn': 4076, 'pcs': 4077, 'scattered': 4078, 'relations': 4079, 'critics': 4080, 'bed': 4081, 'collapse': 4082, 'lu': 4083, 'survival': 4084, 'adult': 4085, 'cells': 4086, 'marrow': 4087, 'lewinsky': 4088, 'imbroglio': 4089, 'vicious': 4090, 'corixa': 4091, 'receiving': 4092, 'silvio': 4093, 'lumber': 4094, 'wood': 4095, 'estrada': 4096, 'epa': 4097, 'interests': 4098, 'scrutiny': 4099, 'mattress': 4100, 'razor': 4101, 'inmate': 4102, \"street's\": 4103, 'toured': 4104, 'tone': 4105, 'designer': 4106, \"novell's\": 4107, 'curry': 4108, 'kenny': 4109, 'nand': 4110, 'klebold': 4111, 'halloween': 4112, 'landed': 4113, 'participant': 4114, 'admissions': 4115, 'attention': 4116, 'likelihood': 4117, '990': 4118, \"baby's\": 4119, 'eve': 4120, 'headquartered': 4121, 'sunnyvale': 4122, 'arafat': 4123, 'browser': 4124, 'approached': 4125, 'cherished': 4126, 'raid': 4127, 'sole': 4128, 'tabs': 4129, 'fans': 4130, 'taiwanese': 4131, 'tracy': 4132, 'qualified': 4133, 'wide': 4134, 'wheaton': 4135, 'gym': 4136, 'merger': 4137, 'rebound': 4138, 'subset': 4139, 'authorization': 4140, 'urban': 4141, 'clinics': 4142, 'vendors': 4143, 'coleman': 4144, 'fundamental': 4145, 'indiana': 4146, 'capabilities': 4147, 'programming': 4148, 'ozone': 4149, 'institutional': 4150, 'shelley': 4151, 'write': 4152, 'donated': 4153, 'pork': 4154, 'washed': 4155, 'strayhorn': 4156, 'scholar': 4157, 'stretch': 4158, 'boats': 4159, 'minute': 4160, 'creditors': 4161, 'clemency': 4162, 'opens': 4163, 'wholly': 4164, 'hopeful': 4165, \"woman's\": 4166, 'simultaneous': 4167, 'whales': 4168, 'stranding': 4169, 'aired': 4170, 'enormous': 4171, 'heyer': 4172, '225': 4173, 'easy': 4174, 'diocese': 4175, 'cooperation': 4176, \"comptroller's\": 4177, 'noteworthy': 4178, 'sensationalism': 4179, 'solid': 4180, 'chandler': 4181, 'ejaculated': 4182, 'aggressive': 4183, 'aide': 4184, 'iranian': 4185, 'concentrated': 4186, 'trooper': 4187, 'traveled': 4188, 'northeastern': 4189, 'fall': 4190, 'unanimously': 4191, 'recommend': 4192, 'xerox': 4193, 'hostages': 4194, 'smart': 4195, 'eugene': 4196, 'anthrax': 4197, 'assaulted': 4198, 'ata': 4199, 'waagner': 4200, 'mixed': 4201, 'diamond': 4202, 'payment': 4203, 'bbc': 4204, 'confess': 4205, 'daschle': 4206, 'deterioration': 4207, 'rely': 4208, 'strategic': 4209, 'holes': 4210, 'detroit': 4211, 'foam': 4212, 'kind': 4213, 'aluminum': 4214, 'patrolling': 4215, 'band': 4216, \"apple's\": 4217, 'culture': 4218, 'rabies': 4219, 'hernandez': 4220, 'vietnam': 4221, 'buyout': 4222, 'salesman': 4223, 'tragedy': 4224, 'investigate': 4225, 'arizona': 4226, 'dave': 4227, 'spend': 4228, 'tissue': 4229, 'funny': 4230, 'seems': 4231, 'decliners': 4232, 'declining': 4233, 'melbourne': 4234, 'attendants': 4235, 'parole': 4236, 'burn': 4237, 'tourism': 4238, 'boycott': 4239, 'walter': 4240, 'accurate': 4241, 'brook': 4242, 'eclipse': 4243, 'eds': 4244, 'durousseau': 4245, \"blair's\": 4246, 'deliberately': 4247, 'sketch': 4248, 'patterson': 4249, 'whole': 4250, 'functional': 4251, 'compares': 4252, 'severely': 4253, 'actress': 4254, 'renee': 4255, 'malenchenko': 4256, 'managed': 4257, 'bankrupt': 4258, 'delays': 4259, 'basra': 4260, 'contain': 4261, 'barricades': 4262, 'celia': 4263, 'walker': 4264, 'dos': 4265, 'reis': 4266, 'accusation': 4267, 'garber': 4268, 'chemotherapy': 4269, 'interceptions': 4270, 'remanded': 4271, 'artist': 4272, 'caution': 4273, 'zero': 4274, 'bankhead': 4275, 'scenes': 4276, 'methodical': 4277, 'affidavit': 4278, 'trips': 4279, 'disney': 4280, 'coyne': 4281, 'reflects': 4282, \"alzheimer's\": 4283, 'barnett': 4284, 'fair': 4285, 'multinational': 4286, 'cibc': 4287, 'mails': 4288, 'deficit': 4289, 'leads': 4290, 'odds': 4291, 'traces': 4292, 'facility': 4293, 'outlook': 4294, 'neighboring': 4295, 'keker': 4296, 'supercomputer': 4297, 'marjorie': 4298, 'saudis': 4299, '922': 4300, 'temperatures': 4301, '2040': 4302, '395': 4303, \"atkinson's\": 4304, '361': 4305, 'ghz': 4306, '124': 4307, 'inventories': 4308, 'butterflies': 4309, 'harassment': 4310, 'municipal': 4311, 'photo': 4312, 'robot': 4313, 'tired': 4314, 'cds': 4315, 'merit': 4316, 'sharing': 4317, 'riding': 4318, '135': 4319, 'putnam': 4320, 'refiner': 4321, 'cepsa': 4322, 'sa': 4323, 'tanker': 4324, 'tapias': 4325, 'defeat': 4326, 'sutherland': 4327, 'jennifer': 4328, 'vans': 4329, \"else's\": 4330, 'harrigan': 4331, 'raw': 4332, 'highlight': 4333, 'hoffa': 4334, 'oakland': 4335, 'airing': 4336, 'behavior': 4337, 'smuggled': 4338, 'rhodes': 4339, '<eur': 4340, 'arthritis': 4341, 'makeshift': 4342, 'kuwaitis': 4343, 'palestinians': 4344, 'older': 4345, 'marginally': 4346, 'divers': 4347, 'informed': 4348, 'improves': 4349, 'racist': 4350, 'sixty': 4351, 'troubled': 4352, 'timely': 4353, 'subsidies': 4354, 'performers': 4355, 'shrapnel': 4356, \"mosque's\": 4357, 'rite': 4358, 'lawsuits': 4359, 'lenders': 4360, 'boyd': 4361, 'tauzin': 4362, 'exception': 4363, 'industrials': 4364, 'surpassed': 4365, 'blush': 4366, 'jet': 4367, 'gibson': 4368, 'progestin': 4369, 'premier': 4370, 'joaquin': 4371, 'bars': 4372, 'connectix': 4373, 'johnson': 4374, 'ws': 4375, 'define': 4376, 'biotechnology': 4377, 'fares': 4378, 'saunders': 4379, 'fireproofing': 4380, 'carl': 4381, 'governance': 4382, 'cream': 4383, 'knight': 4384, 'declare': 4385, 'nomination': 4386, 'brown': 4387, 'nichols': 4388, 'fuel': 4389, 'palestine': 4390, 'channels': 4391, 'fraudulent': 4392, 'condemned': 4393, 'kentucky': 4394, 'ernie': 4395, 'fletcher': 4396, 'dirt': 4397, 'declassified': 4398, 'uncensored': 4399, 'trains': 4400, 'honest': 4401, '929': 4402, 'dewhurst': 4403, 'espn': 4404, 'jefferson': 4405, 'condemn': 4406, 'sadr': 4407, 'msnbc': 4408, \"master's\": 4409, 'kelley': 4410, '30th': 4411, '666': 4412, 'compete': 4413, 'quiej': 4414, 'alvarez': 4415, 'fled': 4416, \"snow's\": 4417, 'max': 4418, 'chi': 4419, 'arriving': 4420, 'pakistani': 4421, 'dotted': 4422, 'gambling': 4423, 'roger': 4424, 'pretrial': 4425, 'hovan': 4426, 'solaris': 4427, 'aix': 4428, 'hat': 4429, 'beautiful': 4430, 'ear': 4431, 'inter': 4432, 'scholars': 4433, 'newbury': 4434, 'rockland': 4435, 'square': 4436, 'mcgrath': 4437, 'struggle': 4438, 'trailers': 4439, 'holden': 4440, 'limelight': 4441, 'wider': 4442, 'withhold': 4443, 'incidents': 4444, 'guarino': 4445, 'strip': 4446, 'feith': 4447, 'undersecretary': 4448, 'convey': 4449, 'gamble': 4450, 'sons': 4451, 'prostitutes': 4452, 'concerned': 4453, 'organizing': 4454, 'adolescent': 4455, 'shared': 4456, 'supplies': 4457, 'shelter': 4458, 'voyager': 4459, 'normally': 4460, 'djibouti': 4461, \"congo's\": 4462, 'rwanda': 4463, 'invaded': 4464, 'specialist': 4465, 'creation': 4466, 'hackett': 4467, 'tractor': 4468, \"entertainment's\": 4469, 'attempted': 4470, 'jamaica': 4471, 'hovered': 4472, 'kids': 4473, 'goodrich': 4474, 'sweden': 4475, 'printer': 4476, 'drained': 4477, 'hanging': 4478, 'naval': 4479, 'engineering': 4480, 'concepts': 4481, 'staten': 4482, 'tons': 4483, 'infection': 4484, 'camping': 4485, 'magistrate': 4486, 'truly': 4487, \"division's\": 4488, 'brigade': 4489, 'ratio': 4490, 'preserve': 4491, 'steeply': 4492, 'rowland': 4493, 'portfolio': 4494, 'enable': 4495, '575': 4496, '295': 4497, 'accept': 4498, 'exact': 4499, 'consideration': 4500, 'starts': 4501, 'corrected': 4502, '107': 4503, 'teammate': 4504, 'countersued': 4505, \"chicago's\": 4506, 'exam': 4507, 'knowledge': 4508, 'weaving': 4509, 'pulling': 4510, 'bolton': 4511, 'escape': 4512, 'prohibit': 4513, \"manhattan's\": 4514, 'follow': 4515, '1980': 4516, '1535': 4517, 'concessions': 4518, 'repealing': 4519, 'selwyn': 4520, 'shirley': 4521, 'claudette': 4522, 'pounded': 4523, 'films': 4524, 'movies': 4525, 'introduction': 4526, 'views': 4527, 'creating': 4528, 'catholics': 4529, 'intervene': 4530, 'stem': 4531, \"yen's\": 4532, 'projects': 4533, 'tournament': 4534, 'runs': 4535, 'schindler': 4536, 'schindlers': 4537, 'disagreed': 4538, 'guinea': 4539, 'checkpoint': 4540, 'gartner': 4541, 'quinn': 4542, 'mongolia': 4543, 'dozens': 4544, 'agree': 4545, 'generous': 4546, 'kathleen': 4547, 'pared': 4548, 'quotes': 4549, 'evacuated': 4550, 'ambushed': 4551, 'dump': 4552, 'lockheed': 4553, 'standoff': 4554, 'monitoring': 4555, 'pill': 4556, 'bacteria': 4557, 'eddie': 4558, 'bauer': 4559, 'divisions': 4560, 'activist': 4561, 'deposited': 4562, 'waited': 4563, 'succeeded': 4564, 'putting': 4565, 'intention': 4566, 'eagan': 4567, 'routes': 4568, 'peaceful': 4569, 'enhanced': 4570, 'anguish': 4571, \"cnn's\": 4572, 'filibuster': 4573, 'hometown': 4574, 'putt': 4575, 'par': 4576, 'jeff': 4577, 'beckham': 4578, 'stemmed': 4579, 'airlifted': 4580, 'fallujah': 4581, 'pressed': 4582, 'automaker': 4583, '340': 4584, 'cover': 4585, 'fighters': 4586, 'arab': 4587, 'slip': 4588, 'durst': 4589, 'struggled': 4590, 'elderly': 4591, 'acquire': 4592, 'acquiring': 4593, 'championships': 4594, 'feared': 4595, 'risks': 4596, 'missiles': 4597, 'hamas': 4598, 'anticipation': 4599, 'exceptional': 4600, 'satisfaction': 4601, 'separation': 4602, 'marks': 4603, 'violating': 4604, 'hayes': 4605, 'native': 4606, 'gordon': 4607, 'stressed': 4608, 'admiral': 4609, '469': 4610, 'sinking': 4611, \"wednesday's\": 4612, \"pakistan's\": 4613, 'injury': 4614, 'comprises': 4615, 'math': 4616, 'classroom': 4617, 'rudolph': 4618, 'units': 4619, 'cheap': 4620, 'dedicated': 4621, 'outlets': 4622, 'nash': 4623, 'beef': 4624, 'postal': 4625, 'suburban': 4626, 'disappointment': 4627, 'thefts': 4628, 'reshuffle': 4629, 'birthday': 4630, 'holiday': 4631, 'ball': 4632, 'grandmother': 4633, 'princess': 4634, 'fidelity': 4635, 'entities': 4636, 'threaten': 4637, 'supporter': 4638, \"saddam's\": 4639, 'asylum': 4640, 'possessed': 4641, 'capable': 4642, 'handled': 4643, 'unearthed': 4644, '00': 4645, 'permit': 4646, 'dusenbery': 4647, 'ties': 4648, 'tense': 4649, 'donate': 4650, 'yarralumla': 4651, 'jeffery': 4652, 'ownership': 4653, 'exceeding': 4654, 'collected': 4655, 'approaching': 4656, 'proponents': 4657, 'laundering': 4658, 'proceeds': 4659, 'rental': 4660, '610': 4661, 'disability': 4662, \"friday's\": 4663, '136': 4664, 'sandy': 4665, \"citigroup's\": 4666, 'tour': 4667, 'offerings': 4668, 'properties': 4669, 'valued': 4670, 'salesforce': 4671, 'thirds': 4672, 'youth': 4673, 'football': 4674, 'lesbian': 4675, \"dean's\": 4676, 'jeter': 4677, 'mulloy': 4678, 'rounds': 4679, 'investigator': 4680, 'heed': 4681, 'lights': 4682, 'reluctant': 4683, 'bills': 4684, 'journalists': 4685, 'protections': 4686, 'iu': 4687, 'oceans': 4688, 'dire': 4689, 'ridge': 4690, 'plants': 4691, \"monsanto's\": 4692, 'independents': 4693, 'cnn': 4694, 'confirms': 4695, \"hortons'\": 4696, 'wish': 4697, 'charlie': 4698, 'violent': 4699, 'manuel': 4700, 'else': 4701, 'primaries': 4702, 'b': 4703, 'credits': 4704, 'ancient': 4705, '109': 4706, 'editorial': 4707, 'aspen': 4708, 'slaying': 4709, 'architect': 4710, 'libeskind': 4711, 'larry': 4712, 'collaboration': 4713, 'surplus': 4714, 'slid': 4715, 'amounted': 4716, 'belonged': 4717, 'leland': 4718, 'occasions': 4719, 'summit': 4720, 'sour': 4721, 'viewed': 4722, \"o'brien's\": 4723, 'biztalk': 4724, 'golf': 4725, 'introducing': 4726, 'determination': 4727, 'installations': 4728, 'comptroller': 4729, '520': 4730, 'pre': 4731, 'favourite': 4732, 'mandate': 4733, 'samuel': 4734, 'breakthrough': 4735, 'astronomers': 4736, 'hackers': 4737, 'causes': 4738, 'spelling': 4739, 'bee': 4740, \"spain's\": 4741, \"rowland's\": 4742, 'physically': 4743, 'sick': 4744, 'shootings': 4745, 'contraction': 4746, 'deskbound': 4747, 'byrd': 4748, 'exporting': 4749, 'defied': 4750, 'contracted': 4751, 'properly': 4752, 'iii': 4753, '921': 4754, 'auditors': 4755, \"ford's\": 4756, \"he'll\": 4757, \"sunday's\": 4758, 'briefed': 4759, '270': 4760, 'counting': 4761, 'dayton': 4762, 'blond': 4763, 'dismay': 4764, \"europe's\": 4765, 'dinner': 4766, 'gbi': 4767, 'advocates': 4768, \"you've\": 4769, 'grocery': 4770, 'knit': 4771, 'highway': 4772, 'licence': 4773, 'goods': 4774, 'idaho': 4775, 'breaking': 4776, 'inch': 4777, 'stick': 4778, 'glover': 4779, 'vs': 4780, 'preparing': 4781, 'informal': 4782, 'recession': 4783, 'averaged': 4784, \"national's\": 4785, 'lebanese': 4786, \"imclone's\": 4787, 'undesirably': 4788, 'col': 4789, 'diplomat': 4790, 'excessive': 4791, 'comfortable': 4792, 'sustained': 4793, 'thaksin': 4794, 'hawaii': 4795, 'model': 4796, 'albums': 4797, 'thirty': 4798, 'reeves': 4799, 'announces': 4800, 'promoted': 4801, 'villages': 4802, 'arteries': 4803, 'ranged': 4804, 'webster': 4805, 'frogs': 4806, 'seychelles': 4807, 'vowed': 4808, 'carrier': 4809, 'astrazeneca': 4810, 'semiconductors': 4811, \"monday's\": 4812, '182': 4813, 'wound': 4814, 'strongest': 4815, 'diseases': 4816, 'islamiyah': 4817, 'smashed': 4818, 'monthly': 4819, 'oversees': 4820, 'brandy': 4821, 'tariffs': 4822, '1976': 4823, 'gehman': 4824, '2010': 4825, 'odette': 4826, 'brisbane': 4827, 'deutsch': 4828, 'criticized': 4829, \"lucent's\": 4830, 'contends': 4831, 'telecommunications': 4832, 'gear': 4833, 'lucent': 4834, '998': 4835, '995': 4836, 'refugee': 4837, 'english': 4838, 'hail': 4839, 'strikes': 4840, 'contracts': 4841, 'capped': 4842, 'dominated': 4843, '931': 4844, 'detector': 4845, 'administered': 4846, 'jurisdiction': 4847, 'oversee': 4848, 'flaw': 4849, 'dialog': 4850, 'consulting': 4851, 'objective': 4852, \"faisal's\": 4853, 'lamas': 4854, 'martinez': 4855, 'prisons': 4856, 'greenback': 4857, 'connolly': 4858, 'bayoumi': 4859, 'abroad': 4860, 'regardless': 4861, \"magistrate's\": 4862, 'venango': 4863, 'litigation': 4864, 'delaware': 4865, 'avenues': 4866, 'daniels': 4867, 'slice': 4868, 'misconduct': 4869, \"michigan's\": 4870, 'nestle': 4871, 'francois': 4872, 'mechanical': 4873, 'lucky': 4874, 'stars': 4875, 'comcast': 4876, 'fought': 4877, 'column': 4878, 'miners': 4879, 'minor': 4880, 'memories': 4881, 'pie': 4882, 'detectives': 4883, 'ntp': 4884, 'outline': 4885, 'graduate': 4886, 'typically': 4887, 'uconn': 4888, 'coastal': 4889, 'shooter': 4890, 'minors': 4891, 'proceed': 4892, 'meester': 4893, 'surprisingly': 4894, 'endorsement': 4895, 'intentionally': 4896, 'garton': 4897, \"governor's\": 4898, 'wounds': 4899, 'wyeth': 4900, '8bn': 4901, 'extension': 4902, 'regime': 4903, 'donations': 4904, 'responded': 4905, 'evidently': 4906, 'bustamante': 4907, 'physicist': 4908, 'independence': 4909, 'juvenile': 4910, 'protective': 4911, 'parties': 4912, 'interior': 4913, '102': 4914, \"china's\": 4915, 'nevada': 4916, 'spotted': 4917, 'monsanto': 4918, 'johnston': 4919, 'bolstering': 4920, 'slump': 4921, 'dubbed': 4922, 'voucher': 4923, 'reality': 4924, 'avenue': 4925, 'breaks': 4926, 'violates': 4927, 'copyright': 4928, 'freedom': 4929, 'qaida': 4930, 'outlined': 4931, 'redistricting': 4932, 'rick': 4933, 'punishment': 4934, 'teamsters': 4935, 'guy': 4936, 'steve': 4937, 'dixon': 4938, 'abduction': 4939, 'adults': 4940, 'shy': 4941, 'toddlers': 4942, 'bare': 4943, 'stay': 4944, 'zones': 4945, 'voiced': 4946, 'floating': 4947, 'incidence': 4948, 'floods': 4949, 'nicklaus': 4950, 'exemption': 4951, 'cedar': 4952, 'leaks': 4953, 'intend': 4954, 'integrated': 4955, 'speakers': 4956, 'prospect': 4957, 'waco': 4958, 'guru': 4959, 'troubles': 4960, 'various': 4961, 'lewis': 4962, 'underwent': 4963, 'liver': 4964, 'rivers': 4965, 'im': 4966, 'hamilton': 4967, 'aftermath': 4968, 'suv': 4969, 'tripled': 4970, '368': 4971, 'singled': 4972, 'yemeni': 4973, 'enter': 4974, 'rbi': 4975, 'consistent': 4976, 'tigers': 4977, 'eelam': 4978, 'ba': 4979, 'blagojevich': 4980, 'recording': 4981, 'firmly': 4982, 'malpractice': 4983, 'limits': 4984, '1982': 4985, 'chapman': 4986, 'indicators': 4987, 'fields': 4988, 'country’s': 4989, \"hodgkin's\": 4990, 'lymphoma': 4991, 'chanted': 4992, 'blocked': 4993, 'bio': 4994, 'crops': 4995, 'crawford': 4996, 'ciobanu': 4997, 'worries': 4998, 'contractor': 4999, \"kline's\": 5000, 'dealt': 5001, 'recognized': 5002, 'photograph': 5003, 'rulings': 5004, 'bulls': 5005, 'todd': 5006, 'parlor': 5007, 'ridiculous': 5008, 'plead': 5009, '450': 5010, 'tend': 5011, 'chromosome': 5012, 'warren': 5013, 'climbing': 5014, \"eu's\": 5015, 'columbine': 5016, 'impersonation': 5017, 'mallard': 5018, 'acquitted': 5019, 'rigorously': 5020, 'partial': 5021, 'presiding': 5022, \"we'll\": 5023, 'perjury': 5024, 'theaters': 5025, 'cdma': 5026, 'conclusion': 5027, 'blew': 5028, 'baptist': 5029, 'picking': 5030, \"washington's\": 5031, 'venue': 5032, 'promised': 5033, 'referendum': 5034, 'li': 5035, 'cheung': 5036, 'billionaire': 5037, 'jesus': 5038, 'asleep': 5039, 'richter': 5040, 'succeed': 5041, 'robinson': 5042, 'minneapolis': 5043, 'striking': 5044, 'barred': 5045, 'prairie': 5046, 'dogs': 5047, 'pole': 5048, 'teaching': 5049, 'tube': 5050, \"fed's\": 5051, 'weakened': 5052, 'afghan': 5053, 'guerrillas': 5054, '180': 5055, 'frequent': 5056, 'attacking': 5057, 'proportion': 5058, 'super': 5059, 'agricultural': 5060, 'gerry': 5061, 'astronaut': 5062, 'pa': 5063, 'heating': 5064, 'settled': 5065, 'embarrassing': 5066, 'baby': 5067, 'blanket': 5068, 'uncertainty': 5069, 'scrambling': 5070, \"atlanta's\": 5071, 'partners': 5072, 'chair': 5073, 'median': 5074, 'colleague': 5075, 'ambulance': 5076, 'moroccan': 5077, 'radical': 5078, 'horror': 5079, 'des': 5080, 'ranch': 5081, 'pen': 5082, '170': 5083, \"wife's\": 5084, 'abandon': 5085, 'fence': 5086, 'merchants': 5087, 'sounds': 5088, 'combine': 5089, 'reader': 5090, 'mcbride': 5091, 'cindy': 5092, 'publicist': 5093, 'partly': 5094, 'shareholder': 5095, 'marked': 5096, 'watched': 5097, 'boot': 5098, 'slaughter': 5099, 'sets': 5100, 'expanding': 5101, 'dropping': 5102, 'palmsource': 5103, 'redwood': 5104, 'sentiment': 5105, 'leg': 5106, 'saga': 5107, 'opinions': 5108, 'brianna': 5109, 'flies': 5110, 'newton': 5111, 'attendant': 5112, 'attacker': 5113, 'obstructing': 5114, 'achieve': 5115, 'spaceflight': 5116, 'dangers': 5117, 'baath': 5118, 'applause': 5119, 'pace': 5120, 'changing': 5121, 'lose': 5122, 'scientist': 5123, 'approving': 5124, 'faculty': 5125, 'wedding': 5126, 'seeing': 5127, 'infections': 5128, 'informant': 5129, 'imprisoned': 5130, 'dad': 5131, 'scotland': 5132, 'advocated': 5133, 'workplace': 5134, 'learning': 5135, 'backing': 5136, 'groundbreaking': 5137, 'values': 5138, \"february's\": 5139, 'beagle': 5140, 'mechanism': 5141, 'kevin': 5142, 'bits': 5143, 'legend': 5144, 'intensive': 5145, \"cia's\": 5146, 'burst': 5147, 'reprimanded': 5148, 'dorchester': 5149, 'delegates': 5150, 'passing': 5151, 'sentencing': 5152, 'loses': 5153, 'newisys': 5154, 'snapping': 5155, 'sift': 5156, 'honda': 5157, 'peak': 5158, 'drink': 5159, 'pepsico': 5160, 'conceded': 5161, 'looting': 5162, 'attributed': 5163, 'pedestrian': 5164, 'sport': 5165, 'responding': 5166, 'smallpox': 5167, 'territory': 5168, 'exist': 5169, 'studied': 5170, 'intensify': 5171, 'profitability': 5172, 'reliability': 5173, 'scenario': 5174, 'influence': 5175, 'bangkok': 5176, 'reserve': 5177, 'sydney': 5178, 'withdrew': 5179, 'parrado': 5180, 'shocked': 5181, 'bloody': 5182, 'supposed': 5183, 'wear': 5184, 'reserves': 5185, '175': 5186, 'horrific': 5187, 'nile': 5188, 'kings': 5189, 'reliable': 5190, 'beatles': 5191, 'soviet': 5192, 'crews': 5193, 'rolling': 5194, \"chechnya's\": 5195, 'arguments': 5196, 'jay': 5197, 'restate': 5198, 'geoghan': 5199, 'petition': 5200, 'rolled': 5201, 'questioning': 5202, 'bug': 5203, 'newly': 5204, 'forrester': 5205, '987': 5206, 'distance': 5207, 'dsl': 5208, 'unlicensed': 5209, 'misdemeanor': 5210, \"you're\": 5211, 'itunes': 5212, 'professionals': 5213, 'ericsson': 5214, '149': 5215, 'willing': 5216, 'greg': 5217, 'fertilizer': 5218, 'discrimination': 5219, 'besides': 5220, 'skies': 5221, 'airports': 5222, 'plc': 5223, 'advancers': 5224, 'qantas': 5225, 'vanderpool': 5226, 'druce': 5227, 'occupation': 5228, 'shattered': 5229, 'raiser': 5230, 'aquila': 5231, 'stories': 5232, 'slocan': 5233, 'dissent': 5234, 'heat': 5235, 'forest': 5236, 'calculation': 5237, 'pneumonia': 5238, 'concludes': 5239, 'hamburger': 5240, 'consortium': 5241, '126': 5242, 'regulation': 5243, 'khatami': 5244, 'luzerne': 5245, 'notebook': 5246, 'torso': 5247, 'intense': 5248, 'loved': 5249, '185': 5250, 'kenya': 5251, 'powderject': 5252, 'coroner': 5253, 'liberty': 5254, 'flag': 5255, 'sharon': 5256, 'geragos': 5257, 'mcdonald': 5258, 'meat': 5259, 'packs': 5260, 'botswana': 5261, 'relief': 5262, 'winners': 5263, \"drax's\": 5264, 'felony': 5265, 'alcoa': 5266, 'weingarten': 5267, 'vetoed': 5268, 'initiate': 5269, 'wholesalers': 5270, 'hoping': 5271, 'springs': 5272, 'classes': 5273, 'warns': 5274, 'cholera': 5275, 'waste': 5276, 'resident': 5277, 'eisenbrandt': 5278, 'christina': 5279, 'catcher': 5280, 'ahmad': 5281, 'liberia': 5282, 'quite': 5283, 'drowning': 5284, 'toy': 5285, 'spreading': 5286, 'mckinlay': 5287, 'ways': 5288, 'rational': 5289, 'alleges': 5290, 'painted': 5291, 'summary': 5292, 'departure': 5293, 'flier': 5294, 'sprint': 5295, 'extra': 5296, '116': 5297, 'uranium': 5298, 'stood': 5299, 'grid': 5300, 'computing': 5301, 'kick': 5302, 'tacoma': 5303, 'shipping': 5304, 'households': 5305, \"show's\": 5306, 'serves': 5307, 'functions': 5308, 'southwestern': 5309, 'malicious': 5310, 'dynes': 5311, 'kathy': 5312, 'signal': 5313, 'frequency': 5314, 'rollover': 5315, 'strengthen': 5316, 'zealand': 5317, 'legislator': 5318, 'railroad': 5319, 'grossed': 5320, 'dream': 5321, 'embedded': 5322, 'taxable': 5323, 'cullen': 5324, 'newspapers': 5325, 'uses': 5326, 'verify': 5327, 'mosel': 5328, 'flood': 5329, 'damascus': 5330, 'ahmed': 5331, 'wonder': 5332, 'deceased': 5333, 'metropolitan': 5334, 'founder': 5335, 'substance': 5336, 'apart': 5337, 'ejected': 5338, 'suvs': 5339, 'freeze': 5340, 'civilians': 5341, 'alex': 5342, 'motor': 5343, 'uni': 5344, 'fetch': 5345, 'shoppers': 5346, 'polish': 5347, 'aviation': 5348, '735': 5349, 'hidden': 5350, 'filings': 5351, 'quit': 5352, 'wounding': 5353, 'hormone': 5354, 'fill': 5355, 'sliding': 5356, 'hatred': 5357, 'hal': 5358, 'sarah': 5359, 'pain': 5360, '310': 5361, 'stages': 5362, 'collect': 5363, 'shore': 5364, 'race': 5365, 'turning': 5366, 'alexander': 5367, 'outrage': 5368, 'reaffirmed': 5369, 'walk': 5370, 'pratt': 5371, 'outsourced': 5372, 'emeryville': 5373, 'jeeves': 5374, 'belief': 5375, 'dylan': 5376, 'accommodate': 5377, 'battles': 5378, 'editions': 5379, 'aiding': 5380, 'panties': 5381, 'sank': 5382, 'presidents': 5383, 'knows': 5384, 'bennett': 5385, 'suisse': 5386, 'politics': 5387, 'endorse': 5388, \"electric's\": 5389, 'listening': 5390, 'charlton': 5391, 'judges': 5392, 'roma': 5393, 'replacement': 5394, 'wind': 5395, 'unknown': 5396, 'disturbance': 5397, 'syndia': 5398, \"dell's\": 5399, 'resolved': 5400, 'recordings': 5401, '141': 5402, 'firefighter': 5403, 'blaze': 5404, '557': 5405, 'shield': 5406, 'effective': 5407, 'harper': 5408, 'brothers': 5409, 'male': 5410, 'nist': 5411, 'thickness': 5412, 'inches': 5413, 'cadets': 5414, 'lies': 5415, 'inland': 5416, 'truss': 5417, '256': 5418, 'publishers': 5419, 'oppose': 5420, 'rotating': 5421, 'presidency': 5422, '246': 5423, 'slated': 5424, 'signature': 5425, 'rowling': 5426, 'unsuccessfully': 5427, 'studabaker': 5428, 'recommendation': 5429, 'bans': 5430, 'undermining': 5431, 'reducing': 5432, 'argues': 5433, 'prepare': 5434, 'receipts': 5435, 'careful': 5436, 'vision': 5437, 'quarters': 5438, \"robinson's\": 5439, 'freed': 5440, 'manslaughter': 5441, 'pilots': 5442, 'appearance': 5443, 'grief': 5444, 'judgment': 5445, 'puretunes': 5446, 'kilograms': 5447, 'lingering': 5448, 'longhorn': 5449, 'savage': 5450, 'ratliff': 5451, 'attractive': 5452, 'mccartney': 5453, 'laid': 5454, 'consolidate': 5455, 'motive': 5456, 'aside': 5457, 'dossier': 5458, 'notification': 5459, 'awaiting': 5460, 'veto': 5461, '750': 5462, 'generate': 5463, 'submitting': 5464, 'stealing': 5465, 'jakarta': 5466, 'opforce': 5467, 'downgrade': 5468, '156': 5469, 'credentials': 5470, 'delighted': 5471, 'tsx': 5472, 'promote': 5473, \"patrolmen's\": 5474, 'benevolent': 5475, 'requiring': 5476, 'dumped': 5477, 'wolves': 5478, 'attract': 5479, 'peacefully': 5480, 'pauley': 5481, 'delaying': 5482, 'adams': 5483, 'ism': 5484, 'banking': 5485, 'youths': 5486, 'spa': 5487, 'designated': 5488, 'gansas': 5489, \"general's\": 5490, 'undertaken': 5491, 'marketplace': 5492, 'jensen': 5493, 'paris': 5494, 'lightning': 5495, 'babies': 5496, 'mention': 5497, 'edge': 5498, 'surf': 5499, 'chelsea': 5500, 'aes': 5501, 'sosa': 5502, 'cosmetic': 5503, 'impossible': 5504, 'bat': 5505, 'portion': 5506, 'ryan': 5507, 'hiding': 5508, 'bounty': 5509, 'dynegy': 5510, 'salem': 5511, 'huff': 5512, 'banning': 5513, 'defined': 5514, 'rod': 5515, 'ortiz': 5516, 'meant': 5517, 'alive': 5518, \"california's\": 5519, 'talent': 5520, 'pizza': 5521, 'barbara': 5522, 'riva': 5523, 'unexpected': 5524, 'hits': 5525, 'rollins': 5526, 'belgian': 5527, 'hca': 5528, 'brazilian': 5529, 'outlining': 5530, 'pixels': 5531, 'packed': 5532, 'rig': 5533, 'michelle': 5534, 'amateur': 5535, 'watches': 5536, 'haiti': 5537, 'dominican': 5538, 'southeastern': 5539, 'lend': 5540, 'skeptics': 5541, 'wonderful': 5542, '<ncp': 5543, 'brambles': 5544, '<bil': 5545, 'worship': 5546, 'gustaf': 5547, 'nea': 5548, 'aims': 5549, 'education': 5550, 'agendas': 5551, 'recouping': 5552, 'optimism': 5553, 'cloud': 5554, 'hagel': 5555, 'command’s': 5556, 'roslynn': 5557, 'mauskopf': 5558, 'ruslan': 5559, 'khadzhiyev': 5560, 'viral': 5561, 'chorale': 5562, 'devore': 5563, 'mud': 5564, 'allison': 5565, 'proves': 5566, 'lichter': 5567, 'collaborate': 5568, 'psa': 5569, 'biopsy': 5570, 'diagnosis': 5571, 'lauderdale': 5572, 'brighten': 5573, 'thousand': 5574, 'benning': 5575, 'infantry': 5576, 'forty': 5577, 'kessler': 5578, 'tools': 5579, 'copps': 5580, 'owed': 5581, 'cortisol': 5582, 'saliva': 5583, 'judged': 5584, 'exempting': 5585, 'ratified': 5586, 'tones': 5587, 'carriers': 5588, 'cpi': 5589, 'alesha': 5590, 'badgley': 5591, 'stone': 5592, 'rehabilitation': 5593, 'quantities': 5594, 'vienna': 5595, \"iran's\": 5596, 'bo': 5597, \"levin's\": 5598, 'levin': 5599, 'hedges': 5600, 'unharmed': 5601, 'hurlock': 5602, 'md': 5603, 'instructed': 5604, 'broomhead': 5605, '2nd': 5606, 'infringement': 5607, 'counter': 5608, 'burning': 5609, 'tower': 5610, 'frantically': 5611, 'dialed': 5612, '911': 5613, 'contains': 5614, 'algebra': 5615, 'geometry': 5616, 'probability': 5617, 'sriyanto': 5618, 'lasted': 5619, 'mcnair': 5620, 'jailbreak': 5621, 'borrowed': 5622, 'examinations': 5623, \"month's\": 5624, 'aspirin': 5625, 'ticlopidine': 5626, 'gephardt': 5627, 'distributor': 5628, 'unlike': 5629, 'hazzard': 5630, 'novels': 5631, 'jungle': 5632, 'automates': 5633, 'describing': 5634, 'kidnap': 5635, \"dollar's\": 5636, 'curbed': 5637, '498': 5638, 'mariners': 5639, 'choate': 5640, 'acevedo': 5641, 'eighth': 5642, 'tendered': 5643, 'dates': 5644, 'downloads': 5645, 'usurped': 5646, \"computer's\": 5647, 'shipment': 5648, 'millville': 5649, 'checkpoints': 5650, 'arifin': 5651, 'minded': 5652, 'clubs': 5653, \"cheetah's\": 5654, 'jaguars': 5655, 'galardi': 5656, 'woori': 5657, 'stakes': 5658, 'byrne': 5659, 'ap': 5660, 'townspeople': 5661, 'kemakeza': 5662, 'guns': 5663, 'masajuro': 5664, 'shiokawa': 5665, 'strengthened': 5666, 'intervened': 5667, 'maturing': 5668, 'mzoudi': 5669, 'preparations': 5670, 'chris': 5671, 'lubanski': 5672, 'congressman': 5673, 'smoothly': 5674, 'rare': 5675, 'challenges': 5676, 'drill': 5677, 'arequipa': 5678, 'protests': 5679, 'diplomacy': 5680, 'surest': 5681, 'snow': 5682, 'clutches': 5683, 'tyrant': 5684, 'castro': 5685, 'sirtf': 5686, 'hubble': 5687, 'observatories': 5688, 'hema': 5689, 'reliably': 5690, 'reminders': 5691, 'johns': 5692, 'hopkins': 5693, 'chaos': 5694, 'damaging': 5695, 'logging': 5696, 'fishing': 5697, \"claritin's\": 5698, \"plough's\": 5699, 'hepatitis': 5700, 'antiviral': 5701, 'ribavirin': 5702, '160': 5703, 'lisa': 5704, 'erickson': 5705, 'barbra': 5706, 'streisand': 5707, 'ukrainian': 5708, 'leonid': 5709, 'kuchma': 5710, 'ukraine': 5711, 'smoldering': 5712, 'boulder': 5713, 'symbolically': 5714, 'please': 5715, 'homework': 5716, 'bavelier': 5717, 'twins': 5718, 'nonetheless': 5719, 'sustainable': 5720, 'battled': 5721, 'skirting': 5722, 'imported': 5723, 'predictable': 5724, 'obtained': 5725, 'barbados': 5726, 'burns': 5727, 'confessing': 5728, 'proclaiming': 5729, 'softly': 5730, 'weatherall': 5731, 'kan': 5732, 'patriot': 5733, 'nevertheless': 5734, 'pooh': 5735, 'poohed': 5736, 'carries': 5737, 'pfc': 5738, \"ferry's\": 5739, 'inamed': 5740, 'losers': 5741, 'birdie': 5742, 'incorrect': 5743, 'muris': 5744, 'jill': 5745, 'hennessy': 5746, 'shelve': 5747, 'courant': 5748, 'earn': 5749, 'alienate': 5750, 'ashcroft': 5751, 'verbal': 5752, 'keating': 5753, 'cardinal': 5754, 'accusing': 5755, 'torch': 5756, 'austreng': 5757, 'roadside': 5758, 'automatic': 5759, 'gunfire': 5760, 'rattled': 5761, 'outsiders': 5762, 'accidentally': 5763, 'mansion': 5764, 'ximian': 5765, 'novell': 5766, 'unparalleled': 5767, 'expertise': 5768, 'leverage': 5769, 'initiatives': 5770, 'datadirect': 5771, 'meter': 5772, 'turnover': 5773, '<us30yt': 5774, 'rr>': 5775, '986': 5776, 'separated': 5777, 'priority': 5778, 'checking': 5779, 'invesco': 5780, '260': 5781, 'taubman': 5782, 'fend': 5783, 'operator': 5784, 'cdc': 5785, 'interactions': 5786, 'sponsor': 5787, \"racing's\": 5788, 'wheeler': 5789, 'mcnabb': 5790, 'brooks': 5791, 'automobile': 5792, 'lesson': 5793, 'reflection': 5794, 'emphasized': 5795, 'novikova': 5796, 'ballerinas': 5797, 'volochkova': 5798, 'indices': 5799, 'performing': 5800, 'germans': 5801, '460': 5802, 'chester': 5803, 'shiites': 5804, 'homecomings': 5805, '7th': 5806, 'postponed': 5807, 'timing': 5808, 'pushing': 5809, 'postpone': 5810, 'idec': 5811, 'pose': 5812, 'reads': 5813, 'ate': 5814, 'complexities': 5815, 'refineries': 5816, 'aaa': 5817, 'jerry': 5818, 'cheske': 5819, 'herself': 5820, 'finalized': 5821, 'companys': 5822, 'hostage': 5823, '975': 5824, 'michel': 5825, 'provoked': 5826, 'propelled': 5827, 'mortars': 5828, 'bunkers': 5829, 'clare': 5830, 'dixons': 5831, 'objected': 5832, \"commission's\": 5833, 'stevens': 5834, 'useful': 5835, 'flank': 5836, 'beverage': 5837, 'forthcoming': 5838, 'reception': 5839, 'monetary': 5840, 'kempenaers': 5841, 'notably': 5842, 'swans': 5843, 'birds': 5844, 'albatross': 5845, 'mate': 5846, 'exists': 5847, 'gao': 5848, 'contacted': 5849, 'slew': 5850, 'schumer': 5851, 'interviewer': 5852, 'outlive': 5853, 'rings': 5854, 'fran': 5855, 'longtime': 5856, '983': 5857, '945': 5858, 'msft': 5859, 'olivet': 5860, '3289': 5861, 'thyroid': 5862, 'stimulating': 5863, 'metabolism': 5864, 'gigabyte': 5865, 'sendmail': 5866, 'fiancee': 5867, 'wheat': 5868, 'settling': 5869, 'frayed': 5870, 'maj': 5871, 'larned': 5872, 'speeds': 5873, 'kbps': 5874, 'islamiah': 5875, 'fugitives': 5876, 'tuxedo': 5877, 'phony': 5878, 'modify': 5879, '616': 5880, 'newsmagazine': 5881, 'airings': 5882, 'falls': 5883, 'library': 5884, 'sanford': 5885, 'assassinated': 5886, 'downtime': 5887, 'allocated': 5888, 'ig': 5889, \"farben's\": 5890, 'totalling': 5891, 'licensing': 5892, \"com's\": 5893, 'gambled': 5894, 'andres': 5895, 'rivera': 5896, \"lion's\": 5897, 'arts': 5898, 'lombardi': 5899, 'inclusion': 5900, 'dislocated': 5901, 'micron': 5902, 'elpida': 5903, 'yochum': 5904, 'gyorgy': 5905, 'heizler': 5906, 'expectation': 5907, 'juries': 5908, 'molecular': 5909, 'authors': 5910, '261': 5911, 'ambitiously': 5912, '012': 5913, 'leakers': 5914, 'jeopardy': 5915, 'recurring': 5916, 'humphries': 5917, 'predatory': 5918, 'deeper': 5919, 'bochk': 5920, 'allergies': 5921, 'suffer': 5922, 'reactions': 5923, \"nissan's\": 5924, 'bund': 5925, 'reshaping': 5926, 'samplers': 5927, 'thanks': 5928, 'pittsburgh': 5929, 'rutgers': 5930, 'conn': 5931, 'mediation': 5932, 'viewers': 5933, 'firming': 5934, 'weakening': 5935, 'accumulated': 5936, 'smartdefense': 5937, 'ellison': 5938, 'stanislaus': 5939, 'workforce': 5940, 'costner': 5941, 'cowboy': 5942, 'earners': 5943, 'types': 5944, 'concord': 5945, 'suppose': 5946, 'juniper': 5947, 'blaine': 5948, 'tracey': 5949, 'popovich': 5950, 'willumstad': 5951, 'flintstones': 5952, 'beethoven': 5953, 'jingle': 5954, 'egyptologists': 5955, 'mummy': 5956, 'queen': 5957, 'nefertiti': 5958, 'calvert': 5959, '2007': 5960, 'tag': 5961, 'consenting': 5962, 'uva': 5963, 'intensities': 5964, 'silverstein': 5965, 'childs': 5966, 'extensive': 5967, 'sailing': 5968, 'anomeritis': 5969, 'budgets': 5970, 'notifying': 5971, 'riders': 5972, 'cfo': 5973, 'affiliation': 5974, 'vaughn': 5975, 'clarke': 5976, 'shout': 5977, \"let's\": 5978, 'jew': 5979, 'rovers': 5980, 'geologists': 5981, 'intefadeh': 5982, 'renounced': 5983, 'wherever': 5984, 'acclimated': 5985, 'aquarium': 5986, 'submit': 5987, 'focuses': 5988, \"schwarzenegger's\": 5989, 'routines': 5990, 'prowess': 5991, 'bodybuilder': 5992, 'printed': 5993, 'premium': 5994, 'sql': 5995, 'isa': 5996, 'pathway': 5997, 'penetrate': 5998, \"ship's\": 5999, 'thermal': 6000, \"columbia's\": 6001, 'torrey': 6002, 'imports': 6003, \"kyi's\": 6004, 'aides': 6005, 'omaha': 6006, 'safeway': 6007, '222': 6008, 'racketeering': 6009, 'felonies': 6010, 'borough': 6011, 'warfare': 6012, 'draining': 6013, 'ponds': 6014, 'fifty': 6015, 'arrange': 6016, 'terry': 6017, 'mcauliffe': 6018, 'sanctioned': 6019, 'establishment': 6020, 'liner': 6021, 'damon': 6022, 'oldest': 6023, 'distant': 6024, 'roads': 6025, 'jailed': 6026, 'amsterdam': 6027, 'squirt': 6028, 'nose': 6029, 'rhinovirus': 6030, 'nasty': 6031, 'germ': 6032, 'colds': 6033, 'assessment': 6034, 'volodymyr': 6035, 'gorbanovsky': 6036, \"plane's\": 6037, 'veered': 6038, 'strikingly': 6039, 'feelings': 6040, '76th': 6041, 'scripps': 6042, 'alerts': 6043, '737': 6044, '700s': 6045, \"stewart's\": 6046, 'dismissal': 6047, 'sens': 6048, 'warrior': 6049, 'purposes': 6050, 'tamoxifen': 6051, 'mammogram': 6052, 'screening': 6053, 'lamented': 6054, 'liftoff': 6055, 'researcher': 6056, '4am': 6057, 'vba': 6058, 'excel': 6059, 'buffer': 6060, 'overrun': 6061, 'object': 6062, 'latino': 6063, 'insight': 6064, 'controversy': 6065, 'ambush': 6066, 'busy': 6067, 'gurus': 6068, 'condoleezza': 6069, '654': 6070, 'dennis': 6071, 'kucinich': 6072, 'ncaa': 6073, 'denounced': 6074, 'powder': 6075, 'outfits': 6076, 'clubhouse': 6077, \"unabomber's\": 6078, 'habis': 6079, 'saoub': 6080, 'abdullah': 6081, 'balancing': 6082, 'mcdevitt': 6083, 'policing': 6084, 'solomons': 6085, 'alpharetta': 6086, 'dining': 6087, 'reassigned': 6088, 'peeler': 6089, 'fun': 6090, 'doris': 6091, 'brasher': 6092, 'offs': 6093, \"program's\": 6094, 'margins': 6095, 'overcame': 6096, 'seemingly': 6097, 'dig': 6098, 'terminated': 6099, \"sequent's\": 6100, 'code': 6101, 'methods': 6102, 'agrees': 6103, 'gilles': 6104, 'organiser': 6105, '8am': 6106, 'carlson': 6107, 'recuse': 6108, 'saxony': 6109, 'schleswig': 6110, 'holstein': 6111, \"axcan's\": 6112, '009': 6113, 'moonlighting': 6114, 'songwriter': 6115, 'lcd': 6116, 'rein': 6117, 'scruggs': 6118, 'testify': 6119, 'banner': 6120, 'hoisted': 6121, 'wept': 6122, 'happiness': 6123, 'outperformed': 6124, 'tacked': 6125, '699': 6126, 'martial': 6127, 'martialled': 6128, '1973': 6129, 'wade': 6130, 'isaf': 6131, 'treaty': 6132, 'shallow': 6133, 'benin': 6134, 'sierra': 6135, 'leone': 6136, 'ces': 6137, 'unveil': 6138, 'soda': 6139, 'davydenko': 6140, 'upscale': 6141, 'jwn': 6142, 'concerning': 6143, 'servicemen': 6144, 'therefore': 6145, \"people's\": 6146, 'pool': 6147, 'zembei': 6148, 'mizoguchi': 6149, 'stern': 6150, 'fargo': 6151, 'quicken': 6152, 'loans': 6153, 'ahn': 6154, 'recruiters': 6155, 'seasoned': 6156, 'trickiest': 6157, 'hires': 6158, 'cleat': 6159, 'gusts': 6160, 'disorganized': 6161, 'asean': 6162, 'thus': 6163, 'conservation': 6164, 'abplanalp': 6165, 'plastic': 6166, 'valve': 6167, 'cintas': 6168, 'unionize': 6169, \"labor's\": 6170, 'demands': 6171, \"powell's\": 6172, 'conversation': 6173, '662': 6174, 'competitors': 6175, 'hinder': 6176, 'emergence': 6177, 'eustachy': 6178, 'alcoholic': 6179, 'suggestion': 6180, 'honour': 6181, 'tellabs': 6182, 'landale': 6183, 'aqueduct': 6184, 'weinshall': 6185, 'yeager': 6186, 'ends': 6187, 'keanu': 6188, 'aronda': 6189, 'nyakairima': 6190, 'herrera': 6191, 'guatemala': 6192, 'strapped': 6193, 'gurney': 6194, 'swisher': 6195, 'pillaging': 6196, \"liberia's\": 6197, 'consisted': 6198, 'guyanese': 6199, 'descent': 6200, \"patients'\": 6201, 'drewes': 6202, 'ding': 6203, 'dong': 6204, 'ditch': 6205, 'ringing': 6206, 'doorbells': 6207, 'doors': 6208, 'norton': 6209, 'sloan': 6210, 'kettering': 6211, 'pickering': 6212, 'peabody': 6213, 'btu': 6214, 'regulate': 6215, 'campaigns': 6216, 'millionaires': 6217, 'caesars': 6218, '653': 6219, 'resumed': 6220, 'glitches': 6221, '1pc': 6222, 'concurrence': 6223, 'predicting': 6224, 'builder': 6225, '499': 6226, 'undervalues': 6227, 'tariff': 6228, 'ganczarski': 6229, 'advisories': 6230, '540': 6231, 'courthouse': 6232, 'culmination': 6233, '4th': 6234, 'unsealed': 6235, 'edited': 6236, 'laughable': 6237, 'werdegar': 6238, 'arkansas': 6239, 'laci': 6240, 'immune': 6241, 'suppressed': 6242, 'illness': 6243, 'treason': 6244, 'mascia': 6245, 'frye': 6246, 'prussia': 6247, 'liquidate': 6248, 'buyer': 6249, 'philadelphia': 6250, 'mutinous': 6251, 'retreated': 6252, 'lawtey': 6253, 'outlines': 6254, \"mao's\": 6255, 'mao': 6256, 'revolution': 6257, 'donation': 6258, 'itinerant': 6259, 'patching': 6260, 'preliminary': 6261, \"what's\": 6262, 'caribbean': 6263, 'jump': 6264, 'montgomery': 6265, 'enact': 6266, 'congratulate': 6267, 'blondel': 6268, 'castrated': 6269, 'aroused': 6270, 'bribery': 6271, 'undoubted': 6272, 'dictionary': 6273, 'respected': 6274, 'negotiating': 6275, 'wages': 6276, 'rises': 6277, \"husband's\": 6278, 'retire': 6279, 'suggest': 6280, 'kethley': 6281, 'implementing': 6282, 'annika': 6283, 'sorenstam': 6284, 'lpga': 6285, 'featuring': 6286, 'duke': 6287, 'luis': 6288, 'alberto': 6289, 'suarez': 6290, 'yosvani': 6291, 'hereby': 6292, 'carrizales': 6293, 'villa': 6294, 'mexican': 6295, 'harlingen': 6296, 'condit': 6297, 'clarifying': 6298, 'vladimiro': 6299, 'montesinos': 6300, 'trafficking': 6301, 'disappearances': 6302, \"tennessee's\": 6303, '721': 6304, 'climb': 6305, 'beer': 6306, 'deliberation': 6307, 'removing': 6308, 'themba': 6309, 'nyathi': 6310, 'kremlin': 6311, 'fasting': 6312, 'glucose': 6313, 'mg': 6314, 'dl': 6315, 'turnout': 6316, 'elect': 6317, 'power5': 6318, 'power4': 6319, 'cores': 6320, 'rents': 6321, 'renewals': 6322, 'advani': 6323, 'sincerity': 6324, 'handing': 6325, 'delhi': 6326, 'machine': 6327, 'cracked': 6328, 'ptrace': 6329, \"kroger's\": 6330, 'ralphs': 6331, 'locked': 6332, 'cellular': 6333, 'digital': 6334, 'jewelry': 6335, 'belonging': 6336, 'gang': 6337, 'redesigned': 6338, 'coloured': 6339, 'browsing': 6340, 'organise': 6341, 'avoided': 6342, 'perception': 6343, 'perroud': 6344, 'modem': 6345, 'hoffenblum': 6346, 'continuous': 6347, \"lowe's\": 6348, \"bolivia's\": 6349, 'streaming': 6350, 'electricity': 6351, 'totaled': 6352, 'forgetful': 6353, 'menopause': 6354, \"deasean's\": 6355, 'stelly': 6356, 'chisolm': 6357, 'kimberly': 6358, 'discord': 6359, '039': 6360, 'blackberry': 6361, 'motors': 6362, 'argos': 6363, 'gus': 6364, 'littlewoods': 6365, 'ultimate': 6366, 'uc': 6367, 'lists': 6368, 'arrival': 6369, 'fielded': 6370, 'surveillance': 6371, 'sitefinder': 6372, 'increasing': 6373, 'attending': 6374, 'colored': 6375, 'touches': 6376, 'chase': 6377, 'chased': 6378, 'souter': 6379, 'outback': 6380, 'steakhouse': 6381, \"grace's\": 6382, '280': 6383, 'wrongful': 6384, 'termination': 6385, 'admit': 6386, 'steelworkers': 6387, 'reservists': 6388, 'overseas': 6389, 'battalion': 6390, 'clearing': 6391, 'rubble': 6392, 'playgrounds': 6393, 'restoring': 6394, 'irrigation': 6395, 'gillette': 6396, 'bondsteel': 6397, 'stationed': 6398, 'anticipating': 6399, 'tempore': 6400, '9266': 6401, '240': 6402, 'omar': 6403, 'faruq': 6404, 'location': 6405, 'paracha': 6406, 'ncsd': 6407, 'calmed': 6408, 'grande': 6409, 'cache': 6410, 'alta': 6411, 'carrot': 6412, 'sask': 6413, 'chapleau': 6414, 'ont': 6415, 'aberdeen': 6416, 'tuesdays': 6417, 'hrt': 6418, 'monitor': 6419, '4bn': 6420, 'bones': 6421, 'trace': 6422, 'blumenthal': 6423, 'invading': 6424, 'procurement': 6425, 'reinvestment': 6426, \"dillard's\": 6427, 'explode': 6428, 'cordiant': 6429, 'osheroff': 6430, 'pinned': 6431, 'kingsville': 6432, 'granato': 6433, 'montenegro': 6434, 'dragan': 6435, 'hajdukovic': 6436, \"dennehy's\": 6437, 'baylor': 6438, 'rebalance': 6439, 'huweirini': 6440, 'narrowed': 6441, 'icf': 6442, 'preferences': 6443, 'retroviral': 6444, 'manto': 6445, 'tshabalala': 6446, 'msimang': 6447, '112': 6448, 'aung': 6449, 'burma': 6450, 'recovering': 6451, 'gillespie': 6452, 'leslie': 6453, 'rangers': 6454, 'lighthouse': 6455, 'monomoy': 6456, 'chatham': 6457, 'riley': 6458, 'cancellation': 6459, 'unmarried': 6460, 'heterosexual': 6461, 'et': 6462, 'mainland': 6463, 'campbells': 6464, 'setback': 6465, \"condit's\": 6466, 'avalanche': 6467, 'targeting': 6468, 'relevant': 6469, 'franklyn': 6470, 'kashmir': 6471, 'vouchers': 6472, 'mothana': 6473, '543': 6474, 'delay': 6475, 'luna': 6476, 'reuniting': 6477, 'subheading': 6478, 'parable': 6479, 'mosques': 6480, 'gpl': 6481, 'harshly': 6482, 'killers': 6483, 'transferring': 6484, 'milk': 6485, 'dressed': 6486, 'drivers': 6487, 'lovett': 6488, 'graduated': 6489, 'abolished': 6490, '1984': 6491, 'sattler': 6492, \"weill's\": 6493, 'shred': 6494, \"truth''\": 6495, 'resisted': 6496, 'email': 6497, 'senders': 6498, 'ashamed': 6499, 'befriend': 6500, 'taunters': 6501, 'opposing': 6502, 'gag': 6503, 'gloria': 6504, 'jennette': 6505, 'tamayo': 6506, 'equipped': 6507, 'sorry': 6508, 'fleming': 6509, 'insult': 6510, 'wavering': 6511, 'hardline': 6512, 'mugabe': 6513, 'oleander': 6514, 'donnie': 6515, 'darko': 6516, 'odyssey': 6517, 'exploration': 6518, 'supporting': 6519, 'rashid': 6520, 'wolfowitz': 6521, '5261': 6522, \"scribner's\": 6523, 'portage': 6524, 'houseboat': 6525, 'eating': 6526, 'lunch': 6527, 'basements': 6528, 'floors': 6529, 'cauchon': 6530, 'chretien': 6531, 'possession': 6532, 'gary': 6533, \"sponsor's\": 6534, 'birdied': 6535, 'golden': 6536, 'leak': 6537, 'lytle': 6538, 'intellectual': 6539, 'romanian': 6540, 'amplifiers': 6541, 'exports': 6542, 'mcclintock': 6543, 'subscription': 6544, \"worldcom's\": 6545, 'enthusiastic': 6546, 'bidder': 6547, 'bronfman': 6548, 'beaten': 6549, 'wards': 6550, 'russians': 6551, 'champion': 6552, 'staples': 6553, \"johnson's\": 6554, 'woodley': 6555, 'criminals': 6556, 'swollen': 6557, 'lakes': 6558, 'peddled': 6559, 'forging': 6560, 'paperwork': 6561, 'considerable': 6562, 'sohn': 6563, 'spree': 6564, 'obetz': 6565, '231': 6566, 'isabel': 6567, 'hijacking': 6568, 'smugglers': 6569, 'pinal': 6570, 'sheriff': 6571, 'humanitarian': 6572, 'coordinator': 6573, '367': 6574, '1000': 6575, '369': 6576, '359': 6577, '0500': 6578, 'dallager': 6579, 'addressing': 6580, 'foodchain': 6581, 'variant': 6582, 'rpcsdbot': 6583, 'taher': 6584, 'jason': 6585, 'giambi': 6586, 'sixteen': 6587, 'superheated': 6588, 'ltte': 6589, 'killings': 6590, \"sia's\": 6591, 'phase': 6592, 'natively': 6593, 'athlon': 6594, 'shawanda': 6595, 'denise': 6596, 'mccalister': 6597, 'foremost': 6598, 'mudd': 6599, 'gateway': 6600, 'nokia': 6601, 'billed': 6602, 'dramatic': 6603, 'ectopic': 6604, 'pregnancies': 6605, 'taxpayer': 6606, 'persisted': 6607, 'mony': 6608, 'weekdays': 6609, 'spider': 6610, 'snatched': 6611, 'debut': 6612, '403': 6613, 'urge': 6614, 'cleanup': 6615, 'wiring': 6616, 'bathrooms': 6617, 'professionally': 6618, 'cooperatively': 6619, 'microsoft’s': 6620, 'charney': 6621, 'promises': 6622, 'taste': 6623, \"brigitte's\": 6624, 'maternal': 6625, 'tapping': 6626, 'leiu': 6627, 'falconer': 6628, 'unfounded': 6629, 'unscientific': 6630, '248': 6631, 'detnews': 6632, 'antonio': 6633, 'licensed': 6634, 'protocols': 6635, 'mechanic': 6636, 'compartment': 6637, 'rodriguez': 6638, 'enrolled': 6639, 'slight': 6640, 'solely': 6641, 'principles': 6642, 'exclusively': 6643, 'attitude': 6644, \"davydenko's\": 6645, 'naively': 6646, 'ignorant': 6647, 'tennis': 6648, 'etiquette': 6649, 'cheated': 6650, 'shipped': 6651, 'firstenergy': 6652, 'unprotected': 6653, 'reaction': 6654, 'yelling': 6655, \"'what\": 6656, '298': 6657, '390': 6658, 'commandments': 6659, 'dispel': 6660, 'easing': 6661, 'comfort': 6662, 'materialize': 6663, 'cabrera': 6664, 'stegman': 6665, 'dittemore': 6666, 'betting': 6667, 'atrocities': 6668, 'grotesque': 6669, 'wyden': 6670, 'korkuc': 6671, 'statistical': 6672, 'timid': 6673, 'objects': 6674, 'situations': 6675, 'approach': 6676, 'predispose': 6677, 'rav': 6678, 'provides': 6679, 'ubs': 6680, 'downgraded': 6681, 'neutral': 6682, 'valuation': 6683, 'mancha': 6684, 'amour': 6685, 'selya': 6686, 'partnoy': 6687, \"merrill's\": 6688, \"midlands's\": 6689, 'mogul': 6690, \"cowell's\": 6691, 'dating': 6692, 'airs': 6693, 'shalom': 6694, '“will': 6695, 'rohrbough': 6696, 'mcgriff': 6697, 'possessing': 6698, 'handgun': 6699, 'chatsworth': 6700, 'multimillion': 6701, 'belongings': 6702, 'neighbor': 6703, 'millionaire': 6704, 'routine': 6705, 'platforms': 6706, 'timewise': 6707, 'x2': 6708, '174': 6709, 'adora': 6710, 'obi': 6711, 'nweze': 6712, 'naacp': 6713, 'tyco': 6714, 'factors': 6715, 'danon': 6716, 'estonia': 6717, 'juhan': 6718, 'endorsements': 6719, 'hatfill': 6720, 'tailing': 6721, 'athletic': 6722, 'velde': 6723, 'unrealistic': 6724, 'devoted': 6725, 'modest': 6726, 'favorable': 6727, 'sanchez': 6728, 'lozada': 6729, 'controversial': 6730, 'bilateral': 6731, 'solutia': 6732, 'murray': 6733, 'brief': 6734, 'regions': 6735, 'kidnapped': 6736, 'brutally': 6737, 'sustain': 6738, '8306': 6739, 'neutrality': 6740, 'sequel': 6741, 'furious': 6742, 'workload': 6743, 'eroding': 6744, 'directband': 6745, 'sca': 6746, 'monsignor': 6747, 'manifestly': 6748, 'repentant': 6749, 'standpoint': 6750, 'punitive': 6751, '360': 6752, 'typhoon': 6753, 'maemi': 6754, 'meteorology': 6755, 'exacerbated': 6756, 'completion': 6757, 'borrowings': 6758, 'analyze': 6759, 'writedown': 6760, '7000': 6761, \"parson's\": 6762, \"luhrmann's\": 6763, 'opulent': 6764, 'puccini': 6765, 'opera': 6766, '9bn': 6767, 'sabotaging': 6768, 'palaces': 6769, 'sometimes': 6770, 'i´m': 6771, 'foe': 6772, 'parkway': 6773, 'kiely': 6774, 'additionally': 6775, 'foale': 6776, 'universal': 6777, 'moguls': 6778, 'jostled': 6779, \"universal's\": 6780, 'neared': 6781, 'chronic': 6782, 'blindness': 6783, 'amputations': 6784, 'complications': 6785, 'greenstock': 6786, 'unnerved': 6787, 'shirt': 6788, 'breasts': 6789, 'vajpayee': 6790, 'chill': 6791, 'ordering': 6792, 'normalisation': 6793, 'condoms': 6794, '“rubbing': 6795, 'him”': 6796, \"thornton's\": 6797, 'stains': 6798, 'woolly': 6799, 'coat': 6800, 'blackened': 6801, 'condyle': 6802, 'charing': 6803, 'extracts': 6804, 'djihad': 6805, 'salafist': 6806, 'medal': 6807, 'distinguished': 6808, 'carney': 6809, 'abthrax': 6810, 'hadow': 6811, 'geographic': 6812, 'unsupported': 6813, 'nafta': 6814, 'rusty': 6815, 'euthanasia': 6816, 'wattret': 6817, 'bnp': 6818, 'kathryn': 6819, 'zambrano': 6820, 'rematch': 6821, 'muslims': 6822, 'audited': 6823, 'cablevision': 6824, 'credited': 6825, 'inspire': 6826, 'dollars': 6827, \"dell'oro\": 6828, 'testicular': 6829, 'armstrong': 6830, '090': 6831, 'professional': 6832, 'soccer': 6833, 'groundout': 6834, 'cites': 6835, 'operational': 6836, 'mukhlas': 6837, 'color': 6838, 'polyphonic': 6839, 'tragic': 6840, 'punctured': 6841, 'suctioned': 6842, \"adobe's\": 6843, 'commonstore': 6844, 'compromised': 6845, 'advertisers': 6846, 'advertise': 6847, 'strongly': 6848, 'councilman': 6849, 'queens': 6850, 'supplements': 6851, 'mild': 6852, 'ratner': 6853, 'fulton': 6854, 'marking': 6855, 'lingle': 6856, 'dadollah': 6857, 'bijani': 6858, 'loader': 6859, 'density': 6860, 'cows': 6861, \"someone's\": 6862, 'bullet': 6863, 'guarantee': 6864, 'minimum': 6865, 'terrance': 6866, 'drifted': 6867, 'metres': 6868, 'parachute': 6869, 'prominence': 6870, 'deploy': 6871, '154': 6872, 'clothes': 6873, 'salt': 6874, 'tanks': 6875, 'wittig': 6876, 'duties': 6877, 'belgium': 6878, 'scrap': 6879, \"doctors'\": 6880, 'legislators': 6881, 'trials': 6882, 'colby': 6883, 'waver': 6884, 'bothers': 6885, 'ruining': 6886, 'deborah': 6887, 'fallows': 6888, 'modems': 6889, 'longstanding': 6890, 'awadallah': 6891, 'chaired': 6892, 'jacob': 6893, 'consolidation': 6894, 'ones': 6895, 'sponsors': 6896, '636': 6897, 'household': 6898, 'youngster': 6899, 'towel': 6900, 'younger': 6901, 'interwoven': 6902, 'ousmane': 6903, 'coulibaly': 6904, 'loonie': 6905, 'shadrin': 6906, \"khodorkovsky's\": 6907, 'fsb': 6908, 'shouted': 6909, 'shrink': 6910, 'mounting': 6911, 'foes': 6912, 'pinpointed': 6913, '080': 6914, '485': 6915, '1960': 6916, 'excuse': 6917, 'suppress': 6918, 'eradicate': 6919, 'beyond': 6920, 'learn': 6921, 'spurred': 6922, 'ira': 6923, 'sorkin': 6924, \"furst's\": 6925, 'barrel': 6926, 'crude': 6927, 'irrespective': 6928, 'mandatory': 6929, 'dupont': 6930, 'forcing': 6931, 'filters': 6932, 'install': 6933, 'utah': 6934, 'pesticides': 6935, 'declassify': 6936, 'quiet': 6937, 'friedman': 6938, 'swings': 6939, 'competitive': 6940, 'apparel': 6941, 'levi': 6942, 'shortages': 6943, 'applicants': 6944, 'lengthy': 6945, 'daunting': 6946, 'disk': 6947, 'notices': 6948, 'interdependent': 6949, 'mutually': 6950, 'reinforcing': 6951, 'ranging': 6952, 'dance': 6953, 'landlady': 6954, 'remake': 6955, 'image': 6956, 'aggressively': 6957, 'marta': 6958, 'casals': 6959, 'istomin': 6960, \"casals'\": 6961, 'tighter': 6962, 'widened': 6963, 'autobiography': 6964, 'abused': 6965, 'prompted': 6966, 'legitimacy': 6967, 'staunch': 6968, 'ally': 6969, 'landslide': 6970, 'chungchong': 6971, 'seoul': 6972, 'arctic': 6973, 'shrinking': 6974, 'milpitas': 6975, 'collaborative': 6976, 'basing': 6977, 'suspicion': 6978, 'preparation': 6979, 'myth': 6980, 'omnibus': 6981, 'productivity': 6982, 'stimulate': 6983, 'sue': 6984, 'feeding': 6985, 'thaddeus': 6986, 'malanowski': 6987, 'overstatement': 6988, 'activists': 6989, 'farming': 6990, 'publish': 6991, 'archive': 6992, 'bea': 6993, 'beas': 6994, 'spin': 6995, 'ritter': 6996, 'overwhelmingly': 6997, 'kimerer': 6998, 'linking': 6999, 'episode': 7000, 'colymbosathon': 7001, 'ecplecticos': 7002, 'swimmer': 7003, 'penis': 7004, 'irregular': 7005, 'orange': 7006, 'occasion': 7007, 'alphabet': 7008, 'linksys': 7009, 'overtook': 7010, 'waksal': 7011, 'vin': 7012, 'diesel': 7013, 'ozzy': 7014, 'osbourne': 7015, 'quad': 7016, 'calgary': 7017, 'twenties': 7018, 'wd': 7019, 'dine': 7020, 'shredded': 7021, 'garlic': 7022, 'ochs': 7023, '1896': 7024, 'discoveries': 7025, 'bologna': 7026, 'prodi': 7027, 'gard': 7028, 'safeguards': 7029, 'obligations': 7030, 'issuing': 7031, 'surya': 7032, 'dharma': 7033, 'adopted': 7034, 'entity': 7035, 'assist': 7036, 'danube': 7037, 'balkans': 7038, 'wrecks': 7039, 'cried': 7040, 'allahu': 7041, 'pbl': 7042, 'purchases': 7043, 'frenzy': 7044, \"you'll\": 7045, 'cumbersome': 7046, 'meals': 7047, 'enjoy': 7048, 'delete': 7049, 'handheld': 7050, 'liberties': 7051, 'infogrames': 7052, 'atari': 7053, 'sanmina': 7054, 'acknowledge': 7055, 'hoy': 7056, 'vacation': 7057, 'forlong': 7058, 'downside': 7059, 'surprises': 7060, 'insulation': 7061, 'fixtures': 7062, 'keynote': 7063, 'flessner': 7064, 'nec': 7065, 'panasonic': 7066, 'sit': 7067, 'orville': 7068, 'indy': 7069, 'pikes': 7070, 'raceway': 7071, 'rotate': 7072, '861': 7073, 'zilkha': 7074, 'fs': 7075, 'ottawa': 7076, 'chevrolet': 7077, 'ongoing': 7078, 'skyler': 7079, 'barowitz': 7080, 'preparedness': 7081, 'yielding': 7082, 'overshadowed': 7083, 'uncovered': 7084, 'indicating': 7085, 'logical': 7086, \"registry's\": 7087, 'icann': 7088, 'criticised': 7089, 'compaq': 7090, 'penetrated': 7091, '011': 7092, 'kraynak': 7093, 'canton': 7094, 'gender': 7095, 'susceptibility': 7096, 'tuned': 7097, 'embassies': 7098, 'embassy': 7099, 'singaporean': 7100, 'filming': 7101, 'lips': 7102, 'ears': 7103, 'restricted': 7104, 'reject': 7105, 'associate': 7106, 'mastermind': 7107, 'khalid': 7108, 'shaikh': 7109, 'demonstrating': 7110, 'nominations': 7111, 'potent': 7112, 'drama': 7113, '724': 7114, 'cutter': 7115, 'cleaning': 7116, 'revelations': 7117, 'goal': 7118, 'tollways': 7119, 'itch': 7120, 'debacle': 7121, 'iannarelli': 7122, 'extremist': 7123, 'ansar': 7124, 'mere': 7125, 'cronan': 7126, 'eleonora': 7127, 'crimp': 7128, 'refinancing': 7129, 'restructuring': 7130, 'notes': 7131, 'evaluate': 7132, 'mix': 7133, 'hatreds': 7134, 'desire': 7135, 'anarchist': 7136, 'explosions': 7137, \"fbi's\": 7138, 'seminal': 7139, 'katyjohnson': 7140, 'tuckermax': 7141, 'ursel': 7142, 'reisen': 7143, '418': 7144, 'cavaliers': 7145, 'select': 7146, 'lottery': 7147, 'yehuda': 7148, 'jeweler': 7149, \"york's\": 7150, 'alien': 7151, 'harder': 7152, 'erase': 7153, 'overwhelming': 7154, 'bothered': 7155, 'sebastian': 7156, 'convincingly': 7157, 'dakota': 7158, '191': 7159, 'tabloid': 7160, \"child's\": 7161, 'envoy': 7162, 'compounds': 7163, 'vulnerabilities': 7164, 'nominated': 7165, 'musicians': 7166, 'visas': 7167, 'nterprise': 7168, 'beta': 7169, 'akhmad': 7170, 'kadyrov': 7171, 'trail': 7172, 'vicki': 7173, 'saporta': 7174, 'federation': 7175, 'acknowledgment': 7176, 'scored': 7177, 'hated': 7178, 'variable': 7179, 'annuity': 7180, 'surged': 7181, 'hung': 7182, 'beth': 7183, 'janzen': 7184, 'leaderboard': 7185, 'sweeney': 7186, 'ala': 7187, 'maps': 7188, 'disenfranchise': 7189, 'minorities': 7190, 'wording': 7191, 'allard': 7192, 'leominster': 7193, 'pronounced': 7194, '6000': 7195, 'alloy': 7196, 'plate': 7197, 'fishbein': 7198, 'bpo': 7199, 'overstate': 7200, 'mccarthy': 7201, \"tanzi's\": 7202, 'parma': 7203, 'exile': 7204, 'superpower': 7205, 'bellsouth': 7206, '111': 7207, 'louise': 7208, 'outlawed': 7209, 'trainers': 7210, 'josephine': 7211, 'burke': 7212, 'neglect': 7213, 'organizational': 7214, 'shook': 7215, 'patted': 7216, 'gsm': 7217, 'umts': 7218, 'munich': 7219, 'tragedies': 7220, 'overcrowding': 7221, 'lax': 7222, 'inconsistencies': 7223, 'amazing': 7224, 'rewards': 7225, '491': 7226, 'destroying': 7227, 'brunei': 7228, 'cambodia': 7229, 'laos': 7230, 'peanut': 7231, 'prisoners': 7232, 'methodist': 7233, 'telltale': 7234, 'glow': 7235, 'lender': 7236, '817': 7237, 'monitored': 7238, 'confessed': 7239, 'footnotes': 7240, 'mcclellan': 7241, \"kraft's\": 7242, 'employer': 7243, 'failures': 7244, 'rover': 7245, 'liked': 7246, 'recipient': 7247, 'stubbs': 7248, 'calculating': 7249, '1507': 7250, 'bigger': 7251, 'priscilla': 7252, 'feral': 7253, 'elaborate': 7254, 'efficiency': 7255, 'cavities': 7256, 'scar': 7257, 'charleroi': 7258, 'implications': 7259, \"cide's\": 7260, 'trainer': 7261, 'barclay': 7262, 'tagg': 7263, 'assessing': 7264, 'resumes': 7265, 'chuck': 7266, 'khalidiya': 7267, 'cluley': 7268, 'sophos': 7269, \"motorola's\": 7270, 'streak': 7271, 'projected': 7272, 'configuration': 7273, 'cd': 7274, 'rom': 7275, 'weather': 7276, 'hemphill': 7277, 'peculiar': 7278, 'slipknot': 7279, 'strangle': 7280, 'keywords': 7281, 'portals': 7282, 'starring': 7283, 'hayden': 7284, 'christensen': 7285, 'debuted': 7286, '3147': 7287, 'canfor': 7288, 'logsdon': 7289, 'albuquerque': 7290, 'laredo': 7291, 'remind': 7292, 'principle': 7293, 'dense': 7294, 'incendiary': 7295, 'hickel': 7296, 'quadrupled': 7297, '1980s': 7298, 'murdering': 7299, \"ontario's\": 7300, 'chances': 7301, 'payroll': 7302, 'influenza': 7303, 'morally': 7304, 'betrayal': 7305, 'exiles': 7306, 'oak': 7307, 'telling': 7308, 'objectweb': 7309, 'ide': 7310, 'framework': 7311, 'jacksonville': 7312, 'worrying': 7313, 'fawn': 7314, 'duane': 7315, 'kraemer': 7316, 'refurbish': 7317, 'intercepted': 7318, 'yemen': 7319, 'bahrain': 7320, 'syria': 7321, 'tyrer': 7322, 'gotten': 7323, '195': 7324, '€50m': 7325, 'afloat': 7326, 'suppliers': 7327, 'nick': 7328, 'markakis': 7329, 'junior': 7330, 'baltimore': 7331, 'waved': 7332, 'seated': 7333, 'denver': 7334, 'marketer': 7335, 'inaccurate': 7336, 'elias': 7337, 'tucci': 7338, 'ritual': 7339, 'shaklee': 7340, 'jenifer': 7341, 'vial': 7342, \"michael's\": 7343, 'stabilisation': 7344, 'text': 7345, 'saladin': 7346, 'fairview': 7347, 'mo': 7348, 'subpoenas': 7349, 'comedy': 7350, 'diane': 7351, 'lade': 7352, 'publishing': 7353, 'karanja': 7354, 'provost': 7355, 'saints': 7356, 'alienating': 7357, 'chiron': 7358, 'acceptances': 7359, 'proceeding': 7360, 'ethical': 7361, 'emerged': 7362, 'weisselberg': 7363, 'televisions': 7364, 'vcrs': 7365, 'arad': 7366, 'sheldon': 7367, 'raping': 7368, 'randall': 7369, 'heatley': 7370, \"currency's\": 7371, 'downward': 7372, 'derailment': 7373, 'thunderous': 7374, 'classified': 7375, 'doug': 7376, 'marissa': 7377, 'jaret': 7378, 'winokur': 7379, 'musical': 7380, 'gypsy': 7381, 'pots': 7382, 'beans': 7383, 'casseroles': 7384, 'kenyan': 7385, 'raped': 7386, 'cosmonaut': 7387, 'achieved': 7388, 'observances': 7389, 'anniversary': 7390, '930': 7391, 'stops': 7392, 'pizzas': 7393, 'tents': 7394, 'infectious': 7395, 'hedging': 7396, 'orbiting': 7397, 'malaysian': 7398, 'ebbers': 7399, 'exonerated': 7400, \"ebbers'\": 7401, 'reid': 7402, 'atkins': 7403, 'bulk': 7404, 'primarily': 7405, 'karas': 7406, 'softening': 7407, 'vatican': 7408, 'cardinals': 7409, 'admin': 7410, 'administrators': 7411, 'fitzgerald': 7412, 'settlers': 7413, 'converged': 7414, 'outposts': 7415, 'dolores': 7416, 'mahoy': 7417, 'flooding': 7418, 'realism': 7419, 'volumes': 7420, 'prewar': 7421, 'panic': 7422, 'psychosis': 7423, 'convulsions': 7424, 'maintained': 7425, 'illusion': 7426, 'willow': 7427, 'catalina': 7428, 'mountains': 7429, 'transuranic': 7430, 'manpower': 7431, 'permission': 7432, 'barbey': 7433, 'akron': 7434, 'calendar': 7435, \"wittig's\": 7436, 'acknowledging': 7437, 'forecasts': 7438, 'dusty': 7439, 'refund': 7440, 'nationalize': 7441, 'manouchehr': 7442, 'takin': 7443, 'textile': 7444, 'organised': 7445, 'lincolnshire': 7446, 'williamsborough': 7447, 'monrovia': 7448, 'occurring': 7449, 'prowers': 7450, 'giadone': 7451, 'weapon': 7452, 'hu': 7453, 'communist': 7454, 'norman': 7455, 'schemes': 7456, 'judy': 7457, 'globe': 7458, 'ronald': 7459, 'banja': 7460, 'luka': 7461, 'handful': 7462, 'ross': 7463, \"christina's\": 7464, 'riling': 7465, \"defense's\": 7466, 'touchdowns': 7467, 'wilfred': 7468, 'thesiger': 7469, 'purifyplus': 7470, 'mahoney': 7471, 'ought': 7472, \"mexico's\": 7473, 'consulates': 7474, \"planes''\": 7475, 'angering': 7476, 'neighbors': 7477, 'stirring': 7478, 'hockey': 7479, 'n2h2': 7480, 'intimately': 7481, 'caseload': 7482, 'hiv': 7483, 'libya': 7484, 'walt': 7485, 'curve': 7486, 'agassi': 7487, 'equalled': 7488, 'mirant': 7489, \"ge's\": 7490, 'bookmarks': 7491, 'forth': 7492, 'buttons': 7493, 'eighteen': 7494, '829': 7495, '832': 7496, 'darrell': 7497, 'issa': 7498, 'seriousness': 7499, 'austmag': 7500, 'amc': 7501, '446': 7502, 'slepian': 7503, 'amherst': 7504, 'labourers': 7505, 'jharkhand': 7506, 'nepal': 7507, 'sheena': 7508, 'infertility': 7509, 'dioxin': 7510, '1970s': 7511, 'ko': 7512, 'rumours': 7513, 'swirled': 7514, 'participants': 7515, 'stepped': 7516, '1914': 7517, 'klitschko': 7518, 'excited': 7519, 'pike': 7520, 'penetration': 7521, \"hollingworth's\": 7522, 'expo': 7523, 'enriched': 7524, 'discouraging': 7525, 'honored': 7526, 'impediment': 7527, '550': 7528, 'shelf': 7529, 'clusters': 7530, 'capacitance': 7531, 'sensing': 7532, 'fooled': 7533, 'electronically': 7534, 'scardino': 7535, 'pearson': 7536, 'penney': 7537, 'jcp': 7538, 'walgreen': 7539, 'wag': 7540, 'wasnt': 7541, 'fights': 7542, 'alpha': 7543, 'pacific': 7544, 'alkebulan': 7545, 'deirdre': 7546, '297': 7547, 'gloves': 7548, 'unifi': 7549, 'walking': 7550, 'discharged': 7551, 'jackie': 7552, 'microcontroller': 7553, 'overclocking': 7554, 'bios': 7555, 'troubleshooting': 7556, 'carcieri': 7557, 'taxation': 7558, 'accidental': 7559, 'deletion': 7560, 'falsification': 7561, 'ballots': 7562, 'cincinnati': 7563, 'cheaper': 7564, 'sufferers': 7565, 'reneged': 7566, 'chipset': 7567, 'interference': 7568, 'consumption': 7569, 'questionable': 7570, 'distributors': 7571, 'trustees': 7572, 'fatalities': 7573, 'nominees': 7574, 'searches': 7575, 'survivors': 7576, 'shipwrecks': 7577, 'blasted': 7578, 'gelinas': 7579, 'constant': 7580, 'solomon': 7581, 'boe': 7582, 'lloyds': 7583, 'tsb': 7584, 'rosa': 7585, 'category': 7586, 'escobar': 7587, 'protesting': 7588, 'derrick': 7589, 'trades': 7590, 'eurex': 7591, 'wheeled': 7592, '790': 7593, 'slit': 7594, 'size': 7595, 'stream': 7596, 'sweltering': 7597, 'webtv': 7598, '425': 7599, 'nike': 7600, 'kasky': 7601, 'statute': 7602, 'flexible': 7603, 'athlete': 7604, 'chin': 7605, 'factually': 7606, 'hooks': 7607, 'interviewed': 7608, 'magner': 7609, 'compilers': 7610, 'tomcat': 7611, 'axis': 7612, 'incomes': 7613, 'wake': 7614, 'pleasanton': 7615, 'conflicting': 7616, 'formats': 7617, 'obvious': 7618, 'somerset': 7619, '243': 7620, 'ink': 7621, 'authorized': 7622, 'travelers': 7623, 'botulism': 7624, 'tularemia': 7625, 'hemorrhagic': 7626, \"county's\": 7627, 'zelimkhan': 7628, 'trademark': 7629, 'mergers': 7630, 'subsidiaries': 7631, 'accountants': 7632, \"boise's\": 7633, 'officemax': 7634, 'concealment': 7635, 'swamped': 7636, 'hassan': 7637, 'porchia': 7638, 'rebuilding': 7639, 'couriers': 7640, 'ripples': 7641, 'louisiana': 7642, 'extradition': 7643, 'rork': 7644, 'ciba': 7645, 'importation': 7646, 'qat': 7647, 'narcotic': 7648, 'vivace': 7649, 'whitey': 7650, 'bulger': 7651, 'nicolo': 7652, 'connelly': 7653, 'wagons': 7654, 'gelber': 7655, 'infringing': 7656, 'dependence': 7657, \"plaintiff's\": 7658, 'conflict': 7659, 'manny': 7660, 'diaz': 7661, 'tuner': 7662, 'bristol': 7663, 'pull': 7664, 'pig': 7665, 'trough': 7666, 'platinum': 7667, 'investing': 7668, 'stony': 7669, 'usa': 7670, 'patties': 7671, 'balinese': 7672, 'lapidus': 7673, 'conundrum': 7674, 'classifying': 7675, 'categories': 7676, 'suburb': 7677, \"mortazavi's\": 7678, \"reuters'\": 7679, 'harsher': 7680, 'bird': 7681, 'specials': 7682, \"men's\": 7683, 'disgrace': 7684, 'atlantis': 7685, 'galileo': 7686, 'purcell': 7687, 'leon': 7688, 'grieving': 7689, 'congregation': 7690, 'counterclaim': 7691, 'distract': 7692, 'wwf': 7693, 'straits': 7694, 'gibraltar': 7695, 'wary': 7696, 'lifelong': 7697, 'effects': 7698, 'drought': 7699, 'mohamed': 7700, 'dark': 7701, 'giovanni': 7702, 'bisignani': 7703, 'geneva': 7704, 'berry': 7705, 'divorced': 7706, 'pope': 7707, \"pope's\": 7708, 'whipple': 7709, \"district's\": 7710, 'busing': 7711, \"''the\": 7712, 'divisive': 7713, 'confirmation': 7714, 'microprocessors': 7715, 'colleen': 7716, 'mccain': 7717, 'characterized': 7718, 'launcher': 7719, 'fixed': 7720, 'remainder': 7721, 'soltes': 7722, 'doubled': 7723, 'questionnaire': 7724, 'offend': 7725, 'incite': 7726, 'pw': 7727, 'berlin': 7728, 'gerhard': 7729, 'schroeder': 7730, 'kuby': 7731, 'ventilator': 7732, 'buckinghamshire': 7733, 'bolt': 7734, 'weddington': 7735, 'mccorvey': 7736, 'sally': 7737, 'coatbridge': 7738, 'lanarkshire': 7739, 'escalator': 7740, 'collapsed': 7741, 'supervisor': 7742, 'nikkei': 7743, 'rudder': 7744, 'evangelism': 7745, 'formerly': 7746, 'rheumatoid': 7747, 'kernel': 7748, 'cutoffs': 7749, 'boucher': 7750, 'carroll': 7751, 'mcmellon': 7752, \"tonight's\": 7753, 'headlines': 7754, 'hardest': 7755, 'bustling': 7756, \"producers'\": 7757, 'guarding': 7758, 'tuning': 7759, 'dulmatin': 7760, 'bombmaker': 7761, 'rivals': 7762, 'tesco': 7763, 'excluded': 7764, 'contended': 7765, 'incrimination': 7766, 'berger': 7767, 'santangelo': 7768, 'monte': 7769, 'westfield': 7770, 'centres': 7771, 'branded': 7772, 'losyukov': 7773, 'massacre': 7774, 'lessened': 7775, 'torsella': 7776, 'knocked': 7777, 'kanisa': 7778, \"w's\": 7779, 'plain': 7780, 'kao': 7781, 'speculated': 7782, 'protects': 7783, 'prevents': 7784, 'del': 7785, 'fisher': 7786, 'ecuador': 7787, 'netherlands': 7788, 'kahuku': 7789, 'beauty': 7790, 'biodiversity': 7791, 'symbol': 7792, 'lindsay': 7793, 'frost': 7794, '1800': 7795, 'corel': 7796, '698': 7797, 'creates': 7798, \"institute's\": 7799, 'rx': 7800, 'melanomas': 7801, 'alfred': 7802, 'repealed': 7803, 'lining': 7804, 'punish': 7805, 'feuding': 7806, 'generals': 7807, 'encouraging': 7808, 'zulifquar': 7809, 'zulfiqar': 7810, 'contention': 7811, 'woods': 7812, 'loral': 7813, 'drugmaker': 7814, 'comoros': 7815, 'islander': 7816, 'exacerbate': 7817, 'grandfather': 7818, 'nets': 7819, 'frontiers': 7820, 'ineptitude': 7821, 'forefathers': 7822, 'pearl': 7823, 'unsuspecting': 7824, 'attachments': 7825, 'headings': 7826, 'telecom': 7827, 'cop': 7828, 'consists': 7829, 'brokers': 7830, 'surrendered': 7831, 'braun': 7832, 'fec': 7833, 'abdul': 7834, 'azi': 7835, 'haji': 7836, 'thiming': 7837, 'jalaludin': 7838, 'mading': 7839, 'separately': 7840, 'kofi': 7841, 'kaiser': 7842, 'accidents': 7843, 'messagelabs': 7844, 'playlist': 7845, 'coaches': 7846, 'dancing': 7847, 'teenager': 7848, 'compuserve': 7849, 'rebates': 7850, 'negotiation': 7851, 'midway': 7852, 'hoffine': 7853, 'manual': 7854, '“i': 7855, 'there’s': 7856, 'rt': 7857, 'juli': 7858, 'niemann': 7859, 'reputation': 7860, 'influential': 7861, 'bubble': 7862, 'stalemate': 7863, 'afl': 7864, 'cio': 7865, 'gagne': 7866, 'perfect': 7867, '23rd': 7868, 'lovsan': 7869, 'shellfire': 7870, 'background': 7871, 'keith': 7872, 'crazy': 7873, 'musgrave': 7874, 'hoot': 7875, 'brandenstein': 7876, 'bart': 7877, \"airline's\": 7878, 'bribing': 7879, 'sme': 7880, 'vasile': 7881, 'ionescu': 7882, 'combines': 7883, 'thriving': 7884, 'uptick': 7885, '”': 7886, 'macintosh': 7887, 'emerge': 7888, 'delainey': 7889, 'tentative': 7890, \"ag's\": 7891, 'reloaded': 7892, 'previews': 7893, 'penn': 7894, 'reorganization': 7895, \"limbaugh's\": 7896, 'roadway': 7897, 'ages': 7898, 'voices': 7899, \"forlong's\": 7900, 'rallies': 7901, 'upbeat': 7902, 'cool': 7903, 'moist': 7904, 'whipped': 7905, 'extensions': 7906, 'tokens': 7907, \"plaintiffs'\": 7908, 'exchanged': 7909, 'tsmc': 7910, 'interfere': 7911, 'relationships': 7912, 'trilogy': 7913, 'griswold': 7914, \"saturday's\": 7915, 'a920': 7916, 'scanner': 7917, 'copier': 7918, 'reflecting': 7919, 'mainly': 7920, 'pardon': 7921, \"humbert's\": 7922, 'mohammad': 7923, 'bowl': 7924, 'boosting': 7925, 'semitic': 7926, 'polled': 7927, 'expands': 7928, 'vigorously': 7929, 'vindicated': 7930, 'walton': 7931, 'asthma': 7932, 'constriction': 7933, 'conversations': 7934, 'inquiries': 7935, 'sway': 7936, 'fishman': 7937, 'robin': 7938, \"bank's\": 7939, 'principal': 7940, 'brick': 7941, 'upper': 7942, 'peoples': 7943, 'ariel': 7944, 'annexing': 7945, 'wishes': 7946, 'plough': 7947, 'worry': 7948, \"boy's\": 7949, '479': 7950, 'sanitation': 7951, 'typhoid': 7952, 'crackdown': 7953, 'jihadi': 7954, 'annulment': 7955, 'joanie': 7956, 'marques': 7957, 'orders': 7958, 'salix': 7959, 'eagle': 7960, 'zookeeper': 7961, 'puncture': 7962, 'abdomen': 7963, 'nonviolence': 7964, 'cartier': 7965, 'resurfaced': 7966, 'tillie': 7967, 'fowler': 7968, 'commanders': 7969, 'interposed': 7970, 'crowded': 7971, 'yellow': 7972, 'valley': 7973, 'deeply': 7974, 'disapproved': 7975, 'popularity': 7976, 'bounds': 7977, 'outreached': 7978, 'rejoin': 7979, 'nude': 7980, 'models': 7981, 'snowdrift': 7982, 'beneath': 7983, 'downturn': 7984, 'sharpest': 7985, '190': 7986, 'galveston': 7987, 'kurt': 7988, 'sistrunk': 7989, 'titles': 7990, 'searchable': 7991, 'carlos': 7992, 'ferrero': 7993, 'villalona': 7994, 'coma': 7995, 'widen': 7996, 'acrylamide': 7997, 'overture': 7998, 'ridder': 7999, \"google's\": 8000, 'crowds': 8001, 'daylight': 8002, 'bridges': 8003, 'larsen': 8004, 'refrigerated': 8005, 'installment': 8006, 'refunding': 8007, \"shelley's\": 8008, '926': 8009, 'manfred': 8010, 'bischoff': 8011, 'eads': 8012, 'epi': 8013, 'bombers': 8014, 'escalation': 8015, 'hogwarts': 8016, 'headaches': 8017, 'uninsured': 8018, 'cbo': 8019, 'kerkorian': 8020, 'toby': 8021, 'merge': 8022, \"nbc's\": 8023, 'vi': 8024, 'simpson': 8025, 'pharmacies': 8026, 'romanow': 8027, 'offence': 8028, 'canadians': 8029, 'worthy': 8030, 'symbian': 8031, 'lindberg': 8032, 'dresdner': 8033, 'kleinwort': 8034, 'wasserstein': 8035, 'phillies': 8036, 'counsell': 8037, 'installing': 8038, 'toner': 8039, 'cartridges': 8040, 'environmentalists': 8041, 'miccosukee': 8042, 'tribe': 8043, 'spreadsheet': 8044, 'presentation': 8045, '157': 8046, 'violation': 8047, '837': 8048, 'payoff': 8049, 'shelia': 8050, 'chaney': 8051, 'agitated': 8052, 'monumental': 8053, \"church's\": 8054, 'coupling': 8055, 'pilot': 8056, 'runways': 8057, \"vh1's\": 8058, 'les': 8059, \"grass'\": 8060, \"aid's\": 8061, 'mcveigh': 8062, 'murrah': 8063, 'medium': 8064, 'prosecuted': 8065, 'praise': 8066, 'amortization': 8067, 'profitable': 8068, 'polychronopoulos': 8069, 'cautiously': 8070, 'regarding': 8071, 'trends': 8072, 'canon': 8073, 'j2ee': 8074, 'criticizes': 8075, 'intent': 8076, 'nuisance': 8077, 'distraction': 8078, 'philips': 8079, 'developments': 8080, 'mirror': 8081, 'hollingworth': 8082, 'examined': 8083, 'misappropriated': 8084, 'lopez': 8085, 'untrue': 8086, 'medina': 8087, '1737': 8088, 'disconsolate': 8089, 'smeared': 8090, '<cad': 8091, 'grokster': 8092, 'attends': 8093, 'accelerate': 8094, 'hughes': 8095, 'creators': 8096, 'daniela': 8097, 'hantuchova': 8098, 'otherwise': 8099, 'orderly': 8100, 'revived': 8101, 'arlington': 8102, 'knife': 8103, 'duller': 8104, 'futile': 8105, 'breaux': 8106, 'taupo': 8107, 'kibblewhite': 8108, 'tramping': 8109, '516': 8110, 'cooling': 8111, 'offset': 8112, 'magnitude': 8113, 'planetary': 8114, \"whitley's\": 8115, 'disorder': 8116, 'absorb': 8117, 'iron': 8118, 'organ': 8119, 'radar': 8120, 'pitch': 8121, 'giants': 8122, 'unfortunate': 8123, 'politicize': 8124, 'leavitt': 8125, 'tens': 8126, 'resolves': 8127, 'harmful': 8128, 'circumstances': 8129, 'conspiring': 8130, 'closet': 8131, 'denounce': 8132, 'moqtada': 8133, 'sermon': 8134, 'khodorkovsky': 8135, 'siberian': 8136, 'novosibirsk': 8137, 'avalon': 8138, 'styles': 8139, 'interfaces': 8140, 'drayson': 8141, 'gaines': 8142, 'helmand': 8143, 'observers': 8144, 'galvin': 8145, 'bosnia': 8146, 'ourselves': 8147, 'bitten': 8148, 'scratched': 8149, 'hester': 8150, 'camden': 8151, 'mcclean': 8152, 'retained': 8153, 'staffenberg': 8154, 'renewing': 8155, 'pledge': 8156, 'celibacy': 8157, 'cloudburst': 8158, 'paedophile': 8159, 'prolific': 8160, \"ratliff's\": 8161, 'margaret': 8162, 'treatable': 8163, '299': 8164, 'carnival': 8165, 'glare': 8166, 'teresa': 8167, 'interviewing': 8168, 'unproven': 8169, 'swimsuit': 8170, 'admitting': 8171, 'grip': 8172, 'congolese': 8173, 'ace': 8174, 'diamonds': 8175, 'specialty': 8176, 'approaches': 8177, 'ailments': 8178, 'painkillers': 8179, 'guild': 8180, 'heslop': 8181, 'societe': 8182, 'nationale': 8183, 'chemins': 8184, 'fer': 8185, 'soros': 8186, 'supervised': 8187, 'arison': 8188, 'mann': 8189, 'eavesdropping': 8190, 'florin': 8191, 'cioaba': 8192, 'deceived': 8193, 'dismiss': 8194, 'cosmetics': 8195, 'heir': 8196, 'fugitive': 8197, 'rapist': 8198, 'pursue': 8199, 'britt': 8200, 'admits': 8201, 'occasionally': 8202, 'playboy': 8203, 'chasing': 8204, 'schuster': 8205, 'bragging': 8206, 'wins': 8207, 'dale': 8208, 'ovation': 8209, 'governmental': 8210, 'albert': 8211, 'lasker': 8212, 'dry': 8213, 'ana': 8214, 'humidity': 8215, 'raging': 8216, 'ratepayers': 8217, 'zabel': 8218, 'jen': 8219, 'conagra': 8220, \"boncyk's\": 8221, 'nephew': 8222, 'waters': 8223, \"mta's\": 8224, 'hargadon': 8225, 'ewing': 8226, 'dirk': 8227, 'livingstone': 8228, 'foiled': 8229, \"strier's\": 8230, 'ethel': 8231, 'celnik': 8232, 'resting': 8233, 'rented': 8234, 'vhs': 8235, 'sidelines': 8236, 'pervez': 8237, 'unbroken': 8238, 'automate': 8239, 'incredible': 8240, 'instruction': 8241, 'brandeis': 8242, 'heartrending': 8243, 'anatolian': 8244, 'thinly': 8245, 'veiled': 8246, 'rioters': 8247, 'mohcine': 8248, 'douali': 8249, 'algiers': 8250, 'shock': 8251, 'censor': 8252, 'forbade': 8253, 'innuendo': 8254, 'qarase': 8255, 'invite': 8256, 'humanly': 8257, '380': 8258, 'evenly': 8259, 'errands': 8260, \"blanca's\": 8261, 'strunk': 8262, 'solve': 8263, 'conflicts': 8264, '496': 8265, 'resembles': 8266, 'miniature': 8267, 'calorie': 8268, 'similarly': 8269, 'arraignment': 8270, 'articles': 8271, 'magazines': 8272, 'doran': 8273, 'cattle': 8274, 'crean': 8275, 'incompetence': 8276, 'howe': 8277, 'barbour': 8278, 'avants': 8279, 'thermometers': 8280, \"temperature''\": 8281, 'sneering': 8282, 'dar': 8283, \"heatherington's\": 8284, 'badges': 8285, 'abbott': 8286, 'dimensional': 8287, 'kicker': 8288, 'hadley': 8289, 'spinboldak': 8290, 'lefforge': 8291, 'advocating': 8292, 'benign': 8293, 'enlightened': 8294, 'retried': 8295, \"rosenbaum's\": 8296, 'hundred': 8297, 'hpq': 8298, 'hebei': 8299, 'earplugs': 8300, 'onenote': 8301, 'infopath': 8302, 'xml': 8303, 'qualify': 8304, 'happening': 8305, 'cellegy': 8306, 'plunged': 8307, 'ethics': 8308, 'medicating': 8309, 'cloned': 8310, \"workers'\": 8311, '846': 8312, 'jupiter': 8313, 'moons': 8314, 'lynching': 8315, 'distorted': 8316, 'justify': 8317, 'yale': 8318, 'conroy': 8319, 'embarking': 8320, 'capps': 8321, 'km': 8322, \"sweden's\": 8323, 'karolinska': 8324, 'radiation': 8325, 'mccloskey': 8326, 'bladder': 8327, 'bolland': 8328, 'astonished': 8329, 'tichaona': 8330, 'kaguru': 8331, 'tortured': 8332, 'dps': 8333, 'faa': 8334, 'residential': 8335, '840': 8336, 'travesty': 8337, 'fumed': 8338, 'allergy': 8339, 'immunology': 8340, 'schoolmates': 8341, 'mehalba': 8342, 'retrieve': 8343, 'stranded': 8344, \"opec's\": 8345, 'surge': 8346, 'compounded': 8347, '1800s': 8348, 'blocks': 8349, \"17's\": 8350, 'attache': 8351, 'hiking': 8352, 'nursery': 8353, 'peck': 8354, 'ads': 8355, 'exhibitor': 8356, 'retiring': 8357, 'rewritten': 8358, 'accuser': 8359, 'sperm': 8360, 'bangs': 8361, 'balloon': 8362, 'shuddered': 8363, 'nicky': 8364, \"user's\": 8365, 'folders': 8366, 'idisk': 8367, 'removable': 8368, 'fiction': 8369, 'reinstated': 8370, 'mccabe': 8371, 'banker': 8372, 'interscope': 8373, 'geffen': 8374, 'ferguson': 8375, 'dramas': 8376, 'persuasion': 8377, 'charlotte': 8378, 'gasps': 8379, 'colombian': 8380, 'autopsy': 8381, 'dehydration': 8382, 'suffocation': 8383, 'dictator': 8384, 'poorly': 8385, 'diets': 8386, 'buddhist': 8387, 'lemelson': 8388, 'educational': 8389, \"chi's\": 8390, 'priorities': 8391, 'avon': 8392, 'mustapha': 8393, 'sahel': 8394, 'blix': 8395, 'calculated': 8396, 'easynews': 8397, 'apec': 8398, 'painfully': 8399, 'prosperity': 8400, 'inseparable': 8401, 'cide': 8402, 'thoracic': 8403, 'borgata': 8404, 'insolvent': 8405, 'setbacks': 8406, 'marathon': 8407, 'jimmy': 8408, 'staton': 8409, 'fog': 8410, 'technological': 8411, 'doha': 8412, 'qatar': 8413, 'objections': 8414, \"employees'\": 8415, 'paring': 8416, 'carefully': 8417, 'styled': 8418, 'verheij': 8419, 'correctly': 8420, 'spansion': 8421, 'mercy': 8422, 'pickups': 8423, '6199': 8424, 'usai': 8425, \"i's\": 8426, \"t's\": 8427, 'bombshell': 8428, 'successfully': 8429, 'codify': 8430, 'watan': 8431, 'algerian': 8432, 'kidnappers': 8433, 'kalashnikov': 8434, 'rifles': 8435, \"parker's\": 8436, 'roxio': 8437, 'muddled': 8438, 'pollack': 8439, 'mattel': 8440, 'persistent': 8441, 'vegetative': 8442, 'waves': 8443, 'angered': 8444, \"victims'\": 8445, 'parishioners': 8446, 'towns': 8447, 'lille': 8448, 'marseille': 8449, 'hines': 8450, 'forbes': 8451, \"magazine's\": 8452, 'mississippi': 8453, 'distorting': 8454, 'trink': 8455, 'permanently': 8456, 'deciding': 8457, 'nissan': 8458, 'frozen': 8459, 'embryos': 8460, 'surgeries': 8461, 'teenage': 8462, 'cheng': 8463, 'springdale': 8464, 'chan': 8465, 'carty': 8466, 'severance': 8467, 'voluntary': 8468, 'patrons': 8469, 'ethanol': 8470, 'drilling': 8471, 'wildlife': 8472, 'slaves': 8473, '19th': 8474, 'ontario': 8475, 'eves': 8476, 'expires': 8477, 'belmont': 8478, 'sounded': 8479, 'zistee': 8480, 'poisonings': 8481, 'nitpick': 8482, 'tab': 8483, \"water's\": 8484, 'carter': 8485, 'kerr': 8486, 'cousin': 8487, 'herbert': 8488, 'tyrone': 8489, 'culturecom': 8490, 'marcel': 8491, 'desailly': 8492, 'latter': 8493, 'palumbo': 8494, 'procter': 8495, 'regained': 8496, 'omi': 8497, 'wesley': 8498, 'ireland': 8499, 'remembers': 8500, 'aisle': 8501, 'tossed': 8502, 'gown': 8503, 'craddick': 8504, 'prescribed': 8505, '259': 8506, 'vernon': 8507, 'skagit': 8508, 'crest': 8509, \"morrill's\": 8510, 'ellie': 8511, 'sobbed': 8512, \"bondeson's\": 8513, 'memo': 8514, 'mentioned': 8515, 'emerging': 8516, 'diary': 8517, 'colorful': 8518, 'outspoken': 8519, 'disdain': 8520, 'fluor': 8521, 'produce': 8522, 'detailed': 8523, 'smartphone': 8524, 'unilever': 8525, 'bestfoods': 8526, 'ruffner': 8527, 'tolerates': 8528, 'arranged': 8529, 'aspect': 8530, \"campbell's\": 8531, 'cca': 8532, 'dulles': 8533, 'adopting': 8534, 'mci': 8535, 'bossaert': 8536, 'brad': 8537, 'tapes': 8538, 'winter': 8539, 'reilly': 8540, 'rian': 8541, 'wathen': 8542, 'jokes': 8543, 'assurances': 8544, 'wenders': 8545, 'rejection': 8546, 'blessing': 8547, 'cluster': 8548, 'suse': 8549, 'joan': 8550, 'ray': 8551, 'bout': 8552, 'episcopalian': 8553, 'trendy': 8554, 'boutiques': 8555, 'picturesque': 8556, 'roslyn': 8557, 'robb': 8558, 'wendell': 8559, 'campaigners': 8560, 'swells': 8561, 'moderates': 8562, 'lamo': 8563, 'sopranos': 8564, 'stack': 8565, 'triumph': 8566, 'soar': 8567, 'fahrenheit': 8568, 'fridges': 8569, 'conditioners': 8570, 'stuttered': 8571, 'milberg': 8572, 'weiss': 8573, 'bershad': 8574, 'hynes': 8575, 'lerach': 8576, 'nurses': 8577, 'fevers': 8578, 'dutch': 8579, 'buhrmann': 8580, 'cohn': 8581, 'frontier': 8582, 'scratch': 8583, 'touched': 8584, 'xolair': 8585, 'firmed': 8586, 'manali': 8587, 'divisional': 8588, 'raj': 8589, 'kumar': 8590, 'lyman': 8591, 'varian': 8592, \"berkeley's\": 8593, 'thornton': 8594, 'heaton': 8595, 'warships': 8596, 'resonated': 8597, 'harsh': 8598, 'yasser': 8599, 'staunchly': 8600, 'conservative': 8601, 'sheehan': 8602, 'belcher': 8603, \"airport's\": 8604, 'hiked': 8605, 'joystick': 8606, 'weaknesses': 8607, 'defenses': 8608, '1950s': 8609, 'norway': 8610, '927': 8611, 'coolly': 8612, 'backfire': 8613, 'necessarily': 8614, 'prompt': 8615, 'thoughts': 8616, 'remote': 8617, 'rpc': 8618, 'chad': 8619, 'kolton': 8620, 'hunting': 8621, 'kidnapping': 8622, 'exclusive': 8623, 'parks': 8624, 'sometime': 8625, 'enjoyment': 8626, 'guests': 8627, 'precincts': 8628, '232': 8629, '275': 8630, 'downer': 8631, 'refugees': 8632, 'hollins': 8633, 'royce': 8634, 'ames': 8635, 'purple': 8636, 'medals': 8637, 'dominique': 8638, 'villepin': 8639, 'mistakes': 8640, \"israel's\": 8641, 'taliban': 8642, 'kingston': 8643, 'creams': 8644, 'lou': 8645, 'piniella': 8646, 'bench': 8647, 'mclaren': 8648, 'kut': 8649, 'burrell': 8650, 'decreasing': 8651, 'smiledge': 8652, 'verizon': 8653, 'challenging': 8654, 'imron': 8655, 'barry': 8656, 'callebaut': 8657, \"brach's\": 8658, 'stollwerck': 8659, 'xeon': 8660, 'risc': 8661, '152': 8662, '237': 8663, '186': 8664, 'realities': 8665, 'title': 8666, 'entice': 8667, 'huddle': 8668, 'dedication': 8669, 'exchanges': 8670, 'tension': 8671, 'logs': 8672, 'florence': 8673, \"couple's\": 8674, 'maranda': 8675, 'fritz': 8676, 'turquoise': 8677, 'prom': 8678, 'resistant': 8679, 'contractors': 8680, 'billups': 8681, 'raced': 8682, 'seating': 8683, 'tucked': 8684, 'alan': 8685, 'repair': 8686, 'okaz': 8687, 'restricting': 8688, 'criticizing': 8689, 'austrian': 8690, \"actor's\": 8691, 'mine': 8692, 'panicking': 8693, 'stature': 8694, '262': 8695, 'leapfrog': 8696, \"enterprises'\": 8697, 'lf': 8698, 'leappad': 8699, 'hasbro': 8700, 'beyblade': 8701, 'starter': 8702, 'mga': 8703, 'bratz': 8704, 'doll': 8705, 'wont': 8706, 'afford': 8707, 'melinda': 8708, 'rowe': 8709, 'communicator': 8710, 'pop': 8711, 'imap': 8712, 'haven': 8713, 'steverson': 8714, 'climate': 8715, 'nassau': 8716, 'observation': 8717, \"indonesia's\": 8718, 'abuses': 8719, 'everywhere': 8720, 'warranty': 8721, 'reassure': 8722, 'deductible': 8723, 'trevor': 8724, 'fetter': 8725, 'moffitt': 8726, 'replicated': 8727, 'artificially': 8728, 'berg': 8729, 'remembrances': 8730, 'hers': 8731, 'sugden': 8732, 'evolutionary': 8733, 'biology': 8734, 'milestone': 8735, 'pipelines': 8736, 'helen': 8737, 'sharkey': 8738, 'topple': 8739, 'erez': 8740, 'convene': 8741, 'robber': 8742, 'ronnie': 8743, 'biggs': 8744, 'dongles': 8745, 'cmdr': 8746, 'gibbons': 8747, 'imclone': 8748, 'egyptians': 8749, 'sudanese': 8750, 'ignore': 8751, 'shifts': 8752, 'geller': 8753, 'matriarch': 8754, 'celebrates': 8755, '81st': 8756, 'generosity': 8757, 'jews': 8758, 'allies': 8759, 'colonise': 8760, 'wraps': 8761, \"putnam's\": 8762, 'inception': 8763, 'eritrea': 8764, 'ethiopia': 8765, 'tanzania': 8766, 'troy': 8767, 'caller': 8768, 'mini': 8769, 'cassette': 8770, 'tarrytown': 8771, '201': 8772, 'moussaoui': 8773, 'consult': 8774, 'destroy': 8775, 'encouraged': 8776, 'reflective': 8777, 'technique': 8778, 'uneven': 8779, 'deposit': 8780, 'stratospheric': 8781, 'causative': 8782, 'aggravated': 8783, 'delivering': 8784, \"girl's\": 8785, 'stockpiles': 8786, 'danish': 8787, 'joann': 8788, 'marquis': 8789, 'visiting': 8790, 'sinners': 8791, 'fantasy': 8792, 'virtue': 8793, 'magnate': 8794, 'singing': 8795, 'radiological': 8796, 'jorge': 8797, 'establishing': 8798, \"gold's\": 8799, 'precious': 8800, 'metals': 8801, 'rankled': 8802, 'programmer': 8803, 'apples': 8804, 'glaxosmithkline': 8805, 'robbins': 8806, 'cox': 8807, 'noon': 8808, 'yuri': 8809, 'pedro': 8810, 'duque': 8811, 'soyuz': 8812, 'tma': 8813, 'mysql': 8814, 'ux': 8815, 'marvell': 8816, 'bailout': 8817, 'lg': 8818, 'bt': 8819, \"suse's\": 8820, 'aritonang': 8821, 'danbury': 8822, 'restored': 8823, 'hermon': 8824, 'irritable': 8825, 'bowel': 8826, 'ibs': 8827, 'ceyhan': 8828, 'syracuse': 8829, 'repay': 8830, 'eighty': 8831, 'vocalist': 8832, 'honors': 8833, 'brokenheartedsville': 8834, 'hannum': 8835, 'signals': 8836, 'arroyo': 8837, 'daren': 8838, 'fearing': 8839, 'obtain': 8840, 'upload': 8841, 'tying': 8842, 'tightly': 8843, 'ghanaian': 8844, 'interpol': 8845, 'hole': 8846, 'guest': 8847, 'scared': 8848, 'yasin': 8849, 'anorexia': 8850, 'freshman': 8851, '10th': 8852, 'ledge': 8853, '962': 8854, \"afi's\": 8855, 'heroes': 8856, 'villains': 8857, '401': 8858, 'stephan': 8859, 'efficient': 8860, 'investhk': 8861, 'bands': 8862, 'panama': 8863, 'trinidad': 8864, \"sco's\": 8865, 'thierry': 8866, 'falise': 8867, 'photographer': 8868, 'shagged': 8869, 'wpan': 8870, 'specifies': 8871, \"taiwan's\": 8872, 'hammering': 8873, 'guidant': 8874, 'monkeypox': 8875, 'raines': 8876, '1967': 8877, 'cables': 8878, 'fashion': 8879, 'stella': 8880, 'deviant': 8881, 'cannibalistic': 8882, 'motivation': 8883, 'regulator': 8884, 'bafin': 8885, 'scatter': 8886, 'passer': 8887, 'fork': 8888, 'liars': 8889, 'tell': 8890, 'tarrant': 8891, \"examiner's\": 8892, 'angel': 8893, 'melena': 8894, 'narcisco': 8895, 'yard': 8896, 'rossignol': 8897, 'doyle': 8898, 'exporters': 8899, 'schneiderman': 8900, \"riders'\": 8901, 'adan': 8902, 'avalos': 8903, 'graders': 8904, 'parseghian': 8905, 'experimental': 8906, 'agnew': 8907, 'pinellas': 8908, 'dod': 8909, 'vincent': 8910, 'weafer': 8911, 'implant': 8912, '440': 8913, 'chok': 8914, 'tong': 8915, 'kmart': 8916, 'dramatically': 8917, 'overhaul': 8918, 'sourcing': 8919, 'registering': 8920, 'archbishops': 8921, 'flynn': 8922, 'edwin': 8923, 'replays': 8924, \"sangakkara's\": 8925, 'blown': 8926, 'franken': 8927, 'kapanda': 8928, 'molecules': 8929, \"'the\": 8930, \"refrigerator'\": 8931, \"nathan's\": 8932, 'famous': 8933, 'tornadoes': 8934, \"asia's\": 8935, 'reactors': 8936, 'antowain': 8937, \"atp's\": 8938, \"hewitt's\": 8939, 'billions': 8940, 'craft': 8941, 'ecosystem': 8942, 'councils': 8943, 'reliance': 8944, 'northmoor': 8945, 'orientation': 8946, 'tutu': 8947, 'watertown': 8948, 'saugus': 8949, 'framingham': 8950, 'filled': 8951, 'preventive': 8952, 'cereals': 8953, 'tipped': 8954, 'origin': 8955, 'cycle': 8956, 'unnamed': 8957, 'buses': 8958, 'ruined': 8959, 'debris': 8960, 'sachs': 8961, 'broadened': 8962, 'sammy': 8963, 'baseball': 8964, 'corked': 8965, 'lamb': 8966, 'atf': 8967, 'reins': 8968, 'wie': 8969, 'virada': 8970, 'nirapathpongporn': 8971, '27th': 8972, 'trophy': 8973, 'portions': 8974, 'bahamas': 8975, '37th': 8976, 'intrusions': 8977, 'pediatric': 8978, 'neurosurgery': 8979, 'drank': 8980, 'adolph': 8981, 'lutheran': 8982, 'mold': 8983, 'spurted': 8984, 'gainers': 8985, 'us3': 8986, 'us63': 8987, 'us14': 8988, \"abc's\": 8989, '05d': 8990, \"bp's\": 8991, 'underwear': 8992, 'fiasco': 8993, 'brass': 8994, 'ensemble': 8995, 'campground': 8996, 'josh': 8997, 'generations': 8998, 'confirming': 8999, 'zuccarini': 9000, 'component': 9001, 'observing': 9002, 'seasonal': 9003, 'jihad': 9004, 'nz75': 9005, 'tranz': 9006, 'nz75c': 9007, 'nz158': 9008, 'ga': 9009, \"news'\": 9010, 'waits': 9011, 'wexford': 9012, 'certificate': 9013, 'staffed': 9014, 'immunity': 9015, \"sony's\": 9016, 'variety': 9017, 'personalized': 9018, \"music's\": 9019, 'darren': 9020, 'dopp': 9021, 'heine': 9022, 'taad': 9023, 'sar': 9024, 'shumaker': 9025, 'corrective': 9026, 'decreased': 9027, 'eager': 9028, 'telemarketer': 9029, 'rd': 9030, 'loop': 9031, 'escaping': 9032, 'satire': 9033, 'hollywood': 9034, 'filmed': 9035, 'ankle': 9036, 'pelvis': 9037, 'ribs': 9038, 'warden': 9039, 'bofa': 9040, 'testifying': 9041, 'suing': 9042, '1974': 9043, 'sporadically': 9044, 'hardened': 9045, 'liberians': 9046, 'cocoa': 9047, 'ordinary': 9048, 'scores': 9049, 'consume': 9050, \"americans'\": 9051, 'calories': 9052, 'saturated': 9053, 'rjr': 9054, 'spends': 9055, 'promotional': 9056, 'scepticism': 9057, 'erika': 9058, 'sped': 9059, 'ratcheted': 9060, 'cube': 9061, 'metadata': 9062, 'indexing': 9063, 'sattar': 9064, 'conspired': 9065, 'rahman': 9066, \"she'll\": 9067, 'elimination': 9068, 'torched': 9069, 'bulge': 9070, 'piled': 9071, 'pigs': 9072, 'shanley': 9073, 'tisha': 9074, 'kresler': 9075, 'invisible': 9076, 'cambone': 9077, 'proving': 9078, \"son's\": 9079, 'sacrifice': 9080, 'unsung': 9081, 'mast': 9082, 'itar': 9083, 'tass': 9084, 'schoolchildren': 9085, 'gesture': 9086, 'uncharacteristic': 9087, 'compassion': 9088, 'hardin': 9089, 'retains': 9090, 'cst': 9091, 'complaining': 9092, 'reflected': 9093, 'kenrick': 9094, 'royals': 9095, '528': 9096, 'munitions': 9097, 'nickles': 9098, 'eliminates': 9099, 'counterterrorism': 9100, 'decree': 9101, 'sort': 9102, 'tonne': 9103, 'ton': 9104, 'steinberg': 9105, 'maintenance': 9106, 'dolphin': 9107, 'scheme': 9108, 'treat': 9109, 'interferon': 9110, 'peg': 9111, 'intron': 9112, 'huntington': 9113, 'readings': 9114, 'dispersed': 9115, 'eliminations': 9116, 'wrangle': 9117, 'outbuildings': 9118, \"'finish'\": 9119, 'hunters': 9120, 'exhibit': 9121, 'virgin': 9122, 'concorde': 9123, 'branson': 9124, 'preference': 9125, 'frightened': 9126, 'grassley': 9127, 'ancestors': 9128, 'commence': 9129, 'gore': 9130, 'gradually': 9131, 'filibusters': 9132, 'biography': 9133, 'admiration': 9134, 'niigata': 9135, 'saved': 9136, 'drops': 9137, 'goldberg': 9138, 'earning': 9139, 'pocket': 9140, '213': 9141, '105': 9142, 'flareup': 9143, \"mahony's\": 9144, 'refusal': 9145, 'flare': 9146, 'mahony': 9147, 'marsden': 9148, 'jetblue': 9149, 'mercury': 9150, 'traveling': 9151, 'travelling': 9152, 'interrogating': 9153, 'qadesiyah': 9154, 'qadesiya': 9155, 'insist': 9156, 'reprehensiblebehaviour': 9157, 'harrisons’': 9158, 'licalsi': 9159, '“i’ve': 9160, 'reprehensible': 9161, \"durst's\": 9162, 'oceanfront': 9163, 'strengthening': 9164, 'constructively': 9165, 'strengthens': 9166, 'maurice': 9167, 'greene': 9168, 'semifinals': 9169, 'dash': 9170, 'rogge': 9171, \"drummond's\": 9172, 'tantrums': 9173, 'uniformly': 9174, 'specifics': 9175, 'egyptian': 9176, 'conjoined': 9177, 'undelivered': 9178, 'checks': 9179, 'charging': 9180, \"she'd\": 9181, 'whopping': 9182, '117kg': 9183, 'indianapoils': 9184, 'ninety': 9185, 'predict': 9186, 'racings': 9187, 'noranda': 9188, \"gehman's\": 9189, \"'bigger\": 9190, \"others'\": 9191, 'commenting': 9192, '826': 9193, '194': 9194, 'multiyear': 9195, 'lifesaving': 9196, 'bookings': 9197, 'institutes': 9198, 'psychiatric': 9199, 'indefinitely': 9200, 'obus': 9201, 'tightened': 9202, 'spotty': 9203, 'labored': 9204, 'feather': 9205, 'regrouped': 9206, 'biogen': 9207, 'inspected': 9208, 'suspicious': 9209, 'peachtree': 9210, 'pray': 9211, 'joked': 9212, 'tnk': 9213, 'producing': 9214, 'mitigated': 9215, 'supercenters': 9216, 'havent': 9217, \"service''\": 9218, '972': 9219, 'originating': 9220, \"qa'eda\": 9221, \"man's\": 9222, 'firebreak': 9223, 'dug': 9224, \"nasdaq's\": 9225, 'smackdown': 9226, 'wwe': 9227, \"maker's\": 9228, 'bottlers': 9229, 'persuaded': 9230, '1947': 9231, 'faithful': 9232, 'hemenway': 9233, 'elf': 9234, 'arson': 9235, 'arsons': 9236, \"boxer's\": 9237, 'niels': 9238, 'nielsen': 9239, '74th': 9240, 'wilkie': 9241, 'kerkowski': 9242, \"fassett's\": 9243, '1300': 9244, '1566': 9245, 'enlists': 9246, 'cubic': 9247, 'centimetre': 9248, 'usage': 9249, \"dusenbery's\": 9250, 'marry': 9251, 'shaken': 9252, \"north's\": 9253, 'spat': 9254, 'lott': 9255, 'hesitate': 9256, 'olympia': 9257, 'snowe': 9258, 'defines': 9259, 'directions': 9260, 'backers': 9261, '897': 9262, '158': 9263, 'dila': 9264, 'acts': 9265, 'ragin': 9266, 'tad': 9267, 'berth': 9268, 'pair': 9269, 'cfsb': 9270, 'r300': 9271, 'wondered': 9272, 'niece': 9273, 'jazmine': 9274, 'brussels': 9275, \"democrat's\": 9276, 'explicitly': 9277, 'marriages': 9278, 'neighborhoods': 9279, 'deans': 9280, '123': 9281, 'alike': 9282, 'brains': 9283, 'mice': 9284, 'cardozo': 9285, 'floundered': 9286, 'brakes': 9287, 'butts': 9288, 'brake': 9289, '674': 9290, \"companies'\": 9291, 'harman': 9292, 'caffeinated': 9293, 'liu': 9294, 'jinbao': 9295, 'abruptly': 9296, 'suddenly': 9297, 'ports': 9298, 'constricted': 9299, 'breathing': 9300, 'ideas': 9301, 'departments': 9302, '282': 9303, '355': 9304, 'peninsula': 9305, 'hire': 9306, 'intermeeting': 9307, 'deserve': 9308, '1986': 9309, 'ppi': 9310, 'girolami': 9311, 'calmly': 9312, 'fortunes': 9313, 'boom': 9314, 'purge': 9315, 'waite': 9316, 'cattleman': 9317, 'duvall': 9318, '071': 9319, 'rlx>': 9320, 'inked': 9321, 'cedars': 9322, 'sinai': 9323, 'undergoing': 9324, 'dialysis': 9325, 'parrish': 9326, \"tony's\": 9327, 'thrilled': 9328, 'caucuses': 9329, \"levant's\": 9330, 'multifoods': 9331, 'doubt': 9332, \"expedition's\": 9333, 'legendary': 9334, 'beauties': 9335, 'yen<jpy': 9336, '3315': 9337, 'francs<chf': 9338, '<jpy': 9339, 'gruner': 9340, 'jahr': 9341, \"technology's\": 9342, \"aspen's\": 9343, 'manassas': 9344, 'discarded': 9345, 'undergone': 9346, 'sanders': 9347, 'raft': 9348, 'quantity': 9349, 'alon': 9350, 'cup': 9351, \"alon's\": 9352, 'likewise': 9353, \"quattrone's\": 9354, 'resigning': 9355, 'kraft': 9356, 'brazil': 9357, 'wheels': 9358, 'celsius': 9359, 'computerized': 9360, 'omen': 9361, 'sunw': 9362, 'boilers': 9363, 'reprinted': 9364, 'officefront': 9365, 'acceleration': 9366, 'specialized': 9367, 'gasses': 9368, 'armor': 9369, 'gases': 9370, 'armour': 9371, 'earmarked': 9372, 'recognize': 9373, 'recognise': 9374, \"bill's\": 9375, 'neb': 9376, 'lobbying': 9377, '290': 9378, '2p': 9379, 'morrison': 9380, '288': 9381, \"council's\": 9382, \"steve's\": 9383, 'reserved': 9384, 'johannesburg': 9385, '202': 9386, 'dnc': 9387, 'disagreement': 9388, 'letting': 9389, 'schafer': 9390, 'riverboat': 9391, 'clearance': 9392, 'comedian': 9393, 'quips': 9394, 'congo': 9395, 'conservancy': 9396, 'universe': 9397, 'kyongsang': 9398, 'kyeongsang': 9399, 'leapt': 9400, '007': 9401, '762': 9402, 'websites': 9403, 'ahold': 9404, \"ahold's\": 9405, 'subjects': 9406, 'volunteer': 9407, \"walgreen's\": 9408, 'nvidia': 9409, 'claire': 9410, 'strolled': 9411, '251': 9412, 'youngsters': 9413, 'notifies': 9414, 'communicating': 9415, 'extremadura': 9416, 'evacuate': 9417, 'extramadura': 9418, 'bordering': 9419, 'avila': 9420, 'steering': 9421, 'alibozek': 9422, 'coins': 9423, '737s': 9424, \"moose's\": 9425, 'bouncing': 9426, 'invitations': 9427, 'lowered': 9428, 'tire': 9429, 'manhunt': 9430, 'tip': 9431, 'misjudged': 9432, 'underestimated': 9433, 'photography': 9434, 'pinpoint': 9435, \"ie's\": 9436, 'occurs': 9437, '147': 9438, '803': 9439, \"priests'\": 9440, \"i'll\": 9441, '517': 9442, 'tasked': 9443, 'keeping': 9444, '1018': 9445, '652': 9446, '0835': 9447, '346': 9448, 'dinh': 9449, 'phoenixville': 9450, 'rams': 9451, \"khamenei's\": 9452, 'ayatollah': 9453, 'khamenei': 9454, 'wore': 9455, '640': 9456, '981': 9457, 'shots': 9458, \"command's\": 9459, 'abdu': 9460, 'expired': 9461, 'hannibal': 9462, \"hannibal's\": 9463, 'capita': 9464, 'morrell': 9465, 'seafood': 9466, 'superintendent': 9467, 'floyd': 9468, 'mccrackin': 9469, 'demanded': 9470, 'engines': 9471, \"1990's\": 9472, '1990s': 9473, 'etched': 9474, 'thin': 9475, 'broker': 9476, \"defendant's\": 9477, \"defendants'\": 9478, 'assigns': 9479, 'gowen': 9480, 'assign': 9481, 'diebold': 9482, 'burger': 9483, \"gm's\": 9484, \"sec's\": 9485, 'irresponsible': 9486, '624': 9487, '590': 9488, 'string': 9489, 'trapdoor': 9490, 'psp': 9491, 'slots': 9492, 'lit': 9493, 'boutique': 9494, 'upmarket': 9495, 'goers': 9496, 'fetus': 9497, 'womb': 9498, 'initiated': 9499, 'averaging': 9500, 'console': 9501, 'pepper': 9502, 'sloppily': 9503, 'erbitux': 9504, 'rapes': 9505, 'lieutenant': 9506, 'colonel': 9507, 'seiu': 9508, '388': 9509, '318': 9510, 'investor': 9511, 'jitters': 9512, 'arose': 9513, 'arises': 9514, \"tibco's\": 9515, 'rmbs': 9516, \"g's\": 9517, 'g’s': 9518, 'attraction': 9519, \"hawaii's\": 9520, 'milwaukee': 9521, 'suffocated': 9522, 'rendition': 9523, 'incriminating': 9524, 'sinister': 9525, '661': 9526, \"mci's\": 9527, 'roadblocks': 9528, 'mcis': 9529, 'zimmer': 9530, 'diving': 9531, 'pilothouse': 9532, 'wheelhouse': 9533, 'grim': 9534, 'hugo': 9535, 'masaka': 9536, 'armoured': 9537, 'commanding': 9538, 'yoweri': 9539, 'museveni': 9540, 'gonzles': 9541, 'gonzales': 9542, 'loyald': 9543, \"shouldn't\": 9544, 'pravastatin': 9545, 'pravachol': 9546, 'woodbury': 9547, 'mischievous': 9548, 'knocking': 9549, 'sooglossidae': 9550, 'archipelago': 9551, 'madagascar': 9552, 'palace': 9553, 'surprised': 9554, 'gonna': 9555, '997': 9556, '626': 9557, 'premarket': 9558, '993': 9559, '732': 9560, 'unclear': 9561, 'budged': 9562, 'ild': 9563, 'consequences': 9564, 'tougher': 9565, 'binary': 9566, 'delisted': 9567, 'ce': 9568, \"beach's\": 9569, 'demolitions': 9570, '6789': 9571, 'flexed': 9572, 'muscle': 9573, '6672': 9574, 'sensible': 9575, 'ventura': 9576, 'closings': 9577, '416': 9578, 'beaches': 9579, 'swimming': 9580, '317': 9581, '2400kg': 9582, 'heavily': 9583, 'richmond': 9584, 'horn': 9585, 'illusionist': 9586, 'gaping': 9587, 'derek': 9588, 'dislocating': 9589, '1149': 9590, '1115': 9591, 'extending': 9592, 'manuals': 9593, 'medications': 9594, 'hearings': 9595, 'yukio': 9596, 'sakamoto': 9597, 'cleric': 9598, 'abu': 9599, 'bakar': 9600, 'secrecy': 9601, 'pakistanis': 9602, 'weve': 9603, 'quits': 9604, \"splitr'n'b\": 9605, \"tariffs'\": 9606, 'halfway': 9607, 'itc': 9608, 'midpoint': 9609, 'madame': 9610, 'imprisonment': 9611, 'oppressive': 9612, 'cultural': 9613, 'commuted': 9614, 'contribution': 9615, 'tonnes': 9616, 'improving': 9617, 'miner': 9618, 'churn': 9619, 'plodding': 9620, 'fda': 9621, 'ouvriere': 9622, 'pensions': 9623, 'subservience': 9624, 'brandished': 9625, 'qurei': 9626, 'qureia': 9627, 'warm': 9628, \"yale's\": 9629, 'halls': 9630, 'preceded': 9631, 'aronov': 9632, 'replaces': 9633, 'infidelity': 9634, 'recounted': 9635, \"laos's\": 9636, 'destination': 9637, \"''with\": 9638, 'appetizer': 9639, 'devoured': 9640, 'entree': 9641, 'resolute': 9642, 'steadfastly': 9643, 'faisal': 9644, 'carón': 9645, 'martínez': 9646, 'caron': 9647, 'residing': 9648, '013': 9649, \"fujimori's\": 9650, 'torture': 9651, 'fujimori': 9652, 'tortures': 9653, \"player's\": 9654, 'bloodshot': 9655, 'sobriety': 9656, \"stackhouse's\": 9657, 'tenn': 9658, 'vlad': 9659, 'imir': 9660, 'russia’s': 9661, 'vladimir': 9662, 'delayed': 9663, 'evident': 9664, 'silicon': 9665, 'lofts': 9666, 'schrder': 9667, \"albertson's\": 9668, 'albertsons': 9669, 'unanticipated': 9670, 'pdas': 9671, 'hip': 9672, 'hop': 9673, 'performer': 9674, 'coordinated': 9675, 'customized': 9676, 'mingling': 9677, 'comingling': 9678, 'nonappropriated': 9679, 'kilometers': 9680, 'thumb': 9681, 'midyear': 9682, 'nestlé': 9683, 'experiences': 9684, 'relocations': 9685, '932': 9686, 'popped': 9687, 'champagne': 9688, 'bottle': 9689, 'cmcsa': 9690, 'columns': 9691, 'starved': 9692, 'uprising': 9693, 'dynamite': 9694, 'wielding': 9695, 'besieged': 9696, 'renewal': 9697, 'resurrected': 9698, 'blackouts': 9699, 'beacon': 9700, 'neptune': 9701, 'processors': 9702, 'powerhouse': 9703, 'towers': 9704, 'tall': 9705, \"towers'\": 9706, '247': 9707, 'miscellaneous': 9708, '794': 9709, '019': 9710, 'rarely': 9711, 'cameras': 9712, 'obsolete': 9713, \"perkins'\": 9714, 'huskies': 9715, 'julia': 9716, 'gillard': 9717, 'nontraditional': 9718, 'eluding': 9719, 'athough': 9720, \"rehnquist's\": 9721, 'fabian': 9722, 'weida': 9723, \"meester's\": 9724, 'impassioned': 9725, 'twentysomethings': 9726, '244th': 9727, 'engineer': 9728, \"kosovo's\": 9729, 'kernan': 9730, 'oath': 9731, 'civility': 9732, 'barrera': 9733, 'almihdhar': 9734, 'alhazmi': 9735, 'whoever': 9736, 'thursdays': 9737, 'sawmills': 9738, 'datamonitor': 9739, \"cable's\": 9740, \"abraham's\": 9741, 'toppling': 9742, 'wining': 9743, 'picks': 9744, 'domecq': 9745, 'domeq': 9746, \"goodyear's\": 9747, 'distress': 9748, 'asphyxiating': 9749, 'dennehy’s': 9750, 'regards': 9751, 'yeates': 9752, 'sp2': 9753, 'enhancements': 9754, '1666': 9755, '672': 9756, \"cabinet's\": 9757, 'preside': 9758, 'rollout': 9759, 'tonapi': 9760, 'vasant': 9761, 'pitke': 9762, \"myanmar's\": 9763, 'nissen': 9764, 'lipitor': 9765, 'buildup': 9766, 'atorvastatin': 9767, 'rnc': 9768, 'moonves': 9769, 'stuart': 9770, 'placing': 9771, '296': 9772, 'drum': 9773, \"sophia's\": 9774, 'saint': 9775, 'sophia': 9776, 'greek': 9777, 'orthodox': 9778, 'fitting': 9779, 'description': 9780, 'britz': 9781, 'kinney': 9782, 'poses': 9783, 'jetliner': 9784, 'deliveries': 9785, 'protein': 9786, 'bombs': 9787, \"cleveland's\": 9788, 'goin': 9789, 'clash': 9790, 'gone': 9791, 'lieut': 9792, '586': 9793, 'woodside': 9794, 'haunted': 9795, 'pod': 9796, 'thibault': 9797, 'schaumburg': 9798, 'marilyn': 9799, 'monroe': 9800, 'definitely': 9801, 'titled': 9802, \"''fewer\": 9803, \"10''\": 9804, 'bordelon': 9805, 'dressing': 9806, 'greenwich': 9807, 'robbed': 9808, 'robbing': 9809, 'mechanics': 9810, 'picket': 9811, 'collingswood': 9812, 'oaklyn': 9813, 'aden': 9814, 'confidant': 9815, \"who's\": 9816, 'dont': 9817, 'whos': 9818, 'weber': 9819, \"''a\": 9820, 'courtiers': 9821, 'poisoning': 9822, 'brothers’': 9823, '“little': 9824, 'minds”': 9825, 'poisoned': 9826, \"princes'\": 9827, 'favors': 9828, 'satellites': 9829, 'crack': 9830, 'laughter': 9831, 'brabazon': 9832, 'mom': 9833, \"hamas's\": 9834, 'allred': 9835, 'frey': 9836, 'lansdowne': 9837, 'coyness': 9838, 'unfamiliar': 9839, 'businessweek': 9840, 'fronts': 9841, 'cranky': 9842, 'voinovich': 9843, 'wyles': 9844, \"wyle's\": 9845, 'salvage': 9846, 'underscores': 9847, '5281': 9848, 'eurchf': 9849, 'kayaker': 9850, 'houses': 9851, 'flooded': 9852, 'chrétien': 9853, 'decriminalize': 9854, 'drifting': 9855, 'erratically': 9856, 'southward': 9857, 'compensate': 9858, 'trapping': 9859, 'mudslides': 9860, 'redmond': 9861, 'srl': 9862, 'corporation': 9863, 'bluecore3': 9864, 'multimedia': 9865, 'lfbga': 9866, 'worlds': 9867, 'legit': 9868, 'launches': 9869, 'buymusic': 9870, 'raymond': 9871, \"memorial's\": 9872, 'healthpark': 9873, 'reichert': 9874, 'fiorina': 9875, 'likes': 9876, 'harassed': 9877, 'navias': 9878, 'wbc': 9879, 'knoxville': 9880, 'vaccinated': 9881, 'transplant': 9882, 'shreveport': 9883, 'outgoing': 9884, 'iwar': 9885, \"storm's\": 9886, 'carlow': 9887, \"shipments'\": 9888, 'campaigner': 9889, 'mcgreevey': 9890, \"laden's\": 9891, 'transporting': 9892, 'diarrhea': 9893, '358': 9894, 'darted': 9895, 'djs': 9896, 'homewares': 9897, 'furniture': 9898, 'authored': 9899, 'capitalized': 9900, 'comstock': 9901, 'detentions': 9902, \"shuttle's\": 9903, 'reentry': 9904, 'shuttle’s': 9905, '‘‘there': 9906, 'revive': 9907, 'broadcasting': 9908, 'cocaine': 9909, 'busts': 9910, 'amd64': 9911, 'powered': 9912, 'desktops': 9913, '615': 9914, 'aker': 9915, \"pbl's\": 9916, 'conceive': 9917, 'heather': 9918, 'uterus': 9919, 'payouts': 9920, 'didnt': 9921, 'chatted': 9922, 'hinds': 9923, 'capture': 9924, 'g20': 9925, 'carpeting': 9926, 'carpet': 9927, 'sara': 9928, '715': 9929, 'mesa': 9930, 'verde': 9931, 'saidon': 9932, 'wednesdaythe': 9933, 'irretrievably': 9934, 'florida’s': 9935, '“irretrievably': 9936, 'tainted”': 9937, 'remarried': 9938, 'curable': 9939, 'pm': 9940, 'nights': 9941, 'demonstratorschanted': 9942, 'skits': 9943, 'danced': 9944, 'guardian': 9945, 'stamp': 9946, \"chancellor's\": 9947, 'instructions': 9948, '7221': 9949, 'lberman': 9950, '313': 9951, '2027': 9952, 'ghunter': 9953, 'preferably': 9954, 'foul': 9955, 'stared': 9956, 'referee': 9957, 'joey': 9958, 'timeout': 9959, \"'especially\": 9960, \"singapore'\": 9961, 'prosecute': 9962, \"bitdefender's\": 9963, 'appliance': 9964, 'starbak': 9965, 'notify': 9966, 'auto': 9967, 'shackle': 9968, 'budding': 9969, 'respondents': 9970, \"'bad'\": 9971, 'heath': 9972, 'penality': 9973, 'unpenalised': 9974, 'umpire': 9975, 'item': 9976, 'gulping': 9977, 'prenatal': 9978, 'baht': 9979, 'leap': 9980, 'appellate': 9981, 'differing': 9982, 'displays': 9983, 'splintered': 9984, 'depictions': 9985, 'instances': 9986, 'rivet': 9987, 'hollandsworth': 9988, 'productive': 9989, 'ore': 9990, \"symbol's\": 9991, 'multiparty': 9992, 'inhibited': 9993, 'uninhibited': 9994, 'spontaneously': 9995, 'invividuals': 9996, 'sterling': 9997, '5875': 9998, 'gbp': 9999, 'beck': 10000, 'somehow': 10001, 'invercargill': 10002, 'mt': 10003, 'presides': 10004, 'supplied': 10005, 'bucharest': 10006, 'filtering': 10007, 'warburg': 10008, 'untold': 10009, 'poorest': 10010, 'undetermined': 10011, \"minister's\": 10012, 'judders': 10013, 'spared': 10014, \"movin'\": 10015, 'stokes': 10016, \"lynch's\": 10017, 'marchant': 10018, \"midlands'\": 10019, 'cupid': 10020, 'sylvan': 10021, 'area”': 10022, 'raises': 10023, 'disturbing': 10024, \"stake's\": 10025, 'sundwell': 10026, \"atstake's\": 10027, 'sundwall': 10028, 'felon': 10029, 'frederick': 10030, 'motz': 10031, \"boss's\": 10032, '52km': 10033, 'jeb': 10034, 'caps': 10035, 'impersonating': 10036, 'prepares': 10037, 'chante': 10038, 'jawaon': 10039, 'constitutionality': 10040, 'outlawing': 10041, 'defenders': 10042, 'contacts': 10043, \"phoenix's\": 10044, 'pleading': 10045, 'lgto': 10046, 'hopkinton': 10047, 'function': 10048, 'pierre': 10049, \"bt's\": 10050, 'dynamited': 10051, \"boggs'\": 10052, 'convention': 10053, 'boggs': 10054, \"press'\": 10055, 'columnist': 10056, \"convention's\": 10057, '818': 10058, 'berkshire': 10059, 'hathaway': 10060, 'lebo': 10061, '746': 10062, '744': 10063, 'dram': 10064, 'concept': 10065, '712': 10066, 'proved': 10067, 'barclays': 10068, 'barrett': 10069, 'installments': 10070, 'ka': 10071, 'shing': 10072, '<0001': 10073, 'hk>': 10074, 'boykin’s': 10075, 'islamist': 10076, 'america’s': 10077, '“spiritual': 10078, 'enemy”': 10079, 'spiritual': 10080, 'enemy': 10081, 'noting': 10082, 'vital': 10083, '1km': 10084, \"smithfield's\": 10085, 'smithfields': 10086, 'depend': 10087, \"nowitzki's\": 10088, 'doubtful': 10089, 'nowitzki': 10090, \"team's\": 10091, 'shootaround': 10092, 'reverend': 10093, \"mizuho's\": 10094, '8411': 10095, '444': 10096, \"samudra's\": 10097, 'anxious': 10098, 'hps': 10099, 'headscarf': 10100, 'exotic': 10101, 'raked': 10102, \"boeing's\": 10103, 'bair': 10104, 'formal': 10105, 'taught': 10106, 'staying': 10107, \"d'cunha\": 10108, \"toronto's\": 10109, 'offshore': 10110, 'def': 10111, 'jam': 10112, 'tvt': 10113, 'compensatory': 10114, '5m': 10115, 'tcg': 10116, 'ccg': 10117, 'extract': 10118, 'dispatched': 10119, 'asset': 10120, 'luehr': 10121, 'us6': 10122, 'a9': 10123, 'baz': 10124, 'fold': 10125, 'disappointing': 10126, 'sufficient': 10127, 'passionate': 10128, 'nationalist': 10129, \"d'alessandro\": 10130, 'tear': 10131, 'overthrown': 10132, 'comparison': 10133, 'spectators': 10134, 'prevalent': 10135, 'eaug': 10136, 'sifting': 10137, \"uk's\": 10138, 'atal': 10139, 'bihari': 10140, 'whoended': 10141, 'gta': 10142, 'globally': 10143, '573': 10144, 'teenagers': 10145, 'agers': 10146, 'bush’s': 10147, 'premature': 10148, 'stillborn': 10149, 'infant': 10150, 'confided': 10151, 'scrambled': 10152, 'parmalat': 10153, 'gest': 10154, 'reclined': 10155, 'adel': 10156, 'alhadlaq': 10157, 'articular': 10158, 'rats': 10159, 'critically': 10160, 'leaked': 10161, \"they've\": 10162, 'quarterlies': 10163, 'usually': 10164, 'genome': 10165, 'trek': 10166, 'outpacing': 10167, '167': 10168, 'efforst': 10169, 'symptomatic': 10170, 'difficulties': 10171, 'paribas': 10172, 'reminiscent': 10173, 'dogged': 10174, 'cardenas': 10175, 'plunder': 10176, 'mutiny': 10177, 'larceny': 10178, 'devon': 10179, 'darien': 10180, 'victor': 10181, 'wasted': 10182, 'kuo': 10183, 'askingwhether': 10184, '967': 10185, '971': 10186, 'obligated': 10187, \"network's\": 10188, 'ironically': 10189, 'footing': 10190, \"yes'\": 10191, 'blasts': 10192, 'olympic': 10193, 'pastor': 10194, 'afula': 10195, 'immobilized': 10196, 'gigabit': 10197, 'ethernet': 10198, 'switch': 10199, 'lungs': 10200, '092': 10201, 'sophomore': 10202, 'forcible': 10203, 'denomination': 10204, 'hampshire': 10205, 'farida': 10206, 'cosmopolitan': 10207, '4k': 10208, 'exchangeable': 10209, 'z200': 10210, 'integrate': 10211, 'shortage': 10212, 'hiram': 10213, 'monserrate': 10214, 'yeast': 10215, 'stave': 10216, '593': 10217, '968': 10218, 'cftc': 10219, 'manipulating': 10220, 'dignitaries': 10221, 'adequately': 10222, 's3c2440': 10223, 'slaughtered': 10224, 'fucking': 10225, 'extends': 10226, 'costumes': 10227, \"costumes''\": 10228, '40ft': 10229, 'explain': 10230, 'undue': 10231, 'children’s': 10232, 'unrelated': 10233, 'westar': 10234, 'fiduciary': 10235, 'admission': 10236, 'isaacs': 10237, 'spinoff': 10238, 'dismayed': 10239, 'sequoia': 10240, 'intersection': 10241, 'everett': 10242, 'render': 10243, \"''politicizing''\": 10244, 'accelerated': 10245, '409': 10246, '844': 10247, 'prob': 10248, 'lem': 10249, 'fished': 10250, 'merged': 10251, 'wielded': 10252, 'krc': 10253, '405': 10254, 'rkm': 10255, 'ransacked': 10256, 'cockpit': 10257, 'alter': 10258, 'missions': 10259, 'erny': 10260, 'ul': 10261, 'accountancy': 10262, \"great''\": 10263, 'takbir': 10264, 'proclaim': 10265, 'manned': 10266, 'adherents': 10267, 'sectors': 10268, 'freedoms': 10269, 'extremism': 10270, 'debra': 10271, 'unstable': 10272, 'paramilitary': 10273, 'liquidated': 10274, 'bayoumi—despite': 10275, 'snapped': 10276, 'brisk': 10277, 'furst': 10278, 'cashing': 10279, 'hollywoodiscalling': 10280, 'commitee': 10281, 'defiant': 10282, 'reinstates': 10283, \"hebert's\": 10284, 'wallet': 10285, 'batteries': 10286, \"driver's\": 10287, 'knowing': 10288, 'marketwatch': 10289, '76bn': 10290, 'generic': 10291, 'acne': 10292, 'accutane': 10293, 'diagnostics': 10294, '767': 10295, 'strauss': 10296, 'gilroy': 10297, 'yekaterina': 10298, 'dmitriyeva': 10299, 'mcarthur': 10300, 'q3': 10301, 'onset': 10302, 'brig': 10303, 'fixes': 10304, 'indissociable': 10305, 'resolving': 10306, 'widening': 10307, 'oltrogge': 10308, 'tipster': 10309, 'shores': 10310, 'furyk': 10311, 'celebrated': 10312, 'transporter': 10313, 'pablo': 10314, 'adverse': 10315, 'slumping': 10316, 'treasuries': 10317, 'essex': 10318, 'kid': 10319, \"yard's\": 10320, 'hero': 10321, 'derailed': 10322, 'saemaeul': 10323, 'derail': 10324, 'injuring': 10325, 'disappearing': 10326, 'badat': 10327, '“on': 10328, 'instigation': 10329, 'smi': 10330, 'onboard': 10331, 'paced': 10332, 'commercialize': 10333, 'commercialise': 10334, \"university's\": 10335, 'arbor': 10336, 'engineered': 10337, 'starving': 10338, '606': 10339, 'divorce': 10340, 'quote': 10341, 'info': 10342, 'overturned': 10343, \"microsystems'\": 10344, 'contracting': 10345, 'unsure': 10346, 'attached': 10347, 'ejection': 10348, 'suem': 10349, 'eject': 10350, 'morgante': 10351, 'q': 10352, 'debating': 10353, 'wage': 10354, 'endorsed': 10355, 'varying': 10356, 'wired': 10357, 'reaches': 10358, 'astounding': 10359, 'financed': 10360, 'combinations': 10361, 'smack': 10362, 'registrars': 10363, 'rolfe': 10364, 'wlan': 10365, 'missed': 10366, '“steady”': 10367, '“several': 10368, 'days”': 10369, 'kung': 10370, 'pao': 10371, 'chicken': 10372, 'tea': 10373, 'specially': 10374, 'packets': 10375, 'treasure': 10376, \"newspaper's\": 10377, \"''watch\": 10378, \"list''\": 10379, 'flames': 10380, 'romano': 10381, 'rapped': 10382, 'underlined': 10383, 'aceh': 10384, 'advise': 10385, 'reallocation': 10386, 'drying': 10387, \"bashir's\": 10388, \"jones'\": 10389, 'mankiw': 10390, 'menus': 10391, 'lock': 10392, 'locks': 10393, 'protested': 10394, 'unconstitutional': 10395, 'promotion': 10396, 'myron': 10397, 'sci': 10398, 'startup': 10399, 'execs': 10400, 'screened': 10401, 'compton': 10402, 'appearing': 10403, 'warn': 10404, 'sharp': 10405, 'grassy': 10406, 'asphalt': 10407, 'topped': 10408, 'atm': 10409, 'wright': 10410, \"wright's\": 10411, 'tinkered': 10412, '227': 10413, '188': 10414, 'relied': 10415, 'relying': 10416, 'undisclosed': 10417, 'sum': 10418, 'dillards': 10419, 'kohls': 10420, 'tahoe': 10421, 'plates': 10422, \"public's\": 10423, '1537': 10424, 'stephanie': 10425, 'truog': 10426, 'tagged': 10427, 'ros': 10428, 'katsumi': 10429, 'influencing': 10430, 'believing': 10431, 'unnecessary': 10432, 'sewed': 10433, 'kurd': 10434, 'stitched': 10435, 'ons': 10436, 'revise': 10437, 'reference': 10438, 'amending': 10439, 'upgraded': 10440, \"greenspan's\": 10441, 'palmone': 10442, '949': 10443, \"o'neill's\": 10444, 'oneills': 10445, 'gasoline': 10446, \"2003's\": 10447, 'countrys': 10448, 'unformed': 10449, 'fumigated': 10450, 'chlorine': 10451, 'dioxide': 10452, 'struggles': 10453, 'congestion': 10454, 'upgrading': 10455, 'facilitating': 10456, 'upgrades': 10457, 'mobility': 10458, 'playright': 10459, 'comedies': 10460, '1952': 10461, 'najaf': 10462, 'forensic': 10463, 'wreckage': 10464, 'bloom': 10465, 'marisa': 10466, 'baldeo': 10467, \"authority's\": 10468, 'uniform': 10469, 'nyc': 10470, 'logo': 10471, 'griffin': 10472, 'roundtable': 10473, 'discussion': 10474, 'breakfast': 10475, 'explore': 10476, 'fueled': 10477, 'fuelled': 10478, 'castle': 10479, 'babylon': 10480, 'suffolk': 10481, 'fbi’s': 10482, 'unpatched': 10483, 'counterpane': 10484, 'idefense': 10485, 'effectively': 10486, 'johnsons': 10487, 'maxs': 10488, \"max's\": 10489, '20s': 10490, 'czartoryski': 10491, 'operated': 10492, \"nba's\": 10493, 'kgb': 10494, \"'propaganda\": 10495, \"ideology'\": 10496, \"beatles'\": 10497, 'propaganda': 10498, 'ideology': 10499, 'speedy': 10500, 'readers': 10501, 'workaholic': 10502, 'proliant': 10503, 'dictatorship': 10504, 'onwards': 10505, 'embark': 10506, \"region's\": 10507, 'martyr': 10508, 'magnarelli': 10509, 'inspection': 10510, 'disarmament': 10511, 'herr': 10512, 'residence': 10513, 'tipograph': 10514, 'formation': 10515, 'curt': 10516, 'birmingham': 10517, 'constitutionally': 10518, 'redraw': 10519, 'reviewed': 10520, 'complacency': 10521, 'aluminium': 10522, \"o'donnell's\": 10523, 'interrogate': 10524, 'videotaped': 10525, 'art': 10526, '991': 10527, '3m': 10528, 'mcintosh': 10529, 'daycare': 10530, 'wry': 10531, 'replied': 10532, 'avery': 10533, 'dennison': 10534, 'smiling': 10535, 'laczynski': 10536, 'smiled': 10537, \"lacsynski's\": 10538, 'handsets': 10539, '131': 10540, 'vessel': 10541, 'rickety': 10542, 'lincoln': 10543, 'disabilities': 10544, 'ada': 10545, 'refusing': 10546, 'rehire': 10547, 'wildfire': 10548, 'devastated': 10549, 'timber': 10550, 'reservation': 10551, 'charring': 10552, 'relocate': 10553, 'organizers': 10554, 'relocating': 10555, 'dated': 10556, 'depression': 10557, 'era': 10558, 'sensors': 10559, 'appointees': 10560, \"reporters'\": 10561, 'annex': 10562, 'antidiscrimination': 10563, 'gays': 10564, 'lesbians': 10565, 'ellen': 10566, 'tauscher': 10567, 'procedural': 10568, 'legalizing': 10569, '936': 10570, \"cdc's\": 10571, 'reminded': 10572, '1523': 10573, 'warlord': 10574, 'fighter': 10575, 'flexibility': 10576, 'soil': 10577, \"it''s\": 10578, 'absurd': 10579, 'spamming': 10580, 'pinch': 10581, 'snap': 10582, '0ghz': 10583, 'celeron': 10584, '128m': 10585, 'bytes': 10586, '40g': 10587, 'byte': 10588, '4ghz': 10589, 'pentium': 10590, '128mb': 10591, 'ram': 10592, '40gb': 10593, 'ravaged': 10594, 'kuwait': 10595, 'oust': 10596, 'boudin': 10597, 'ligature': 10598, 'coaxial': 10599, 'cord': 10600, '3721': 10601, 'journalist': 10602, 'fabricating': 10603, 'arrangement': 10604, '381': 10605, 'entering': 10606, 'graves': 10607, 'villafranca': 10608, 'ratcliffe': 10609, 'pete': 10610, 'slover': 10611, 'gromer': 10612, 'jeffers': 10613, 'leung': 10614, 'understood': 10615, 'histories': 10616, 'simultaneously': 10617, \"park's\": 10618, 'tentatively': 10619, 'aiming': 10620, 'desk': 10621, \"feral's\": 10622, 'imposing': 10623, 'touts': 10624, 'hyper': 10625, 'vigilant': 10626, 'patricia': 10627, 'tug': 10628, '122': 10629, 'thursday’s': 10630, \"action's\": 10631, 'constitute': 10632, 'assassination': 10633, '354': 10634, 'mildly': 10635, 'definition': 10636, 'stringent': 10637, 'turns': 10638, 'modesto': 10639, 'beirut': 10640, 'us1': 10641, 'us342': 10642, '342': 10643, \"progress''\": 10644, 'naming': 10645, 'lifeline': 10646, 'hander': 10647, 'orioles': 10648, 'pitcher': 10649, 'spiral': 10650, 'ventures': 10651, \"emc's\": 10652, 'nigerian': 10653, 'headless': 10654, 'limbless': 10655, 'ragusas': 10656, \"ragusa's\": 10657, 'lynn': 10658, 'script': 10659, 'screenwriters': 10660, 'volatility': 10661, \"rim's\": 10662, 'sr': 10663, 'louis': 10664, 'caramore': 10665, 'finale': 10666, 'sentinel': 10667, 'tribune': 10668, 'skilling': 10669, 'nairobi': 10670, 'cathedral': 10671, \"''is\": 10672, \"mayor's\": 10673, \"powderject's\": 10674, 'inquest': 10675, 'inquests': 10676, 'wales': 10677, 'dodi': 10678, 'fayed': 10679, 'synonymous': 10680, '8459': 10681, '805': 10682, 'cradle': 10683, 'buck': 10684, \"philadelphia's\": 10685, 'defy': 10686, 'teaches': 10687, 'dirani': 10688, 'obeid': 10689, 'unidentified': 10690, 'staffer': 10691, 'discount': 10692, 'advent': 10693, \"season's\": 10694, 'adventus': 10695, 'assists': 10696, 'swipe': 10697, 'contested': 10698, 'unreliable': 10699, 'disclosing': 10700, 'leaking': 10701, 'pursued': 10702, 'fullest': 10703, 'allyson': 10704, 'newcomer': 10705, 'hairspray': 10706, 'bested': 10707, 'bernadette': 10708, 'peters': 10709, 'trillian': 10710, 'requesting': 10711, '20m': 10712, 'marrying': 10713, 'fiance': 10714, 'kicking': 10715, 'stifling': 10716, '40th': 10717, 'woefully': 10718, 'underestimates': 10719, '‘‘woefully': 10720, 'underestimates’’': 10721, 'haul': 10722, 'citrano': 10723, 'whenu': 10724, 'mothers': 10725, 'pepperoni': 10726, 'drinks': 10727, 'rooms': 10728, 'roth': 10729, 'ceremonies': 10730, 'wcoeq': 10731, 'pk': 10732, '<wcoeq': 10733, 'pk>': 10734, 'regulations': 10735, 'anaheim': 10736, 'babcock': 10737, 'measured': 10738, 'catapult': 10739, 'dieters': 10740, 'strategies': 10741, '1700': 10742, 'finnish': 10743, 'antti': 10744, 'kalliomaki': 10745, 'elite': 10746, 'broadside': 10747, 'msblast': 10748, 'mblast': 10749, 'stones': 10750, 'festival': 10751, 'kicked': 10752, 'itv': 10753, 'granada': 10754, 'booby': 10755, 'traps': 10756, 'barn': 10757, 'gate': 10758, 'realistic': 10759, 'goss': 10760, 'headlined': 10761, 'shiite': 10762, \"quetta's\": 10763, 'consistently': 10764, 'accountability': 10765, 'complicating': 10766, 'resurgent': 10767, 'offenses': 10768, 'stored': 10769, 'hanford': 10770, 'radioactive': 10771, 'hazardous': 10772, 'chemicals': 10773, 'monuc': 10774, 'bunia': 10775, 'applied': 10776, 'mosley': 10777, 'sang': 10778, 'snippets': 10779, 'gauges': 10780, 'deasean': 10781, 'childrens': 10782, 'jd': 10783, 'actor': 10784, 'niro': 10785, 'lashed': 10786, 'autos': 10787, 'dip': 10788, 'sees': 10789, 'slugger': 10790, 'struggling': 10791, 'cruise': 10792, 'predecessor': 10793, 'bendigo': 10794, 'rashidi': 10795, 'drives': 10796, 'accepts': 10797, 'absolved': 10798, 'doctoring': 10799, 'doesnt': 10800, 'manner': 10801, 'costume': 10802, 'partys': 10803, \"party's\": 10804, 'det': 10805, 'insp': 10806, 'detective': 10807, 'posing': 10808, 'emmy': 10809, 'award': 10810, 'nancy': 10811, 'reagans': 10812, 'auckland': 10813, 'condo': 10814, 'preposterous': 10815, 'odonnell': 10816, '438': 10817, 'traveller': 10818, 'solitary': 10819, 'explorers': 10820, 'chronicler': 10821, 'vanishing': 10822, 'integrates': 10823, 'alleging': 10824, 'us13': 10825, 'crush': 10826, 'marcos': 10827, 'jimenez': 10828, 'fake': 10829, 'flamboyant': 10830, 'entrepreneur': 10831, 'flagged': 10832, 'hambali': 10833, 'laments': 10834, 'spots': 10835, 'wi': 10836, 'fi': 10837, 'passport': 10838, 'vitality': 10839, '149mph': 10840, \"rusedski's\": 10841, 'roddick': 10842, 'andre': 10843, 'conducting': 10844, 'prayers': 10845, 'natsemi': 10846, 'chairwoman': 10847, 'vista': 10848, 'particularly': 10849, \"amd's\": 10850, '402': 10851, 'supplemented': 10852, 'debilitated': 10853, '863': 10854, 'rohtang': 10855, 'tunnel': 10856, 'consist': 10857, 'equitable': 10858, 'upside': 10859, 'appreciated': 10860, 'scripts': 10861, 'esrx': 10862, '1895': 10863, '1884': 10864, '1857': 10865, 'assembling': 10866, 'jerzy': 10867, 'lennox': 10868, 'hbo': 10869, 'propulsion': 10870, 'extensively': 10871, 'hortons': 10872, 'assaults': 10873, 'inhabitants': 10874, 'brandis': 10875, \"barbini's\": 10876, 'kicks': 10877, 'heightening': 10878, 'nited': 10879, 'risked': 10880, 'careers': 10881, 'bigotry': 10882, 'intolerance': 10883, \"hatreds''\": 10884, 'perforating': 10885, 'lung': 10886, '682': 10887, '670': 10888, 'us51': 10889, 'us10': 10890, \"reader's\": 10891, 'fingerprint': 10892, 'headline': 10893, 'publishes': 10894, 'parked': 10895, 'sonoma': 10896, 'cemetery': 10897, 'merchant': 10898, 'baltic': 10899, 'marshall': 10900, 'malikah': 10901, 'commons': 10902, 'bridge': 10903, 'matamoros': 10904, 'brownsville': 10905, 'input': 10906, 'µguru': 10907, \"tribe's\": 10908, 'receives': 10909, \"shi'ites\": 10910, 'arabs': 10911, 'assyrian': 10912, 'turkmen': 10913, 'turkoman': 10914, 'rowell': 10915, \"hospital's\": 10916, '445': 10917, '820': 10918, 'trillion': 10919, \"crohn's\": 10920, 'crohns': 10921, 'involve': 10922, \"short's\": 10923, 'wholesaler': 10924, 'goldin': 10925, 'crashes': 10926, 'nhtsa': 10927, 'tables': 10928, 'exec': 10929, 'insecure': 10930, 'subversion': 10931, \"beijing's\": 10932, 'presumably': 10933, 'confiscate': 10934, 'islands': 10935, 'institutions': 10936, 'anadarko': 10937, 'hepburn': 10938, '20th': 10939, \"century's\": 10940, 'declaring': 10941, 'meteorologists': 10942, 'landfall': 10943, 'corpus': 10944, 'christi': 10945, 'relented': 10946, '1003': 10947, 'maybe': 10948, 'optimistically': 10949, 'mediated': 10950, 'depending': 10951, 'participation': 10952, 'incentive': 10953, 'midafternoon': 10954, '773': 10955, 'hotter': 10956, 'undocumented': 10957, 'hopper': 10958, 'mailblocks': 10959, 'msn': 10960, \"jeremy's\": 10961, 'barber': 10962, 'shockey': 10963, 'denny': 10964, \"fox's\": 10965, 'technically': 10966, 'whereas': 10967, 'colossal': 10968, 'flavors': 10969, 'retails': 10970, 'usd': 10971, '399': 10972, 'panther': 10973, 'outdated': 10974, 'modernise': 10975, '886': 10976, '905': 10977, 'clergyman': 10978, \"euro's\": 10979, '143': 10980, 'adsl': 10981, 'moderate': 10982, \"echostar's\": 10983, 'diagnostic': 10984, 'therapeutic': 10985, 'vaccines': 10986, 'viruses': 10987, 'plague': 10988, '985': 10989, '066': 10990, '860': 10991, '454': 10992, \"indiana's\": 10993, 'additions': 10994, 'yandarbiev': 10995, 'reconsidering': 10996, 'affecting': 10997, \"''this\": 10998, 'baseless': 10999, 'illogical': 11000, 'sax': 11001, 'isc': 11002, 'stashes': 11003, \"yankees'\": 11004, 'longest': 11005, 'skid': 11006, 'chinas': 11007, 'commuter': 11008, 'graphics': 11009, \"parrish's\": 11010, 'lacked': 11011, 'lacks': 11012, \"oilman's\": 11013, 'sonya': 11014, 'soutus': 11015, 'resource': 11016, 'insurgency': 11017, 'stir': 11018, 'misnaming': 11019, 'greeted': 11020, 'hedge': 11021, 'calpers': 11022, 'bundles': 11023, 'instance': 11024, 'assembled': 11025, 'electromagnetic': 11026, \"brands'\": 11027, 'performs': 11028, 'fluid': 11029, 'stark': 11030, 'braced': 11031, 'sin': 11032, 'wed': 11033, 'travelled': 11034, 'privacy': 11035, 'vacant': 11036, \"williams'\": 11037, '196': 11038, 'tompkinsville': 11039, 'kyran': 11040, 'spokeman': 11041, '1607': 11042, '1633': 11043, 'thinks': 11044, \"korea's\": 11045, 'delegations': 11046, 'eke': 11047, 'slimmest': 11048, \"association's\": 11049, 'helm': 11050, 'president’s': 11051, 'cheney': 11052, 'sellers': 11053, 'anonymous': 11054, 'rifle': 11055, 'bullets': 11056, 'dallasnews': 11057, 'brandon': 11058, 'formby': 11059, 'rockets': 11060, 'portable': 11061, 'disguised': 11062, 'emphasis': 11063, 'whims': 11064, 'antisatellite': 11065, 'shenzhou': 11066, \"telescope's\": 11067, 'newest': 11068, \"schroder's\": 11069, \"board's\": 11070, 'adm': 11071, 'eyewitnesses': 11072, 'sucked': 11073, 'grella': 11074, 'n225': 11075, '192': 11076, 'rituxan': 11077, 'scanning': 11078, 'finders': 11079, 'scanned': 11080, 'detectors': 11081, 'var': 11082, 'xserve': 11083, 'xserves': 11084, 'tourist': 11085, 'ubiquitous': 11086, 'eerily': 11087, 'connect': 11088, 'sainsbury’s': 11089, 'asda': 11090, 'sainsbury': 11091, 'asserting': 11092, \"clinton's\": 11093, 'clinton’s': 11094, 'galleria': 11095, 'morley': 11096, 'deutsche': 11097, 'philpot': 11098, 'dica': 11099, \"dica's\": 11100, 'despicable': 11101, 'meetings': 11102, 'occupying': 11103, 'tiananmen': 11104, 'guaranteed': 11105, \"center's\": 11106, 'knees': 11107, \"acc's\": 11108, 'exit': 11109, 'pfp': 11110, 'ming': 11111, 'chien': 11112, 'absent': 11113, \"body's\": 11114, 'alliances': 11115, 'treaties': 11116, 'wilmington': 11117, 'psi': 11118, 'qualities': 11119, 'qualities—tremendous': 11120, 'reversal': 11121, 'lois': 11122, \"smart's\": 11123, 'anecdotal': 11124, 'beige': 11125, 'clause': 11126, 'incentives': 11127, 'inched': 11128, '766': 11129, '739': 11130, 'outbreaks': 11131, 'bloodiest': 11132, 'convince': 11133, 'germinated': 11134, 'cement': 11135, 'panacea': 11136, \"melbourne's\": 11137, 'airlite': 11138, 'deposed': 11139, 'worshiper': 11140, 'assani': 11141, 'halted': 11142, 'roared': 11143, 'clergy': 11144, 'azn': 11145, 'europe’s': 11146, 'fazul': 11147, 'waterman': 11148, 'abated': 11149, 'uhl': 11150, 'basketball': 11151, 'aba': 11152, 'emails': 11153, 'sobig': 11154, 'ryland': 11155, 'ryl': 11156, 'homebuilder': 11157, 'qcom': 11158, 'donaldson': 11159, 'tuesday´s': 11160, 'counted': 11161, 'matches': 11162, 'borrowers': 11163, 'sharpton': 11164, 'carol': 11165, 'moseley': 11166, 'esam': 11167, 'khidr': 11168, 'urgent': 11169, 'dispatch': 11170, '255': 11171, 'respectively': 11172, '1971': 11173, 'racked': 11174, '393': 11175, 'chequered': 11176, '668': 11177, 'meantime': 11178, '643': 11179, 'filtered': 11180, 'labeled': 11181, 'preston': 11182, 'mepham': 11183, 'bellmore': 11184, 'fail': 11185, 'tutoring': 11186, 'decrease': 11187, 'kaye': 11188, 'chiefs': 11189, 'garrett': 11190, 'creator': 11191, 'quipped': 11192, 'newsweek': 11193, \"plant's\": 11194, 'don’t': 11195, 'they’re': 11196, 'treasurer': 11197, 'costello': 11198, 'consultation': 11199, 'academia': 11200, 'nih': 11201, 'roadmap': 11202, 'consultants': 11203, 'it’s': 11204, 'effort”': 11205, 'pitched': 11206, 'migrants': 11207, 'fouling': 11208, 'contender': 11209, 'contenders': 11210, 'longrun': 11211, 'powermizer': 11212, 'melissa': 11213, 'berryhill': 11214, '179': 11215, '781': 11216, 'ghafar': 11217, 'tackle': 11218, 'tackled': 11219, 'fame': 11220, 'enshrined': 11221, 'inconceivable': 11222, 'resume': 11223, \"facility's\": 11224, 'inevitable': 11225, 'quashing': 11226, '1985': 11227, \"princess'\": 11228, \"princess's\": 11229, 'doubles': 11230, 'anyoneso': 11231, 'isn’t': 11232, 'anyone…so': 11233, 'overplayed': 11234, \"august's\": 11235, '8300': 11236, 'halting': 11237, 'safari': 11238, 'calculate': 11239, 'processing': 11240, 'auction': 11241, 'industries': 11242, 'visteon': 11243, '2013': 11244, 'monthlong': 11245, 'grace': 11246, \"e's\": 11247, 'insurgents': 11248, 'combatants': 11249, 'nashville': 11250, \"d'antonio\": 11251, 'detectable': 11252, 'concrete': 11253, 'precipitation': 11254, 'flee': 11255, 'token': 11256, 'wse': 11257, 'secureconversation': 11258, 'disturbances': 11259, 'feels': 11260, \"syndia's\": 11261, \"tsmc's\": 11262, 'wrap': 11263, '3bn': 11264, 'breaker': 11265, 'breakers': 11266, 'reformist': 11267, \"kazemi's\": 11268, \"photojournalist's\": 11269, '1983': 11270, \"dolphins'\": 11271, 'rebounded': 11272, \"sovereign's\": 11273, '506': 11274, 'alignments': 11275, 'collects': 11276, 'uta': 11277, 'mcconnell': 11278, \"proposal's\": 11279, 'alarm': 11280, '578': 11281, 'vazzi': 11282, 'madigan': 11283, \"georgia's\": 11284, 'revaz': 11285, 'adamia': 11286, '492': 11287, 'huang': 11288, 'everybody': 11289, 'blind': 11290, \"barrenas's\": 11291, 'noise': 11292, 'foundations': 11293, 'laden’s': 11294, 'lyndsey': 11295, 'crates': 11296, 'hardback': 11297, 'rocketed': 11298, 'axcan': 11299, 'raided': 11300, 'farm': 11301, 'corsica': 11302, 'capturing': 11303, 'unruly': 11304, 'evan': 11305, 'fatally': 11306, 'haired': 11307, 'wrist': 11308, \"boykin's\": 11309, 'paragraph': 11310, 'boxley': 11311, 'devastation': 11312, 'tarp': 11313, 'plowed': 11314, 'sheep': 11315, 'chogm': 11316, 'restoration': 11317, 'approve': 11318, 'mcinnis': 11319, 'geeks': 11320, 'wizards': 11321, 'watchful': 11322, 'criss': 11323, 'bondeson': 11324, 'translates': 11325, 'disposal': 11326, 'conditional': 11327, \"costa's\": 11328, 'semifinal': 11329, 'spaniard': 11330, 'costa': 11331, \"shareholders'\": 11332, 'packages': 11333, 'bluntly': 11334, '“in': 11335, 'jouejati': 11336, 'overwhelmed': 11337, 'sweeping': 11338, 'barbed': 11339, 'overrunning': 11340, 'turnpike': 11341, 'translating': 11342, \"southwest's\": 11343, 'afterglow': 11344, 'lingered': 11345, 'legged': 11346, 'westpac': 11347, \"daimlerchrysler's\": 11348, 'excellent': 11349, 'chechnya': 11350, 'kim': 11351, 'andree': 11352, '8400': 11353, 'masterminding': 11354, 'interrogation': 11355, \"amazon's\": 11356, 'multiples': 11357, \"tyco's\": 11358, 'caucasian': 11359, 'ethnicity': 11360, 'haskell': 11361, 'representation': 11362, 'tracinda': 11363, 'nra': 11364, 'sherry': 11365, \"vivendi's\": 11366, 'ellettsville': 11367, 'affront': 11368, 'album': 11369, 'tender': 11370, 'uncertain': 11371, 'alert': 11372, 'bethany': 11373, 'disloyalty': 11374, 'transcripts': 11375, 'emotional': 11376, 'skirmish': 11377, \"wallace's\": 11378, 'piano': 11379, 'participated': 11380, 'workshops': 11381, 'stole': 11382, 'diamondbacks': 11383, 'scc': 11384, 'squash': 11385, 'microchip': 11386, 'mounted': 11387, 'undermines': 11388, 'utilizing': 11389, 'analogous': 11390, 'grossing': 11391, 'ticket': 11392, 'upcoming': 11393, '104th': 11394, 'celebration': 11395, 'congregants': 11396, 'ame': 11397, 'newark': 11398, 'realizing': 11399, 'diverted': 11400, \"band's\": 11401, 'grunge': 11402, 'anthem': 11403, \"'100\": 11404, '603': 11405, 'miz': 11406, 'misérables': 11407, 'overboard': 11408, 'sarwan': 11409, 'closure': 11410, 'impacted': 11411, 'factory': 11412, \"animal's\": 11413, 'nail': 11414, 'tycoon': 11415, 'marvin': 11416, 'seagram': 11417, '1st': 11418, 'conspirator': 11419, 'coconspirator': 11420, 'comey': 11421, 'neighbourhood': 11422, 'pte': 11423, 'effusive': 11424, 'add': 11425, 'warranties': 11426, 'unarmed': 11427, 'exercising': 11428, 'highlighting': 11429, 'eae': 11430, 'toolset': 11431, 'sapp': 11432, 'refine': 11433, 'improvements': 11434, 'unwanted—and': 11435, '—spam': 11436, 'fred': 11437, 'barras': 11438, 'fearon': 11439, 'missile': 11440, 'thwart': 11441, \"byrd's\": 11442, 'fleischer': 11443, \"''to\": 11444, 'rearview': 11445, 'rear': 11446, 'herald': 11447, 'windsor': 11448, 'launceston': 11449, 'stricken': 11450, 'uttering': 11451, 'utter': 11452, '3252': 11453, '3260': 11454, 'judgement': 11455, 'p2p': 11456, 'swapping': 11457, 'kilos': 11458, 'distinction': 11459, 'draw': 11460, 'exempted': 11461, 'multitool': 11462, \"tool''\": 11463, 'envisioned': 11464, 'holloway': 11465, 'guiding': 11466, 'rotorua': 11467, 'vietnow': 11468, '1987': 11469, 'today’s': 11470, 'indicate': 11471, 'tells': 11472, '325': 11473, 'tega': 11474, 'boynton': 11475, 'haemochromatosis': 11476, 'sweet': 11477, \"dreyer's\": 11478, 'detailing': 11479, 'suspending': 11480, 't33kid': 11481, 'ong': 11482, \"attorneys'\": 11483, 'sawed': 11484, 'shotgun': 11485, 'netscape': 11486, \"warner's\": 11487, 'leased': 11488, 'helps': 11489, 'actual': 11490, 'substances': 11491, 'administer': 11492, 'psychotic': 11493, 'worshipper': 11494, 'assailants': 11495, 'portland': 11496, \"'compromise\": 11497, 'hollings': 11498, 'fiery': 11499, 'koufa': 11500, 'orleans': 11501, 'w3c': 11502, 'refuelling': 11503, 'refueling': 11504, 'doubling': 11505, 'interface': 11506, 'businessman': 11507, 'surging': 11508, 'cancel': 11509, 'undermined': 11510, 'ghulam': 11511, 'mahaiuddin': 11512, 'nadi': 11513, 'provincial': 11514, 'lashkargah': 11515, 'shinseki': 11516, 'retires': 11517, \"shinseki's\": 11518, 'reopened': 11519, 'roberson': 11520, 'shamika': 11521, 'woumnm': 11522, \"sanmina's\": 11523, \"jonathan's\": 11524, 'gp': 11525, 'ibrahims': 11526, 'aguirres': 11527, '569': 11528, 'groomer': 11529, 'twickenham': 11530, \"'internet\": 11531, \"groomer'\": 11532, 'customs': 11533, 'heathrow': 11534, 'corrections': 11535, \"clayton's\": 11536, 'clayton': 11537, \"homes'\": 11538, 'ceased': 11539, 'bruno': 11540, 'mpx200': 11541, \"wireless'\": 11542, 'mmode': 11543, 'compatible': 11544, \"cs's\": 11545, 'cs': 11546, 'hid': 11547, 'hide': 11548, 'tidmarsh': 11549, 'ambulances': 11550, 'driskill': 11551, 'replaced': 11552, 'supermarket': 11553, 'denying': 11554, 'markovitz': 11555, 'associating': 11556, 'lifetime': 11557, 'depicting': 11558, 'deck': 11559, 'highlighted': 11560, 'squarely': 11561, 'wallace': 11562, 'railway': 11563, 'somewhere': 11564, 'grubb': 11565, \"legato's\": 11566, 'woo': 11567, 'tactic': 11568, 'pioneers': 11569, 'coined': 11570, 'loyal': 11571, 'ousted': 11572, 'hightechnology': 11573, \"transylvania's\": 11574, 'gypsies': 11575, 'promptly': 11576, \"senate's\": 11577, 'approves': 11578, '1784': 11579, '1741': 11580, 'puerto': 11581, 'vallarta': 11582, 'kenilworth': 11583, 'shake': 11584, 'undereducated': 11585, 'aileen': 11586, 'boyle': 11587, 'contents': 11588, 'gammerman': 11589, 'dei': 11590, 'earnhardt': 11591, 'winston': 11592, '1500': 11593, 'organisations': 11594, 'rogers': 11595, 'prizes': 11596, 'miriam': 11597, 'cedarbaum': 11598, 'fanned': 11599, 'optimal': 11600, \"nations'\": 11601, 'allegation': 11602, 'assertions': 11603, 'puc': 11604, 'commissioners': 11605, \"cuomo's\": 11606, 'gloucester': 11607, 'roommates': 11608, \"taipei's\": 11609, 'warwick': 11610, \"club's\": 11611, 'doorway': 11612, \"parrado's\": 11613, 'persecuted': 11614, 'repatriated': 11615, 'teachers': 11616, 'revs': 11617, 'substitute': 11618, 'trustee': 11619, 'strier': 11620, 'neighbours': 11621, 'subdued': 11622, 'cautious': 11623, 'cassettes': 11624, 'wen': 11625, 'jiabao': 11626, \"bo'ao\": 11627, 'musharraf': 11628, 'tajikistan': 11629, 'experiment': 11630, \"icc's\": 11631, 'cricket': 11632, 'studio': 11633, 'performances': 11634, 'anchored': 11635, 'disc': 11636, 'jockeys': 11637, 'continuation': 11638, 'sunset': 11639, 'upon': 11640, 'designing': 11641, 'architectures': 11642, 'alhart': 11643, 'phelps': 11644, 'roper': 11645, 'containing': 11646, 'conversion': 11647, 'nottingham': 11648, 'characters': 11649, \"ewell's\": 11650, 'character': 11651, \"monroe's\": 11652, 'cjd': 11653, 'vcjd': 11654, 'airplanes': 11655, 'disputes': 11656, '497': 11657, 'hurlbert': 11658, 'embarrass': 11659, 'cooley': 11660, 'satisfy': 11661, 'iranians': 11662, 'chest': 11663, 'brutal': 11664, \"capital's\": 11665, 'islandwide': 11666, 'containment': 11667, 'objecting': 11668, 'isnt': 11669, 'commonsense': 11670, '284': 11671, '514': 11672, 'dhs': 11673, 'materials': 11674, 'signage': 11675, 'solicitors': 11676, 'outcome': 11677, 'kline': 11678, 'directionless': 11679, \"building's\": 11680, 'bittersweet': 11681, 'il': 11682, 'mcdonalds': 11683, 'tunick': 11684, '999': 11685, 'brushed': 11686, 'aggression': 11687, 'sunny': 11688, '£169': 11689, 'extensible': 11690, 'markup': 11691, '273': 11692, '289': 11693, 'mattei': 11694, 'dhwg': 11695, 'holds': 11696, 'chairing': 11697, 'obligation': 11698, 'minimize': 11699, 'notion': 11700, 'gem': 11701, 'hybrid': 11702, '206': 11703, \"worker's\": 11704, 'saving': 11705, 'hotels': 11706, 'motels': 11707, 'motel': 11708, 'lodging': 11709, 'dial': 11710, 'surveying': 11711, \"planet's\": 11712, 'clocked': 11713, 'corner': 11714, 'g5': 11715, '915': 11716, '633': 11717, 'owens': 11718, 'genetic': 11719, 'geneticists': 11720, 'cite': 11721, '912': 11722, 'stumbling': 11723, '48km': 11724, 'creditworthiness': 11725, 'loy': 11726, 'scaled': 11727, 'paz': 11728, 'reanalyzed': 11729, 'infants': 11730, 'harmless': 11731, 'michael’s': 11732, \"plan's\": 11733, 'photographers': 11734, 'barbakow': 11735, 'brabakow': 11736, 'outnumber': 11737, 'discussing': 11738, 'apprehension': 11739, \"boston's\": 11740, 'logan': 11741, 'scrounge': 11742, 'wagner': 11743, 'wolford': 11744, 'scrounging': 11745, 'photographs': 11746, 'disconnected': 11747, 'wrapped': 11748, 'driveway': 11749, 'argyle': 11750, 'athens': 11751, 'blank': 11752, 'cherry': 11753, 'suitors': 11754, 'jaryd': 11755, 'atadero': 11756, 'wolf': 11757, 'draws': 11758, 'veronique': 11759, 'nonmanufacturing': 11760, 'unexpectedly': 11761, 'alluded': 11762, 'interparty': 11763, 'enforcer': 11764, 'departing': 11765, \"anchor's\": 11766, 'daytime': 11767, 'prematurely': 11768, 'fallback': 11769, 'objection': 11770, 'rejecting': 11771, 'hotbed': 11772, '415': 11773, 'screens': 11774, 'deferring': 11775, 'expenditure': 11776, 'winfs': 11777, 'hempleman': 11778, 'partway': 11779, \"balloonist's\": 11780, 'click': 11781, \"panther's\": 11782, 'navigation': 11783, 'importations': 11784, 'reimportation': 11785, \"physicians'\": 11786, 'freely': 11787, 'frankly': 11788, 'adjacent': 11789, 'grossmont': 11790, \"system's\": 11791, 'compatibility': 11792, 'hcl': 11793, '494': 11794, 'mailing': 11795, 'congregations': 11796, '215': 11797, 'churches': 11798, 'austens': 11799, 'brontes': 11800, \"austen's\": 11801, \"bronte's\": 11802, '943': 11803, '553': 11804, 'transports': 11805, 'hyperthermia': 11806, 'succumbed': 11807, 'hypothermia': 11808, 'emotions': 11809, 'meditate': 11810, 'partnership': 11811, 'patents': 11812, 'programmes': 11813, 'binding': 11814, 'nonbinding': 11815, 'recourse': 11816, 'unsealing': 11817, 'depositions': 11818, '955': 11819, '2m': 11820, 'indonesian': 11821, '710': 11822, 'academic': 11823, '694': 11824, 'uploading': 11825, 'locate': 11826, 'uploaded': 11827, 'thai': 11828, 'shinawatra': 11829, 'affirmed': 11830, '1978': 11831, 'horse': 11832, \"bioreliance's\": 11833, 'bioreliance': 11834, 'brocade': 11835, 'dice': 11836, 'theater': 11837, 'shamil': 11838, 'basayev': 11839, 'drax': 11840, 'drax’s': 11841, 'txu': 11842, 'dominion': 11843, \"hormones'\": 11844, 'whammy': 11845, 'accompanying': 11846, 'shrouded': 11847, 'charter': 11848, 'boy’s': 11849, 'ignored': 11850, 'ibmof': 11851, 'andinfineon': 11852, 'willon': 11853, 'tuesdayannounce': 11854, 'yandarbiyev': 11855, 'extradited': 11856, 'emirates': 11857, 'lithuania': 11858, 'allotting': 11859, 'predictions': 11860, 'californias': 11861, '5276': 11862, 'dissenting': 11863, '004': 11864, '655': 11865, 'schooff': 11866, 'schoof': 11867, 'scholastic': 11868, '870': 11869, '9011': 11870, 'achievements': 11871, 'deregulation': 11872, 'deregulatory': 11873, 'israel’s': 11874, 'fiercely': 11875, 'fierce': 11876, 'jensens': 11877, 'clara': 11878, 'pressplay': 11879, 'rebuked': 11880, 'konoike': 11881, \"konoike's\": 11882, \"vatican's\": 11883, \"firm's\": 11884, 'recover': 11885, 'lamar': 11886, 'slitting': 11887, 'slashing': 11888, 'wrists': 11889, 'kg': 11890, 'metro': 11891, 'eichhorn': 11892, 'eichorn': 11893, 'publicized': 11894, 'egypt': 11895, 'tunisia': 11896, 'unpublicized': 11897, 'specializes': 11898, 'employs': 11899, 'wealthiest': 11900, 'decomposed': 11901, 'suspension': 11902, 'scotty': 11903, 'smither': 11904, 'frankfort': 11905, 'islamic': 11906, \"jihad's\": 11907, 'disowned': 11908, 'ceasefire': 11909, 'purported': 11910, 'merchandise': 11911, \"cell's\": 11912, 'recognised': 11913, 'realise': 11914, 'realize': 11915, 'smyrna': 11916, 'pathfinder': 11917, 'centcom': 11918, 'pressured': 11919, 'strangling': 11920, 'meets': 11921, 'rapidly': 11922, 'tickets': 11923, 'jemah': 11924, 'lighting': 11925, \"alaska's\": 11926, 'alaskas': 11927, 'speedway': 11928, 'rockingham': 11929, 'reckoning': 11930, 'shell': 11931, 'milton': 11932, 'reduction': 11933, 'imf': 11934, 'argentina': 11935, 'collection': 11936, 'equities': 11937, 'shimmed': 11938, 'rope': 11939, 'roof': 11940, 'kasmer': 11941, 'finalist': 11942, 'appropriations': 11943, 'appleton': 11944, '0335': 11945, 'freshwater': 11946, 'spit': 11947, 'opposite': 11948, 'alarmed': 11949, 'assessments': 11950, \"90's\": 11951, 'nba': 11952, \"mallard's\": 11953, 'clete': 11954, 'dumping': 11955, \"biggs'\": 11956, 'folgers': 11957, 'pantene': 11958, 'eastman': 11959, 'branches': 11960, 'firefight': 11961, 'travellers': 11962, \"clark's\": 11963, '649': 11964, 'muireagáin': 11965, 'researching': 11966, 'hikes': 11967, 'contentions': 11968, 'gamarekian': 11969, \"intern's\": 11970, 'vocally': 11971, 'podium': 11972, 'q2': 11973, 'renew': 11974, 'midland': 11975, 'hate': 11976, 'downstream': 11977, 'expedited': 11978, 'wrapping': 11979, 'consoled': 11980, 'embellished': 11981, 'exaggerated': 11982, 'truman': 11983, 'reveals': 11984, 'witty': 11985, 'introspective': 11986, 'irreverent': 11987, 'fats': 11988, 'butter': 11989, \"butter'\": 11990, 'margarine': 11991, 'conclude': 11992, 'weddings': 11993, 'meticulously': 11994, 'warfighters': 11995, 'schmitz': 11996, 'mason': 11997, 'decimated': 11998, 'leo': 11999, 'spammers': 12000, 'deceptive': 12001, 'vp': 12002, 'substation': 12003, 'satisfied': 12004, 'reimbursement': 12005, 'pinching': 12006, 'expire': 12007, 'outraged': 12008, 'janice': 12009, 'mod': 12010, 'tendency': 12011, 'defensive': 12012, 'eisenberger': 12013, 'bafana': 12014, '558': 12015, \"veritas'\": 12016, 'quest': 12017, 'bodily': 12018, 'perfection': 12019, 'philanthropy': 12020, 'disgusted': 12021, 'stomach': 12022, 'beachfront': 12023, 'females': 12024, 'dealings': 12025, 'weekend’s': 12026, 'lunar': 12027, 'summon': 12028, '650': 12029, 'adrian': 12030, 'langone': 12031, 'boycotted': 12032, 'actors': 12033, 'snubbed': 12034, 'affair': 12035, \"gary's\": 12036, 'silvester': 12037, 'portrait': 12038, 'fetching': 12039, '365': 12040, '366': 12041, '0520': 12042, 'galloped': 12043, 'retaliating': 12044, \"smugglers'\": 12045, 'llp': 12046, 'carpenters': 12047, \"w3c's\": 12048, 'dowdell': 12049, 'transported': 12050, 'nonlife': 12051, '504': 12052, 'dmca': 12053, 'leeway': 12054, '512': 12055, 'disasters': 12056, 'morse': 12057, \"morse's\": 12058, \"officer's\": 12059, 'eat': 12060, 'gautam': 12061, 'megabyte': 12062, 'professors': 12063, '“victim”': 12064, 'consul': 12065, 'visited': 12066, 'liberian': 12067, 'plo': 12068, \"plo's\": 12069, 'chf': 12070, '3172': 12071, 'condom': 12072, 'wooded': 12073, 'hillsides': 12074, 'surely': 12075, 'animals’': 12076, \"animals'\": 12077, \"fabian's\": 12078, 'fourteen': 12079, '934': 12080, 'lifted': 12081, 'comparable': 12082, 'injected': 12083, 'therapies': 12084, 'ti': 12085, 'sfc': 12086, 'overestimate': 12087, 'involves': 12088, 'michaels': 12089, 'trejo': 12090, 'ingrassia': 12091, 'lags': 12092, 'spruce': 12093, 'recreation': 12094, 'parvin': 12095, 'rena': 12096, 'callahan': 12097, 'lexington': 12098, '747': 12099, 'johnny': 12100, 'depp': 12101, 'swashbuckler': 12102, 'cumulative': 12103, 'heading': 12104, 'boat': 12105, 'tribunals': 12106, 'calvin': 12107, \"prelate's\": 12108, \"nokia's\": 12109, 'bronze': 12110, 'virigina': 12111, 'sharm': 12112, 'sheikh': 12113, 'specter': 12114, 'invasion': 12115, 'shaul': 12116, 'mofaz': 12117, 'downloadable': 12118, 'archaeological': 12119, 'paint': 12120, 'aa': 12121, 'fielder': 12122, 'aubrey': 12123, 'inmates': 12124, 'ebb': 12125, 'smash': 12126, \"doe's\": 12127, 'doe': 12128, 'cooperated': 12129, 'intel’s': 12130, 'hp’s': 12131, \"cent''\": 12132, '417': 12133, 'applies': 12134, \"tomorrow's\": 12135, 'tuesday’s': 12136, \"''very\": 12137, \"difficult''\": 12138, 'hazards': 12139, 'hazard': 12140, 'roh': 12141, 'neil': 12142, 'bassem': 12143, 'youssef': 12144, 'alexandria': 12145, 'haque': 12146, 'cellphone': 12147, 'smiley': 12148, 'fatima': 12149, 'overuse': 12150, 'antibiotics': 12151, 'invoices': 12152, 'chauncey': 12153, 'demonstrated': 12154, 'magic': 12155, 'airbus': 12156, 'a320': 12157, \"ncsd's\": 12158, 'pamphlet': 12159, 'binder': 12160, 'fearful': 12161, 'tourists': 12162, 'conventioneers': 12163, 'prohibited': 12164, 'sheik': 12165, \"sheik's\": 12166, 'unexploded': 12167, 'ordnance': 12168, '146': 12169, 'advertisements': 12170, 'silicone': 12171, 'implants': 12172, 'prop': 12173, '988': 12174, 'certifiable': 12175, 'gap': 12176, 'operates': 12177, \"quarter's\": 12178, 'compiled': 12179, 'ostroff': 12180, 'momentous': 12181, 'happenings': 12182, 'fuelling': 12183, 'okay': 12184, \"gam's\": 12185, 'gam': 12186, 'solution': 12187, 'contrast': 12188, 'chartered': 12189, 'motorists': 12190, 'accuses': 12191, 'oilfields': 12192, 'christine': 12193, 'shannon': 12194, '002': 12195, 'militant': 12196, 'mitzna': 12197, 'ophir': 12198, 'stricter': 12199, 'strict': 12200, \"iac's\": 12201, \"interactivecorp's\": 12202, 'posts': 12203, 'topping': 12204, 'collective': 12205, 'pistol': 12206, 'alleyway': 12207, 'rap': 12208, 'southwark': 12209, 'historic': 12210, 'saddened': 12211, 'nationalities': 12212, 'extraordinarily': 12213, 'velcade': 12214, 'personally': 12215, \"o'hare\": 12216, 'bookstores': 12217, 'teller': 12218, 'yorkers': 12219, 'painting': 12220, 'crosby': 12221, 'logie': 12222, 'unwell': 12223, '486': 12224, 'broadly': 12225, 'normal': 12226, 'cyber': 12227, 'cyberassets': 12228, 'hudson': 12229, '331': 12230, 'flateau': 12231, 'correctional': 12232, 'troopers': 12233, 'jubilee': 12234, 'route': 12235, 'horseheads': 12236, \"collins'\": 12237, 'collins': 12238, 'obstruct': 12239, 'endorsing': 12240, 'currencies': 12241, 'merely': 12242, 'insists': 12243, 'souza': 12244, 'baranowski': 12245, 'jodie': 12246, 'stacy': 12247, 'ominously': 12248, 'exhausted': 12249, '35th': 12250, 'unwittingly': 12251, 'leaflet': 12252, \"cruz's\": 12253, 'whi': 12254, '1806': 12255, \"hope's\": 12256, 'resembled': 12257, 'tacky': 12258, 'unpatriotic': 12259, 'kinsley': 12260, 'kinsely': 12261, 'dunlap': 12262, 'scientific': 12263, '2891': 12264, 'jpy': 12265, '2871': 12266, 'manzon': 12267, 'monzon': 12268, 'presumed': 12269, 'shunting': 12270, 'bounce': 12271, 'zeller': 12272, 'lets': 12273, 'drugstores': 12274, 'rugged': 12275, 'kanawha': 12276, 'nicholas': 12277, 'restatement': 12278, '0240': 12279, 'ab': 12280, 'ported': 12281, '11i': 12282, '760': 12283, '168': 12284, '162': 12285, 'closedown': 12286, 'muqtada': 12287, 'subscriptions': 12288, 'reap': 12289, 'marie': 12290, 'guehenno': 12291, '994': 12292, 'enhance': 12293, 'boosts': 12294, 'enhances': 12295, 'saul': 12296, \"jackson's\": 12297, 'katherine': 12298, 'unequivocally': 12299, '456': 12300, 'sumitomo': 12301, 'mitsui': 12302, '8316': 12303, '198': 12304, 'launching': 12305, 'apologised': 12306, 'petersburg': 12307, 'ee': 12308, 'yeah': 12309, 'incurred': 12310, 'stockwell': 12311, 'rang': 12312, \"gunn's\": 12313, 'touring': 12314, \"rescuers'\": 12315, 'forlorn': 12316, 'hopeless': 12317, 'mouthed': 12318, 'kate': 12319, \"individual's\": 12320, 'amend': 12321, '1988': 12322, 'clarify': 12323, \"taylor's\": 12324, 'lone': 12325, '692': 12326, 'fastest': 12327, 'divulged': 12328, 'merits': 12329, 'supercedes': 12330, 'dose': 12331, 'tablet': 12332, 'oestrogen': 12333, 'suffers': 12334, 'hodgkins': 12335, 'swim': 12336, '389': 12337, 'resulting': 12338, 'toa': 12339, 'hosted': 12340, 'arnold': 12341, 'arm': 12342, 'tightening': 12343, 'contradicts': 12344, 'differs': 12345, 'interpretation': 12346, 'breakeven': 12347, 'puebla': 12348, 'cancn': 12349, 'caldera': 12350, 'darl': 12351, '950': 12352, 'mockery': 12353, 'parody': 12354, 'hulk': 12355, 'surpasses': 12356, \"1999's\": 12357, 'tenth': 12358, 'ticked': 12359, '11m': 12360, '22m': 12361, '33m': 12362, '44m': 12363, 'lieu': 12364, 'workaround': 12365, 'masking': 12366, 'outsourcing': 12367, 'economies': 12368, 'shops': 12369, 'dunedin': 12370, 'plummeted': 12371, 'trumbull': 12372, 'engorged': 12373, 'spigots': 12374, 'billing': 12375, \"scientists'\": 12376, 'sciencemag': 12377, 'org': 12378, 'restrictions': 12379, 'murders': 12380, \"brown's\": 12381, 'mutilated': 12382, 'fairly': 12383, 'honasan': 12384, 'rebellion': 12385, \"westlb's\": 12386, 'tentacle': 12387, 'beast': 12388, 'survives': 12389, 'discounted': 12390, 'balanced': 12391, \"melena's\": 12392, 'convert': 12393, 'manufacture': 12394, 'disclose': 12395, '128': 12396, '9073': 12397, '113': 12398, 'appointments': 12399, \"berkshire's\": 12400, 'jaywalking': 12401, 'sergeant': 12402, 'sig': 12403, 'specification': 12404, 'cigarette': 12405, 'jerusalem': 12406, 'ecusa': 12407, 'jdec': 12408, 'riverbank': 12409, 'peers': 12410, 'gregory': 12411, 'maddening': 12412, 'baiting': 12413, 'oge': 12414, 'symantec': 12415, 'partially': 12416, 'regain': 12417, 'districts': 12418, 'redrawn': 12419, 'legislatures': 12420, \"satellite's\": 12421, 'toshiba': 12422, 'p25': 12423, 's507': 12424, 'hainan': 12425, 'malyasian': 12426, 'yangon': 12427, 'razali': 12428, 'ismail': 12429, 'sided': 12430, 'burt': 12431, 'flickinger': 12432, 'soledad': 12433, 'molester': 12434, 'counteract': 12435, 'enters': 12436, '966': 12437, 'crept': 12438, '595': 12439, 'kills': 12440, 'internationalco': 12441, 'prisma': 12442, 'spokesmen': 12443, 'publication': 12444, 'interacts': 12445, 'weighs': 12446, '88th': 12447, 'bears': 12448, 'competes': 12449, 'cantaloupes': 12450, 'restart': 12451, 'restarted': 12452, 'dismissing': 12453, '1960s': 12454, 'wiser': 12455, 'platte': 12456, 'archbishop': 12457, \"africa's\": 12458, 'sprawling': 12459, 'soweto': 12460, '51pm': 12461, '619': 12462, '1950': 12463, 'catastrophic': 12464, 'healthcare': 12465, 'cantwell': 12466, 'centred': 12467, 'grain': 12468, 'noureddinne': 12469, 'mouleff': 12470, 'nur': 12471, 'din': 12472, 'muliff': 12473, 'eastbourne': 12474, '1am': 12475, '1pm': 12476, 'orientated': 12477, 'housed': 12478, 'poors': 12479, 'covering': 12480, 'featured': 12481, 'steelmaker': 12482, 'ak': 12483, '644': 12484, 'licences': 12485, 'ifpi': 12486, '821': 12487, '199': 12488, '480': 12489, '433': 12490} \n",
            "\n"
          ],
          "name": "stdout"
        }
      ]
    },
    {
      "cell_type": "code",
      "metadata": {
        "id": "QX-abKaBkVQM",
        "colab_type": "code",
        "colab": {}
      },
      "source": [
        "def transform(tmp):\n",
        "  train_seqs = tokenizer.texts_to_sequences([tmp])\n",
        "  padded_seqs = pad_sequences(train_seqs, padding='post', maxlen=20)\n",
        "  res = padded_seqs[0]\n",
        "  return np.array(res)\n",
        "def transform_data(tmp):\n",
        "  res = []\n",
        "  for p in tmp:\n",
        "    res += [(transform(p[0]), transform(p[1]))]\n",
        "  return res\n",
        "x_train_seqs = transform_data(x_train)\n",
        "x_test_seqs = transform_data(x_test)\n",
        "x_valid_seqs = transform_data(x_valid)"
      ],
      "execution_count": 0,
      "outputs": []
    },
    {
      "cell_type": "code",
      "metadata": {
        "id": "O4--Z2YZpT_L",
        "colab_type": "code",
        "colab": {}
      },
      "source": [
        "def separate(tmp):\n",
        "  a = np.array([x[0] for x in tmp], dtype=np.uint8)\n",
        "  b = np.array([x[1] for x in tmp])\n",
        "  return a, b\n",
        "\n",
        "x_train_seqs_1, x_train_seqs_2 = separate(x_train_seqs)\n",
        "x_test_seqs_1, x_test_seqs_2 = separate(x_test_seqs)\n",
        "x_valid_seqs_1, x_valid_seqs_2 = separate(x_valid_seqs)"
      ],
      "execution_count": 0,
      "outputs": []
    },
    {
      "cell_type": "code",
      "metadata": {
        "id": "KE72D66I94Xn",
        "colab_type": "code",
        "outputId": "5d0a8113-9cd7-4c5b-f89c-f5c15b750d29",
        "colab": {
          "base_uri": "https://localhost:8080/",
          "height": 136
        }
      },
      "source": [
        "print(x_train_seqs_2)"
      ],
      "execution_count": 136,
      "outputs": [
        {
          "output_type": "stream",
          "text": [
            "[[ 786    4 3522 ... 8967    9    8]\n",
            " [3525  955  370 ...    0    0    0]\n",
            " [  63 1013 1229 ...  248    8    0]\n",
            " ...\n",
            " [   9  705   95 ...   59 2121    3]\n",
            " [   4 1028   62 ...  148  249   34]\n",
            " [3539   67  682 ...    8    0    0]]\n"
          ],
          "name": "stdout"
        }
      ]
    },
    {
      "cell_type": "markdown",
      "metadata": {
        "id": "b-oQAyJ2HzGN",
        "colab_type": "text"
      },
      "source": [
        "Create the model in the cell below:\n",
        "Try out different sizes for LSTM 50,100,300 and use relu activations. Also report results with Bi-LSTM as well.<br>\n",
        "<i>To boost performance you can try adding a hidden layer between the lstm and output layer and also by adding a dropout layer in between different layers</i>"
      ]
    },
    {
      "cell_type": "code",
      "metadata": {
        "id": "djpj5YxDx1ib",
        "colab_type": "code",
        "outputId": "1ab797b3-83fb-4101-c529-cd4d314e1f68",
        "colab": {
          "base_uri": "https://localhost:8080/",
          "height": 34
        }
      },
      "source": [
        "#load pretrained embeddings\n",
        "EMBEDDING_DIM = 50\n",
        "embeddings_index = {}\n",
        "with open(\"glove.6B.50d.txt\") as f:\n",
        "  for line in f:\n",
        "    values = line.split()\n",
        "    word = values[0]\n",
        "    coefs = np.asarray(values[1:], dtype='float32')\n",
        "    embeddings_index[word] = coefs\n",
        "\n",
        "embedding_matrix = np.zeros((len(word_index) + 1, EMBEDDING_DIM))\n",
        "print(embedding_matrix.shape)\n",
        "for word, i in word_index.items():\n",
        "  embedding_vector = embeddings_index.get(word)\n",
        "  if embedding_vector is not None:\n",
        "    # words not found in embedding index will be all-zeros.\n",
        "    embedding_matrix[i] = embedding_vector"
      ],
      "execution_count": 137,
      "outputs": [
        {
          "output_type": "stream",
          "text": [
            "(12491, 50)\n"
          ],
          "name": "stdout"
        }
      ]
    },
    {
      "cell_type": "code",
      "metadata": {
        "id": "8FZi3ZMgHzGO",
        "colab_type": "code",
        "outputId": "1dff8f03-f441-4918-efb9-a78e44ad0399",
        "colab": {
          "base_uri": "https://localhost:8080/",
          "height": 408
        }
      },
      "source": [
        "# code model here\n",
        "inputs1 = Input(shape=(20,))\n",
        "inputs2 = Input(shape=(20,))\n",
        "shared_emb = Embedding(len(word_index) + 1, EMBEDDING_DIM, weights=[embedding_matrix], input_length=20, trainable=False)\n",
        "emb_1 = shared_emb(inputs1)\n",
        "emb_2 = shared_emb(inputs2)\n",
        "\n",
        "shared_lstm = LSTM(300, activation='relu')\n",
        "lstm_1 = shared_lstm(emb_1)\n",
        "lstm_2 = shared_lstm(emb_2)\n",
        "\n",
        "merged = tf.keras.layers.concatenate([lstm_1, lstm_2])\n",
        "output = Dense(2, activation='softmax')(merged)\n",
        "\n",
        "model = Model(inputs=[inputs1, inputs2], outputs=output)\n",
        "model.compile(loss=[\"categorical_crossentropy\"], optimizer='adam', metrics=['accuracy'])\n",
        "model.summary()"
      ],
      "execution_count": 138,
      "outputs": [
        {
          "output_type": "stream",
          "text": [
            "Model: \"model_14\"\n",
            "__________________________________________________________________________________________________\n",
            "Layer (type)                    Output Shape         Param #     Connected to                     \n",
            "==================================================================================================\n",
            "input_18 (InputLayer)           [(None, 20)]         0                                            \n",
            "__________________________________________________________________________________________________\n",
            "input_19 (InputLayer)           [(None, 20)]         0                                            \n",
            "__________________________________________________________________________________________________\n",
            "embedding_14 (Embedding)        (None, 20, 50)       624550      input_18[0][0]                   \n",
            "                                                                 input_19[0][0]                   \n",
            "__________________________________________________________________________________________________\n",
            "lstm_12 (LSTM)                  (None, 300)          421200      embedding_14[0][0]               \n",
            "                                                                 embedding_14[1][0]               \n",
            "__________________________________________________________________________________________________\n",
            "concatenate_3 (Concatenate)     (None, 600)          0           lstm_12[0][0]                    \n",
            "                                                                 lstm_12[1][0]                    \n",
            "__________________________________________________________________________________________________\n",
            "dense_14 (Dense)                (None, 2)            1202        concatenate_3[0][0]              \n",
            "==================================================================================================\n",
            "Total params: 1,046,952\n",
            "Trainable params: 422,402\n",
            "Non-trainable params: 624,550\n",
            "__________________________________________________________________________________________________\n"
          ],
          "name": "stdout"
        }
      ]
    },
    {
      "cell_type": "code",
      "metadata": {
        "id": "eChc7f86HzGV",
        "colab_type": "code",
        "colab": {}
      },
      "source": [
        "from keras.callbacks import ModelCheckpoint, EarlyStopping, CSVLogger, ReduceLROnPlateau\n",
        "filepath = \"setting_\" + \"model1\" + \".hdf5\"\n",
        "logfilepath = \"setting_\"+\"model1\" + \".csv\"\n",
        "reduce_lr_rate=0.2\n",
        "logCallback = CSVLogger(logfilepath, separator=',', append=False)\n",
        "earlyStopping = EarlyStopping(monitor='val_accuracy', min_delta=0, patience=10, verbose=0, mode='auto')\n",
        "checkpoint = ModelCheckpoint(filepath, monitor='val_accuracy', save_weights_only=True, verbose=1,\n",
        "                             save_best_only=True, mode='auto')\n",
        "reduce_lr = ReduceLROnPlateau(monitor='val_loss', factor=reduce_lr_rate, patience=10,\n",
        "                              cooldown=0, min_lr=0.0000000001, verbose=0)\n",
        "\n",
        "callbacks_list = [logCallback, earlyStopping, reduce_lr, checkpoint]\n"
      ],
      "execution_count": 0,
      "outputs": []
    },
    {
      "cell_type": "code",
      "metadata": {
        "id": "vhBSM_yZHzGa",
        "colab_type": "code",
        "outputId": "f28dec72-a975-4ea1-cb80-a9f5c879959c",
        "colab": {
          "base_uri": "https://localhost:8080/",
          "height": 1000
        }
      },
      "source": [
        "model.fit([x_train_seqs_1, x_train_seqs_2],\n",
        "          y_train_enc, \n",
        "          # callbacks=callbacks_list, \n",
        "          validation_data=([x_valid_seqs_1, x_valid_seqs_2], y_valid_enc),\n",
        "          epochs=30, batch_size=32, verbose=1,shuffle=True)"
      ],
      "execution_count": 140,
      "outputs": [
        {
          "output_type": "stream",
          "text": [
            "Epoch 1/30\n",
            "115/115 [==============================] - 16s 139ms/step - loss: 0.6038 - accuracy: 0.6884 - val_loss: 0.6145 - val_accuracy: 0.6716\n",
            "Epoch 2/30\n",
            "115/115 [==============================] - 14s 124ms/step - loss: 0.5909 - accuracy: 0.6957 - val_loss: 0.6315 - val_accuracy: 0.6642\n",
            "Epoch 3/30\n",
            "115/115 [==============================] - 14s 125ms/step - loss: 0.5771 - accuracy: 0.7007 - val_loss: 0.6191 - val_accuracy: 0.6642\n",
            "Epoch 4/30\n",
            "115/115 [==============================] - 14s 124ms/step - loss: 0.6910 - accuracy: 0.7034 - val_loss: 0.6284 - val_accuracy: 0.6691\n",
            "Epoch 5/30\n",
            "115/115 [==============================] - 16s 135ms/step - loss: 0.5722 - accuracy: 0.7097 - val_loss: 0.6188 - val_accuracy: 0.6667\n",
            "Epoch 6/30\n",
            "115/115 [==============================] - 14s 125ms/step - loss: 0.5545 - accuracy: 0.7184 - val_loss: 0.6242 - val_accuracy: 0.6814\n",
            "Epoch 7/30\n",
            "115/115 [==============================] - 15s 131ms/step - loss: 1.2144 - accuracy: 0.7118 - val_loss: 0.6174 - val_accuracy: 0.6716\n",
            "Epoch 8/30\n",
            "115/115 [==============================] - 14s 123ms/step - loss: 0.5557 - accuracy: 0.7197 - val_loss: 0.6328 - val_accuracy: 0.6716\n",
            "Epoch 9/30\n",
            "115/115 [==============================] - 14s 125ms/step - loss: 0.5254 - accuracy: 0.7413 - val_loss: 0.6239 - val_accuracy: 0.6814\n",
            "Epoch 10/30\n",
            "115/115 [==============================] - 14s 123ms/step - loss: 0.4978 - accuracy: 0.7503 - val_loss: 0.6482 - val_accuracy: 0.6642\n",
            "Epoch 11/30\n",
            "115/115 [==============================] - 15s 129ms/step - loss: 0.4805 - accuracy: 0.7655 - val_loss: 0.6748 - val_accuracy: 0.6569\n",
            "Epoch 12/30\n",
            "115/115 [==============================] - 15s 134ms/step - loss: 0.4608 - accuracy: 0.7903 - val_loss: 0.6671 - val_accuracy: 0.6618\n",
            "Epoch 13/30\n",
            "115/115 [==============================] - 16s 137ms/step - loss: 0.4130 - accuracy: 0.8086 - val_loss: 0.7449 - val_accuracy: 0.6642\n",
            "Epoch 14/30\n",
            "115/115 [==============================] - 16s 140ms/step - loss: 0.3651 - accuracy: 0.8391 - val_loss: 0.8019 - val_accuracy: 0.6348\n",
            "Epoch 15/30\n",
            "115/115 [==============================] - 16s 137ms/step - loss: 0.3070 - accuracy: 0.8670 - val_loss: 0.8578 - val_accuracy: 0.6348\n",
            "Epoch 16/30\n",
            "115/115 [==============================] - 16s 135ms/step - loss: 0.3310 - accuracy: 0.8571 - val_loss: 0.9480 - val_accuracy: 0.6544\n",
            "Epoch 17/30\n",
            "115/115 [==============================] - 16s 137ms/step - loss: 0.2621 - accuracy: 0.8879 - val_loss: 0.9544 - val_accuracy: 0.6373\n",
            "Epoch 18/30\n",
            "115/115 [==============================] - 16s 138ms/step - loss: 0.2035 - accuracy: 0.9204 - val_loss: 1.0637 - val_accuracy: 0.6422\n",
            "Epoch 19/30\n",
            "115/115 [==============================] - 17s 148ms/step - loss: 0.1564 - accuracy: 0.9438 - val_loss: 1.1213 - val_accuracy: 0.6618\n",
            "Epoch 20/30\n",
            "115/115 [==============================] - 17s 150ms/step - loss: 0.1341 - accuracy: 0.9531 - val_loss: 1.2604 - val_accuracy: 0.6225\n",
            "Epoch 21/30\n",
            "115/115 [==============================] - 16s 138ms/step - loss: 0.1158 - accuracy: 0.9588 - val_loss: 1.1996 - val_accuracy: 0.6103\n",
            "Epoch 22/30\n",
            "115/115 [==============================] - 16s 139ms/step - loss: 0.0832 - accuracy: 0.9727 - val_loss: 1.2853 - val_accuracy: 0.6495\n",
            "Epoch 23/30\n",
            "115/115 [==============================] - 16s 138ms/step - loss: 0.0680 - accuracy: 0.9793 - val_loss: 1.6374 - val_accuracy: 0.6201\n",
            "Epoch 24/30\n",
            "115/115 [==============================] - 16s 141ms/step - loss: 0.0706 - accuracy: 0.9774 - val_loss: 1.2718 - val_accuracy: 0.6544\n",
            "Epoch 25/30\n",
            "115/115 [==============================] - 16s 135ms/step - loss: 0.0579 - accuracy: 0.9812 - val_loss: 1.5727 - val_accuracy: 0.6275\n",
            "Epoch 26/30\n",
            "115/115 [==============================] - 16s 140ms/step - loss: 0.0660 - accuracy: 0.9801 - val_loss: 1.3708 - val_accuracy: 0.6520\n",
            "Epoch 27/30\n",
            "115/115 [==============================] - 15s 132ms/step - loss: 0.0417 - accuracy: 0.9888 - val_loss: 1.7895 - val_accuracy: 0.6642\n",
            "Epoch 28/30\n",
            "115/115 [==============================] - 16s 137ms/step - loss: 0.0487 - accuracy: 0.9877 - val_loss: 1.7390 - val_accuracy: 0.6422\n",
            "Epoch 29/30\n",
            "115/115 [==============================] - 16s 141ms/step - loss: 0.0346 - accuracy: 0.9910 - val_loss: 1.8679 - val_accuracy: 0.6618\n",
            "Epoch 30/30\n",
            "115/115 [==============================] - 16s 139ms/step - loss: 0.0496 - accuracy: 0.9839 - val_loss: 1.8278 - val_accuracy: 0.6397\n"
          ],
          "name": "stdout"
        },
        {
          "output_type": "execute_result",
          "data": {
            "text/plain": [
              "<tensorflow.python.keras.callbacks.History at 0x7fcb88c45b00>"
            ]
          },
          "metadata": {
            "tags": []
          },
          "execution_count": 140
        }
      ]
    },
    {
      "cell_type": "markdown",
      "metadata": {
        "id": "eUb7-MthHzGf",
        "colab_type": "text"
      },
      "source": [
        "Use the <b>model.predict</b> method to get predictions. There predictions will be a probability distribution over the lables, to get the desired class take the max value in a prediction vector as the predicted class.<br>"
      ]
    },
    {
      "cell_type": "code",
      "metadata": {
        "id": "lJrLRPQ6I_24",
        "colab_type": "code",
        "colab": {}
      },
      "source": [
        "def maxInd(x):\n",
        "  if x[0] > x[1]:\n",
        "    return 0\n",
        "  return 1\n",
        "def predict(data, model):\n",
        "  x_test_seqs = transform_data(data)\n",
        "  x_test_seqs_1, x_test_seqs_2 = separate(x_test_seqs)\n",
        "  res = model.predict([x_test_seqs_1, x_test_seqs_2])\n",
        "  res = [maxInd(x) for x in res]\n",
        "  print(res)\n",
        "  return res"
      ],
      "execution_count": 0,
      "outputs": []
    },
    {
      "cell_type": "code",
      "metadata": {
        "id": "wPQTFAUpHzGg",
        "colab_type": "code",
        "outputId": "64138488-4303-44ec-9e9a-b4164dbd633c",
        "colab": {
          "base_uri": "https://localhost:8080/",
          "height": 344
        }
      },
      "source": [
        "predictions = predict(x_test, model)\n",
        "labelList=[\"0\", \"1\"]\n",
        "\n",
        "from sklearn.metrics import confusion_matrix\n",
        "test_Y = y_test_enc\n",
        "test_Y_max=np.argmax(test_Y, axis=-1)\n",
        "cm=confusion_matrix(test_Y_max,predictions)\n",
        "cm = cm.astype('float') / cm.sum(axis=1)[:, np.newaxis]\n",
        "print(cm)\n",
        "cm = pd.DataFrame(cm, labelList,labelList )# matrix,names row,names col,\n",
        "# plt.figure(figsize=(10,7))\n",
        "sn.set(font_scale=1.4) # for label size\n",
        "sn.heatmap(cm, annot=True, annot_kws={\"size\": 11}, fmt=\".2f\") # font size\n",
        "plt.show()"
      ],
      "execution_count": 143,
      "outputs": [
        {
          "output_type": "stream",
          "text": [
            "[1, 0, 1, 0, 1, 1, 1, 1, 1, 0, 1, 1, 0, 1, 1, 1, 1, 1, 1, 1, 1, 0, 1, 1, 1, 0, 0, 0, 1, 0, 1, 1, 0, 1, 1, 1, 1, 1, 1, 1, 1, 1, 1, 0, 0, 0, 1, 0, 1, 1, 1, 0, 0, 0, 1, 1, 1, 1, 1, 1, 1, 1, 1, 1, 1, 1, 0, 1, 1, 1, 0, 1, 0, 0, 0, 0, 1, 0, 1, 1, 0, 1, 1, 0, 1, 1, 1, 0, 0, 1, 1, 1, 0, 0, 0, 1, 1, 1, 0, 0, 0, 1, 1, 0, 1, 1, 0, 1, 1, 1, 1, 0, 1, 1, 0, 1, 1, 0, 1, 1, 0, 0, 1, 1, 1, 1, 1, 1, 1, 1, 0, 1, 0, 0, 1, 1, 1, 1, 1, 1, 1, 1, 0, 1, 1, 1, 1, 0, 1, 1, 1, 1, 0, 0, 1, 1, 1, 0, 1, 1, 1, 0, 1, 0, 0, 1, 0, 1, 1, 1, 1, 1, 1, 0, 1, 1, 1, 1, 1, 1, 0, 0, 1, 1, 1, 0, 0, 1, 1, 0, 0, 0, 1, 0, 1, 1, 0, 1, 1, 1, 1, 1, 1, 1, 1, 0, 0, 0, 1, 1, 1, 0, 0, 0, 1, 1, 0, 1, 1, 1, 0, 1, 0, 1, 1, 0, 1, 1, 1, 1, 1, 1, 1, 1, 0, 0, 1, 0, 0, 1, 1, 1, 0, 1, 0, 1, 1, 0, 1, 0, 1, 1, 0, 1, 1, 1, 1, 1, 1, 0, 1, 1, 0, 1, 1, 1, 1, 1, 0, 1, 1, 1, 1, 1, 0, 1, 0, 0, 1, 1, 1, 1, 1, 1, 1, 0, 1, 0, 0, 0, 0, 0, 1, 0, 1, 1, 1, 1, 0, 1, 1, 0, 0, 1, 1, 1, 1, 1, 1, 1, 1, 1, 1, 0, 1, 1, 0, 1, 1, 1, 1, 1, 1, 0, 1, 0, 1, 0, 0, 0, 0, 1, 1, 1, 0, 1, 1, 1, 1, 1, 1, 1, 0, 1, 0, 0, 0, 1, 1, 1, 1, 1, 0, 1, 0, 1, 1, 0, 1, 0, 0, 1, 1, 1, 1, 0, 1, 1, 1, 1, 1, 1, 1, 0, 0, 1, 1, 1, 0, 0, 1, 1, 0, 1, 1, 1, 0, 0, 1, 1, 0, 0, 1, 1, 1, 1, 0, 1, 1, 1, 1, 1, 1, 1, 1, 1, 0, 1, 0, 1, 0, 0, 1, 1, 0, 1, 1, 0, 0, 1, 1, 1, 1, 1, 1, 1, 1, 1, 0, 1, 1, 1, 1, 0, 1, 1, 1, 1, 0, 0, 0, 0, 1, 1, 1, 1, 0, 1, 1, 1, 1, 1, 1, 0, 1, 0, 1, 1, 1, 0, 1, 1, 1, 1, 1, 1, 1, 1, 0, 1, 1, 1, 1, 0, 0, 0, 1, 1, 0, 0, 1, 1, 0, 1, 1, 1, 1, 1, 1, 1, 1, 0, 1, 1, 1, 0, 1, 1, 1, 1, 0, 1, 1, 1, 1, 1, 1, 1, 1, 1, 1, 1, 1, 1, 1, 0, 0, 1, 1, 0, 0, 1, 1, 1, 1, 1, 0, 0, 1, 1, 0, 0, 1, 0, 1, 1, 1, 1, 0, 1, 1, 0, 1, 1, 1, 1, 1, 0, 0, 1, 1, 1, 1, 1, 0, 1, 1, 1, 1, 1, 1, 1, 1, 0, 1, 1, 1, 1, 1, 0, 1, 1, 1, 0, 1, 1, 1, 1, 1, 1, 0, 1, 1, 0, 0, 1, 0, 0, 1, 1, 0, 1, 1, 0, 0, 0, 1, 0, 1, 1, 1, 1, 1, 1, 1, 1, 1, 1, 1, 1, 1, 1, 1, 0, 1, 1, 1, 1, 1, 1, 1, 1, 1, 0, 1, 1, 1, 1, 1, 1, 1, 0, 0, 0, 1, 1, 0, 0, 1, 1, 1, 1, 1, 1, 1, 0, 1, 1, 1, 1, 1, 1, 1, 1, 1, 1, 1, 1, 1, 1, 1, 1, 1, 1, 1, 1, 0, 0, 0, 1, 1, 1, 0, 1, 1, 0, 1, 1, 0, 1, 1, 1, 1, 1, 1, 1, 1, 0, 1, 1, 1, 1, 1, 1, 1, 1, 0, 1, 0, 1, 1, 0, 1, 1, 1, 0, 1, 1, 1, 1, 0, 1, 1, 1, 1, 0, 1, 1, 1, 0, 1, 0, 1, 1, 1, 1, 1, 0, 1, 1, 1, 1, 1, 0, 1, 1, 0, 0, 1, 1, 1, 1, 1, 0, 1, 1, 1, 1, 1, 1, 0, 1, 0, 1, 1, 1, 1, 1, 1, 1, 1, 1, 1, 1, 0, 1, 0, 1, 0, 0, 1, 0, 1, 1, 0, 1, 0, 1, 0, 1, 1, 1, 1, 1, 1, 1, 1, 1, 1, 1, 1, 1, 1, 0, 1, 1, 0, 1, 1, 1, 1, 0, 1, 0, 1, 1, 1, 0, 0, 1, 1, 1, 0, 1, 1, 1, 1, 1, 0, 1, 1, 0, 1, 1, 0, 1, 1, 1, 1, 1, 1, 1, 0, 0, 1, 1, 1, 1, 0, 0, 1, 0, 0, 1, 1, 0, 1, 0, 1, 1, 1, 1, 1, 0, 1, 0, 1, 0, 1, 1, 1, 0, 1, 1, 1, 1, 1, 1, 0, 1, 0, 0, 1, 0, 1, 1, 1, 1, 0, 1, 1, 1, 1, 1, 1, 0, 0, 1, 1, 0, 1, 1, 1, 1, 1, 0, 1, 0, 1, 1, 1, 1, 1, 1, 1, 1, 1, 1, 1, 1, 1, 1, 1, 0, 1, 1, 1, 1, 0, 1, 0, 1, 1, 1, 0, 1, 1, 1, 1, 1, 1, 0, 0, 0, 0, 1, 1, 1, 1, 1, 0, 1, 0, 1, 1, 1, 0, 0, 0, 1, 1, 0, 1, 0, 1, 1, 1, 1, 1, 1, 1, 1, 1, 0, 0, 1, 1, 0, 0, 1, 1, 0, 0, 1, 1, 1, 1, 1, 1, 0, 1, 0, 0, 1, 1, 1, 1, 1, 1, 1, 1, 1, 1, 1, 0, 1, 1, 0, 1, 0, 1, 1, 0, 1, 1, 0, 1, 1, 1, 0, 1, 1, 1, 0, 1, 0, 1, 0, 0, 0, 1, 0, 1, 1, 1, 1, 0, 1, 1, 0, 1, 0, 0, 0, 0, 1, 1, 1, 1, 1, 1, 1, 0, 1, 1, 0, 1, 1, 1, 1, 1, 0, 1, 0, 0, 1, 1, 1, 1, 1, 0, 1, 0, 1, 1, 1, 1, 1, 1, 1, 1, 1, 1, 1, 0, 1, 0, 1, 0, 1, 0, 0, 1, 0, 1, 1, 1, 0, 0, 1, 1, 0, 0, 1, 0, 0, 1, 1, 1, 1, 1, 1, 1, 1, 1, 0, 1, 1, 0, 1, 1, 1, 1, 0, 1, 1, 0, 1, 1, 1, 1, 1, 1, 1, 0, 1, 0, 0, 1, 1, 1, 1, 1, 1, 0, 1, 1, 1, 1, 1, 0, 1, 0, 1, 1, 1, 1, 1, 0, 0, 1, 0, 0, 1, 1, 1, 1, 1, 1, 1, 1, 0, 1, 1, 0, 0, 0, 1, 1, 1, 1, 1, 0, 0, 1, 1, 1, 1, 0, 1, 0, 1, 1, 1, 0, 1, 1, 1, 1, 1, 0, 0, 1, 1, 1, 1, 1, 1, 0, 0, 1, 1, 1, 0, 1, 1, 1, 1, 1, 0, 0, 0, 1, 1, 1, 1, 1, 1, 1, 0, 1, 1, 1, 0, 0, 1, 1, 1, 1, 1, 0, 1, 1, 0, 1, 1, 1, 1, 1, 1, 1, 0, 0, 1, 1, 1, 1, 0, 0, 1, 1, 0, 1, 1, 0, 1, 1, 1, 0, 0, 1, 1, 1, 0, 1, 1, 1, 1, 0, 1, 0, 0, 0, 1, 0, 1, 0, 1, 1, 1, 1, 0, 1, 1, 1, 1, 0, 1, 1, 1, 1, 0, 1, 0, 1, 1, 1, 1, 1, 1, 1, 1, 1, 1, 1, 1, 0, 1, 1, 1, 1, 1, 1, 1, 1, 1, 1, 1, 1, 0, 1, 1, 1, 1, 1, 1, 0, 0, 1, 1, 1, 1, 1, 1, 1, 0, 1, 0, 1, 1, 1, 1, 1, 1, 1, 1, 1, 0, 1, 1, 0, 1, 1, 0, 0, 1, 1, 1, 1, 1, 1, 0, 1, 0, 1, 1, 0, 0, 0, 0, 0, 0, 0, 1, 0, 1, 1, 1, 1, 1, 1, 1, 0, 1, 1, 1, 0, 1, 1, 1, 1, 1, 0, 1, 0, 1, 0, 1, 1, 0, 1, 0, 0, 1, 1, 1, 0, 1, 1, 0, 0, 1, 0, 1, 0, 1, 1, 1, 1, 1, 0, 1, 1, 1, 0, 1, 0, 1, 0, 1, 1, 1, 1, 0, 0, 1, 1, 1, 1, 0, 1, 1, 0, 1, 1, 1, 1, 1, 0, 1, 1, 1, 0, 1, 0, 1, 1, 1, 0, 1, 1, 1, 1, 1, 1, 0, 1, 0, 0, 0, 0, 0, 0, 0, 0, 1, 0, 1, 1, 0, 1, 1, 1, 1, 1, 1, 0, 1, 0, 0, 1, 1, 1, 1, 1, 0, 1, 1, 0, 0, 0, 0, 0, 1, 1, 1, 1, 1, 1, 1, 0, 1, 0, 1, 0, 1, 0, 1, 1, 1, 1, 0, 1, 0, 1, 1, 1, 1, 0, 1, 1, 0, 1, 1, 0, 1, 1, 0, 1, 0, 1, 0, 1, 1, 1, 1, 1, 1, 0, 1, 1, 0, 1, 1, 0, 1, 0, 1, 0, 1, 1, 0, 1, 0, 0, 0, 1, 0, 1, 0, 1, 0, 0, 1, 1, 1, 0, 1, 0, 1, 1, 1, 1, 1, 0, 1, 0, 0, 1, 1, 0, 1, 0, 1, 1, 1, 0, 0, 0, 0, 0, 0, 1, 1, 1, 0, 1, 1, 1, 1, 1, 1, 1, 1, 1, 1, 1, 0, 1, 1, 1, 1, 1, 0, 1, 1, 1, 1, 1, 1, 1, 0, 0, 1, 0, 1, 1, 0, 1, 0, 1, 0, 1, 1, 1, 1, 1, 1, 1, 0, 1, 1, 1, 1, 1, 1, 0, 1, 1, 1, 1, 1, 1, 1, 1, 0, 1, 1, 1, 1, 1, 0, 1, 1, 1, 1, 0, 1, 1, 1, 1, 1, 0, 0, 1, 1, 1, 0, 1, 0, 0, 0, 1, 0, 1, 1, 0, 1, 1, 1, 1, 1, 1, 1, 0, 1, 1, 1, 1, 1, 0, 1, 1, 1, 1, 0, 1, 1, 1, 1, 0, 0, 0, 1, 1]\n",
            "[[0.37543253 0.62456747]\n",
            " [0.24498692 0.75501308]]\n"
          ],
          "name": "stdout"
        },
        {
          "output_type": "display_data",
          "data": {
            "image/png": "[encoded data removed]",
            "text/plain": [
              "<Figure size 432x288 with 2 Axes>"
            ]
          },
          "metadata": {
            "tags": []
          }
        }
      ]
    },
    {
      "cell_type": "code",
      "metadata": {
        "id": "Kc8gGQsEHzGk",
        "colab_type": "code",
        "outputId": "7a1eea9a-9c35-498f-d134-bbc8f19dcca5",
        "colab": {
          "base_uri": "https://localhost:8080/",
          "height": 187
        }
      },
      "source": [
        "print(\"Classification Report\\n\",classification_report(test_Y_max, predictions, labels=[0,1], target_names = labelList, zero_division=0))"
      ],
      "execution_count": 144,
      "outputs": [
        {
          "output_type": "stream",
          "text": [
            "Classification Report\n",
            "               precision    recall  f1-score   support\n",
            "\n",
            "           0       0.44      0.38      0.40       578\n",
            "           1       0.71      0.76      0.73      1147\n",
            "\n",
            "    accuracy                           0.63      1725\n",
            "   macro avg       0.57      0.57      0.57      1725\n",
            "weighted avg       0.62      0.63      0.62      1725\n",
            "\n"
          ],
          "name": "stdout"
        }
      ]
    },
    {
      "cell_type": "markdown",
      "metadata": {
        "id": "qhBkQgmUZd-i",
        "colab_type": "text"
      },
      "source": [
        "# Model with BiLSTM"
      ]
    },
    {
      "cell_type": "code",
      "metadata": {
        "id": "AAWX_Vm_WKXD",
        "colab_type": "code",
        "outputId": "c04af72f-2b1b-4406-84e0-9e67e2d3a603",
        "colab": {
          "base_uri": "https://localhost:8080/",
          "height": 734
        }
      },
      "source": [
        "inputs1 = Input(shape=(20,))\n",
        "inputs2 = Input(shape=(20,))\n",
        "shared_emb = Embedding(len(word_index) + 1, EMBEDDING_DIM, weights=[embedding_matrix], input_length=20, trainable=False)\n",
        "emb_1 = shared_emb(inputs1)\n",
        "emb_2 = shared_emb(inputs2)\n",
        "\n",
        "shared_lstm = Bidirectional(LSTM(300, activation='relu'))\n",
        "lstm_1 = shared_lstm(emb_1)\n",
        "lstm_2 = shared_lstm(emb_2)\n",
        "\n",
        "merged = tf.keras.layers.concatenate([lstm_1, lstm_2])\n",
        "output = Dense(2, activation='softmax')(merged)\n",
        "\n",
        "model = Model(inputs=[inputs1, inputs2], outputs=output)\n",
        "model.compile(loss=[\"categorical_crossentropy\"], optimizer='adam', metrics=['accuracy'])\n",
        "# model.summary()\n",
        "\n",
        "model.fit([x_train_seqs_1, x_train_seqs_2],\n",
        "          y_train_enc, \n",
        "          # callbacks=callbacks_list, \n",
        "          validation_data=([x_valid_seqs_1, x_valid_seqs_2], y_valid_enc),\n",
        "          epochs=20, batch_size=32, verbose=1,shuffle=True)"
      ],
      "execution_count": 147,
      "outputs": [
        {
          "output_type": "stream",
          "text": [
            "Epoch 1/20\n",
            "115/115 [==============================] - 30s 262ms/step - loss: 0.6031 - accuracy: 0.6854 - val_loss: 0.6222 - val_accuracy: 0.6618\n",
            "Epoch 2/20\n",
            "115/115 [==============================] - 30s 261ms/step - loss: 0.5805 - accuracy: 0.7061 - val_loss: 0.6208 - val_accuracy: 0.6691\n",
            "Epoch 3/20\n",
            "115/115 [==============================] - 30s 257ms/step - loss: 0.5735 - accuracy: 0.7208 - val_loss: 0.6082 - val_accuracy: 0.6789\n",
            "Epoch 4/20\n",
            "115/115 [==============================] - 30s 259ms/step - loss: 0.5534 - accuracy: 0.7293 - val_loss: 0.6030 - val_accuracy: 0.6838\n",
            "Epoch 5/20\n",
            "115/115 [==============================] - 29s 254ms/step - loss: 0.5191 - accuracy: 0.7410 - val_loss: 0.6262 - val_accuracy: 0.6789\n",
            "Epoch 6/20\n",
            "115/115 [==============================] - 30s 259ms/step - loss: 0.4985 - accuracy: 0.7628 - val_loss: 0.6093 - val_accuracy: 0.6789\n",
            "Epoch 7/20\n",
            "115/115 [==============================] - 30s 265ms/step - loss: 0.4683 - accuracy: 0.7822 - val_loss: 0.7893 - val_accuracy: 0.6912\n",
            "Epoch 8/20\n",
            "115/115 [==============================] - 30s 260ms/step - loss: 0.4363 - accuracy: 0.8053 - val_loss: 0.6139 - val_accuracy: 0.6740\n",
            "Epoch 9/20\n",
            "115/115 [==============================] - 30s 264ms/step - loss: 0.3864 - accuracy: 0.8402 - val_loss: 0.6514 - val_accuracy: 0.6716\n",
            "Epoch 10/20\n",
            "115/115 [==============================] - 30s 261ms/step - loss: 0.3275 - accuracy: 0.8580 - val_loss: 0.7538 - val_accuracy: 0.6667\n",
            "Epoch 11/20\n",
            "115/115 [==============================] - 30s 264ms/step - loss: 0.2505 - accuracy: 0.8991 - val_loss: 1.0850 - val_accuracy: 0.6789\n",
            "Epoch 12/20\n",
            "115/115 [==============================] - 30s 262ms/step - loss: 0.1863 - accuracy: 0.9370 - val_loss: 0.9547 - val_accuracy: 0.6642\n",
            "Epoch 13/20\n",
            "115/115 [==============================] - 29s 255ms/step - loss: 0.1566 - accuracy: 0.9460 - val_loss: 1.2260 - val_accuracy: 0.6716\n",
            "Epoch 14/20\n",
            "115/115 [==============================] - 32s 280ms/step - loss: 0.1051 - accuracy: 0.9700 - val_loss: 1.2374 - val_accuracy: 0.6618\n",
            "Epoch 15/20\n",
            "115/115 [==============================] - 30s 257ms/step - loss: 0.0811 - accuracy: 0.9793 - val_loss: 1.3300 - val_accuracy: 0.6691\n",
            "Epoch 16/20\n",
            "115/115 [==============================] - 30s 259ms/step - loss: 0.0879 - accuracy: 0.9757 - val_loss: 1.2853 - val_accuracy: 0.6495\n",
            "Epoch 17/20\n",
            "115/115 [==============================] - 30s 263ms/step - loss: 0.0613 - accuracy: 0.9842 - val_loss: 1.2546 - val_accuracy: 0.6422\n",
            "Epoch 18/20\n",
            "115/115 [==============================] - 30s 260ms/step - loss: 0.0444 - accuracy: 0.9888 - val_loss: 1.2865 - val_accuracy: 0.6569\n",
            "Epoch 19/20\n",
            "115/115 [==============================] - 30s 258ms/step - loss: 0.0484 - accuracy: 0.9877 - val_loss: 1.2467 - val_accuracy: 0.6569\n",
            "Epoch 20/20\n",
            "115/115 [==============================] - 30s 263ms/step - loss: 0.0468 - accuracy: 0.9902 - val_loss: 1.4383 - val_accuracy: 0.6667\n"
          ],
          "name": "stdout"
        },
        {
          "output_type": "execute_result",
          "data": {
            "text/plain": [
              "<tensorflow.python.keras.callbacks.History at 0x7fcb9d4dbeb8>"
            ]
          },
          "metadata": {
            "tags": []
          },
          "execution_count": 147
        }
      ]
    },
    {
      "cell_type": "code",
      "metadata": {
        "id": "IyqmQ64DaI57",
        "colab_type": "code",
        "outputId": "01b7310f-c9c5-43f9-8ccc-670f3e7a76c3",
        "colab": {
          "base_uri": "https://localhost:8080/",
          "height": 514
        }
      },
      "source": [
        "predictions = predict(x_test, model)\n",
        "labelList=[\"0\", \"1\"]\n",
        "\n",
        "from sklearn.metrics import confusion_matrix\n",
        "test_Y = y_test_enc\n",
        "test_Y_max=np.argmax(test_Y, axis=-1)\n",
        "cm=confusion_matrix(test_Y_max,predictions)\n",
        "cm = cm.astype('float') / cm.sum(axis=1)[:, np.newaxis]\n",
        "print(cm)\n",
        "cm = pd.DataFrame(cm, labelList,labelList )# matrix,names row,names col,\n",
        "# plt.figure(figsize=(10,7))\n",
        "sn.set(font_scale=1.4) # for label size\n",
        "sn.heatmap(cm, annot=True, annot_kws={\"size\": 11}, fmt=\".2f\") # font size\n",
        "plt.show()\n",
        "\n",
        "print(\"Classification Report\\n\",classification_report(test_Y_max, predictions, labels=[0,1], target_names = labelList, zero_division=0))\n"
      ],
      "execution_count": 148,
      "outputs": [
        {
          "output_type": "stream",
          "text": [
            "[0, 0, 1, 1, 1, 1, 1, 1, 1, 0, 1, 0, 0, 1, 1, 0, 1, 1, 0, 1, 1, 1, 1, 1, 0, 0, 0, 0, 1, 0, 1, 1, 0, 1, 1, 1, 1, 1, 1, 1, 1, 1, 0, 1, 0, 0, 1, 0, 1, 1, 1, 1, 0, 0, 1, 1, 1, 1, 1, 1, 1, 1, 1, 1, 1, 1, 0, 1, 1, 1, 0, 1, 0, 0, 1, 0, 0, 1, 1, 1, 1, 0, 0, 0, 1, 1, 0, 0, 0, 1, 1, 1, 1, 0, 1, 1, 1, 1, 0, 1, 1, 1, 1, 1, 1, 0, 1, 1, 1, 1, 1, 0, 0, 1, 0, 1, 1, 0, 1, 1, 1, 1, 1, 1, 1, 0, 1, 0, 1, 1, 1, 1, 0, 0, 1, 1, 0, 0, 1, 0, 1, 1, 1, 1, 1, 1, 1, 1, 1, 1, 1, 0, 1, 1, 1, 1, 1, 0, 1, 1, 1, 1, 1, 0, 1, 1, 0, 1, 1, 1, 1, 1, 1, 1, 1, 0, 0, 0, 1, 1, 0, 0, 0, 1, 1, 0, 1, 1, 1, 1, 0, 1, 1, 1, 0, 1, 0, 1, 1, 1, 1, 1, 1, 1, 1, 0, 1, 1, 0, 1, 1, 1, 1, 0, 1, 1, 1, 1, 1, 1, 1, 0, 0, 1, 1, 1, 1, 1, 1, 1, 1, 0, 1, 1, 0, 1, 1, 1, 1, 1, 1, 0, 0, 1, 1, 1, 1, 1, 1, 1, 1, 1, 0, 1, 1, 1, 1, 1, 1, 0, 1, 1, 1, 1, 1, 1, 1, 1, 1, 1, 0, 0, 0, 1, 1, 0, 0, 1, 1, 0, 1, 1, 1, 1, 0, 1, 1, 1, 0, 1, 1, 1, 0, 0, 1, 1, 0, 1, 0, 1, 1, 0, 0, 1, 1, 1, 1, 0, 1, 1, 1, 1, 0, 0, 1, 1, 0, 1, 1, 0, 1, 1, 1, 0, 1, 0, 1, 1, 0, 0, 0, 1, 1, 1, 1, 0, 1, 1, 1, 1, 1, 1, 1, 1, 1, 0, 0, 1, 1, 0, 0, 1, 0, 1, 1, 1, 1, 0, 1, 0, 1, 1, 0, 1, 1, 0, 1, 1, 0, 0, 1, 0, 1, 1, 1, 1, 0, 1, 0, 1, 0, 0, 0, 1, 1, 1, 1, 1, 1, 1, 1, 1, 1, 0, 1, 1, 1, 0, 1, 0, 1, 1, 1, 1, 0, 1, 0, 1, 1, 1, 0, 0, 1, 1, 1, 0, 1, 0, 1, 1, 0, 1, 1, 0, 1, 0, 0, 1, 0, 1, 1, 1, 1, 1, 0, 1, 1, 0, 1, 1, 1, 0, 1, 0, 1, 1, 1, 1, 0, 1, 1, 1, 1, 0, 1, 0, 1, 1, 1, 1, 0, 1, 1, 1, 1, 1, 1, 0, 1, 1, 1, 1, 1, 1, 0, 0, 1, 1, 1, 0, 1, 1, 0, 1, 1, 1, 1, 1, 1, 1, 0, 1, 1, 1, 1, 1, 1, 1, 1, 0, 0, 1, 1, 1, 0, 1, 1, 0, 1, 1, 1, 1, 1, 1, 1, 1, 0, 1, 1, 0, 0, 0, 1, 0, 1, 1, 0, 1, 0, 1, 0, 0, 1, 0, 1, 1, 1, 1, 0, 1, 1, 0, 0, 1, 1, 1, 1, 0, 1, 1, 1, 1, 1, 1, 0, 1, 1, 0, 1, 1, 1, 0, 1, 0, 1, 1, 1, 1, 1, 1, 1, 1, 1, 0, 1, 0, 1, 1, 1, 0, 0, 0, 1, 1, 0, 0, 1, 0, 1, 1, 1, 1, 1, 0, 0, 1, 1, 0, 1, 1, 1, 1, 1, 1, 0, 1, 0, 0, 1, 1, 1, 1, 0, 0, 1, 1, 1, 1, 1, 1, 1, 1, 1, 1, 0, 1, 0, 1, 0, 1, 1, 0, 0, 0, 0, 1, 0, 1, 1, 1, 1, 1, 1, 0, 0, 0, 1, 1, 1, 1, 1, 1, 1, 1, 1, 1, 1, 1, 1, 1, 1, 1, 1, 1, 1, 1, 1, 0, 0, 1, 0, 1, 1, 1, 0, 0, 1, 1, 1, 1, 0, 1, 1, 1, 0, 1, 1, 0, 1, 1, 1, 0, 1, 1, 1, 1, 0, 1, 0, 0, 0, 0, 1, 1, 0, 0, 0, 1, 1, 1, 0, 1, 0, 1, 0, 0, 1, 1, 1, 0, 1, 1, 1, 0, 1, 1, 1, 1, 0, 1, 1, 1, 1, 0, 1, 1, 0, 0, 1, 0, 0, 1, 1, 0, 1, 1, 1, 0, 1, 1, 0, 1, 0, 1, 1, 1, 0, 1, 1, 1, 1, 0, 1, 1, 1, 1, 1, 1, 0, 0, 0, 0, 1, 0, 0, 1, 0, 1, 0, 1, 1, 1, 1, 1, 1, 1, 1, 0, 1, 1, 1, 0, 1, 0, 1, 1, 0, 1, 1, 1, 1, 0, 1, 0, 1, 1, 1, 1, 1, 1, 1, 1, 0, 1, 1, 0, 1, 1, 0, 1, 0, 1, 0, 1, 0, 1, 1, 1, 0, 1, 1, 1, 0, 0, 1, 1, 1, 1, 0, 1, 0, 0, 1, 1, 1, 0, 1, 0, 0, 1, 1, 1, 1, 0, 0, 0, 1, 0, 1, 1, 0, 1, 1, 1, 1, 1, 1, 1, 0, 1, 0, 0, 0, 1, 1, 1, 1, 0, 1, 1, 1, 1, 1, 1, 1, 0, 0, 1, 1, 1, 0, 1, 1, 1, 0, 1, 0, 0, 1, 1, 1, 1, 1, 1, 0, 1, 1, 1, 1, 1, 1, 1, 0, 0, 1, 1, 1, 1, 0, 1, 1, 1, 1, 1, 0, 1, 1, 1, 1, 0, 1, 0, 0, 1, 0, 1, 1, 1, 1, 1, 1, 1, 0, 1, 1, 1, 1, 0, 1, 1, 1, 0, 1, 1, 1, 0, 1, 1, 1, 1, 1, 1, 1, 0, 0, 1, 1, 1, 1, 1, 1, 0, 1, 1, 1, 1, 1, 1, 1, 0, 0, 0, 0, 1, 0, 1, 0, 1, 1, 1, 1, 1, 0, 1, 1, 1, 1, 0, 1, 1, 1, 1, 0, 1, 1, 0, 1, 1, 1, 0, 0, 0, 1, 0, 1, 0, 0, 1, 1, 0, 1, 1, 1, 0, 1, 1, 0, 1, 1, 1, 1, 1, 0, 1, 0, 1, 1, 1, 1, 1, 1, 1, 1, 0, 1, 1, 1, 1, 1, 1, 1, 0, 1, 0, 1, 0, 1, 1, 1, 0, 0, 1, 0, 1, 0, 0, 1, 1, 1, 1, 1, 1, 0, 0, 1, 1, 1, 1, 1, 1, 0, 0, 1, 1, 1, 1, 1, 1, 1, 1, 1, 1, 1, 1, 1, 1, 1, 1, 1, 1, 1, 1, 1, 1, 1, 0, 1, 1, 0, 0, 1, 1, 1, 0, 1, 1, 0, 1, 1, 1, 1, 0, 1, 1, 1, 1, 0, 1, 1, 1, 1, 1, 1, 1, 1, 0, 1, 1, 1, 1, 0, 1, 0, 0, 1, 1, 0, 1, 1, 1, 1, 0, 0, 1, 1, 1, 0, 1, 1, 1, 1, 1, 1, 1, 1, 0, 0, 1, 1, 1, 1, 1, 1, 1, 1, 1, 1, 1, 1, 1, 0, 1, 0, 1, 1, 1, 1, 1, 1, 1, 0, 1, 1, 1, 1, 1, 1, 0, 1, 1, 1, 1, 1, 1, 0, 1, 1, 1, 0, 0, 0, 0, 1, 1, 1, 1, 1, 1, 1, 0, 1, 0, 1, 0, 1, 1, 1, 1, 1, 1, 0, 0, 1, 1, 1, 0, 1, 1, 1, 1, 1, 1, 1, 1, 0, 1, 1, 1, 0, 0, 1, 1, 1, 1, 1, 1, 1, 1, 0, 0, 1, 1, 1, 0, 0, 0, 1, 1, 0, 1, 1, 1, 0, 1, 1, 1, 0, 0, 0, 1, 0, 0, 1, 1, 0, 1, 0, 0, 1, 1, 1, 0, 0, 1, 1, 0, 0, 1, 1, 0, 1, 1, 1, 1, 1, 1, 0, 1, 1, 1, 1, 1, 1, 1, 1, 1, 1, 1, 0, 1, 1, 1, 1, 0, 1, 1, 1, 1, 1, 1, 1, 1, 1, 1, 1, 0, 0, 0, 1, 1, 1, 1, 1, 1, 1, 1, 1, 1, 1, 1, 0, 1, 1, 0, 0, 1, 0, 0, 1, 1, 1, 1, 0, 1, 0, 0, 0, 1, 1, 1, 0, 1, 0, 1, 0, 1, 0, 1, 1, 1, 1, 1, 0, 1, 1, 1, 0, 1, 1, 1, 1, 1, 1, 1, 1, 1, 0, 1, 1, 1, 1, 1, 1, 1, 1, 1, 1, 1, 0, 0, 0, 0, 0, 1, 0, 1, 1, 0, 1, 1, 1, 1, 1, 1, 1, 1, 0, 1, 0, 1, 1, 1, 1, 1, 1, 0, 1, 1, 1, 1, 1, 1, 1, 0, 1, 1, 1, 1, 0, 1, 1, 1, 0, 1, 1, 1, 1, 1, 1, 1, 1, 0, 1, 0, 1, 0, 1, 0, 0, 0, 1, 0, 0, 1, 0, 0, 1, 1, 1, 0, 1, 0, 1, 0, 0, 1, 0, 1, 0, 0, 0, 1, 1, 1, 1, 1, 1, 1, 0, 1, 1, 0, 0, 1, 1, 1, 1, 1, 1, 1, 1, 1, 0, 1, 0, 1, 0, 0, 1, 1, 1, 0, 1, 0, 1, 1, 1, 0, 0, 1, 1, 1, 1, 1, 0, 1, 1, 0, 0, 0, 1, 1, 1, 1, 0, 1, 1, 0, 0, 1, 1, 0, 1, 1, 1, 1, 1, 1, 0, 1, 1, 1, 1, 0, 0, 0, 1, 1, 1, 1, 0, 0, 0, 1, 1, 1, 1, 0, 1, 1, 1, 1, 0, 1, 0, 1, 0, 1, 1, 0, 1, 1, 1, 1, 1, 1, 1, 1, 0, 0, 1, 1, 1, 0, 1, 1, 1, 0, 1, 1, 1, 0, 1, 1, 1, 1, 1, 1, 1, 1, 1, 1, 1, 1, 1, 1, 1, 1, 0, 0, 1, 0, 0, 1, 1, 1, 1, 0, 0, 0, 1, 1, 1, 1, 1, 1, 1, 1, 1, 1, 1, 1, 1, 1, 1, 0, 1, 1, 1, 0, 1, 1, 1, 1, 1, 1, 1, 1, 1, 1, 1, 1, 1, 1, 0, 1, 1, 0, 1, 1, 1, 1, 1, 0, 0, 1, 1, 0, 1, 1, 0, 1, 1, 0, 1, 1, 1, 1, 1, 1, 0, 1, 1, 0, 0, 1, 1, 0, 1, 1, 1, 1, 1, 0, 0, 0, 1, 1, 1, 1, 1, 1, 0, 1, 1]\n",
            "[[0.36678201 0.63321799]\n",
            " [0.23975588 0.76024412]]\n"
          ],
          "name": "stdout"
        },
        {
          "output_type": "display_data",
          "data": {
            "image/png": "[encoded data removed]",
            "text/plain": [
              "<Figure size 432x288 with 2 Axes>"
            ]
          },
          "metadata": {
            "tags": []
          }
        },
        {
          "output_type": "stream",
          "text": [
            "Classification Report\n",
            "               precision    recall  f1-score   support\n",
            "\n",
            "           0       0.44      0.37      0.40       578\n",
            "           1       0.70      0.76      0.73      1147\n",
            "\n",
            "    accuracy                           0.63      1725\n",
            "   macro avg       0.57      0.56      0.56      1725\n",
            "weighted avg       0.61      0.63      0.62      1725\n",
            "\n"
          ],
          "name": "stdout"
        }
      ]
    },
    {
      "cell_type": "markdown",
      "metadata": {
        "id": "4-vGIXH9HzGs",
        "colab_type": "text"
      },
      "source": [
        "# Task 2 Sentiment Classification\n",
        "For this task we will be reusing the movie reviews dataset available on <a href=\"https://www.kaggle.com/c/word2vec-nlp-tutorial/data\">kaggle</a> and download the dataset from there. \n",
        "We will be using the unlabeledTrainData file and labeledTrainData file. We will use the gensim package to train word2vec embeddings using [gensim](https://radimrehurek.com/gensim/) package and unlabelled train data as in the previous assignmnet. Now instead for creating a single representation for each review we will be using deep learning models for this task. We will use the same archetecture as before but will experiment with different reccurant networks namely RNN, GRU and LSTM.<br> This task might feel like <a href=\"https://ibb.co/Tgh2XyH\">this</a> but since this is a deep learning assignment thus we must use it.\n",
        "<h3>Data Preperation</h3>\n",
        "<ul>\n",
        "    <li> First we need to preprocess the data, convert the data to lower casing(both files). Any other preprocessing procedures are optional but keep in mind that this will affect the performance of your model.</li>\n",
        "    <li> Split the labeledTrainData data file into test, train and validation in the ratio 20,70,10. Use <a href=\"https://scikit-learn.org/stable/modules/generated/sklearn.model_selection.train_test_split.html\">scikit_test_train_split</a> <br><i><b>Hint:</b> use the splitter twice to get desired data splits.</i></li>\n",
        "    <li> Next we need the vocabulary, vocabulary size and to convert sentences to numeric sequences by representing each word with a numeric value which will make our implementation easier later on, use <a href=\"https://www.tensorflow.org/api_docs/python/tf/keras/preprocessing/text/Tokenizer\">Tokenizer</a> from keras. <br><i>(Fit the tokenizer on train data and use the same tokenizer to convert train,test and validation data to numeric sequences)</i> </li>\n",
        "    <li>  Use <a href=\"https://www.tensorflow.org/api_docs/python/tf/keras/preprocessing/sequence/pad_sequences\"> pad sequences</a> to add post padding to all sentences that are shorter than maximum sequence length</li>\n",
        "    <li> Use one hot representation for targets/labels, you can use <a href=\"https://scikit-learn.org/stable/modules/generated/sklearn.preprocessing.OneHotEncoder.html\">scikit learn</a> or <a href=\"https://www.tensorflow.org/api_docs/python/tf/keras/preprocessing\">keras preprocessing</a>.</li>\n",
        "</ul>\n",
        "<h3>Loading embeddings</h3>\n",
        "<ul>\n",
        "    <li> As state before use the gensim package to train the word2vec model on unlabelledTrainData file</li>\n",
        "    <li> Next we will create a dictionary for our dataset's vocabulary. Copy all the word embeddings for words that are in our vocabulary and in the word2vec model, if a word exists in our vocabulary but does not exist in word2vec model create a zero vector of embedding dimension size and add it to the dictionary.</li>\n",
        "</ul>\n",
        "<h3>Create Model</h3>\n",
        "<ul>\n",
        "    <li> Here is a visual for the model <img src=\"sentimentdeep.png\">\n",
        "    <li> Create the model using <a href\"https://www.tensorflow.org/guide/keras/functional\">functional API</a> or the <a href=\"https://www.tensorflow.org/api_docs/python/tf/keras/Sequential\">Sequential API</a></li>\n",
        "    <li> Hints: The emebedding layer has a parameter that allows you to use pretrained embeddings</li>\n",
        "\n"
      ]
    },
    {
      "cell_type": "markdown",
      "metadata": {
        "id": "99MklsScHzGt",
        "colab_type": "text"
      },
      "source": [
        "Use can reuse the code snippets from above for call backs, prediction heat map and classification report\n",
        "<i>You will have provide a label list for this specific dataset inorder for them to run, you are to make the required changes yourself</i>"
      ]
    },
    {
      "cell_type": "code",
      "metadata": {
        "id": "LdEyeu1NHzGu",
        "colab_type": "code",
        "outputId": "d4eed361-ad3d-436a-f645-a69f54c7772d",
        "colab": {
          "base_uri": "https://localhost:8080/",
          "height": 85
        }
      },
      "source": [
        "# !unzip \"/content/drive/My Drive/Colab Notebooks/labeledTrainData.tsv.zip\"\n",
        "# !unzip \"/content/drive/My Drive/Colab Notebooks/unlabeledTrainData.tsv.zip\""
      ],
      "execution_count": 0,
      "outputs": [
        {
          "output_type": "stream",
          "text": [
            "Archive:  /content/drive/My Drive/Colab Notebooks/labeledTrainData.tsv.zip\n",
            "  inflating: labeledTrainData.tsv    \n",
            "Archive:  /content/drive/My Drive/Colab Notebooks/unlabeledTrainData.tsv.zip\n",
            "  inflating: unlabeledTrainData.tsv  \n"
          ],
          "name": "stdout"
        }
      ]
    },
    {
      "cell_type": "code",
      "metadata": {
        "id": "Xb16wLD7HzG2",
        "colab_type": "code",
        "colab": {}
      },
      "source": [
        "import re\n",
        "def preprocess(tweet):\n",
        "    processed_data = tweet.lower()\n",
        "    processed_data = re.sub(\"@[\\S]+\", \"AT_TOKEN\", processed_data)\n",
        "    processed_data = re.sub(\"[#]\", \"\", processed_data)\n",
        "    processed_data = re.sub(\"<.*>\", \"\", processed_data)\n",
        "    processed_data = re.sub(\"[^a-zA-Z0-9\\s_]\", \" \", processed_data)\n",
        "    processed_data = re.sub(\"[\\s]+\", \" \", processed_data)\n",
        "    processed_data = re.sub(\"[_]{2,10}\", \"\", processed_data)\n",
        "    processed_data = processed_data.split(\" \")\n",
        "    return [x for x in processed_data if len(x) > 2]"
      ],
      "execution_count": 0,
      "outputs": []
    },
    {
      "cell_type": "code",
      "metadata": {
        "id": "mh0hZ48GHzGz",
        "colab_type": "code",
        "colab": {}
      },
      "source": [
        "import pandas as pd\n",
        "data = pd.read_csv(\"unlabeledTrainData.tsv\", header=0, delimiter=\"\\t\", quoting=3)\n",
        "unlabaled_reviews = [preprocess(x) for x in data['review']]\n",
        "\n",
        "data = pd.read_csv(\"labeledTrainData.tsv\", header=0, delimiter=\"\\t\", quoting=3)\n",
        "X = [preprocess(x) for x in data['review']]\n",
        "Y = [str(x) for x in data['sentiment']]"
      ],
      "execution_count": 0,
      "outputs": []
    },
    {
      "cell_type": "code",
      "metadata": {
        "id": "BAlz9S_DeWVj",
        "colab_type": "code",
        "outputId": "c797a0fd-d50f-4367-f94d-d7840a19d516",
        "colab": {
          "base_uri": "https://localhost:8080/",
          "height": 34
        }
      },
      "source": [
        "def get_distribution(data):\n",
        "  dist = {}\n",
        "  for point in data:\n",
        "    for token in point:\n",
        "      if token in dist:\n",
        "        dist[token] += 1\n",
        "      else: dist[token] = 1\n",
        "  return dist\n",
        "def handle_unks(data):\n",
        "  dist = get_distribution(data)\n",
        "  print(len(dist))\n",
        "  for i, point in enumerate(data):\n",
        "    for j, token in enumerate(point):\n",
        "      if dist[token] == 1:\n",
        "        data[i][j] = 'UNK'\n",
        "  return data\n",
        "\n",
        "unlabaled_reviews = handle_unks(unlabaled_reviews)"
      ],
      "execution_count": 151,
      "outputs": [
        {
          "output_type": "stream",
          "text": [
            "81138\n"
          ],
          "name": "stdout"
        }
      ]
    },
    {
      "cell_type": "code",
      "metadata": {
        "id": "AyDuNXMppeAj",
        "colab_type": "code",
        "colab": {}
      },
      "source": [
        "x_train, x_test, y_train, y_test = train_test_split(X, Y, test_size=0.2, random_state=0)\n",
        "x_train, x_valid, y_train, y_valid = train_test_split(x_train, y_train, test_size=0.125, random_state=0)"
      ],
      "execution_count": 0,
      "outputs": []
    },
    {
      "cell_type": "code",
      "metadata": {
        "id": "tPlhmIDgeWSb",
        "colab_type": "code",
        "colab": {}
      },
      "source": [
        "import gensim\n",
        "def trainWord2Vec(data):\n",
        "  \"\"\"\n",
        "  Return preprocessed data\n",
        "\n",
        "  Args:\n",
        "      data : movie reviews\n",
        "\n",
        "  Returns: model\n",
        "  model : Word2Vec model \n",
        "  \"\"\"\n",
        "  emb_len = 300\n",
        "  model = gensim.models.Word2Vec(sentences=data, size = emb_len, window=2, min_count=1)\n",
        "  return model\n",
        "w2v_model = trainWord2Vec(unlabaled_reviews)"
      ],
      "execution_count": 0,
      "outputs": []
    },
    {
      "cell_type": "code",
      "metadata": {
        "id": "3VDtekcKhquO",
        "colab_type": "code",
        "outputId": "7007fa58-84d9-44da-b6d6-23801dfd2150",
        "colab": {
          "base_uri": "https://localhost:8080/",
          "height": 34
        }
      },
      "source": [
        "#making a dictionary\n",
        "embeddings_dictionary = {}\n",
        "for review in unlabaled_reviews:\n",
        "  for word in review:\n",
        "    if word not in embeddings_dictionary:\n",
        "      if word in w2v_model.wv:\n",
        "        embeddings_dictionary[word] = w2v_model.wv[word]\n",
        "      else:\n",
        "        embeddings_dictionary[word] = [0]*300\n",
        "print(len(embeddings_dictionary))"
      ],
      "execution_count": 154,
      "outputs": [
        {
          "output_type": "stream",
          "text": [
            "49304\n"
          ],
          "name": "stdout"
        }
      ]
    },
    {
      "cell_type": "code",
      "metadata": {
        "id": "pgbRYKdDhq0N",
        "colab_type": "code",
        "outputId": "a0edca87-d3c7-444d-e170-6898e8d120f1",
        "colab": {
          "base_uri": "https://localhost:8080/",
          "height": 34
        }
      },
      "source": [
        "tokenizer = Tokenizer(oov_token=\"<unk>\", filters='!\"#$%&()*+.,-/:;=?@[\\]^_`{|}~ ')\n",
        "tokenizer.fit_on_texts(x_train)\n",
        "word_index = tokenizer.word_index\n",
        "\n",
        "#load pretrained embeddings\n",
        "EMBEDDING_DIM = 300\n",
        "embeddings_index = embeddings_dictionary\n",
        "\n",
        "embedding_matrix = np.zeros((len(word_index) + 1, EMBEDDING_DIM))\n",
        "print(embedding_matrix.shape)\n",
        "for word, i in word_index.items():\n",
        "  embedding_vector = embeddings_index.get(word)\n",
        "  if embedding_vector is not None:\n",
        "    # words not found in embedding index will be all-zeros.\n",
        "    embedding_matrix[i] = embedding_vector"
      ],
      "execution_count": 155,
      "outputs": [
        {
          "output_type": "stream",
          "text": [
            "(50733, 300)\n"
          ],
          "name": "stdout"
        }
      ]
    },
    {
      "cell_type": "code",
      "metadata": {
        "id": "Bt2XclTnk-wY",
        "colab_type": "code",
        "colab": {}
      },
      "source": [
        "def transform(tmp):\n",
        "  train_seqs = tokenizer.texts_to_sequences([tmp])\n",
        "  padded_seqs = pad_sequences(train_seqs, padding='post', maxlen=20)\n",
        "  res = padded_seqs[0]\n",
        "  return res\n",
        "def transform_data(tmp):\n",
        "  res = []\n",
        "  for p in tmp:\n",
        "    res += [transform(p)]\n",
        "  return res\n",
        "x_train_seqs = np.array(transform_data(x_train))\n",
        "x_test_seqs = np.array(transform_data(x_test))\n",
        "x_valid_seqs = np.array(transform_data(x_valid))"
      ],
      "execution_count": 0,
      "outputs": []
    },
    {
      "cell_type": "code",
      "metadata": {
        "id": "AbtHUGeI2tjN",
        "colab_type": "code",
        "colab": {
          "base_uri": "https://localhost:8080/",
          "height": 34
        },
        "outputId": "8e24bfe0-c1d5-4254-aae2-da94d5077d58"
      },
      "source": [
        "print(x_train_seqs.shape)"
      ],
      "execution_count": 157,
      "outputs": [
        {
          "output_type": "stream",
          "text": [
            "(17500, 20)\n"
          ],
          "name": "stdout"
        }
      ]
    },
    {
      "cell_type": "code",
      "metadata": {
        "id": "HvZoYXDHsFIf",
        "colab_type": "code",
        "colab": {}
      },
      "source": [
        "encod = {\n",
        "    \"1\": [0, 1],\n",
        "    \"0\": [1, 0]\n",
        "}\n",
        "y_train_enc = np.array([encod[x] for x in y_train], dtype=np.uint8)\n",
        "y_valid_enc = np.array([encod[x] for x in y_valid], dtype=np.uint8)\n",
        "y_test_enc = np.array([encod[x] for x in y_test], dtype=np.uint8)"
      ],
      "execution_count": 0,
      "outputs": []
    },
    {
      "cell_type": "code",
      "metadata": {
        "id": "h5eDCTtW5VhG",
        "colab_type": "code",
        "colab": {
          "base_uri": "https://localhost:8080/",
          "height": 34
        },
        "outputId": "b8138a96-5cd0-4137-ddc5-f0adedd375d6"
      },
      "source": [
        "print(y_test_enc.shape)"
      ],
      "execution_count": 159,
      "outputs": [
        {
          "output_type": "stream",
          "text": [
            "(5000, 2)\n"
          ],
          "name": "stdout"
        }
      ]
    },
    {
      "cell_type": "code",
      "metadata": {
        "id": "9WktiU41thAZ",
        "colab_type": "code",
        "colab": {
          "base_uri": "https://localhost:8080/",
          "height": 1000
        },
        "outputId": "b2d8e614-9546-4d9f-cad7-1b9999608bee"
      },
      "source": [
        "def make_model(rec_layer):\n",
        "  inputs1 = Input(shape=(20,))\n",
        "  emb = Embedding(len(word_index) + 1, EMBEDDING_DIM, weights=[embedding_matrix], input_length=20, trainable=False)\n",
        "  emb_1 = emb(inputs1)\n",
        "\n",
        "  # lstm = LSTM(300, activation='relu')\n",
        "  # lstm_1 = lstm(emb_1)\n",
        "  recurrent_layer = rec_layer(emb_1)\n",
        "\n",
        "  output = Dense(2, activation='softmax')(recurrent_layer)\n",
        "\n",
        "  model = Model(inputs=inputs1, outputs=output)\n",
        "  model.compile(loss=[\"categorical_crossentropy\"], optimizer='adam', metrics=['accuracy'])\n",
        "  model.summary()\n",
        "  model.fit(x_train_seqs,\n",
        "            y_train_enc, \n",
        "            # callbacks=callbacks_list, \n",
        "            validation_data=(x_valid_seqs, y_valid_enc),\n",
        "            epochs=10, batch_size=32, verbose=1,shuffle=True)\n",
        "  return model\n",
        "\n",
        "lstm_model = make_model(LSTM(100, activation='relu'))\n",
        "gru_model = make_model(GRU(100, activation='relu'))\n",
        "rnn_model = make_model(SimpleRNN(100, activation='relu'))"
      ],
      "execution_count": 160,
      "outputs": [
        {
          "output_type": "stream",
          "text": [
            "Model: \"model_18\"\n",
            "_________________________________________________________________\n",
            "Layer (type)                 Output Shape              Param #   \n",
            "=================================================================\n",
            "input_26 (InputLayer)        [(None, 20)]              0         \n",
            "_________________________________________________________________\n",
            "embedding_18 (Embedding)     (None, 20, 300)           15219900  \n",
            "_________________________________________________________________\n",
            "lstm_16 (LSTM)               (None, 100)               160400    \n",
            "_________________________________________________________________\n",
            "dense_18 (Dense)             (None, 2)                 202       \n",
            "=================================================================\n",
            "Total params: 15,380,502\n",
            "Trainable params: 160,602\n",
            "Non-trainable params: 15,219,900\n",
            "_________________________________________________________________\n",
            "Epoch 1/10\n",
            "547/547 [==============================] - 16s 29ms/step - loss: 0.5555 - accuracy: 0.7051 - val_loss: 0.5190 - val_accuracy: 0.7336\n",
            "Epoch 2/10\n",
            "547/547 [==============================] - 16s 29ms/step - loss: 0.4999 - accuracy: 0.7495 - val_loss: 0.5009 - val_accuracy: 0.7464\n",
            "Epoch 3/10\n",
            "547/547 [==============================] - 16s 29ms/step - loss: 0.4648 - accuracy: 0.7706 - val_loss: 0.4876 - val_accuracy: 0.7504\n",
            "Epoch 4/10\n",
            "547/547 [==============================] - 15s 28ms/step - loss: 0.4313 - accuracy: 0.7897 - val_loss: 0.4858 - val_accuracy: 0.7544\n",
            "Epoch 5/10\n",
            "547/547 [==============================] - 15s 28ms/step - loss: 0.3869 - accuracy: 0.8180 - val_loss: 0.5028 - val_accuracy: 0.7468\n",
            "Epoch 6/10\n",
            "547/547 [==============================] - 16s 29ms/step - loss: 0.3403 - accuracy: 0.8435 - val_loss: 0.5421 - val_accuracy: 0.7380\n",
            "Epoch 7/10\n",
            "547/547 [==============================] - 16s 29ms/step - loss: 0.2794 - accuracy: 0.8765 - val_loss: 0.6012 - val_accuracy: 0.7372\n",
            "Epoch 8/10\n",
            "547/547 [==============================] - 16s 28ms/step - loss: 0.2281 - accuracy: 0.9040 - val_loss: 0.6681 - val_accuracy: 0.7396\n",
            "Epoch 9/10\n",
            "547/547 [==============================] - 16s 29ms/step - loss: 0.1724 - accuracy: 0.9307 - val_loss: 0.8134 - val_accuracy: 0.7272\n",
            "Epoch 10/10\n",
            "547/547 [==============================] - 16s 29ms/step - loss: 0.1222 - accuracy: 0.9522 - val_loss: 0.9663 - val_accuracy: 0.7272\n",
            "Model: \"model_19\"\n",
            "_________________________________________________________________\n",
            "Layer (type)                 Output Shape              Param #   \n",
            "=================================================================\n",
            "input_27 (InputLayer)        [(None, 20)]              0         \n",
            "_________________________________________________________________\n",
            "embedding_19 (Embedding)     (None, 20, 300)           15219900  \n",
            "_________________________________________________________________\n",
            "gru_1 (GRU)                  (None, 100)               120600    \n",
            "_________________________________________________________________\n",
            "dense_19 (Dense)             (None, 2)                 202       \n",
            "=================================================================\n",
            "Total params: 15,340,702\n",
            "Trainable params: 120,802\n",
            "Non-trainable params: 15,219,900\n",
            "_________________________________________________________________\n",
            "Epoch 1/10\n",
            "547/547 [==============================] - 13s 24ms/step - loss: 0.5509 - accuracy: 0.7067 - val_loss: 0.5071 - val_accuracy: 0.7332\n",
            "Epoch 2/10\n",
            "547/547 [==============================] - 13s 23ms/step - loss: 0.4869 - accuracy: 0.7559 - val_loss: 0.4869 - val_accuracy: 0.7476\n",
            "Epoch 3/10\n",
            "547/547 [==============================] - 13s 23ms/step - loss: 0.4516 - accuracy: 0.7805 - val_loss: 0.4806 - val_accuracy: 0.7592\n",
            "Epoch 4/10\n",
            "547/547 [==============================] - 13s 23ms/step - loss: 0.4167 - accuracy: 0.7990 - val_loss: 0.4760 - val_accuracy: 0.7568\n",
            "Epoch 5/10\n",
            "547/547 [==============================] - 13s 23ms/step - loss: 0.3757 - accuracy: 0.8233 - val_loss: 0.4944 - val_accuracy: 0.7572\n",
            "Epoch 6/10\n",
            "547/547 [==============================] - 13s 23ms/step - loss: 0.3249 - accuracy: 0.8521 - val_loss: 0.5235 - val_accuracy: 0.7612\n",
            "Epoch 7/10\n",
            "547/547 [==============================] - 13s 23ms/step - loss: 0.2642 - accuracy: 0.8840 - val_loss: 0.6483 - val_accuracy: 0.7336\n",
            "Epoch 8/10\n",
            "547/547 [==============================] - 13s 24ms/step - loss: 0.2090 - accuracy: 0.9145 - val_loss: 0.6813 - val_accuracy: 0.7492\n",
            "Epoch 9/10\n",
            "547/547 [==============================] - 13s 23ms/step - loss: 0.1508 - accuracy: 0.9420 - val_loss: 0.7940 - val_accuracy: 0.7512\n",
            "Epoch 10/10\n",
            "547/547 [==============================] - 13s 23ms/step - loss: 0.1089 - accuracy: 0.9574 - val_loss: 0.8485 - val_accuracy: 0.7476\n",
            "Model: \"model_20\"\n",
            "_________________________________________________________________\n",
            "Layer (type)                 Output Shape              Param #   \n",
            "=================================================================\n",
            "input_28 (InputLayer)        [(None, 20)]              0         \n",
            "_________________________________________________________________\n",
            "embedding_20 (Embedding)     (None, 20, 300)           15219900  \n",
            "_________________________________________________________________\n",
            "simple_rnn_1 (SimpleRNN)     (None, 100)               40100     \n",
            "_________________________________________________________________\n",
            "dense_20 (Dense)             (None, 2)                 202       \n",
            "=================================================================\n",
            "Total params: 15,260,202\n",
            "Trainable params: 40,302\n",
            "Non-trainable params: 15,219,900\n",
            "_________________________________________________________________\n",
            "Epoch 1/10\n",
            "547/547 [==============================] - 5s 9ms/step - loss: 0.6135 - accuracy: 0.6614 - val_loss: 0.5404 - val_accuracy: 0.7160\n",
            "Epoch 2/10\n",
            "547/547 [==============================] - 5s 9ms/step - loss: 0.5283 - accuracy: 0.7296 - val_loss: 0.5249 - val_accuracy: 0.7248\n",
            "Epoch 3/10\n",
            "547/547 [==============================] - 5s 8ms/step - loss: 0.5016 - accuracy: 0.7473 - val_loss: 0.5288 - val_accuracy: 0.7180\n",
            "Epoch 4/10\n",
            "547/547 [==============================] - 5s 8ms/step - loss: 0.4823 - accuracy: 0.7623 - val_loss: 0.5070 - val_accuracy: 0.7520\n",
            "Epoch 5/10\n",
            "547/547 [==============================] - 5s 9ms/step - loss: 0.4599 - accuracy: 0.7797 - val_loss: 0.5749 - val_accuracy: 0.7036\n",
            "Epoch 6/10\n",
            "547/547 [==============================] - 5s 8ms/step - loss: 0.4332 - accuracy: 0.7957 - val_loss: 0.5286 - val_accuracy: 0.7532\n",
            "Epoch 7/10\n",
            "547/547 [==============================] - 5s 9ms/step - loss: 0.4021 - accuracy: 0.8160 - val_loss: 0.5511 - val_accuracy: 0.7264\n",
            "Epoch 8/10\n",
            "547/547 [==============================] - 5s 9ms/step - loss: 0.3767 - accuracy: 0.8287 - val_loss: 0.5606 - val_accuracy: 0.7364\n",
            "Epoch 9/10\n",
            "547/547 [==============================] - 5s 9ms/step - loss: 0.3541 - accuracy: 0.8433 - val_loss: 0.5877 - val_accuracy: 0.7268\n",
            "Epoch 10/10\n",
            "547/547 [==============================] - 5s 9ms/step - loss: 0.3258 - accuracy: 0.8551 - val_loss: 0.5956 - val_accuracy: 0.7148\n"
          ],
          "name": "stdout"
        }
      ]
    },
    {
      "cell_type": "code",
      "metadata": {
        "id": "rom30Vr4thLj",
        "colab_type": "code",
        "colab": {}
      },
      "source": [
        "def maxInd(x):\n",
        "  if x[0] > x[1]:\n",
        "    return 0\n",
        "  return 1\n",
        "def predict(data, inp_model):\n",
        "  x_test_seqs = np.array(transform_data(data))\n",
        "  print(x_test_seqs.shape)\n",
        "  res = inp_model.predict(x_test_seqs)\n",
        "  res = [maxInd(x) for x in res]\n",
        "  print(np.array(res).shape)\n",
        "  return res"
      ],
      "execution_count": 0,
      "outputs": []
    },
    {
      "cell_type": "code",
      "metadata": {
        "id": "QIa1P8I2thJu",
        "colab_type": "code",
        "colab": {}
      },
      "source": [
        "def report(inp_model):\n",
        "  predictions = predict(x_test, inp_model)\n",
        "  labelList=[\"0\", \"1\"]\n",
        "\n",
        "  from sklearn.metrics import confusion_matrix\n",
        "  test_Y = y_test_enc\n",
        "  test_Y_max=np.argmax(test_Y, axis=-1)\n",
        "  cm=confusion_matrix(test_Y_max,predictions)\n",
        "  cm = cm.astype('float') / cm.sum(axis=1)[:, np.newaxis]\n",
        "  print(cm)\n",
        "  cm = pd.DataFrame(cm, labelList,labelList )# matrix,names row,names col,\n",
        "  # plt.figure(figsize=(10,7))\n",
        "  sn.set(font_scale=1.4) # for label size\n",
        "  sn.heatmap(cm, annot=True, annot_kws={\"size\": 11}, fmt=\".2f\") # font size\n",
        "  plt.show()\n",
        "  print(\"Classification Report\\n\",classification_report(test_Y_max, predictions, labels=[0,1], target_names = labelList, zero_division=0))\n"
      ],
      "execution_count": 0,
      "outputs": []
    },
    {
      "cell_type": "code",
      "metadata": {
        "id": "PK-w3H7uthHf",
        "colab_type": "code",
        "colab": {
          "base_uri": "https://localhost:8080/",
          "height": 528
        },
        "outputId": "cce5c6f3-6fd4-48c8-9fe5-1ddd4d3b84c8"
      },
      "source": [
        "print(\"For RNN\")\n",
        "report(rnn_model)"
      ],
      "execution_count": 163,
      "outputs": [
        {
          "output_type": "stream",
          "text": [
            "For RNN\n",
            "(5000, 20)\n",
            "(5000,)\n",
            "[[0.70839874 0.29160126]\n",
            " [0.26264274 0.73735726]]\n"
          ],
          "name": "stdout"
        },
        {
          "output_type": "display_data",
          "data": {
            "image/png": "[encoded data removed]",
            "text/plain": [
              "<Figure size 432x288 with 2 Axes>"
            ]
          },
          "metadata": {
            "tags": []
          }
        },
        {
          "output_type": "stream",
          "text": [
            "Classification Report\n",
            "               precision    recall  f1-score   support\n",
            "\n",
            "           0       0.74      0.71      0.72      2548\n",
            "           1       0.71      0.74      0.72      2452\n",
            "\n",
            "    accuracy                           0.72      5000\n",
            "   macro avg       0.72      0.72      0.72      5000\n",
            "weighted avg       0.72      0.72      0.72      5000\n",
            "\n"
          ],
          "name": "stdout"
        }
      ]
    },
    {
      "cell_type": "code",
      "metadata": {
        "id": "LU0SzDfN4Kl6",
        "colab_type": "code",
        "colab": {
          "base_uri": "https://localhost:8080/",
          "height": 528
        },
        "outputId": "a25d2379-11db-4ee9-f552-6f573fccbea2"
      },
      "source": [
        "print(\"For LSTM\")\n",
        "report(lstm_model)"
      ],
      "execution_count": 164,
      "outputs": [
        {
          "output_type": "stream",
          "text": [
            "For LSTM\n",
            "(5000, 20)\n",
            "(5000,)\n",
            "[[0.67582418 0.32417582]\n",
            " [0.22634584 0.77365416]]\n"
          ],
          "name": "stdout"
        },
        {
          "output_type": "display_data",
          "data": {
            "image/png": "[encoded data removed]",
            "text/plain": [
              "<Figure size 432x288 with 2 Axes>"
            ]
          },
          "metadata": {
            "tags": []
          }
        },
        {
          "output_type": "stream",
          "text": [
            "Classification Report\n",
            "               precision    recall  f1-score   support\n",
            "\n",
            "           0       0.76      0.68      0.71      2548\n",
            "           1       0.70      0.77      0.73      2452\n",
            "\n",
            "    accuracy                           0.72      5000\n",
            "   macro avg       0.73      0.72      0.72      5000\n",
            "weighted avg       0.73      0.72      0.72      5000\n",
            "\n"
          ],
          "name": "stdout"
        }
      ]
    },
    {
      "cell_type": "code",
      "metadata": {
        "id": "eugnGlI14Oa9",
        "colab_type": "code",
        "colab": {
          "base_uri": "https://localhost:8080/",
          "height": 528
        },
        "outputId": "244d252d-5b52-414f-d934-9fc0ed895537"
      },
      "source": [
        "print(\"For GRU\")\n",
        "report(gru_model)"
      ],
      "execution_count": 165,
      "outputs": [
        {
          "output_type": "stream",
          "text": [
            "For GRU\n",
            "(5000, 20)\n",
            "(5000,)\n",
            "[[0.76255887 0.23744113]\n",
            " [0.27732463 0.72267537]]\n"
          ],
          "name": "stdout"
        },
        {
          "output_type": "display_data",
          "data": {
            "image/png": "[encoded data removed]",
            "text/plain": [
              "<Figure size 432x288 with 2 Axes>"
            ]
          },
          "metadata": {
            "tags": []
          }
        },
        {
          "output_type": "stream",
          "text": [
            "Classification Report\n",
            "               precision    recall  f1-score   support\n",
            "\n",
            "           0       0.74      0.76      0.75      2548\n",
            "           1       0.75      0.72      0.73      2452\n",
            "\n",
            "    accuracy                           0.74      5000\n",
            "   macro avg       0.74      0.74      0.74      5000\n",
            "weighted avg       0.74      0.74      0.74      5000\n",
            "\n"
          ],
          "name": "stdout"
        }
      ]
    },
    {
      "cell_type": "markdown",
      "metadata": {
        "id": "2RsMMu7YHzG-",
        "colab_type": "text"
      },
      "source": [
        "# We hope all of you are working on your projects and <a href=\"https://ibb.co/dcpf4vS\"> Kudos for completing the assingnment</a>"
      ]
    }
  ]
}