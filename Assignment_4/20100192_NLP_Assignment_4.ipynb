{
  "nbformat": 4,
  "nbformat_minor": 0,
  "metadata": {
    "kernelspec": {
      "display_name": "Python 3",
      "language": "python",
      "name": "python3"
    },
    "language_info": {
      "codemirror_mode": {
        "name": "ipython",
        "version": 3
      },
      "file_extension": ".py",
      "mimetype": "text/x-python",
      "name": "python",
      "nbconvert_exporter": "python",
      "pygments_lexer": "ipython3",
      "version": "3.6.9"
    },
    "colab": {
      "name": "20100192_NLP_Assignment_4.ipynb",
      "provenance": [],
      "collapsed_sections": [],
      "toc_visible": true
    }
  },
  "cells": [
    {
      "cell_type": "markdown",
      "metadata": {
        "id": "2lnOXnOxHzFd",
        "colab_type": "text"
      },
      "source": [
        "# Assignment 4 CS 5316 Natural Language Processing"
      ]
    },
    {
      "cell_type": "code",
      "metadata": {
        "id": "5BcDWByA2EHX",
        "colab_type": "code",
        "colab": {}
      },
      "source": [
        "# from google.colab import drive\n",
        "# drive.mount('/content/drive')"
      ],
      "execution_count": 0,
      "outputs": []
    },
    {
      "cell_type": "code",
      "metadata": {
        "id": "PAXc81hgIHUI",
        "colab_type": "code",
        "colab": {}
      },
      "source": [
        "# !unzip \"/content/drive/My Drive/Colab Notebooks/msr_paraphrase.zip\""
      ],
      "execution_count": 0,
      "outputs": []
    },
    {
      "cell_type": "code",
      "metadata": {
        "id": "C3ry-Cr4yFPz",
        "colab_type": "code",
        "colab": {}
      },
      "source": [
        "# d = \"50\"\n",
        "# !cp \"/content/drive/My Drive/Colab Notebooks/glove_6B/glove.6B.50d.txt\" \"glove.6B.50d.txt\""
      ],
      "execution_count": 0,
      "outputs": []
    },
    {
      "cell_type": "code",
      "metadata": {
        "id": "XSAelkozHzFg",
        "colab_type": "code",
        "colab": {}
      },
      "source": [
        "import numpy as np\n",
        "from IPython.display import Image\n",
        "# Get the interactive Tools for Matplotlib\n",
        "%matplotlib inline\n",
        "import matplotlib.pyplot as plt\n",
        "# plt.style.use('ggplot')\n",
        "from sklearn.decomposition import PCA\n",
        "from gensim.test.utils import datapath, get_tmpfile\n",
        "from gensim.models import KeyedVectors\n",
        "from gensim.scripts.glove2word2vec import glove2word2vec\n",
        "from sklearn.decomposition import TruncatedSVD\n",
        "from sklearn.utils.extmath import randomized_svd\n",
        "from nltk import ngrams\n",
        "import pandas as pd\n",
        "import seaborn as sn\n",
        "import tensorflow as tf\n",
        "from tensorflow.keras.layers import Dense, Activation, RepeatVector,Flatten, TimeDistributed, Input,Bidirectional,LocallyConnected1D,Conv1D,GlobalAveragePooling1D,GlobalMaxPooling1D,Concatenate,BatchNormalization\n",
        "from tensorflow.keras.layers import Embedding, LSTM ,Dropout, SimpleRNN, GRU\n",
        "from tensorflow.keras.models import Model\n",
        "from tensorflow.keras.preprocessing.text import Tokenizer\n",
        "from tensorflow.keras.preprocessing.sequence import pad_sequences\n",
        "from tensorflow.keras import optimizers\n",
        "from keras.utils import plot_model\n",
        "from tensorflow.keras.utils import to_categorical\n",
        "# import tensorflow.keras.utils.to_categorical as to_categorical\n",
        "from sklearn.preprocessing import LabelEncoder\n",
        "from sklearn.preprocessing import OneHotEncoder\n",
        "import matplotlib.pyplot as plt\n",
        "import matplotlib.mlab as mlab\n",
        "from sklearn.model_selection import train_test_split\n",
        "from tensorflow.keras.callbacks import ModelCheckpoint, EarlyStopping, CSVLogger, ReduceLROnPlateau\n",
        "from sklearn.metrics import f1_score, precision_score, recall_score, confusion_matrix\n",
        "import math\n",
        "from sklearn.metrics import confusion_matrix\n",
        "import seaborn as sn\n",
        "from sklearn.metrics import classification_report"
      ],
      "execution_count": 0,
      "outputs": []
    },
    {
      "cell_type": "markdown",
      "metadata": {
        "id": "ai2BH1arHzFr",
        "colab_type": "text"
      },
      "source": [
        "# Final Assingmnet\n",
        "This is going to be the final assignment for deep learning. Here is a very good visual for what you will be doing with\n",
        "<a href=\"https://ibb.co/mh9Ks0j\">deep learning.</a> Lets get started......."
      ]
    },
    {
      "cell_type": "markdown",
      "metadata": {
        "id": "a4a4UbaHHzFt",
        "colab_type": "text"
      },
      "source": [
        "# TASK 1 Paraphrase Detection\n",
        "For this task we will be using the [ Microsoft Research Paraphrase Corpus ](https://www.microsoft.com/en-us/download/details.aspx?id=52398). The corpus consist of sentence pairs with 1 or 0 labels which identify if the sentences are paraphrase or not respectively.\n",
        "<br>\n",
        "To perform this task we will be using recurrenct neural network for this task specifically the [LSTM](https://colah.github.io/posts/2015-08-Understanding-LSTMs/). RNN can be architected in multiple ways. Some of the possible ways are as follows:\n",
        "<img src=\"archetecturernn.PNG\">\n",
        "The box in the bottom is the input, followed by the hidden layer (as the middle box), and the box on top is the output layer. The one-to-one architecture is the typical neural network (<i>vanila/Feed Forward</i>) with a hidden layer between the input and the output layer. Example uses of the above archetecture are as follows:\n",
        "<ul>\n",
        "    <li>One-to-many: input is an image and outputs are image captions</li>\n",
        "    <li>Many-to-one: input is a movie's review <i>multiple words in input</i> and output is sentiment associated with the review <i>(we will be using a similar archetecture for our purpose)</i></li>\n",
        "    <li>Many-to-many: machine translation of a sentence in one language to a sentence in another language, POS tagging etc</li>\n",
        "</ul>\n",
        "<br>\n",
        "For this task we will also be using pre-trained word embeddings specificallly <a href=\"https://nlp.stanford.edu/projects/glove/\">(GloVe Embeddings)</a>. Please download the paraphrase <a href=\"https://www.microsoft.com/en-us/download/details.aspx?id=52398\">dataset</a> and glove.6B.zip from <a href=\"https://nlp.stanford.edu/projects/glove/\">here</a>."
      ]
    },
    {
      "cell_type": "markdown",
      "metadata": {
        "id": "t9q3zcMUHzFu",
        "colab_type": "text"
      },
      "source": [
        "For this task you are required to implement the following archetecture, please use [keras functional API](https://www.tensorflow.org/guide/keras/functional) :\n",
        "<img src=\"paraphrase.png\">\n",
        "If <a href=\"https://ibb.co/RSSjRM0\">this</a> is you reaction after seeing the model archetecture dont worry we'll explain.\n",
        "The model works as follows, there will be two inputs layers, one for each sentence followed by <b>shared</b> embedding layer which feed thier outputs to the shared LSTM, <b>take the final hidden state output</b> of both LSTM's and concatenate them. Finally feed the concatenated vector to a softmax output layer for classification.\n",
        "<br>\n",
        "<i>(The reason for using one shared embedding and LSTM layer so that the model learns sentence representation for all sentence pairs(x,x') in the dataset. If we were using two seperate LSTMS for x and x' we would need to double the dataset by having both (x,x') and (x',x) pairs so that both LSTM's see the entire train data distribution)</i>\n",
        "The purpose for each layer in the model is as follows:\n",
        "<ul>\n",
        "    <li>Input takes the input sequences and feeds it to the next(you will need to specify the maximum size of a sentence as a parameter of this layer)</li>\n",
        "    <li>Embedding layer, this layer takes the sequence input then for each word in the sequence generates a fixed size vector <i>(word embedding)</i>, this layer can be trained from scratch or can be configured to use pretrained embeddings with or without fine tuning. </li>\n",
        "    <li>LSTM process the embedding vector sequences and at each step generates a hidden state vector(h)and cell memory vector(C)(<i>see diagram</i>), the keras LSTM layer returns three outputs (1) All the hidden states,(2) The final hidden state and (3) The final cell memory state<img src=\"lstm.png\"></li>\n",
        "    <li>The concatenation layer combines multple vectors into a single vector</li>\n",
        "    <li>Finally the output layer predicts if sentence pairs were paraphrase or not</li>\n",
        "</ul>\n",
        "<b>Please refer to the TF-keras documentation for all the layers <a href=\"https://www.tensorflow.org/api_docs/python/tf/keras/layers\">here</a></b>\n",
        "<br><br><br>\n",
        "Now that you understand the theoritical foundation for our approach lets move onto practical implementation.<br>\n",
        "<h3>Data Preperation</h3>\n",
        "\n",
        "<ul>\n",
        "    <li> First we need to preprocess the data, convert the data to lower casing. Any other preprocessing procedures are optional but keep in mind that this will affect the performance of your model.</li>\n",
        "    <li> To make training faster we will fix the maximum sequence length to 20 truncate the longer sequences.</li>\n",
        "    <li> Split the data into test, train and validation in the ratio 20,70,10. Use <a href=\"https://scikit-learn.org/stable/modules/generated/sklearn.model_selection.train_test_split.html\">scikit_test_train_split</a> <br><i><b>Hint:</b> use the splitter twice to get desired data splits.</i></li>\n",
        "    <li> Next we need the vocabulary, vocabulary size and to convert sentences to numeric sequences by representing each word with a numeric value which will make our implementation easier later on, use <a href=\"https://www.tensorflow.org/api_docs/python/tf/keras/preprocessing/text/Tokenizer\">Tokenizer</a> from keras. <br><i>(Fit the tokenizer on train data and use the same tokenizer to convert train,test and validation data to numeric sequences)</i> </li>\n",
        "    <li>  Use <a href=\"https://www.tensorflow.org/api_docs/python/tf/keras/preprocessing/sequence/pad_sequences\"> pad sequences</a> to add post padding to all sentences that are shorter than maximum sequence length\n",
        "        <i>(<b>extra info</b>: fit_on_text reserves value/index 0 for padding and assigns numeric value to words starting from index 1)</i></li>\n",
        "</ul>\n",
        "<h3>Loading embeddings</h3>\n",
        "<ul>\n",
        "    <li> To use pretrained embeddings in tf keras embedding layer requires a dictionary, we need to create a dictionary whose keys will be numeric word representations and values will be the embedding vectors.</li>\n",
        "    <li> First step is to load the word embedding pairs from the glove file into a dictionary.</li>\n",
        "    <li> Next we will create a dictionary for our dataset's vocabulary. Copy all the word embeddings for words that are in our vocabulary and in the glove dictionary, if a word exists in our vocabulary but does not exist in glove dictionary create a zero vector of embedding dimension size and add it to the dictionary.</li>\n",
        "</ul>\n",
        "<h3>Create Model</h3>\n",
        "<ul>\n",
        "    <li> Create the model using <a href\"https://www.tensorflow.org/guide/keras/functional\">functional API</a></li>\n",
        "    <li> Hints: The emebedding layer has a parameter that allows you to use pretrained embeddings, for shared layers read the section of shared layer weights in function API docs</li>"
      ]
    },
    {
      "cell_type": "code",
      "metadata": {
        "id": "Em79S8xMHzFw",
        "colab_type": "code",
        "colab": {}
      },
      "source": [
        "def loadData(fn):\n",
        "    \"\"\"\n",
        "    Return preprocessed data\n",
        "    \n",
        "    Returns: X and Y where X is pair of sentence (x,x') and y is the label 0 or 1\n",
        "    \"\"\"\n",
        "    data = open(fn)\n",
        "    data = np.array([example.split(\"\\t\") for example in data.readlines()])[1:]\n",
        "    data_X = []\n",
        "    data_Y = []\n",
        "    for d in data:\n",
        "      data_X += [(d[3], d[4])]\n",
        "      data_Y += [d[0]]\n",
        "    return data_X, data_Y\n"
      ],
      "execution_count": 0,
      "outputs": []
    },
    {
      "cell_type": "code",
      "metadata": {
        "id": "TC1oDxwrHzF2",
        "colab_type": "code",
        "colab": {}
      },
      "source": [
        "def process(sentence):\n",
        "  sentence = sentence.lower().split(\" \")\n",
        "  try:\n",
        "    sentence = sentence[:20]\n",
        "  except: \n",
        "    pass\n",
        "  return \" \".join(sentence)\n",
        "\n",
        "def preprocessing(data):\n",
        "    \"\"\"\n",
        "    Return preprocessed data\n",
        "\n",
        "    Args:\n",
        "        data : sentence pairs\n",
        "    \n",
        "    Returns: preprocessed_data\n",
        "    preprocessed_data : preprocessed dataset \n",
        "    \"\"\"\n",
        "    preprocessed_data = []\n",
        "    for p in data:\n",
        "      preprocessed_data += [(process(p[0]), process(p[1]))]\n",
        "    return preprocessed_data"
      ],
      "execution_count": 0,
      "outputs": []
    },
    {
      "cell_type": "markdown",
      "metadata": {
        "id": "ShwDNscCHzF-",
        "colab_type": "text"
      },
      "source": [
        "### Test train split\n",
        "Use test train split from sklearn.\n"
      ]
    },
    {
      "cell_type": "code",
      "metadata": {
        "id": "RhvIYwKaHzF_",
        "colab_type": "code",
        "colab": {}
      },
      "source": [
        "def testTrainSplit(data_X,data_Y):\n",
        "    \"\"\"\n",
        "    Return test train data\n",
        "\n",
        "    Args:\n",
        "        data_X : sentence pairs\n",
        "        data_Y: labels\n",
        "        \n",
        "    Returns: test train and validation split data \n",
        "    \"\"\"\n",
        "    x_train, x_valid, y_train, y_valid = train_test_split(data_X, data_Y, test_size=0.1, random_state=0)\n",
        "    return x_train, x_valid, y_train, y_valid"
      ],
      "execution_count": 0,
      "outputs": []
    },
    {
      "cell_type": "code",
      "metadata": {
        "id": "_aHLVbI0c7QX",
        "colab_type": "code",
        "colab": {}
      },
      "source": [
        "x_train, y_train = loadData('msr_paraphrase_train.txt')\n",
        "x_test, y_test = loadData('msr_paraphrase_test.txt')\n",
        "x_train = preprocessing(x_train)\n",
        "x_test = preprocessing(x_test)\n",
        "x_train, x_valid, y_train, y_valid = testTrainSplit(x_train, y_train)"
      ],
      "execution_count": 0,
      "outputs": []
    },
    {
      "cell_type": "code",
      "metadata": {
        "id": "TGxxRZNC9CFc",
        "colab_type": "code",
        "colab": {}
      },
      "source": [
        "encod = {\n",
        "    \"1\": [0, 1],\n",
        "    \"0\": [1, 0]\n",
        "}\n",
        "y_train_enc = np.array([encod[x] for x in y_train], dtype=np.uint8)\n",
        "y_valid_enc = np.array([encod[x] for x in y_valid], dtype=np.uint8)\n",
        "y_test_enc = np.array([encod[x] for x in y_test], dtype=np.uint8)"
      ],
      "execution_count": 0,
      "outputs": []
    },
    {
      "cell_type": "markdown",
      "metadata": {
        "id": "mhpNUab1HzGG",
        "colab_type": "text"
      },
      "source": [
        "Implement the step regarding keras Tokenizer in the cell below.<br>\n",
        "<i> Keep in mind that each example is a pair/tupple of sentence(x,x'), combine them into a single sentence so that your data is a list of sentences before calling fit on text(Tokenizer). There is out of vocabulary option in tokenizer check that out aswell.</i>"
      ]
    },
    {
      "cell_type": "code",
      "metadata": {
        "id": "NqbD4p9mHzGG",
        "colab_type": "code",
        "colab": {}
      },
      "source": [
        "# Get vocabular, vocabulary size and numeric word seqeunces for train,test and validation data\n",
        "tokenizer = Tokenizer(oov_token=\"<unk>\", filters='!\"#$%&()*+.,-/:;=?@[\\]^_`{|}~ ')\n",
        "# tokenizer.word_index['<pad>'] = 0\n",
        "# tokenizer.index_word[0] = '<pad>'\n",
        "tmp = [\" \".join(x) for x in x_train]\n",
        "tokenizer.fit_on_texts(tmp)"
      ],
      "execution_count": 0,
      "outputs": []
    },
    {
      "cell_type": "code",
      "metadata": {
        "id": "cBqx39IqigsM",
        "colab_type": "code",
        "colab": {}
      },
      "source": [
        "# def get_vocab(tmp):\n",
        "#   tmp = [\" \".join(x) for x in tmp]\n",
        "#   tmp = \" \".join(tmp).split()\n",
        "#   vocab = list(set(tmp))\n",
        "#   return vocab, len(vocab)\n",
        "# x_train_vocab, x_train_vocab_len = get_vocab(x_train)\n",
        "# x_valid_vocab, x_valid_vocab_len = get_vocab(x_valid)\n",
        "# x_test_vocab, x_test_vocab_len = get_vocab(x_test)\n",
        "vocabulary=list(tokenizer.word_index.keys())#get the vocabular\n",
        "vocabulary=len(vocabulary)+1#vocabsize\n",
        "# print(\"Numeric assignments, as you can see zero is reserved for padding\\n\",tokenizer.word_index,\"\\n\")\n",
        "word_index = tokenizer.word_index"
      ],
      "execution_count": 0,
      "outputs": []
    },
    {
      "cell_type": "code",
      "metadata": {
        "id": "QX-abKaBkVQM",
        "colab_type": "code",
        "colab": {}
      },
      "source": [
        "def transform(tmp):\n",
        "  train_seqs = tokenizer.texts_to_sequences([tmp])\n",
        "  padded_seqs = pad_sequences(train_seqs, padding='post', maxlen=20)\n",
        "  res = padded_seqs[0]\n",
        "  return np.array(res)\n",
        "def transform_data(tmp):\n",
        "  res = []\n",
        "  for p in tmp:\n",
        "    res += [(transform(p[0]), transform(p[1]))]\n",
        "  return res\n",
        "x_train_seqs = transform_data(x_train)\n",
        "x_test_seqs = transform_data(x_test)\n",
        "x_valid_seqs = transform_data(x_valid)"
      ],
      "execution_count": 0,
      "outputs": []
    },
    {
      "cell_type": "code",
      "metadata": {
        "id": "O4--Z2YZpT_L",
        "colab_type": "code",
        "colab": {}
      },
      "source": [
        "def separate(tmp):\n",
        "  a = np.array([x[0] for x in tmp], dtype=np.uint8)\n",
        "  b = np.array([x[1] for x in tmp])\n",
        "  return a, b\n",
        "\n",
        "x_train_seqs_1, x_train_seqs_2 = separate(x_train_seqs)\n",
        "x_test_seqs_1, x_test_seqs_2 = separate(x_test_seqs)\n",
        "x_valid_seqs_1, x_valid_seqs_2 = separate(x_valid_seqs)"
      ],
      "execution_count": 0,
      "outputs": []
    },
    {
      "cell_type": "code",
      "metadata": {
        "id": "KE72D66I94Xn",
        "colab_type": "code",
        "outputId": "5d0a8113-9cd7-4c5b-f89c-f5c15b750d29",
        "colab": {
          "base_uri": "https://localhost:8080/",
          "height": 136
        }
      },
      "source": [
        "print(x_train_seqs_2)"
      ],
      "execution_count": 0,
      "outputs": [
        {
          "output_type": "stream",
          "text": [
            "[[ 786    4 3522 ... 8967    9    8]\n",
            " [3525  955  370 ...    0    0    0]\n",
            " [  63 1013 1229 ...  248    8    0]\n",
            " ...\n",
            " [   9  705   95 ...   59 2121    3]\n",
            " [   4 1028   62 ...  148  249   34]\n",
            " [3539   67  682 ...    8    0    0]]\n"
          ],
          "name": "stdout"
        }
      ]
    },
    {
      "cell_type": "markdown",
      "metadata": {
        "id": "b-oQAyJ2HzGN",
        "colab_type": "text"
      },
      "source": [
        "Create the model in the cell below:\n",
        "Try out different sizes for LSTM 50,100,300 and use relu activations. Also report results with Bi-LSTM as well.<br>\n",
        "<i>To boost performance you can try adding a hidden layer between the lstm and output layer and also by adding a dropout layer in between different layers</i>"
      ]
    },
    {
      "cell_type": "code",
      "metadata": {
        "id": "djpj5YxDx1ib",
        "colab_type": "code",
        "outputId": "1ab797b3-83fb-4101-c529-cd4d314e1f68",
        "colab": {
          "base_uri": "https://localhost:8080/",
          "height": 34
        }
      },
      "source": [
        "#load pretrained embeddings\n",
        "EMBEDDING_DIM = 50\n",
        "embeddings_index = {}\n",
        "with open(\"glove.6B.50d.txt\") as f:\n",
        "  for line in f:\n",
        "    values = line.split()\n",
        "    word = values[0]\n",
        "    coefs = np.asarray(values[1:], dtype='float32')\n",
        "    embeddings_index[word] = coefs\n",
        "\n",
        "embedding_matrix = np.zeros((len(word_index) + 1, EMBEDDING_DIM))\n",
        "print(embedding_matrix.shape)\n",
        "for word, i in word_index.items():\n",
        "  embedding_vector = embeddings_index.get(word)\n",
        "  if embedding_vector is not None:\n",
        "    # words not found in embedding index will be all-zeros.\n",
        "    embedding_matrix[i] = embedding_vector"
      ],
      "execution_count": 0,
      "outputs": [
        {
          "output_type": "stream",
          "text": [
            "(12491, 50)\n"
          ],
          "name": "stdout"
        }
      ]
    },
    {
      "cell_type": "code",
      "metadata": {
        "id": "8FZi3ZMgHzGO",
        "colab_type": "code",
        "outputId": "1dff8f03-f441-4918-efb9-a78e44ad0399",
        "colab": {
          "base_uri": "https://localhost:8080/",
          "height": 408
        }
      },
      "source": [
        "# code model here\n",
        "inputs1 = Input(shape=(20,))\n",
        "inputs2 = Input(shape=(20,))\n",
        "shared_emb = Embedding(len(word_index) + 1, EMBEDDING_DIM, weights=[embedding_matrix], input_length=20, trainable=False)\n",
        "emb_1 = shared_emb(inputs1)\n",
        "emb_2 = shared_emb(inputs2)\n",
        "\n",
        "shared_lstm = LSTM(300, activation='relu')\n",
        "lstm_1 = shared_lstm(emb_1)\n",
        "lstm_2 = shared_lstm(emb_2)\n",
        "\n",
        "merged = tf.keras.layers.concatenate([lstm_1, lstm_2])\n",
        "output = Dense(2, activation='softmax')(merged)\n",
        "\n",
        "model = Model(inputs=[inputs1, inputs2], outputs=output)\n",
        "model.compile(loss=[\"categorical_crossentropy\"], optimizer='adam', metrics=['accuracy'])\n",
        "model.summary()"
      ],
      "execution_count": 0,
      "outputs": [
        {
          "output_type": "stream",
          "text": [
            "Model: \"model_14\"\n",
            "__________________________________________________________________________________________________\n",
            "Layer (type)                    Output Shape         Param #     Connected to                     \n",
            "==================================================================================================\n",
            "input_18 (InputLayer)           [(None, 20)]         0                                            \n",
            "__________________________________________________________________________________________________\n",
            "input_19 (InputLayer)           [(None, 20)]         0                                            \n",
            "__________________________________________________________________________________________________\n",
            "embedding_14 (Embedding)        (None, 20, 50)       624550      input_18[0][0]                   \n",
            "                                                                 input_19[0][0]                   \n",
            "__________________________________________________________________________________________________\n",
            "lstm_12 (LSTM)                  (None, 300)          421200      embedding_14[0][0]               \n",
            "                                                                 embedding_14[1][0]               \n",
            "__________________________________________________________________________________________________\n",
            "concatenate_3 (Concatenate)     (None, 600)          0           lstm_12[0][0]                    \n",
            "                                                                 lstm_12[1][0]                    \n",
            "__________________________________________________________________________________________________\n",
            "dense_14 (Dense)                (None, 2)            1202        concatenate_3[0][0]              \n",
            "==================================================================================================\n",
            "Total params: 1,046,952\n",
            "Trainable params: 422,402\n",
            "Non-trainable params: 624,550\n",
            "__________________________________________________________________________________________________\n"
          ],
          "name": "stdout"
        }
      ]
    },
    {
      "cell_type": "code",
      "metadata": {
        "id": "eChc7f86HzGV",
        "colab_type": "code",
        "colab": {}
      },
      "source": [
        "from keras.callbacks import ModelCheckpoint, EarlyStopping, CSVLogger, ReduceLROnPlateau\n",
        "filepath = \"setting_\" + \"model1\" + \".hdf5\"\n",
        "logfilepath = \"setting_\"+\"model1\" + \".csv\"\n",
        "reduce_lr_rate=0.2\n",
        "logCallback = CSVLogger(logfilepath, separator=',', append=False)\n",
        "earlyStopping = EarlyStopping(monitor='val_accuracy', min_delta=0, patience=10, verbose=0, mode='auto')\n",
        "checkpoint = ModelCheckpoint(filepath, monitor='val_accuracy', save_weights_only=True, verbose=1,\n",
        "                             save_best_only=True, mode='auto')\n",
        "reduce_lr = ReduceLROnPlateau(monitor='val_loss', factor=reduce_lr_rate, patience=10,\n",
        "                              cooldown=0, min_lr=0.0000000001, verbose=0)\n",
        "\n",
        "callbacks_list = [logCallback, earlyStopping, reduce_lr, checkpoint]\n"
      ],
      "execution_count": 0,
      "outputs": []
    },
    {
      "cell_type": "code",
      "metadata": {
        "id": "vhBSM_yZHzGa",
        "colab_type": "code",
        "outputId": "f28dec72-a975-4ea1-cb80-a9f5c879959c",
        "colab": {
          "base_uri": "https://localhost:8080/",
          "height": 1000
        }
      },
      "source": [
        "model.fit([x_train_seqs_1, x_train_seqs_2],\n",
        "          y_train_enc, \n",
        "          # callbacks=callbacks_list, \n",
        "          validation_data=([x_valid_seqs_1, x_valid_seqs_2], y_valid_enc),\n",
        "          epochs=30, batch_size=32, verbose=1,shuffle=True)"
      ],
      "execution_count": 0,
      "outputs": [
        {
          "output_type": "stream",
          "text": [
            "Epoch 1/30\n",
            "115/115 [==============================] - 16s 139ms/step - loss: 0.6038 - accuracy: 0.6884 - val_loss: 0.6145 - val_accuracy: 0.6716\n",
            "Epoch 2/30\n",
            "115/115 [==============================] - 14s 124ms/step - loss: 0.5909 - accuracy: 0.6957 - val_loss: 0.6315 - val_accuracy: 0.6642\n",
            "Epoch 3/30\n",
            "115/115 [==============================] - 14s 125ms/step - loss: 0.5771 - accuracy: 0.7007 - val_loss: 0.6191 - val_accuracy: 0.6642\n",
            "Epoch 4/30\n",
            "115/115 [==============================] - 14s 124ms/step - loss: 0.6910 - accuracy: 0.7034 - val_loss: 0.6284 - val_accuracy: 0.6691\n",
            "Epoch 5/30\n",
            "115/115 [==============================] - 16s 135ms/step - loss: 0.5722 - accuracy: 0.7097 - val_loss: 0.6188 - val_accuracy: 0.6667\n",
            "Epoch 6/30\n",
            "115/115 [==============================] - 14s 125ms/step - loss: 0.5545 - accuracy: 0.7184 - val_loss: 0.6242 - val_accuracy: 0.6814\n",
            "Epoch 7/30\n",
            "115/115 [==============================] - 15s 131ms/step - loss: 1.2144 - accuracy: 0.7118 - val_loss: 0.6174 - val_accuracy: 0.6716\n",
            "Epoch 8/30\n",
            "115/115 [==============================] - 14s 123ms/step - loss: 0.5557 - accuracy: 0.7197 - val_loss: 0.6328 - val_accuracy: 0.6716\n",
            "Epoch 9/30\n",
            "115/115 [==============================] - 14s 125ms/step - loss: 0.5254 - accuracy: 0.7413 - val_loss: 0.6239 - val_accuracy: 0.6814\n",
            "Epoch 10/30\n",
            "115/115 [==============================] - 14s 123ms/step - loss: 0.4978 - accuracy: 0.7503 - val_loss: 0.6482 - val_accuracy: 0.6642\n",
            "Epoch 11/30\n",
            "115/115 [==============================] - 15s 129ms/step - loss: 0.4805 - accuracy: 0.7655 - val_loss: 0.6748 - val_accuracy: 0.6569\n",
            "Epoch 12/30\n",
            "115/115 [==============================] - 15s 134ms/step - loss: 0.4608 - accuracy: 0.7903 - val_loss: 0.6671 - val_accuracy: 0.6618\n",
            "Epoch 13/30\n",
            "115/115 [==============================] - 16s 137ms/step - loss: 0.4130 - accuracy: 0.8086 - val_loss: 0.7449 - val_accuracy: 0.6642\n",
            "Epoch 14/30\n",
            "115/115 [==============================] - 16s 140ms/step - loss: 0.3651 - accuracy: 0.8391 - val_loss: 0.8019 - val_accuracy: 0.6348\n",
            "Epoch 15/30\n",
            "115/115 [==============================] - 16s 137ms/step - loss: 0.3070 - accuracy: 0.8670 - val_loss: 0.8578 - val_accuracy: 0.6348\n",
            "Epoch 16/30\n",
            "115/115 [==============================] - 16s 135ms/step - loss: 0.3310 - accuracy: 0.8571 - val_loss: 0.9480 - val_accuracy: 0.6544\n",
            "Epoch 17/30\n",
            "115/115 [==============================] - 16s 137ms/step - loss: 0.2621 - accuracy: 0.8879 - val_loss: 0.9544 - val_accuracy: 0.6373\n",
            "Epoch 18/30\n",
            "115/115 [==============================] - 16s 138ms/step - loss: 0.2035 - accuracy: 0.9204 - val_loss: 1.0637 - val_accuracy: 0.6422\n",
            "Epoch 19/30\n",
            "115/115 [==============================] - 17s 148ms/step - loss: 0.1564 - accuracy: 0.9438 - val_loss: 1.1213 - val_accuracy: 0.6618\n",
            "Epoch 20/30\n",
            "115/115 [==============================] - 17s 150ms/step - loss: 0.1341 - accuracy: 0.9531 - val_loss: 1.2604 - val_accuracy: 0.6225\n",
            "Epoch 21/30\n",
            "115/115 [==============================] - 16s 138ms/step - loss: 0.1158 - accuracy: 0.9588 - val_loss: 1.1996 - val_accuracy: 0.6103\n",
            "Epoch 22/30\n",
            "115/115 [==============================] - 16s 139ms/step - loss: 0.0832 - accuracy: 0.9727 - val_loss: 1.2853 - val_accuracy: 0.6495\n",
            "Epoch 23/30\n",
            "115/115 [==============================] - 16s 138ms/step - loss: 0.0680 - accuracy: 0.9793 - val_loss: 1.6374 - val_accuracy: 0.6201\n",
            "Epoch 24/30\n",
            "115/115 [==============================] - 16s 141ms/step - loss: 0.0706 - accuracy: 0.9774 - val_loss: 1.2718 - val_accuracy: 0.6544\n",
            "Epoch 25/30\n",
            "115/115 [==============================] - 16s 135ms/step - loss: 0.0579 - accuracy: 0.9812 - val_loss: 1.5727 - val_accuracy: 0.6275\n",
            "Epoch 26/30\n",
            "115/115 [==============================] - 16s 140ms/step - loss: 0.0660 - accuracy: 0.9801 - val_loss: 1.3708 - val_accuracy: 0.6520\n",
            "Epoch 27/30\n",
            "115/115 [==============================] - 15s 132ms/step - loss: 0.0417 - accuracy: 0.9888 - val_loss: 1.7895 - val_accuracy: 0.6642\n",
            "Epoch 28/30\n",
            "115/115 [==============================] - 16s 137ms/step - loss: 0.0487 - accuracy: 0.9877 - val_loss: 1.7390 - val_accuracy: 0.6422\n",
            "Epoch 29/30\n",
            "115/115 [==============================] - 16s 141ms/step - loss: 0.0346 - accuracy: 0.9910 - val_loss: 1.8679 - val_accuracy: 0.6618\n",
            "Epoch 30/30\n",
            "115/115 [==============================] - 16s 139ms/step - loss: 0.0496 - accuracy: 0.9839 - val_loss: 1.8278 - val_accuracy: 0.6397\n"
          ],
          "name": "stdout"
        },
        {
          "output_type": "execute_result",
          "data": {
            "text/plain": [
              "<tensorflow.python.keras.callbacks.History at 0x7fcb88c45b00>"
            ]
          },
          "metadata": {
            "tags": []
          },
          "execution_count": 140
        }
      ]
    },
    {
      "cell_type": "markdown",
      "metadata": {
        "id": "eUb7-MthHzGf",
        "colab_type": "text"
      },
      "source": [
        "Use the <b>model.predict</b> method to get predictions. There predictions will be a probability distribution over the lables, to get the desired class take the max value in a prediction vector as the predicted class.<br>"
      ]
    },
    {
      "cell_type": "code",
      "metadata": {
        "id": "lJrLRPQ6I_24",
        "colab_type": "code",
        "colab": {}
      },
      "source": [
        "def maxInd(x):\n",
        "  if x[0] > x[1]:\n",
        "    return 0\n",
        "  return 1\n",
        "def predict(data, model):\n",
        "  x_test_seqs = transform_data(data)\n",
        "  x_test_seqs_1, x_test_seqs_2 = separate(x_test_seqs)\n",
        "  res = model.predict([x_test_seqs_1, x_test_seqs_2])\n",
        "  res = [maxInd(x) for x in res]\n",
        "  print(res)\n",
        "  return res"
      ],
      "execution_count": 0,
      "outputs": []
    },
    {
      "cell_type": "code",
      "metadata": {
        "id": "wPQTFAUpHzGg",
        "colab_type": "code",
        "outputId": "64138488-4303-44ec-9e9a-b4164dbd633c",
        "colab": {
          "base_uri": "https://localhost:8080/",
          "height": 344
        }
      },
      "source": [
        "predictions = predict(x_test, model)\n",
        "labelList=[\"0\", \"1\"]\n",
        "\n",
        "from sklearn.metrics import confusion_matrix\n",
        "test_Y = y_test_enc\n",
        "test_Y_max=np.argmax(test_Y, axis=-1)\n",
        "cm=confusion_matrix(test_Y_max,predictions)\n",
        "cm = cm.astype('float') / cm.sum(axis=1)[:, np.newaxis]\n",
        "print(cm)\n",
        "cm = pd.DataFrame(cm, labelList,labelList )# matrix,names row,names col,\n",
        "# plt.figure(figsize=(10,7))\n",
        "sn.set(font_scale=1.4) # for label size\n",
        "sn.heatmap(cm, annot=True, annot_kws={\"size\": 11}, fmt=\".2f\") # font size\n",
        "plt.show()"
      ],
      "execution_count": 0,
      "outputs": [
        {
          "output_type": "stream",
          "text": [
            "[1, 0, 1, 0, 1, 1, 1, 1, 1, 0, 1, 1, 0, 1, 1, 1, 1, 1, 1, 1, 1, 0, 1, 1, 1, 0, 0, 0, 1, 0, 1, 1, 0, 1, 1, 1, 1, 1, 1, 1, 1, 1, 1, 0, 0, 0, 1, 0, 1, 1, 1, 0, 0, 0, 1, 1, 1, 1, 1, 1, 1, 1, 1, 1, 1, 1, 0, 1, 1, 1, 0, 1, 0, 0, 0, 0, 1, 0, 1, 1, 0, 1, 1, 0, 1, 1, 1, 0, 0, 1, 1, 1, 0, 0, 0, 1, 1, 1, 0, 0, 0, 1, 1, 0, 1, 1, 0, 1, 1, 1, 1, 0, 1, 1, 0, 1, 1, 0, 1, 1, 0, 0, 1, 1, 1, 1, 1, 1, 1, 1, 0, 1, 0, 0, 1, 1, 1, 1, 1, 1, 1, 1, 0, 1, 1, 1, 1, 0, 1, 1, 1, 1, 0, 0, 1, 1, 1, 0, 1, 1, 1, 0, 1, 0, 0, 1, 0, 1, 1, 1, 1, 1, 1, 0, 1, 1, 1, 1, 1, 1, 0, 0, 1, 1, 1, 0, 0, 1, 1, 0, 0, 0, 1, 0, 1, 1, 0, 1, 1, 1, 1, 1, 1, 1, 1, 0, 0, 0, 1, 1, 1, 0, 0, 0, 1, 1, 0, 1, 1, 1, 0, 1, 0, 1, 1, 0, 1, 1, 1, 1, 1, 1, 1, 1, 0, 0, 1, 0, 0, 1, 1, 1, 0, 1, 0, 1, 1, 0, 1, 0, 1, 1, 0, 1, 1, 1, 1, 1, 1, 0, 1, 1, 0, 1, 1, 1, 1, 1, 0, 1, 1, 1, 1, 1, 0, 1, 0, 0, 1, 1, 1, 1, 1, 1, 1, 0, 1, 0, 0, 0, 0, 0, 1, 0, 1, 1, 1, 1, 0, 1, 1, 0, 0, 1, 1, 1, 1, 1, 1, 1, 1, 1, 1, 0, 1, 1, 0, 1, 1, 1, 1, 1, 1, 0, 1, 0, 1, 0, 0, 0, 0, 1, 1, 1, 0, 1, 1, 1, 1, 1, 1, 1, 0, 1, 0, 0, 0, 1, 1, 1, 1, 1, 0, 1, 0, 1, 1, 0, 1, 0, 0, 1, 1, 1, 1, 0, 1, 1, 1, 1, 1, 1, 1, 0, 0, 1, 1, 1, 0, 0, 1, 1, 0, 1, 1, 1, 0, 0, 1, 1, 0, 0, 1, 1, 1, 1, 0, 1, 1, 1, 1, 1, 1, 1, 1, 1, 0, 1, 0, 1, 0, 0, 1, 1, 0, 1, 1, 0, 0, 1, 1, 1, 1, 1, 1, 1, 1, 1, 0, 1, 1, 1, 1, 0, 1, 1, 1, 1, 0, 0, 0, 0, 1, 1, 1, 1, 0, 1, 1, 1, 1, 1, 1, 0, 1, 0, 1, 1, 1, 0, 1, 1, 1, 1, 1, 1, 1, 1, 0, 1, 1, 1, 1, 0, 0, 0, 1, 1, 0, 0, 1, 1, 0, 1, 1, 1, 1, 1, 1, 1, 1, 0, 1, 1, 1, 0, 1, 1, 1, 1, 0, 1, 1, 1, 1, 1, 1, 1, 1, 1, 1, 1, 1, 1, 1, 0, 0, 1, 1, 0, 0, 1, 1, 1, 1, 1, 0, 0, 1, 1, 0, 0, 1, 0, 1, 1, 1, 1, 0, 1, 1, 0, 1, 1, 1, 1, 1, 0, 0, 1, 1, 1, 1, 1, 0, 1, 1, 1, 1, 1, 1, 1, 1, 0, 1, 1, 1, 1, 1, 0, 1, 1, 1, 0, 1, 1, 1, 1, 1, 1, 0, 1, 1, 0, 0, 1, 0, 0, 1, 1, 0, 1, 1, 0, 0, 0, 1, 0, 1, 1, 1, 1, 1, 1, 1, 1, 1, 1, 1, 1, 1, 1, 1, 0, 1, 1, 1, 1, 1, 1, 1, 1, 1, 0, 1, 1, 1, 1, 1, 1, 1, 0, 0, 0, 1, 1, 0, 0, 1, 1, 1, 1, 1, 1, 1, 0, 1, 1, 1, 1, 1, 1, 1, 1, 1, 1, 1, 1, 1, 1, 1, 1, 1, 1, 1, 1, 0, 0, 0, 1, 1, 1, 0, 1, 1, 0, 1, 1, 0, 1, 1, 1, 1, 1, 1, 1, 1, 0, 1, 1, 1, 1, 1, 1, 1, 1, 0, 1, 0, 1, 1, 0, 1, 1, 1, 0, 1, 1, 1, 1, 0, 1, 1, 1, 1, 0, 1, 1, 1, 0, 1, 0, 1, 1, 1, 1, 1, 0, 1, 1, 1, 1, 1, 0, 1, 1, 0, 0, 1, 1, 1, 1, 1, 0, 1, 1, 1, 1, 1, 1, 0, 1, 0, 1, 1, 1, 1, 1, 1, 1, 1, 1, 1, 1, 0, 1, 0, 1, 0, 0, 1, 0, 1, 1, 0, 1, 0, 1, 0, 1, 1, 1, 1, 1, 1, 1, 1, 1, 1, 1, 1, 1, 1, 0, 1, 1, 0, 1, 1, 1, 1, 0, 1, 0, 1, 1, 1, 0, 0, 1, 1, 1, 0, 1, 1, 1, 1, 1, 0, 1, 1, 0, 1, 1, 0, 1, 1, 1, 1, 1, 1, 1, 0, 0, 1, 1, 1, 1, 0, 0, 1, 0, 0, 1, 1, 0, 1, 0, 1, 1, 1, 1, 1, 0, 1, 0, 1, 0, 1, 1, 1, 0, 1, 1, 1, 1, 1, 1, 0, 1, 0, 0, 1, 0, 1, 1, 1, 1, 0, 1, 1, 1, 1, 1, 1, 0, 0, 1, 1, 0, 1, 1, 1, 1, 1, 0, 1, 0, 1, 1, 1, 1, 1, 1, 1, 1, 1, 1, 1, 1, 1, 1, 1, 0, 1, 1, 1, 1, 0, 1, 0, 1, 1, 1, 0, 1, 1, 1, 1, 1, 1, 0, 0, 0, 0, 1, 1, 1, 1, 1, 0, 1, 0, 1, 1, 1, 0, 0, 0, 1, 1, 0, 1, 0, 1, 1, 1, 1, 1, 1, 1, 1, 1, 0, 0, 1, 1, 0, 0, 1, 1, 0, 0, 1, 1, 1, 1, 1, 1, 0, 1, 0, 0, 1, 1, 1, 1, 1, 1, 1, 1, 1, 1, 1, 0, 1, 1, 0, 1, 0, 1, 1, 0, 1, 1, 0, 1, 1, 1, 0, 1, 1, 1, 0, 1, 0, 1, 0, 0, 0, 1, 0, 1, 1, 1, 1, 0, 1, 1, 0, 1, 0, 0, 0, 0, 1, 1, 1, 1, 1, 1, 1, 0, 1, 1, 0, 1, 1, 1, 1, 1, 0, 1, 0, 0, 1, 1, 1, 1, 1, 0, 1, 0, 1, 1, 1, 1, 1, 1, 1, 1, 1, 1, 1, 0, 1, 0, 1, 0, 1, 0, 0, 1, 0, 1, 1, 1, 0, 0, 1, 1, 0, 0, 1, 0, 0, 1, 1, 1, 1, 1, 1, 1, 1, 1, 0, 1, 1, 0, 1, 1, 1, 1, 0, 1, 1, 0, 1, 1, 1, 1, 1, 1, 1, 0, 1, 0, 0, 1, 1, 1, 1, 1, 1, 0, 1, 1, 1, 1, 1, 0, 1, 0, 1, 1, 1, 1, 1, 0, 0, 1, 0, 0, 1, 1, 1, 1, 1, 1, 1, 1, 0, 1, 1, 0, 0, 0, 1, 1, 1, 1, 1, 0, 0, 1, 1, 1, 1, 0, 1, 0, 1, 1, 1, 0, 1, 1, 1, 1, 1, 0, 0, 1, 1, 1, 1, 1, 1, 0, 0, 1, 1, 1, 0, 1, 1, 1, 1, 1, 0, 0, 0, 1, 1, 1, 1, 1, 1, 1, 0, 1, 1, 1, 0, 0, 1, 1, 1, 1, 1, 0, 1, 1, 0, 1, 1, 1, 1, 1, 1, 1, 0, 0, 1, 1, 1, 1, 0, 0, 1, 1, 0, 1, 1, 0, 1, 1, 1, 0, 0, 1, 1, 1, 0, 1, 1, 1, 1, 0, 1, 0, 0, 0, 1, 0, 1, 0, 1, 1, 1, 1, 0, 1, 1, 1, 1, 0, 1, 1, 1, 1, 0, 1, 0, 1, 1, 1, 1, 1, 1, 1, 1, 1, 1, 1, 1, 0, 1, 1, 1, 1, 1, 1, 1, 1, 1, 1, 1, 1, 0, 1, 1, 1, 1, 1, 1, 0, 0, 1, 1, 1, 1, 1, 1, 1, 0, 1, 0, 1, 1, 1, 1, 1, 1, 1, 1, 1, 0, 1, 1, 0, 1, 1, 0, 0, 1, 1, 1, 1, 1, 1, 0, 1, 0, 1, 1, 0, 0, 0, 0, 0, 0, 0, 1, 0, 1, 1, 1, 1, 1, 1, 1, 0, 1, 1, 1, 0, 1, 1, 1, 1, 1, 0, 1, 0, 1, 0, 1, 1, 0, 1, 0, 0, 1, 1, 1, 0, 1, 1, 0, 0, 1, 0, 1, 0, 1, 1, 1, 1, 1, 0, 1, 1, 1, 0, 1, 0, 1, 0, 1, 1, 1, 1, 0, 0, 1, 1, 1, 1, 0, 1, 1, 0, 1, 1, 1, 1, 1, 0, 1, 1, 1, 0, 1, 0, 1, 1, 1, 0, 1, 1, 1, 1, 1, 1, 0, 1, 0, 0, 0, 0, 0, 0, 0, 0, 1, 0, 1, 1, 0, 1, 1, 1, 1, 1, 1, 0, 1, 0, 0, 1, 1, 1, 1, 1, 0, 1, 1, 0, 0, 0, 0, 0, 1, 1, 1, 1, 1, 1, 1, 0, 1, 0, 1, 0, 1, 0, 1, 1, 1, 1, 0, 1, 0, 1, 1, 1, 1, 0, 1, 1, 0, 1, 1, 0, 1, 1, 0, 1, 0, 1, 0, 1, 1, 1, 1, 1, 1, 0, 1, 1, 0, 1, 1, 0, 1, 0, 1, 0, 1, 1, 0, 1, 0, 0, 0, 1, 0, 1, 0, 1, 0, 0, 1, 1, 1, 0, 1, 0, 1, 1, 1, 1, 1, 0, 1, 0, 0, 1, 1, 0, 1, 0, 1, 1, 1, 0, 0, 0, 0, 0, 0, 1, 1, 1, 0, 1, 1, 1, 1, 1, 1, 1, 1, 1, 1, 1, 0, 1, 1, 1, 1, 1, 0, 1, 1, 1, 1, 1, 1, 1, 0, 0, 1, 0, 1, 1, 0, 1, 0, 1, 0, 1, 1, 1, 1, 1, 1, 1, 0, 1, 1, 1, 1, 1, 1, 0, 1, 1, 1, 1, 1, 1, 1, 1, 0, 1, 1, 1, 1, 1, 0, 1, 1, 1, 1, 0, 1, 1, 1, 1, 1, 0, 0, 1, 1, 1, 0, 1, 0, 0, 0, 1, 0, 1, 1, 0, 1, 1, 1, 1, 1, 1, 1, 0, 1, 1, 1, 1, 1, 0, 1, 1, 1, 1, 0, 1, 1, 1, 1, 0, 0, 0, 1, 1]\n",
            "[[0.37543253 0.62456747]\n",
            " [0.24498692 0.75501308]]\n"
          ],
          "name": "stdout"
        },
        {
          "output_type": "display_data",
          "data": {
            "image/png": "[encoded data removed]",
            "text/plain": [
              "<Figure size 432x288 with 2 Axes>"
            ]
          },
          "metadata": {
            "tags": []
          }
        }
      ]
    },
    {
      "cell_type": "code",
      "metadata": {
        "id": "Kc8gGQsEHzGk",
        "colab_type": "code",
        "outputId": "7a1eea9a-9c35-498f-d134-bbc8f19dcca5",
        "colab": {
          "base_uri": "https://localhost:8080/",
          "height": 187
        }
      },
      "source": [
        "print(\"Classification Report\\n\",classification_report(test_Y_max, predictions, labels=[0,1], target_names = labelList, zero_division=0))"
      ],
      "execution_count": 0,
      "outputs": [
        {
          "output_type": "stream",
          "text": [
            "Classification Report\n",
            "               precision    recall  f1-score   support\n",
            "\n",
            "           0       0.44      0.38      0.40       578\n",
            "           1       0.71      0.76      0.73      1147\n",
            "\n",
            "    accuracy                           0.63      1725\n",
            "   macro avg       0.57      0.57      0.57      1725\n",
            "weighted avg       0.62      0.63      0.62      1725\n",
            "\n"
          ],
          "name": "stdout"
        }
      ]
    },
    {
      "cell_type": "markdown",
      "metadata": {
        "id": "qhBkQgmUZd-i",
        "colab_type": "text"
      },
      "source": [
        "# Model with BiLSTM"
      ]
    },
    {
      "cell_type": "code",
      "metadata": {
        "id": "AAWX_Vm_WKXD",
        "colab_type": "code",
        "outputId": "c04af72f-2b1b-4406-84e0-9e67e2d3a603",
        "colab": {
          "base_uri": "https://localhost:8080/",
          "height": 734
        }
      },
      "source": [
        "inputs1 = Input(shape=(20,))\n",
        "inputs2 = Input(shape=(20,))\n",
        "shared_emb = Embedding(len(word_index) + 1, EMBEDDING_DIM, weights=[embedding_matrix], input_length=20, trainable=False)\n",
        "emb_1 = shared_emb(inputs1)\n",
        "emb_2 = shared_emb(inputs2)\n",
        "\n",
        "shared_lstm = Bidirectional(LSTM(300, activation='relu'))\n",
        "lstm_1 = shared_lstm(emb_1)\n",
        "lstm_2 = shared_lstm(emb_2)\n",
        "\n",
        "merged = tf.keras.layers.concatenate([lstm_1, lstm_2])\n",
        "output = Dense(2, activation='softmax')(merged)\n",
        "\n",
        "model = Model(inputs=[inputs1, inputs2], outputs=output)\n",
        "model.compile(loss=[\"categorical_crossentropy\"], optimizer='adam', metrics=['accuracy'])\n",
        "# model.summary()\n",
        "\n",
        "model.fit([x_train_seqs_1, x_train_seqs_2],\n",
        "          y_train_enc, \n",
        "          # callbacks=callbacks_list, \n",
        "          validation_data=([x_valid_seqs_1, x_valid_seqs_2], y_valid_enc),\n",
        "          epochs=20, batch_size=32, verbose=1,shuffle=True)"
      ],
      "execution_count": 0,
      "outputs": [
        {
          "output_type": "stream",
          "text": [
            "Epoch 1/20\n",
            "115/115 [==============================] - 30s 262ms/step - loss: 0.6031 - accuracy: 0.6854 - val_loss: 0.6222 - val_accuracy: 0.6618\n",
            "Epoch 2/20\n",
            "115/115 [==============================] - 30s 261ms/step - loss: 0.5805 - accuracy: 0.7061 - val_loss: 0.6208 - val_accuracy: 0.6691\n",
            "Epoch 3/20\n",
            "115/115 [==============================] - 30s 257ms/step - loss: 0.5735 - accuracy: 0.7208 - val_loss: 0.6082 - val_accuracy: 0.6789\n",
            "Epoch 4/20\n",
            "115/115 [==============================] - 30s 259ms/step - loss: 0.5534 - accuracy: 0.7293 - val_loss: 0.6030 - val_accuracy: 0.6838\n",
            "Epoch 5/20\n",
            "115/115 [==============================] - 29s 254ms/step - loss: 0.5191 - accuracy: 0.7410 - val_loss: 0.6262 - val_accuracy: 0.6789\n",
            "Epoch 6/20\n",
            "115/115 [==============================] - 30s 259ms/step - loss: 0.4985 - accuracy: 0.7628 - val_loss: 0.6093 - val_accuracy: 0.6789\n",
            "Epoch 7/20\n",
            "115/115 [==============================] - 30s 265ms/step - loss: 0.4683 - accuracy: 0.7822 - val_loss: 0.7893 - val_accuracy: 0.6912\n",
            "Epoch 8/20\n",
            "115/115 [==============================] - 30s 260ms/step - loss: 0.4363 - accuracy: 0.8053 - val_loss: 0.6139 - val_accuracy: 0.6740\n",
            "Epoch 9/20\n",
            "115/115 [==============================] - 30s 264ms/step - loss: 0.3864 - accuracy: 0.8402 - val_loss: 0.6514 - val_accuracy: 0.6716\n",
            "Epoch 10/20\n",
            "115/115 [==============================] - 30s 261ms/step - loss: 0.3275 - accuracy: 0.8580 - val_loss: 0.7538 - val_accuracy: 0.6667\n",
            "Epoch 11/20\n",
            "115/115 [==============================] - 30s 264ms/step - loss: 0.2505 - accuracy: 0.8991 - val_loss: 1.0850 - val_accuracy: 0.6789\n",
            "Epoch 12/20\n",
            "115/115 [==============================] - 30s 262ms/step - loss: 0.1863 - accuracy: 0.9370 - val_loss: 0.9547 - val_accuracy: 0.6642\n",
            "Epoch 13/20\n",
            "115/115 [==============================] - 29s 255ms/step - loss: 0.1566 - accuracy: 0.9460 - val_loss: 1.2260 - val_accuracy: 0.6716\n",
            "Epoch 14/20\n",
            "115/115 [==============================] - 32s 280ms/step - loss: 0.1051 - accuracy: 0.9700 - val_loss: 1.2374 - val_accuracy: 0.6618\n",
            "Epoch 15/20\n",
            "115/115 [==============================] - 30s 257ms/step - loss: 0.0811 - accuracy: 0.9793 - val_loss: 1.3300 - val_accuracy: 0.6691\n",
            "Epoch 16/20\n",
            "115/115 [==============================] - 30s 259ms/step - loss: 0.0879 - accuracy: 0.9757 - val_loss: 1.2853 - val_accuracy: 0.6495\n",
            "Epoch 17/20\n",
            "115/115 [==============================] - 30s 263ms/step - loss: 0.0613 - accuracy: 0.9842 - val_loss: 1.2546 - val_accuracy: 0.6422\n",
            "Epoch 18/20\n",
            "115/115 [==============================] - 30s 260ms/step - loss: 0.0444 - accuracy: 0.9888 - val_loss: 1.2865 - val_accuracy: 0.6569\n",
            "Epoch 19/20\n",
            "115/115 [==============================] - 30s 258ms/step - loss: 0.0484 - accuracy: 0.9877 - val_loss: 1.2467 - val_accuracy: 0.6569\n",
            "Epoch 20/20\n",
            "115/115 [==============================] - 30s 263ms/step - loss: 0.0468 - accuracy: 0.9902 - val_loss: 1.4383 - val_accuracy: 0.6667\n"
          ],
          "name": "stdout"
        },
        {
          "output_type": "execute_result",
          "data": {
            "text/plain": [
              "<tensorflow.python.keras.callbacks.History at 0x7fcb9d4dbeb8>"
            ]
          },
          "metadata": {
            "tags": []
          },
          "execution_count": 147
        }
      ]
    },
    {
      "cell_type": "code",
      "metadata": {
        "id": "IyqmQ64DaI57",
        "colab_type": "code",
        "outputId": "01b7310f-c9c5-43f9-8ccc-670f3e7a76c3",
        "colab": {
          "base_uri": "https://localhost:8080/",
          "height": 514
        }
      },
      "source": [
        "predictions = predict(x_test, model)\n",
        "labelList=[\"0\", \"1\"]\n",
        "\n",
        "from sklearn.metrics import confusion_matrix\n",
        "test_Y = y_test_enc\n",
        "test_Y_max=np.argmax(test_Y, axis=-1)\n",
        "cm=confusion_matrix(test_Y_max,predictions)\n",
        "cm = cm.astype('float') / cm.sum(axis=1)[:, np.newaxis]\n",
        "print(cm)\n",
        "cm = pd.DataFrame(cm, labelList,labelList )# matrix,names row,names col,\n",
        "# plt.figure(figsize=(10,7))\n",
        "sn.set(font_scale=1.4) # for label size\n",
        "sn.heatmap(cm, annot=True, annot_kws={\"size\": 11}, fmt=\".2f\") # font size\n",
        "plt.show()\n",
        "\n",
        "print(\"Classification Report\\n\",classification_report(test_Y_max, predictions, labels=[0,1], target_names = labelList, zero_division=0))\n"
      ],
      "execution_count": 0,
      "outputs": [
        {
          "output_type": "stream",
          "text": [
            "[0, 0, 1, 1, 1, 1, 1, 1, 1, 0, 1, 0, 0, 1, 1, 0, 1, 1, 0, 1, 1, 1, 1, 1, 0, 0, 0, 0, 1, 0, 1, 1, 0, 1, 1, 1, 1, 1, 1, 1, 1, 1, 0, 1, 0, 0, 1, 0, 1, 1, 1, 1, 0, 0, 1, 1, 1, 1, 1, 1, 1, 1, 1, 1, 1, 1, 0, 1, 1, 1, 0, 1, 0, 0, 1, 0, 0, 1, 1, 1, 1, 0, 0, 0, 1, 1, 0, 0, 0, 1, 1, 1, 1, 0, 1, 1, 1, 1, 0, 1, 1, 1, 1, 1, 1, 0, 1, 1, 1, 1, 1, 0, 0, 1, 0, 1, 1, 0, 1, 1, 1, 1, 1, 1, 1, 0, 1, 0, 1, 1, 1, 1, 0, 0, 1, 1, 0, 0, 1, 0, 1, 1, 1, 1, 1, 1, 1, 1, 1, 1, 1, 0, 1, 1, 1, 1, 1, 0, 1, 1, 1, 1, 1, 0, 1, 1, 0, 1, 1, 1, 1, 1, 1, 1, 1, 0, 0, 0, 1, 1, 0, 0, 0, 1, 1, 0, 1, 1, 1, 1, 0, 1, 1, 1, 0, 1, 0, 1, 1, 1, 1, 1, 1, 1, 1, 0, 1, 1, 0, 1, 1, 1, 1, 0, 1, 1, 1, 1, 1, 1, 1, 0, 0, 1, 1, 1, 1, 1, 1, 1, 1, 0, 1, 1, 0, 1, 1, 1, 1, 1, 1, 0, 0, 1, 1, 1, 1, 1, 1, 1, 1, 1, 0, 1, 1, 1, 1, 1, 1, 0, 1, 1, 1, 1, 1, 1, 1, 1, 1, 1, 0, 0, 0, 1, 1, 0, 0, 1, 1, 0, 1, 1, 1, 1, 0, 1, 1, 1, 0, 1, 1, 1, 0, 0, 1, 1, 0, 1, 0, 1, 1, 0, 0, 1, 1, 1, 1, 0, 1, 1, 1, 1, 0, 0, 1, 1, 0, 1, 1, 0, 1, 1, 1, 0, 1, 0, 1, 1, 0, 0, 0, 1, 1, 1, 1, 0, 1, 1, 1, 1, 1, 1, 1, 1, 1, 0, 0, 1, 1, 0, 0, 1, 0, 1, 1, 1, 1, 0, 1, 0, 1, 1, 0, 1, 1, 0, 1, 1, 0, 0, 1, 0, 1, 1, 1, 1, 0, 1, 0, 1, 0, 0, 0, 1, 1, 1, 1, 1, 1, 1, 1, 1, 1, 0, 1, 1, 1, 0, 1, 0, 1, 1, 1, 1, 0, 1, 0, 1, 1, 1, 0, 0, 1, 1, 1, 0, 1, 0, 1, 1, 0, 1, 1, 0, 1, 0, 0, 1, 0, 1, 1, 1, 1, 1, 0, 1, 1, 0, 1, 1, 1, 0, 1, 0, 1, 1, 1, 1, 0, 1, 1, 1, 1, 0, 1, 0, 1, 1, 1, 1, 0, 1, 1, 1, 1, 1, 1, 0, 1, 1, 1, 1, 1, 1, 0, 0, 1, 1, 1, 0, 1, 1, 0, 1, 1, 1, 1, 1, 1, 1, 0, 1, 1, 1, 1, 1, 1, 1, 1, 0, 0, 1, 1, 1, 0, 1, 1, 0, 1, 1, 1, 1, 1, 1, 1, 1, 0, 1, 1, 0, 0, 0, 1, 0, 1, 1, 0, 1, 0, 1, 0, 0, 1, 0, 1, 1, 1, 1, 0, 1, 1, 0, 0, 1, 1, 1, 1, 0, 1, 1, 1, 1, 1, 1, 0, 1, 1, 0, 1, 1, 1, 0, 1, 0, 1, 1, 1, 1, 1, 1, 1, 1, 1, 0, 1, 0, 1, 1, 1, 0, 0, 0, 1, 1, 0, 0, 1, 0, 1, 1, 1, 1, 1, 0, 0, 1, 1, 0, 1, 1, 1, 1, 1, 1, 0, 1, 0, 0, 1, 1, 1, 1, 0, 0, 1, 1, 1, 1, 1, 1, 1, 1, 1, 1, 0, 1, 0, 1, 0, 1, 1, 0, 0, 0, 0, 1, 0, 1, 1, 1, 1, 1, 1, 0, 0, 0, 1, 1, 1, 1, 1, 1, 1, 1, 1, 1, 1, 1, 1, 1, 1, 1, 1, 1, 1, 1, 1, 0, 0, 1, 0, 1, 1, 1, 0, 0, 1, 1, 1, 1, 0, 1, 1, 1, 0, 1, 1, 0, 1, 1, 1, 0, 1, 1, 1, 1, 0, 1, 0, 0, 0, 0, 1, 1, 0, 0, 0, 1, 1, 1, 0, 1, 0, 1, 0, 0, 1, 1, 1, 0, 1, 1, 1, 0, 1, 1, 1, 1, 0, 1, 1, 1, 1, 0, 1, 1, 0, 0, 1, 0, 0, 1, 1, 0, 1, 1, 1, 0, 1, 1, 0, 1, 0, 1, 1, 1, 0, 1, 1, 1, 1, 0, 1, 1, 1, 1, 1, 1, 0, 0, 0, 0, 1, 0, 0, 1, 0, 1, 0, 1, 1, 1, 1, 1, 1, 1, 1, 0, 1, 1, 1, 0, 1, 0, 1, 1, 0, 1, 1, 1, 1, 0, 1, 0, 1, 1, 1, 1, 1, 1, 1, 1, 0, 1, 1, 0, 1, 1, 0, 1, 0, 1, 0, 1, 0, 1, 1, 1, 0, 1, 1, 1, 0, 0, 1, 1, 1, 1, 0, 1, 0, 0, 1, 1, 1, 0, 1, 0, 0, 1, 1, 1, 1, 0, 0, 0, 1, 0, 1, 1, 0, 1, 1, 1, 1, 1, 1, 1, 0, 1, 0, 0, 0, 1, 1, 1, 1, 0, 1, 1, 1, 1, 1, 1, 1, 0, 0, 1, 1, 1, 0, 1, 1, 1, 0, 1, 0, 0, 1, 1, 1, 1, 1, 1, 0, 1, 1, 1, 1, 1, 1, 1, 0, 0, 1, 1, 1, 1, 0, 1, 1, 1, 1, 1, 0, 1, 1, 1, 1, 0, 1, 0, 0, 1, 0, 1, 1, 1, 1, 1, 1, 1, 0, 1, 1, 1, 1, 0, 1, 1, 1, 0, 1, 1, 1, 0, 1, 1, 1, 1, 1, 1, 1, 0, 0, 1, 1, 1, 1, 1, 1, 0, 1, 1, 1, 1, 1, 1, 1, 0, 0, 0, 0, 1, 0, 1, 0, 1, 1, 1, 1, 1, 0, 1, 1, 1, 1, 0, 1, 1, 1, 1, 0, 1, 1, 0, 1, 1, 1, 0, 0, 0, 1, 0, 1, 0, 0, 1, 1, 0, 1, 1, 1, 0, 1, 1, 0, 1, 1, 1, 1, 1, 0, 1, 0, 1, 1, 1, 1, 1, 1, 1, 1, 0, 1, 1, 1, 1, 1, 1, 1, 0, 1, 0, 1, 0, 1, 1, 1, 0, 0, 1, 0, 1, 0, 0, 1, 1, 1, 1, 1, 1, 0, 0, 1, 1, 1, 1, 1, 1, 0, 0, 1, 1, 1, 1, 1, 1, 1, 1, 1, 1, 1, 1, 1, 1, 1, 1, 1, 1, 1, 1, 1, 1, 1, 0, 1, 1, 0, 0, 1, 1, 1, 0, 1, 1, 0, 1, 1, 1, 1, 0, 1, 1, 1, 1, 0, 1, 1, 1, 1, 1, 1, 1, 1, 0, 1, 1, 1, 1, 0, 1, 0, 0, 1, 1, 0, 1, 1, 1, 1, 0, 0, 1, 1, 1, 0, 1, 1, 1, 1, 1, 1, 1, 1, 0, 0, 1, 1, 1, 1, 1, 1, 1, 1, 1, 1, 1, 1, 1, 0, 1, 0, 1, 1, 1, 1, 1, 1, 1, 0, 1, 1, 1, 1, 1, 1, 0, 1, 1, 1, 1, 1, 1, 0, 1, 1, 1, 0, 0, 0, 0, 1, 1, 1, 1, 1, 1, 1, 0, 1, 0, 1, 0, 1, 1, 1, 1, 1, 1, 0, 0, 1, 1, 1, 0, 1, 1, 1, 1, 1, 1, 1, 1, 0, 1, 1, 1, 0, 0, 1, 1, 1, 1, 1, 1, 1, 1, 0, 0, 1, 1, 1, 0, 0, 0, 1, 1, 0, 1, 1, 1, 0, 1, 1, 1, 0, 0, 0, 1, 0, 0, 1, 1, 0, 1, 0, 0, 1, 1, 1, 0, 0, 1, 1, 0, 0, 1, 1, 0, 1, 1, 1, 1, 1, 1, 0, 1, 1, 1, 1, 1, 1, 1, 1, 1, 1, 1, 0, 1, 1, 1, 1, 0, 1, 1, 1, 1, 1, 1, 1, 1, 1, 1, 1, 0, 0, 0, 1, 1, 1, 1, 1, 1, 1, 1, 1, 1, 1, 1, 0, 1, 1, 0, 0, 1, 0, 0, 1, 1, 1, 1, 0, 1, 0, 0, 0, 1, 1, 1, 0, 1, 0, 1, 0, 1, 0, 1, 1, 1, 1, 1, 0, 1, 1, 1, 0, 1, 1, 1, 1, 1, 1, 1, 1, 1, 0, 1, 1, 1, 1, 1, 1, 1, 1, 1, 1, 1, 0, 0, 0, 0, 0, 1, 0, 1, 1, 0, 1, 1, 1, 1, 1, 1, 1, 1, 0, 1, 0, 1, 1, 1, 1, 1, 1, 0, 1, 1, 1, 1, 1, 1, 1, 0, 1, 1, 1, 1, 0, 1, 1, 1, 0, 1, 1, 1, 1, 1, 1, 1, 1, 0, 1, 0, 1, 0, 1, 0, 0, 0, 1, 0, 0, 1, 0, 0, 1, 1, 1, 0, 1, 0, 1, 0, 0, 1, 0, 1, 0, 0, 0, 1, 1, 1, 1, 1, 1, 1, 0, 1, 1, 0, 0, 1, 1, 1, 1, 1, 1, 1, 1, 1, 0, 1, 0, 1, 0, 0, 1, 1, 1, 0, 1, 0, 1, 1, 1, 0, 0, 1, 1, 1, 1, 1, 0, 1, 1, 0, 0, 0, 1, 1, 1, 1, 0, 1, 1, 0, 0, 1, 1, 0, 1, 1, 1, 1, 1, 1, 0, 1, 1, 1, 1, 0, 0, 0, 1, 1, 1, 1, 0, 0, 0, 1, 1, 1, 1, 0, 1, 1, 1, 1, 0, 1, 0, 1, 0, 1, 1, 0, 1, 1, 1, 1, 1, 1, 1, 1, 0, 0, 1, 1, 1, 0, 1, 1, 1, 0, 1, 1, 1, 0, 1, 1, 1, 1, 1, 1, 1, 1, 1, 1, 1, 1, 1, 1, 1, 1, 0, 0, 1, 0, 0, 1, 1, 1, 1, 0, 0, 0, 1, 1, 1, 1, 1, 1, 1, 1, 1, 1, 1, 1, 1, 1, 1, 0, 1, 1, 1, 0, 1, 1, 1, 1, 1, 1, 1, 1, 1, 1, 1, 1, 1, 1, 0, 1, 1, 0, 1, 1, 1, 1, 1, 0, 0, 1, 1, 0, 1, 1, 0, 1, 1, 0, 1, 1, 1, 1, 1, 1, 0, 1, 1, 0, 0, 1, 1, 0, 1, 1, 1, 1, 1, 0, 0, 0, 1, 1, 1, 1, 1, 1, 0, 1, 1]\n",
            "[[0.36678201 0.63321799]\n",
            " [0.23975588 0.76024412]]\n"
          ],
          "name": "stdout"
        },
        {
          "output_type": "display_data",
          "data": {
            "image/png": "[encoded data removed]",
            "text/plain": [
              "<Figure size 432x288 with 2 Axes>"
            ]
          },
          "metadata": {
            "tags": []
          }
        },
        {
          "output_type": "stream",
          "text": [
            "Classification Report\n",
            "               precision    recall  f1-score   support\n",
            "\n",
            "           0       0.44      0.37      0.40       578\n",
            "           1       0.70      0.76      0.73      1147\n",
            "\n",
            "    accuracy                           0.63      1725\n",
            "   macro avg       0.57      0.56      0.56      1725\n",
            "weighted avg       0.61      0.63      0.62      1725\n",
            "\n"
          ],
          "name": "stdout"
        }
      ]
    },
    {
      "cell_type": "markdown",
      "metadata": {
        "id": "4-vGIXH9HzGs",
        "colab_type": "text"
      },
      "source": [
        "# Task 2 Sentiment Classification\n",
        "For this task we will be reusing the movie reviews dataset available on <a href=\"https://www.kaggle.com/c/word2vec-nlp-tutorial/data\">kaggle</a> and download the dataset from there. \n",
        "We will be using the unlabeledTrainData file and labeledTrainData file. We will use the gensim package to train word2vec embeddings using [gensim](https://radimrehurek.com/gensim/) package and unlabelled train data as in the previous assignmnet. Now instead for creating a single representation for each review we will be using deep learning models for this task. We will use the same archetecture as before but will experiment with different reccurant networks namely RNN, GRU and LSTM.<br> This task might feel like <a href=\"https://ibb.co/Tgh2XyH\">this</a> but since this is a deep learning assignment thus we must use it.\n",
        "<h3>Data Preperation</h3>\n",
        "<ul>\n",
        "    <li> First we need to preprocess the data, convert the data to lower casing(both files). Any other preprocessing procedures are optional but keep in mind that this will affect the performance of your model.</li>\n",
        "    <li> Split the labeledTrainData data file into test, train and validation in the ratio 20,70,10. Use <a href=\"https://scikit-learn.org/stable/modules/generated/sklearn.model_selection.train_test_split.html\">scikit_test_train_split</a> <br><i><b>Hint:</b> use the splitter twice to get desired data splits.</i></li>\n",
        "    <li> Next we need the vocabulary, vocabulary size and to convert sentences to numeric sequences by representing each word with a numeric value which will make our implementation easier later on, use <a href=\"https://www.tensorflow.org/api_docs/python/tf/keras/preprocessing/text/Tokenizer\">Tokenizer</a> from keras. <br><i>(Fit the tokenizer on train data and use the same tokenizer to convert train,test and validation data to numeric sequences)</i> </li>\n",
        "    <li>  Use <a href=\"https://www.tensorflow.org/api_docs/python/tf/keras/preprocessing/sequence/pad_sequences\"> pad sequences</a> to add post padding to all sentences that are shorter than maximum sequence length</li>\n",
        "    <li> Use one hot representation for targets/labels, you can use <a href=\"https://scikit-learn.org/stable/modules/generated/sklearn.preprocessing.OneHotEncoder.html\">scikit learn</a> or <a href=\"https://www.tensorflow.org/api_docs/python/tf/keras/preprocessing\">keras preprocessing</a>.</li>\n",
        "</ul>\n",
        "<h3>Loading embeddings</h3>\n",
        "<ul>\n",
        "    <li> As state before use the gensim package to train the word2vec model on unlabelledTrainData file</li>\n",
        "    <li> Next we will create a dictionary for our dataset's vocabulary. Copy all the word embeddings for words that are in our vocabulary and in the word2vec model, if a word exists in our vocabulary but does not exist in word2vec model create a zero vector of embedding dimension size and add it to the dictionary.</li>\n",
        "</ul>\n",
        "<h3>Create Model</h3>\n",
        "<ul>\n",
        "    <li> Here is a visual for the model <img src=\"sentimentdeep.png\">\n",
        "    <li> Create the model using <a href\"https://www.tensorflow.org/guide/keras/functional\">functional API</a> or the <a href=\"https://www.tensorflow.org/api_docs/python/tf/keras/Sequential\">Sequential API</a></li>\n",
        "    <li> Hints: The emebedding layer has a parameter that allows you to use pretrained embeddings</li>\n",
        "\n"
      ]
    },
    {
      "cell_type": "markdown",
      "metadata": {
        "id": "99MklsScHzGt",
        "colab_type": "text"
      },
      "source": [
        "Use can reuse the code snippets from above for call backs, prediction heat map and classification report\n",
        "<i>You will have provide a label list for this specific dataset inorder for them to run, you are to make the required changes yourself</i>"
      ]
    },
    {
      "cell_type": "code",
      "metadata": {
        "id": "LdEyeu1NHzGu",
        "colab_type": "code",
        "outputId": "d4eed361-ad3d-436a-f645-a69f54c7772d",
        "colab": {
          "base_uri": "https://localhost:8080/",
          "height": 85
        }
      },
      "source": [
        "# !unzip \"/content/drive/My Drive/Colab Notebooks/labeledTrainData.tsv.zip\"\n",
        "# !unzip \"/content/drive/My Drive/Colab Notebooks/unlabeledTrainData.tsv.zip\""
      ],
      "execution_count": 0,
      "outputs": [
        {
          "output_type": "stream",
          "text": [
            "Archive:  /content/drive/My Drive/Colab Notebooks/labeledTrainData.tsv.zip\n",
            "  inflating: labeledTrainData.tsv    \n",
            "Archive:  /content/drive/My Drive/Colab Notebooks/unlabeledTrainData.tsv.zip\n",
            "  inflating: unlabeledTrainData.tsv  \n"
          ],
          "name": "stdout"
        }
      ]
    },
    {
      "cell_type": "code",
      "metadata": {
        "id": "Xb16wLD7HzG2",
        "colab_type": "code",
        "colab": {}
      },
      "source": [
        "import re\n",
        "def preprocess(tweet):\n",
        "    processed_data = tweet.lower()\n",
        "    processed_data = re.sub(\"@[\\S]+\", \"AT_TOKEN\", processed_data)\n",
        "    processed_data = re.sub(\"[#]\", \"\", processed_data)\n",
        "    processed_data = re.sub(\"<.*>\", \"\", processed_data)\n",
        "    processed_data = re.sub(\"[^a-zA-Z0-9\\s_]\", \" \", processed_data)\n",
        "    processed_data = re.sub(\"[\\s]+\", \" \", processed_data)\n",
        "    processed_data = re.sub(\"[_]{2,10}\", \"\", processed_data)\n",
        "    processed_data = processed_data.split(\" \")\n",
        "    return [x for x in processed_data if len(x) > 2]"
      ],
      "execution_count": 0,
      "outputs": []
    },
    {
      "cell_type": "code",
      "metadata": {
        "id": "mh0hZ48GHzGz",
        "colab_type": "code",
        "colab": {}
      },
      "source": [
        "import pandas as pd\n",
        "data = pd.read_csv(\"unlabeledTrainData.tsv\", header=0, delimiter=\"\\t\", quoting=3)\n",
        "unlabaled_reviews = [preprocess(x) for x in data['review']]\n",
        "\n",
        "data = pd.read_csv(\"labeledTrainData.tsv\", header=0, delimiter=\"\\t\", quoting=3)\n",
        "X = [preprocess(x) for x in data['review']]\n",
        "Y = [str(x) for x in data['sentiment']]"
      ],
      "execution_count": 0,
      "outputs": []
    },
    {
      "cell_type": "code",
      "metadata": {
        "id": "BAlz9S_DeWVj",
        "colab_type": "code",
        "outputId": "c797a0fd-d50f-4367-f94d-d7840a19d516",
        "colab": {
          "base_uri": "https://localhost:8080/",
          "height": 34
        }
      },
      "source": [
        "def get_distribution(data):\n",
        "  dist = {}\n",
        "  for point in data:\n",
        "    for token in point:\n",
        "      if token in dist:\n",
        "        dist[token] += 1\n",
        "      else: dist[token] = 1\n",
        "  return dist\n",
        "def handle_unks(data):\n",
        "  dist = get_distribution(data)\n",
        "  print(len(dist))\n",
        "  for i, point in enumerate(data):\n",
        "    for j, token in enumerate(point):\n",
        "      if dist[token] == 1:\n",
        "        data[i][j] = 'UNK'\n",
        "  return data\n",
        "\n",
        "unlabaled_reviews = handle_unks(unlabaled_reviews)"
      ],
      "execution_count": 0,
      "outputs": [
        {
          "output_type": "stream",
          "text": [
            "81138\n"
          ],
          "name": "stdout"
        }
      ]
    },
    {
      "cell_type": "code",
      "metadata": {
        "id": "AyDuNXMppeAj",
        "colab_type": "code",
        "colab": {}
      },
      "source": [
        "x_train, x_test, y_train, y_test = train_test_split(X, Y, test_size=0.2, random_state=0)\n",
        "x_train, x_valid, y_train, y_valid = train_test_split(x_train, y_train, test_size=0.125, random_state=0)"
      ],
      "execution_count": 0,
      "outputs": []
    },
    {
      "cell_type": "code",
      "metadata": {
        "id": "tPlhmIDgeWSb",
        "colab_type": "code",
        "colab": {}
      },
      "source": [
        "import gensim\n",
        "def trainWord2Vec(data):\n",
        "  \"\"\"\n",
        "  Return preprocessed data\n",
        "\n",
        "  Args:\n",
        "      data : movie reviews\n",
        "\n",
        "  Returns: model\n",
        "  model : Word2Vec model \n",
        "  \"\"\"\n",
        "  emb_len = 300\n",
        "  model = gensim.models.Word2Vec(sentences=data, size = emb_len, window=2, min_count=1)\n",
        "  return model\n",
        "w2v_model = trainWord2Vec(unlabaled_reviews)"
      ],
      "execution_count": 0,
      "outputs": []
    },
    {
      "cell_type": "code",
      "metadata": {
        "id": "3VDtekcKhquO",
        "colab_type": "code",
        "outputId": "7007fa58-84d9-44da-b6d6-23801dfd2150",
        "colab": {
          "base_uri": "https://localhost:8080/",
          "height": 34
        }
      },
      "source": [
        "#making a dictionary\n",
        "embeddings_dictionary = {}\n",
        "for review in unlabaled_reviews:\n",
        "  for word in review:\n",
        "    if word not in embeddings_dictionary:\n",
        "      if word in w2v_model.wv:\n",
        "        embeddings_dictionary[word] = w2v_model.wv[word]\n",
        "      else:\n",
        "        embeddings_dictionary[word] = [0]*300\n",
        "print(len(embeddings_dictionary))"
      ],
      "execution_count": 0,
      "outputs": [
        {
          "output_type": "stream",
          "text": [
            "49304\n"
          ],
          "name": "stdout"
        }
      ]
    },
    {
      "cell_type": "code",
      "metadata": {
        "id": "pgbRYKdDhq0N",
        "colab_type": "code",
        "outputId": "a0edca87-d3c7-444d-e170-6898e8d120f1",
        "colab": {
          "base_uri": "https://localhost:8080/",
          "height": 34
        }
      },
      "source": [
        "tokenizer = Tokenizer(oov_token=\"<unk>\", filters='!\"#$%&()*+.,-/:;=?@[\\]^_`{|}~ ')\n",
        "tokenizer.fit_on_texts(x_train)\n",
        "word_index = tokenizer.word_index\n",
        "\n",
        "#load pretrained embeddings\n",
        "EMBEDDING_DIM = 300\n",
        "embeddings_index = embeddings_dictionary\n",
        "\n",
        "embedding_matrix = np.zeros((len(word_index) + 1, EMBEDDING_DIM))\n",
        "print(embedding_matrix.shape)\n",
        "for word, i in word_index.items():\n",
        "  embedding_vector = embeddings_index.get(word)\n",
        "  if embedding_vector is not None:\n",
        "    # words not found in embedding index will be all-zeros.\n",
        "    embedding_matrix[i] = embedding_vector"
      ],
      "execution_count": 0,
      "outputs": [
        {
          "output_type": "stream",
          "text": [
            "(50733, 300)\n"
          ],
          "name": "stdout"
        }
      ]
    },
    {
      "cell_type": "code",
      "metadata": {
        "id": "Bt2XclTnk-wY",
        "colab_type": "code",
        "colab": {}
      },
      "source": [
        "def transform(tmp):\n",
        "  train_seqs = tokenizer.texts_to_sequences([tmp])\n",
        "  padded_seqs = pad_sequences(train_seqs, padding='post', maxlen=20)\n",
        "  res = padded_seqs[0]\n",
        "  return res\n",
        "def transform_data(tmp):\n",
        "  res = []\n",
        "  for p in tmp:\n",
        "    res += [transform(p)]\n",
        "  return res\n",
        "x_train_seqs = np.array(transform_data(x_train))\n",
        "x_test_seqs = np.array(transform_data(x_test))\n",
        "x_valid_seqs = np.array(transform_data(x_valid))"
      ],
      "execution_count": 0,
      "outputs": []
    },
    {
      "cell_type": "code",
      "metadata": {
        "id": "AbtHUGeI2tjN",
        "colab_type": "code",
        "outputId": "8e24bfe0-c1d5-4254-aae2-da94d5077d58",
        "colab": {
          "base_uri": "https://localhost:8080/",
          "height": 34
        }
      },
      "source": [
        "print(x_train_seqs.shape)"
      ],
      "execution_count": 0,
      "outputs": [
        {
          "output_type": "stream",
          "text": [
            "(17500, 20)\n"
          ],
          "name": "stdout"
        }
      ]
    },
    {
      "cell_type": "code",
      "metadata": {
        "id": "HvZoYXDHsFIf",
        "colab_type": "code",
        "colab": {}
      },
      "source": [
        "encod = {\n",
        "    \"1\": [0, 1],\n",
        "    \"0\": [1, 0]\n",
        "}\n",
        "y_train_enc = np.array([encod[x] for x in y_train], dtype=np.uint8)\n",
        "y_valid_enc = np.array([encod[x] for x in y_valid], dtype=np.uint8)\n",
        "y_test_enc = np.array([encod[x] for x in y_test], dtype=np.uint8)"
      ],
      "execution_count": 0,
      "outputs": []
    },
    {
      "cell_type": "code",
      "metadata": {
        "id": "h5eDCTtW5VhG",
        "colab_type": "code",
        "outputId": "b8138a96-5cd0-4137-ddc5-f0adedd375d6",
        "colab": {
          "base_uri": "https://localhost:8080/",
          "height": 34
        }
      },
      "source": [
        "print(y_test_enc.shape)"
      ],
      "execution_count": 0,
      "outputs": [
        {
          "output_type": "stream",
          "text": [
            "(5000, 2)\n"
          ],
          "name": "stdout"
        }
      ]
    },
    {
      "cell_type": "code",
      "metadata": {
        "id": "9WktiU41thAZ",
        "colab_type": "code",
        "outputId": "b2d8e614-9546-4d9f-cad7-1b9999608bee",
        "colab": {
          "base_uri": "https://localhost:8080/",
          "height": 1000
        }
      },
      "source": [
        "def make_model(rec_layer):\n",
        "  inputs1 = Input(shape=(20,))\n",
        "  emb = Embedding(len(word_index) + 1, EMBEDDING_DIM, weights=[embedding_matrix], input_length=20, trainable=False)\n",
        "  emb_1 = emb(inputs1)\n",
        "\n",
        "  # lstm = LSTM(300, activation='relu')\n",
        "  # lstm_1 = lstm(emb_1)\n",
        "  recurrent_layer = rec_layer(emb_1)\n",
        "\n",
        "  output = Dense(2, activation='softmax')(recurrent_layer)\n",
        "\n",
        "  model = Model(inputs=inputs1, outputs=output)\n",
        "  model.compile(loss=[\"categorical_crossentropy\"], optimizer='adam', metrics=['accuracy'])\n",
        "  model.summary()\n",
        "  model.fit(x_train_seqs,\n",
        "            y_train_enc, \n",
        "            # callbacks=callbacks_list, \n",
        "            validation_data=(x_valid_seqs, y_valid_enc),\n",
        "            epochs=10, batch_size=32, verbose=1,shuffle=True)\n",
        "  return model\n",
        "\n",
        "lstm_model = make_model(LSTM(100, activation='relu'))\n",
        "gru_model = make_model(GRU(100, activation='relu'))\n",
        "rnn_model = make_model(SimpleRNN(100, activation='relu'))"
      ],
      "execution_count": 0,
      "outputs": [
        {
          "output_type": "stream",
          "text": [
            "Model: \"model_18\"\n",
            "_________________________________________________________________\n",
            "Layer (type)                 Output Shape              Param #   \n",
            "=================================================================\n",
            "input_26 (InputLayer)        [(None, 20)]              0         \n",
            "_________________________________________________________________\n",
            "embedding_18 (Embedding)     (None, 20, 300)           15219900  \n",
            "_________________________________________________________________\n",
            "lstm_16 (LSTM)               (None, 100)               160400    \n",
            "_________________________________________________________________\n",
            "dense_18 (Dense)             (None, 2)                 202       \n",
            "=================================================================\n",
            "Total params: 15,380,502\n",
            "Trainable params: 160,602\n",
            "Non-trainable params: 15,219,900\n",
            "_________________________________________________________________\n",
            "Epoch 1/10\n",
            "547/547 [==============================] - 16s 29ms/step - loss: 0.5555 - accuracy: 0.7051 - val_loss: 0.5190 - val_accuracy: 0.7336\n",
            "Epoch 2/10\n",
            "547/547 [==============================] - 16s 29ms/step - loss: 0.4999 - accuracy: 0.7495 - val_loss: 0.5009 - val_accuracy: 0.7464\n",
            "Epoch 3/10\n",
            "547/547 [==============================] - 16s 29ms/step - loss: 0.4648 - accuracy: 0.7706 - val_loss: 0.4876 - val_accuracy: 0.7504\n",
            "Epoch 4/10\n",
            "547/547 [==============================] - 15s 28ms/step - loss: 0.4313 - accuracy: 0.7897 - val_loss: 0.4858 - val_accuracy: 0.7544\n",
            "Epoch 5/10\n",
            "547/547 [==============================] - 15s 28ms/step - loss: 0.3869 - accuracy: 0.8180 - val_loss: 0.5028 - val_accuracy: 0.7468\n",
            "Epoch 6/10\n",
            "547/547 [==============================] - 16s 29ms/step - loss: 0.3403 - accuracy: 0.8435 - val_loss: 0.5421 - val_accuracy: 0.7380\n",
            "Epoch 7/10\n",
            "547/547 [==============================] - 16s 29ms/step - loss: 0.2794 - accuracy: 0.8765 - val_loss: 0.6012 - val_accuracy: 0.7372\n",
            "Epoch 8/10\n",
            "547/547 [==============================] - 16s 28ms/step - loss: 0.2281 - accuracy: 0.9040 - val_loss: 0.6681 - val_accuracy: 0.7396\n",
            "Epoch 9/10\n",
            "547/547 [==============================] - 16s 29ms/step - loss: 0.1724 - accuracy: 0.9307 - val_loss: 0.8134 - val_accuracy: 0.7272\n",
            "Epoch 10/10\n",
            "547/547 [==============================] - 16s 29ms/step - loss: 0.1222 - accuracy: 0.9522 - val_loss: 0.9663 - val_accuracy: 0.7272\n",
            "Model: \"model_19\"\n",
            "_________________________________________________________________\n",
            "Layer (type)                 Output Shape              Param #   \n",
            "=================================================================\n",
            "input_27 (InputLayer)        [(None, 20)]              0         \n",
            "_________________________________________________________________\n",
            "embedding_19 (Embedding)     (None, 20, 300)           15219900  \n",
            "_________________________________________________________________\n",
            "gru_1 (GRU)                  (None, 100)               120600    \n",
            "_________________________________________________________________\n",
            "dense_19 (Dense)             (None, 2)                 202       \n",
            "=================================================================\n",
            "Total params: 15,340,702\n",
            "Trainable params: 120,802\n",
            "Non-trainable params: 15,219,900\n",
            "_________________________________________________________________\n",
            "Epoch 1/10\n",
            "547/547 [==============================] - 13s 24ms/step - loss: 0.5509 - accuracy: 0.7067 - val_loss: 0.5071 - val_accuracy: 0.7332\n",
            "Epoch 2/10\n",
            "547/547 [==============================] - 13s 23ms/step - loss: 0.4869 - accuracy: 0.7559 - val_loss: 0.4869 - val_accuracy: 0.7476\n",
            "Epoch 3/10\n",
            "547/547 [==============================] - 13s 23ms/step - loss: 0.4516 - accuracy: 0.7805 - val_loss: 0.4806 - val_accuracy: 0.7592\n",
            "Epoch 4/10\n",
            "547/547 [==============================] - 13s 23ms/step - loss: 0.4167 - accuracy: 0.7990 - val_loss: 0.4760 - val_accuracy: 0.7568\n",
            "Epoch 5/10\n",
            "547/547 [==============================] - 13s 23ms/step - loss: 0.3757 - accuracy: 0.8233 - val_loss: 0.4944 - val_accuracy: 0.7572\n",
            "Epoch 6/10\n",
            "547/547 [==============================] - 13s 23ms/step - loss: 0.3249 - accuracy: 0.8521 - val_loss: 0.5235 - val_accuracy: 0.7612\n",
            "Epoch 7/10\n",
            "547/547 [==============================] - 13s 23ms/step - loss: 0.2642 - accuracy: 0.8840 - val_loss: 0.6483 - val_accuracy: 0.7336\n",
            "Epoch 8/10\n",
            "547/547 [==============================] - 13s 24ms/step - loss: 0.2090 - accuracy: 0.9145 - val_loss: 0.6813 - val_accuracy: 0.7492\n",
            "Epoch 9/10\n",
            "547/547 [==============================] - 13s 23ms/step - loss: 0.1508 - accuracy: 0.9420 - val_loss: 0.7940 - val_accuracy: 0.7512\n",
            "Epoch 10/10\n",
            "547/547 [==============================] - 13s 23ms/step - loss: 0.1089 - accuracy: 0.9574 - val_loss: 0.8485 - val_accuracy: 0.7476\n",
            "Model: \"model_20\"\n",
            "_________________________________________________________________\n",
            "Layer (type)                 Output Shape              Param #   \n",
            "=================================================================\n",
            "input_28 (InputLayer)        [(None, 20)]              0         \n",
            "_________________________________________________________________\n",
            "embedding_20 (Embedding)     (None, 20, 300)           15219900  \n",
            "_________________________________________________________________\n",
            "simple_rnn_1 (SimpleRNN)     (None, 100)               40100     \n",
            "_________________________________________________________________\n",
            "dense_20 (Dense)             (None, 2)                 202       \n",
            "=================================================================\n",
            "Total params: 15,260,202\n",
            "Trainable params: 40,302\n",
            "Non-trainable params: 15,219,900\n",
            "_________________________________________________________________\n",
            "Epoch 1/10\n",
            "547/547 [==============================] - 5s 9ms/step - loss: 0.6135 - accuracy: 0.6614 - val_loss: 0.5404 - val_accuracy: 0.7160\n",
            "Epoch 2/10\n",
            "547/547 [==============================] - 5s 9ms/step - loss: 0.5283 - accuracy: 0.7296 - val_loss: 0.5249 - val_accuracy: 0.7248\n",
            "Epoch 3/10\n",
            "547/547 [==============================] - 5s 8ms/step - loss: 0.5016 - accuracy: 0.7473 - val_loss: 0.5288 - val_accuracy: 0.7180\n",
            "Epoch 4/10\n",
            "547/547 [==============================] - 5s 8ms/step - loss: 0.4823 - accuracy: 0.7623 - val_loss: 0.5070 - val_accuracy: 0.7520\n",
            "Epoch 5/10\n",
            "547/547 [==============================] - 5s 9ms/step - loss: 0.4599 - accuracy: 0.7797 - val_loss: 0.5749 - val_accuracy: 0.7036\n",
            "Epoch 6/10\n",
            "547/547 [==============================] - 5s 8ms/step - loss: 0.4332 - accuracy: 0.7957 - val_loss: 0.5286 - val_accuracy: 0.7532\n",
            "Epoch 7/10\n",
            "547/547 [==============================] - 5s 9ms/step - loss: 0.4021 - accuracy: 0.8160 - val_loss: 0.5511 - val_accuracy: 0.7264\n",
            "Epoch 8/10\n",
            "547/547 [==============================] - 5s 9ms/step - loss: 0.3767 - accuracy: 0.8287 - val_loss: 0.5606 - val_accuracy: 0.7364\n",
            "Epoch 9/10\n",
            "547/547 [==============================] - 5s 9ms/step - loss: 0.3541 - accuracy: 0.8433 - val_loss: 0.5877 - val_accuracy: 0.7268\n",
            "Epoch 10/10\n",
            "547/547 [==============================] - 5s 9ms/step - loss: 0.3258 - accuracy: 0.8551 - val_loss: 0.5956 - val_accuracy: 0.7148\n"
          ],
          "name": "stdout"
        }
      ]
    },
    {
      "cell_type": "code",
      "metadata": {
        "id": "rom30Vr4thLj",
        "colab_type": "code",
        "colab": {}
      },
      "source": [
        "def maxInd(x):\n",
        "  if x[0] > x[1]:\n",
        "    return 0\n",
        "  return 1\n",
        "def predict(data, inp_model):\n",
        "  x_test_seqs = np.array(transform_data(data))\n",
        "  print(x_test_seqs.shape)\n",
        "  res = inp_model.predict(x_test_seqs)\n",
        "  res = [maxInd(x) for x in res]\n",
        "  print(np.array(res).shape)\n",
        "  return res"
      ],
      "execution_count": 0,
      "outputs": []
    },
    {
      "cell_type": "code",
      "metadata": {
        "id": "QIa1P8I2thJu",
        "colab_type": "code",
        "colab": {}
      },
      "source": [
        "def report(inp_model):\n",
        "  predictions = predict(x_test, inp_model)\n",
        "  labelList=[\"0\", \"1\"]\n",
        "\n",
        "  from sklearn.metrics import confusion_matrix\n",
        "  test_Y = y_test_enc\n",
        "  test_Y_max=np.argmax(test_Y, axis=-1)\n",
        "  cm=confusion_matrix(test_Y_max,predictions)\n",
        "  cm = cm.astype('float') / cm.sum(axis=1)[:, np.newaxis]\n",
        "  print(cm)\n",
        "  cm = pd.DataFrame(cm, labelList,labelList )# matrix,names row,names col,\n",
        "  # plt.figure(figsize=(10,7))\n",
        "  sn.set(font_scale=1.4) # for label size\n",
        "  sn.heatmap(cm, annot=True, annot_kws={\"size\": 11}, fmt=\".2f\") # font size\n",
        "  plt.show()\n",
        "  print(\"Classification Report\\n\",classification_report(test_Y_max, predictions, labels=[0,1], target_names = labelList, zero_division=0))\n"
      ],
      "execution_count": 0,
      "outputs": []
    },
    {
      "cell_type": "code",
      "metadata": {
        "id": "PK-w3H7uthHf",
        "colab_type": "code",
        "outputId": "cce5c6f3-6fd4-48c8-9fe5-1ddd4d3b84c8",
        "colab": {
          "base_uri": "https://localhost:8080/",
          "height": 528
        }
      },
      "source": [
        "print(\"For RNN\")\n",
        "report(rnn_model)"
      ],
      "execution_count": 0,
      "outputs": [
        {
          "output_type": "stream",
          "text": [
            "For RNN\n",
            "(5000, 20)\n",
            "(5000,)\n",
            "[[0.70839874 0.29160126]\n",
            " [0.26264274 0.73735726]]\n"
          ],
          "name": "stdout"
        },
        {
          "output_type": "display_data",
          "data": {
            "image/png": "[encoded data removed]",
            "text/plain": [
              "<Figure size 432x288 with 2 Axes>"
            ]
          },
          "metadata": {
            "tags": []
          }
        },
        {
          "output_type": "stream",
          "text": [
            "Classification Report\n",
            "               precision    recall  f1-score   support\n",
            "\n",
            "           0       0.74      0.71      0.72      2548\n",
            "           1       0.71      0.74      0.72      2452\n",
            "\n",
            "    accuracy                           0.72      5000\n",
            "   macro avg       0.72      0.72      0.72      5000\n",
            "weighted avg       0.72      0.72      0.72      5000\n",
            "\n"
          ],
          "name": "stdout"
        }
      ]
    },
    {
      "cell_type": "code",
      "metadata": {
        "id": "LU0SzDfN4Kl6",
        "colab_type": "code",
        "outputId": "a25d2379-11db-4ee9-f552-6f573fccbea2",
        "colab": {
          "base_uri": "https://localhost:8080/",
          "height": 528
        }
      },
      "source": [
        "print(\"For LSTM\")\n",
        "report(lstm_model)"
      ],
      "execution_count": 0,
      "outputs": [
        {
          "output_type": "stream",
          "text": [
            "For LSTM\n",
            "(5000, 20)\n",
            "(5000,)\n",
            "[[0.67582418 0.32417582]\n",
            " [0.22634584 0.77365416]]\n"
          ],
          "name": "stdout"
        },
        {
          "output_type": "display_data",
          "data": {
            "image/png": "[encoded data removed]",
            "text/plain": [
              "<Figure size 432x288 with 2 Axes>"
            ]
          },
          "metadata": {
            "tags": []
          }
        },
        {
          "output_type": "stream",
          "text": [
            "Classification Report\n",
            "               precision    recall  f1-score   support\n",
            "\n",
            "           0       0.76      0.68      0.71      2548\n",
            "           1       0.70      0.77      0.73      2452\n",
            "\n",
            "    accuracy                           0.72      5000\n",
            "   macro avg       0.73      0.72      0.72      5000\n",
            "weighted avg       0.73      0.72      0.72      5000\n",
            "\n"
          ],
          "name": "stdout"
        }
      ]
    },
    {
      "cell_type": "code",
      "metadata": {
        "id": "eugnGlI14Oa9",
        "colab_type": "code",
        "outputId": "244d252d-5b52-414f-d934-9fc0ed895537",
        "colab": {
          "base_uri": "https://localhost:8080/",
          "height": 528
        }
      },
      "source": [
        "print(\"For GRU\")\n",
        "report(gru_model)"
      ],
      "execution_count": 0,
      "outputs": [
        {
          "output_type": "stream",
          "text": [
            "For GRU\n",
            "(5000, 20)\n",
            "(5000,)\n",
            "[[0.76255887 0.23744113]\n",
            " [0.27732463 0.72267537]]\n"
          ],
          "name": "stdout"
        },
        {
          "output_type": "display_data",
          "data": {
            "image/png": "[encoded data removed]",
            "text/plain": [
              "<Figure size 432x288 with 2 Axes>"
            ]
          },
          "metadata": {
            "tags": []
          }
        },
        {
          "output_type": "stream",
          "text": [
            "Classification Report\n",
            "               precision    recall  f1-score   support\n",
            "\n",
            "           0       0.74      0.76      0.75      2548\n",
            "           1       0.75      0.72      0.73      2452\n",
            "\n",
            "    accuracy                           0.74      5000\n",
            "   macro avg       0.74      0.74      0.74      5000\n",
            "weighted avg       0.74      0.74      0.74      5000\n",
            "\n"
          ],
          "name": "stdout"
        }
      ]
    },
    {
      "cell_type": "markdown",
      "metadata": {
        "id": "2RsMMu7YHzG-",
        "colab_type": "text"
      },
      "source": [
        "# We hope all of you are working on your projects and <a href=\"https://ibb.co/dcpf4vS\"> Kudos for completing the assingnment</a>"
      ]
    }
  ]
}